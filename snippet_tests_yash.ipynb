{
 "cells": [
  {
   "cell_type": "code",
   "execution_count": 2,
   "metadata": {},
   "outputs": [],
   "source": [
    "import numpy as np \n",
    "import pandas as pd \n",
    "from classLib import *\n",
    "import random\n",
    "import matplotlib.pyplot as plt"
   ]
  },
  {
   "cell_type": "code",
   "execution_count": 3,
   "metadata": {},
   "outputs": [
    {
     "output_type": "stream",
     "name": "stdout",
     "text": "length of random points: 1000\nno of waypoints: 9\n[[0.5263151105952273, 0.9938864686024578], [0.1070509311528881, 0.48654470989905274], [0.8965150489460694, 0.8529086106501541], [0.013794140412229816, 0.2909440919711507], [0.4031183974236733, 0.55579431871625], [0.5452852872426986, 0.1156233356015044], [0.8019455077058978, 0.4058185474852388], [0.8953241809906546, 0.2129079583805218], [0.06120670402639017, 0.8883237532914856]]\n9\n^^^\n\n"
    }
   ],
   "source": [
    "\n",
    "randompoints= [] # generating random point between 0 and 1\n",
    "for i in range(1000): \n",
    "    a=[random.random(), random.random()]\n",
    "    randompoints.append(a)\n",
    "print('length of random points:',len(randompoints))\n",
    "allWaypoint = [] #here selecting the points which have a distance of more than 0.2 from every other (no justification as to why 0.2)\n",
    "for j in range(len(randompoints)):\n",
    "    a=[]\n",
    "    for k in range(j+1,len(randompoints)):\n",
    "        s=np.linalg.norm(np.array(randompoints[j])-np.array(randompoints[k])) # not efficient way to claculate distance of one point from all others\n",
    "        a.append(s)\n",
    "    if all(i>0.2 for i in a):\n",
    "        allWaypoint.append(randompoints[j])\n",
    "print('no of waypoints:', len(allWaypoint))\n",
    "waypointList = allWaypoint[:15] #need 15 waypoints\n",
    "print(waypointList)\n",
    "print(len(waypointList))\n",
    "print(\"^^^\")\n",
    "print()"
   ]
  },
  {
   "cell_type": "code",
   "execution_count": 4,
   "metadata": {},
   "outputs": [
    {
     "output_type": "stream",
     "name": "stdout",
     "text": "wpA\n"
    }
   ],
   "source": [
    "wpN = ['wpA','wpB','wpC','wpD','wpE','wpF','wpG','wpH','wpI', 'wpJ','wpK','wpL','wpM', 'wpN','wpO','wpP']\n",
    "wpNames=wpN[:len(waypointList)]\n",
    "# print(wpNames)\n",
    "wps =[]\n",
    "for i in range(len(waypointList)):\n",
    "    wps.append(wayPoint(wpNames[i],waypointList[i]))\n",
    "# print(\"****\")\n",
    "print(wps[0].name)\n"
   ]
  },
  {
   "cell_type": "code",
   "execution_count": 5,
   "metadata": {},
   "outputs": [
    {
     "output_type": "execute_result",
     "data": {
      "text/plain": "(list, 9)"
     },
     "metadata": {},
     "execution_count": 5
    }
   ],
   "source": [
    "type(wps),len(wps)"
   ]
  },
  {
   "cell_type": "code",
   "execution_count": 6,
   "metadata": {},
   "outputs": [
    {
     "output_type": "execute_result",
     "data": {
      "text/plain": "classLib.wayPoint"
     },
     "metadata": {},
     "execution_count": 6
    }
   ],
   "source": [
    "type(wps[1])"
   ]
  },
  {
   "cell_type": "code",
   "execution_count": 7,
   "metadata": {},
   "outputs": [
    {
     "output_type": "execute_result",
     "data": {
      "text/plain": "('wpA', 0.5263151105952273, 0.9938864686024578)"
     },
     "metadata": {},
     "execution_count": 7
    }
   ],
   "source": [
    "wps[0].name,wps[0].x,wps[0].y"
   ]
  },
  {
   "cell_type": "code",
   "execution_count": 8,
   "metadata": {},
   "outputs": [
    {
     "output_type": "stream",
     "name": "stdout",
     "text": "airway section\n"
    }
   ],
   "source": [
    "airway_pts=[]\n",
    "for i in range(len(wps)):\n",
    "    a= random.sample(wps,2)\n",
    "    airway_pts.append(a)\n",
    "# for aw in range(len(airway_pts)):\n",
    "#     for aw2 in range(aw+1,len(airway_pts)):\n",
    "#         if aw[0]==aw2[1] and aw[1]==aw2[0]:\n",
    "print('airway section')"
   ]
  },
  {
   "cell_type": "code",
   "execution_count": 10,
   "metadata": {},
   "outputs": [
    {
     "output_type": "stream",
     "name": "stdout",
     "text": "wpG\nwpD\nwpF\nwpE\nwpH\nwpD\nwpB\nwpB\n"
    }
   ],
   "source": [
    "for i in range(8):\n",
    "    print(airway_pts[i][0].name)"
   ]
  },
  {
   "cell_type": "code",
   "execution_count": null,
   "metadata": {},
   "outputs": [],
   "source": []
  }
 ],
 "metadata": {
  "kernelspec": {
   "display_name": "Python 3",
   "language": "python",
   "name": "python3"
  },
  "language_info": {
   "codemirror_mode": {
    "name": "ipython",
    "version": 3
   },
   "file_extension": ".py",
   "mimetype": "text/x-python",
   "name": "python",
   "nbconvert_exporter": "python",
   "pygments_lexer": "ipython3",
   "version": "3.7.6-final"
  }
 },
 "nbformat": 4,
 "nbformat_minor": 4
}