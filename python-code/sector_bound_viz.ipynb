{
 "cells": [
  {
   "cell_type": "markdown",
   "metadata": {},
   "source": [
    "### This noteboook was developed to extract the sector points from the file recieved from Phuoc. then, The boundary points were transformed to x-y from lon lat"
   ]
  },
  {
   "cell_type": "code",
   "execution_count": 1,
   "metadata": {},
   "outputs": [],
   "source": [
    "import pandas as pd\n",
    "import numpy as np\n",
    "from pathlib import Path\n",
    "import numpy as np\n",
    "from shapely.geometry import Polygon, Point\n",
    "from shapely.ops import transform\n",
    "from functools import partial\n",
    "import pyproj\n",
    "import geopandas as gpd\n",
    "pd.set_option('display.max_columns',100)"
   ]
  },
  {
   "cell_type": "code",
   "execution_count": 2,
   "metadata": {},
   "outputs": [
    {
     "output_type": "execute_result",
     "data": {
      "text/plain": "WindowsPath('e:/ATMRI/CD_R/ATCO_preferences_interface/Scenario_interface_work/python-code')"
     },
     "metadata": {},
     "execution_count": 2
    }
   ],
   "source": [
    "Path.cwd()"
   ]
  },
  {
   "cell_type": "code",
   "execution_count": 3,
   "metadata": {
    "tags": []
   },
   "outputs": [
    {
     "output_type": "stream",
     "name": "stdout",
     "text": "geometry\n0   POLYGON ((104.57350 1.03797, 108.98472 0.15792...\n1   POLYGON ((102.16666 1.65000, 103.03467 1.36722...\n2   POLYGON ((103.80778 2.00333, 103.78716 2.36750...\n3   POLYGON ((104.48297 1.80790, 104.72902 2.61866...\n4   POLYGON ((106.57083 3.90445, 109.19967 7.69972...\n5   POLYGON ((106.21300 4.28805, 106.57083 3.90445...\n6   POLYGON ((103.74417 3.11917, 103.73333 4.83333...\n7   POLYGON ((106.57083 3.90445, 106.21300 4.28805...\n8   POLYGON ((104.40200 1.54111, 103.98866 1.51972...\n9   POLYGON ((102.16666 1.65000, 103.03467 1.36722...\n10  POLYGON ((103.84033 1.50389, 103.98866 1.51972...\n11  POLYGON ((104.40200 1.54111, 104.72902 2.61866...\n12  POLYGON ((103.80778 2.00333, 103.78716 2.36750...\n13  POLYGON ((106.57083 3.90445, 106.92616 3.56138...\n14  POLYGON ((108.98472 0.15792, 109.00000 0.00000...\n15  POLYGON ((110.09216 3.47583, 108.50000 2.25000...\n"
    }
   ],
   "source": [
    "df = gpd.read_file('../sector_bounds/test.geojson')\n",
    "print(df.head(16))"
   ]
  },
  {
   "cell_type": "code",
   "execution_count": 4,
   "metadata": {
    "tags": []
   },
   "outputs": [
    {
     "output_type": "stream",
     "name": "stdout",
     "text": "POLYGON ((106.5708305555556 3.90445, 106.2129972222222 4.28805, 105.3796611111111 4.811383333333334, 104.2450027777778 4.87305, 103.7333305555556 4.833333333333333, 102.6666638888889 6.75, 103 7, 108 7, 109.1996694444444 7.699716666666666, 106.5708305555556 3.90445))\n"
    }
   ],
   "source": [
    "print((df.geometry[7]))"
   ]
  },
  {
   "cell_type": "code",
   "execution_count": 5,
   "metadata": {
    "tags": []
   },
   "outputs": [],
   "source": [
    "pop= list(df.geometry[0].exterior.coords)\n",
    "type(pop)\n",
    "sec1,sec2,sec3,sec4,sec5,sec6,sec7,sec8 = [],[],[],[],[],[],[],[]"
   ]
  },
  {
   "cell_type": "code",
   "execution_count": 6,
   "metadata": {},
   "outputs": [],
   "source": [
    "a= df.geometry[0].exterior.coords\n",
    "for x,y in a:\n",
    "    sec1.append([x,y])\n",
    "b= df.geometry[1].exterior.coords\n",
    "for x,y in b:\n",
    "    sec2.append([x,y])\n",
    "c = df.geometry[2].exterior.coords\n",
    "for x,y in c:\n",
    "    sec3.append([x,y])\n",
    "d= df.geometry[3].exterior.coords\n",
    "for x,y in d:\n",
    "    sec4.append([x,y])  \n",
    "e= df.geometry[4].exterior.coords\n",
    "for x,y in e:\n",
    "    sec5.append([x,y])\n",
    "f= df.geometry[5].exterior.coords\n",
    "for x,y in f:\n",
    "    sec6.append([x,y]) \n",
    "g= df.geometry[6].exterior.coords\n",
    "for x,y in g:\n",
    "    sec7.append([x,y])\n",
    "h= df.geometry[7].exterior.coords\n",
    "for x,y in h:\n",
    "    sec8.append([x,y])"
   ]
  },
  {
   "cell_type": "code",
   "execution_count": null,
   "metadata": {},
   "outputs": [],
   "source": []
  },
  {
   "cell_type": "code",
   "execution_count": 7,
   "metadata": {
    "tags": []
   },
   "outputs": [],
   "source": [
    "d1= {'sector1':sec1}\n",
    "# for i in range(len(sec1)):\n",
    "#     d1.setdefault('sector1',[])\n",
    "#     d1['sector1'].append(sec1[i])\n",
    "\n",
    "d2= {}\n",
    "for i in range(len(sec1)):\n",
    "    d2.setdefault('sector2',[])\n",
    "    d2['sector2'].append(sec2[i])\n",
    "d3= {}\n",
    "for i in range(len(sec3)):\n",
    "    d3.setdefault('sector3',[])\n",
    "    d3['sector3'].append(sec3[i])\n",
    "d4= {}\n",
    "for i in range(len(sec4)):\n",
    "    d4.setdefault('sector4',[])\n",
    "    d4['sector4'].append(sec4[i])\n",
    "d5= {}\n",
    "for i in range(len(sec5)):\n",
    "    d5.setdefault('sector5',[])\n",
    "    d5['sector5'].append(sec5[i])\n",
    "d6= {}\n",
    "for i in range(len(sec6)):\n",
    "    d6.setdefault('sector6',[])\n",
    "    d6['sector6'].append(sec6[i])\n",
    "d7= {}\n",
    "for i in range(len(sec7)):\n",
    "    d7.setdefault('sector7',[])\n",
    "    d7['sector7'].append(sec1[7])\n",
    "d8= {}\n",
    "for i in range(len(sec8)):\n",
    "    d8.setdefault('sector8',[])\n",
    "    d8['sector8'].append(sec8[i])   "
   ]
  },
  {
   "cell_type": "code",
   "execution_count": null,
   "metadata": {},
   "outputs": [],
   "source": [
    "d1"
   ]
  },
  {
   "cell_type": "code",
   "execution_count": 8,
   "metadata": {},
   "outputs": [],
   "source": [
    "dd={'sectors':\n",
    "    {'sector1':sec1,\n",
    "    'sector2':sec2,\n",
    "    'sector3':sec3,\n",
    "    'sector4':sec4,\n",
    "    'sector5':sec5,\n",
    "    'sector6':sec6,\n",
    "    'sector7':sec7,\n",
    "    'sector8':sec8}\n",
    "    }\n",
    "sectorcoords=[dd]\n",
    "# sectorcoords"
   ]
  },
  {
   "cell_type": "code",
   "execution_count": 9,
   "metadata": {},
   "outputs": [],
   "source": [
    "os.chdir('E:\\\\atmri\\CD_R\\ATCO_preferences_interface\\Scenario_interface_work\\data')"
   ]
  },
  {
   "cell_type": "code",
   "execution_count": 10,
   "metadata": {
    "tags": []
   },
   "outputs": [],
   "source": [
    "import json\n",
    "with open('SgSectors_LonLat.json','w') as json_file:\n",
    "    json.dump(sectorcoords,json_file)"
   ]
  },
  {
   "cell_type": "markdown",
   "metadata": {},
   "source": [
    "dict1={}\n",
    "for i in range(len(sec1)):\n",
    "    dc1={'point'+str(i):{\n",
    "        'lon':sec1[i][0],\n",
    "        'lat':sec1[i][1]}}\n",
    "    dict1.update(dc1)\n",
    "\n",
    "dict2={}\n",
    "for i in range(len(sec2)):\n",
    "    dc2={'point'+str(i):{\n",
    "        'lon':sec2[i][0],\n",
    "        'lat':sec2[i][1]}}\n",
    "    dict2.update(dc2)\n",
    "\n",
    "dict3={}\n",
    "for i in range(len(sec3)):\n",
    "    dc3={'point'+str(i):{\n",
    "        'lon':sec3[i][0],\n",
    "        'lat':sec3[i][1]}}\n",
    "    dict3.update(dc3)\n",
    "\n",
    "dict4={}\n",
    "for i in range(len(sec4)):\n",
    "    dc4={'point'+str(i):{\n",
    "        'lon':sec4[i][0],\n",
    "        'lat':sec4[i][1]}}\n",
    "    dict4.update(dc4)\n",
    "    \n",
    "dict5={}\n",
    "for i in range(len(sec5)):\n",
    "    dc5={'point'+str(i):{\n",
    "        'lon':sec5[i][0],\n",
    "        'lat':sec5[i][1]}}\n",
    "    dict5.update(dc5)\n",
    "    \n",
    "dict6={}\n",
    "for i in range(len(sec6)):\n",
    "    dc6={'point'+str(i):{\n",
    "        'lon':sec6[i][0],\n",
    "        'lat':sec6[i][1]}}\n",
    "    dict6.update(dc6)\n",
    "    \n",
    "dict7={}\n",
    "for i in range(len(sec7)):\n",
    "    dc7={'point'+str(i):{\n",
    "        'lon':sec7[i][0],\n",
    "        'lat':sec7[i][1]}}\n",
    "    dict7.update(dc7)\n",
    "    \n",
    "dict8={}\n",
    "for i in range(len(sec8)):\n",
    "    dc8={'point'+str(i):{\n",
    "        'lon':sec8[i][0],\n",
    "        'lat':sec8[i][1]}}\n",
    "    dict8.update(dc8)"
   ]
  },
  {
   "cell_type": "markdown",
   "metadata": {},
   "source": [
    "> transforming the obatined file from above code"
   ]
  },
  {
   "cell_type": "code",
   "execution_count": 11,
   "metadata": {},
   "outputs": [
    {
     "output_type": "execute_result",
     "data": {
      "text/plain": "                                             sectors\n0  {'sector1': [[104.57349768150692, 1.0379695610...",
      "text/html": "<div>\n<style scoped>\n    .dataframe tbody tr th:only-of-type {\n        vertical-align: middle;\n    }\n\n    .dataframe tbody tr th {\n        vertical-align: top;\n    }\n\n    .dataframe thead th {\n        text-align: right;\n    }\n</style>\n<table border=\"1\" class=\"dataframe\">\n  <thead>\n    <tr style=\"text-align: right;\">\n      <th></th>\n      <th>sectors</th>\n    </tr>\n  </thead>\n  <tbody>\n    <tr>\n      <th>0</th>\n      <td>{'sector1': [[104.57349768150692, 1.0379695610...</td>\n    </tr>\n  </tbody>\n</table>\n</div>"
     },
     "metadata": {},
     "execution_count": 11
    }
   ],
   "source": [
    "df2=pd.read_json('SgSectors_LonLat.json')\n",
    "df2"
   ]
  },
  {
   "cell_type": "code",
   "execution_count": 13,
   "metadata": {},
   "outputs": [
    {
     "output_type": "execute_result",
     "data": {
      "text/plain": "102.16666388888889"
     },
     "metadata": {},
     "execution_count": 13
    }
   ],
   "source": [
    "(df2.sectors[0]['sector2'][0][0])"
   ]
  },
  {
   "cell_type": "code",
   "execution_count": 14,
   "metadata": {},
   "outputs": [
    {
     "output_type": "execute_result",
     "data": {
      "text/plain": "['sector1',\n 'sector2',\n 'sector3',\n 'sector4',\n 'sector5',\n 'sector6',\n 'sector7',\n 'sector8']"
     },
     "metadata": {},
     "execution_count": 14
    }
   ],
   "source": [
    "keylist=['sector1','sector2','sector3','sector4','sector5','sector6','sector7','sector8']\n",
    "keylist"
   ]
  },
  {
   "cell_type": "code",
   "execution_count": 16,
   "metadata": {},
   "outputs": [
    {
     "output_type": "execute_result",
     "data": {
      "text/plain": "49"
     },
     "metadata": {},
     "execution_count": 16
    }
   ],
   "source": [
    "len(df2.sectors[0][keylist[1]])"
   ]
  },
  {
   "cell_type": "code",
   "execution_count": 19,
   "metadata": {
    "tags": []
   },
   "outputs": [
    {
     "output_type": "execute_result",
     "data": {
      "text/plain": "[{'sectors': {'sector1': [[129.03697833905738, -666.4568487583424],\n    [1121.5631249999994, -864.4681250000001],\n    [1125.0, -900.0],\n    [898.4993750000008, -900.0],\n    [450.0, -1087.5],\n    [262.4993750000005, -900.0],\n    [172.50062500000035, -900.0],\n    [-9.750625000001278, -965.8750000000001],\n    [-36.62798787484327, -740.7940721190719],\n    [-31.54828191971042, -742.0735705686361],\n    [-17.00874361342315, -744.2411602836942],\n    [-2.3278794998581986, -744.9639411301004],\n    [12.352974848215936, -744.2348622366328],\n    [26.892466862835107, -742.0608604259696],\n    [41.150590640750906, -738.4627962610522],\n    [54.99003789111718, -733.4752549131797],\n    [68.27752277750534, -727.1462138017486],\n    [80.8850675678908, -719.5365803363653],\n    [92.69123647204687, -710.7196044222445],\n    [103.58230565615152, -700.7801716497446],\n    [113.4533581618836, -689.813984262102],\n    [122.20929330226014, -677.9266380690741],\n    [129.03697833905738, -666.4568487583424]],\n   'sector2': [[-412.5006249999995, -528.75],\n    [-217.20000000000005, -592.3750000000001],\n    [-176.06249999999974, -505.1887499999999],\n    [-160.20124999999865, -516.5624999999999],\n    [-158.13812499999997, -495.1874999999999],\n    [-151.0124999999995, -475.6237499999999],\n    [-140.513125, -460.6875],\n    [-114.11375000000028, -441.7499999999999],\n    [-87.44937499999921, -435.8737500000001],\n    [-61.950625000001125, -438.81374999999997],\n    [-43.54392404421823, -449.32554194949836],\n    [-45.94944724675969, -449.9336225801662],\n    [-59.79130272457063, -454.92840948181674],\n    [-73.07923318096528, -461.26440338161456],\n    [-85.68524385708791, -468.880429646409],\n    [-97.48795803965677, -477.7029926933875],\n    [-108.37378478674893, -487.64699224268605],\n    [-118.23800872028691, -498.6165505968742],\n    [-126.98579165757486, -510.50594246314455],\n    [-134.53307688695128, -523.2006179274667],\n    [-140.80738798045616, -536.578308406678],\n    [-145.7485151570502, -550.51020474339],\n    [-149.30908334541152, -564.8621960655211],\n    [-151.45499723103555, -579.4961576007925],\n    [-152.16575969850936, -594.2712753090668],\n    [-151.43466119107316, -609.0453949641628],\n    [-149.26883860417277, -623.6763831747614],\n    [-145.68920340968708, -638.0234877757595],\n    [-140.73023977640383, -651.9486850437017],\n    [-134.43967451543097, -665.3180012918757],\n    [-126.87802174036058, -678.0027965840302],\n    [-118.11800619467121, -689.8809985743857],\n    [-108.24387026297337, -700.8382748412857],\n    [-97.35057074483286, -710.7691325390746],\n    [-85.5428725233768, -719.5779347541887],\n    [-72.93434729362005, -727.179823622724],\n    [-59.64628651307393, -733.5015410516017],\n    [-45.806538680693976, -738.4821387849249],\n    [-36.62798787484327, -740.7940721190719],\n    [-9.750625000001278, -965.8750000000001],\n    [-89.92499999999879, -965.0],\n    [-191.92624999999987, -940.75],\n    [-253.125, -907.625],\n    [-310.4993749999984, -861.6874999999999],\n    [-358.9506249999996, -801.8124999999999],\n    [-397.20062499999995, -726.5625000000001],\n    [-416.3250000000012, -650.1249999999999],\n    [-417.63812500000057, -580.0],\n    [-412.5006249999995, -528.75]],\n   'sector3': [[-43.2503947623168, -449.25134209531717],\n    [-47.888125000001125, -367.31249999999994],\n    [-99.75062499999936, -253.7512499999999],\n    [-52.125000000000554, -246.37499999999994],\n    [-57.562499992500804, -198.1874999925],\n    [48.68750000249982, -195.81250000500003],\n    [164.0293750000005, -310.80249999999984],\n    [108.66770573994096, -493.22180307139064],\n    [103.53495288396815, -487.52666267448285],\n    [92.63482630679434, -477.5924329329593],\n    [80.81897663366782, -468.78158383562806],\n    [68.20128877253424, -461.17905197572844],\n    [54.903406302759805, -454.85812022196785],\n    [41.053555221173, -449.87970669002823],\n    [26.785302009357537, -446.29177372813376],\n    [12.23625833040849, -444.1288630034846],\n    [-2.4532546626186758, -443.411761484237],\n    [-17.141568908982308, -444.1473017437822],\n    [-31.687045074891174, -446.328298591459],\n    [-43.2503947623168, -449.25134209531717]],\n   'sector4': [[108.66770573994096, -493.22180307139064],\n    [164.0293750000005, -310.80249999999984],\n    [189.26375000000098, -301.5637499999999],\n    [337.5, -337.5],\n    [829.2375000000011, -242.87625],\n    [1265.324374999999, -157.37625000000003],\n    [1370.7368750000005, -117.93749999999986],\n    [1012.5, -393.75],\n    [1012.5, -675.0],\n    [1102.5006249999985, -675.0],\n    [1121.5631249999994, -864.4681250000001],\n    [129.03697833905738, -666.4568487583424],\n    [129.76574103829392, -665.2326044394113],\n    [136.04987283915335, -651.854127356746],\n    [141.00110157540655, -637.9200462600121],\n    [144.57166407460278, -623.564556012173],\n    [146.72708106823615, -608.925915853164],\n    [147.44649037062842, -594.145119599143],\n    [147.44649037062842, -594.1451195991418],\n    [146.72285024831774, -579.3645396551573],\n    [144.56301106129212, -564.7265576165206],\n    [140.98765438547858, -550.3721943484372],\n    [136.03109996151375, -536.439752455054],\n    [129.74098196009507, -523.0634839771518],\n    [122.17779721075566, -510.37229598947755],\n    [113.41432920814114, -498.4885064995936],\n    [108.66770573994096, -493.22180307139064]],\n   'sector5': [[578.4368750000009, -21.498749999999955],\n    [1169.9256249999987, 832.43625],\n    [2250.0, 1462.5],\n    [2812.5, 993.7499999999999],\n    [1370.7368750000005, -117.93749999999986],\n    [1265.324374999999, -157.37625000000003],\n    [829.2375000000011, -242.87625],\n    [658.3868750000012, -98.68875000000004],\n    [578.4368750000009, -21.498749999999955]],\n   'sector6': [[497.92437500000125, 64.81125000000003],\n    [578.4368750000009, -21.498749999999955],\n    [658.3868750000012, -98.68875000000004],\n    [829.2375000000011, -242.87625],\n    [337.5, -337.5],\n    [189.26375000000098, -301.5637499999999],\n    [164.0293750000005, -310.80249999999984],\n    [48.68750000249982, -195.81250000500003],\n    [74.24999999999962, -87.37499999249997],\n    [403.8750000000004, 17.06249999925007],\n    [497.92437500000125, 64.81125000000003]],\n   'sector7': [[-57.562499992500804, -198.1874999925],\n    [-60.00062500000034, 187.49999999999994],\n    [55.12562500000158, 196.43625000000003],\n    [310.42374999999856, 182.56125000000006],\n    [497.92437500000125, 64.81125000000003],\n    [403.8750000000004, 17.06249999925007],\n    [74.24999999999962, -87.37499999249997],\n    [48.68750000249982, -195.81250000500003],\n    [-57.562499992500804, -198.1874999925]],\n   'sector8': [[578.4368750000009, -21.498749999999955],\n    [497.92437500000125, 64.81125000000003],\n    [310.42374999999856, 182.56125000000006],\n    [55.12562500000158, 196.43625000000003],\n    [-60.00062500000034, 187.49999999999994],\n    [-300.0006249999995, 618.75],\n    [-225.0, 675.0],\n    [900.0, 675.0],\n    [1169.9256249999987, 832.43625],\n    [578.4368750000009, -21.498749999999955]]}}]"
     },
     "metadata": {},
     "execution_count": 19
    }
   ],
   "source": [
    "\"\"\"the sqaure region with 'a' as the bottom left point (moving anticlock abcd)\n",
    "    a,b,c,d= [lon,lat] format\"\"\"\n",
    "a = np.array([104,4])\n",
    "b = np.array([108,4])\n",
    "c = np.array([108,8])\n",
    "d = np.array([104,8])\n",
    "\n",
    "horizontal_length  = b[0]-a[0]\n",
    "vertical_length = d[1]-a[1]\n",
    "keylist=['sector1','sector2','sector3','sector4','sector5','sector6','sector7','sector8']\n",
    "l1=[[],[],[],[],[],[],[],[]]\n",
    "for i in range(len(keylist)):\n",
    "    for j in range(len(df2.sectors[0][keylist[i]])):\n",
    "        P= np.array([df2.sectors[0][keylist[i]][j][0],df2.sectors[0][keylist[i]][j][1]])\n",
    "        # print(P)\n",
    "        vert_d = P[1]-a[1]\n",
    "        horiz_d= P[0]-a[0]\n",
    "        l1[i].append([(900/horizontal_length)*horiz_d,(900/vertical_length)*vert_d])\n",
    "\n",
    "sectordict = {'sectors':{\n",
    "                'sector1': l1[0],\n",
    "                'sector2': l1[1],\n",
    "                'sector3': l1[2],\n",
    "                'sector4': l1[3],\n",
    "                'sector5': l1[4],\n",
    "                'sector6': l1[5],\n",
    "                'sector7': l1[6],\n",
    "                'sector8': l1[7]\n",
    "                }}\n",
    "\n",
    "sectorpoints=[sectordict]\n",
    "sectorpoints"
   ]
  },
  {
   "cell_type": "code",
   "execution_count": 20,
   "metadata": {},
   "outputs": [],
   "source": [
    "import json\n",
    "with open('SgSectors_transformed_xy_13thTest.json','w') as json_file:\n",
    "    json.dump(sectorpoints,json_file)"
   ]
  },
  {
   "cell_type": "code",
   "execution_count": null,
   "metadata": {},
   "outputs": [],
   "source": []
  }
 ],
 "metadata": {
  "language_info": {
   "codemirror_mode": {
    "name": "ipython",
    "version": 3
   },
   "file_extension": ".py",
   "mimetype": "text/x-python",
   "name": "python",
   "nbconvert_exporter": "python",
   "pygments_lexer": "ipython3",
   "version": "3.8.3-final"
  },
  "orig_nbformat": 2,
  "kernelspec": {
   "name": "python38364bitatcovizcondaa3d166ff95094005a202b42906b28fb0",
   "display_name": "Python 3.8.3 64-bit ('ATCOviz': conda)"
  }
 },
 "nbformat": 4,
 "nbformat_minor": 2
}