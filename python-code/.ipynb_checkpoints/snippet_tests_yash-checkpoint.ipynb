{
 "cells": [
  {
   "cell_type": "code",
   "execution_count": 1,
   "metadata": {},
   "outputs": [],
   "source": [
    "import numpy as np \n",
    "import pandas as pd \n",
    "from classLib_yash_Copy1 import *\n",
    "import random\n",
    "\n",
    "import matplotlib.pyplot as plt"
   ]
  },
  {
   "cell_type": "code",
   "execution_count": 2,
   "metadata": {},
   "outputs": [
    {
     "name": "stdout",
     "output_type": "stream",
     "text": [
      "length of random points: 1000\n",
      "no of waypoints: 16\n",
      "[[0.4559166117695056, 0.3602442631444892], [0.28322885128743647, 0.9294638860212048], [0.9943892847081414, 0.8028398280073334], [0.7009516402355115, 0.7829578193269647], [0.6667791410174395, 0.5849351613144387], [0.7714191451976762, 0.1980372998577321], [0.2117332570913829, 0.24321230325397147], [0.09932561399687712, 0.06482901704572397], [0.8471287407720581, 0.04536856463378214], [0.5911557634011304, 0.00821815168638007], [0.9390765650577879, 0.41129273660783383], [0.36787395728575567, 0.5339004386151076], [0.1104622812484376, 0.4507210313822261], [0.0945740642101296, 0.6213264495452839], [0.5860372447739646, 0.9035640072857952]]\n",
      "15\n",
      "^^^\n",
      "\n"
     ]
    }
   ],
   "source": [
    "\n",
    "randompoints= [] # generating random point between 0 and 1\n",
    "for i in range(1000): \n",
    "    a=[random.random(), random.random()]\n",
    "    randompoints.append(a)\n",
    "print('length of random points:',len(randompoints))\n",
    "allWaypoint = [] #here selecting the points which have a distance of more than 0.2 from every other (no justification as to why 0.2)\n",
    "for j in range(len(randompoints)):\n",
    "    a=[]\n",
    "    for k in range(j+1,len(randompoints)):\n",
    "        s=np.linalg.norm(np.array(randompoints[j])-np.array(randompoints[k])) # not efficient way to claculate distance of one point from all others\n",
    "        a.append(s)\n",
    "    if all(i>0.15 for i in a):\n",
    "        allWaypoint.append(randompoints[j])\n",
    "print('no of waypoints:', len(allWaypoint))\n",
    "waypointList = allWaypoint[:15] #need 15 waypoints\n",
    "print(waypointList)\n",
    "print(len(waypointList))\n",
    "print(\"^^^\")\n",
    "print()"
   ]
  },
  {
   "cell_type": "code",
   "execution_count": 3,
   "metadata": {},
   "outputs": [],
   "source": [
    "wpN = ['wpA','wpB','wpC','wpD','wpE','wpF','wpG','wpH','wpI', 'wpJ','wpK','wpL','wpM', 'wpN','wpO','wpP']\n",
    "wpNameList=wpN[:len(waypointList)]\n",
    "#print(wpNames)\n",
    "wps =[]\n",
    "for i in range(len(waypointList)):\n",
    "    wps.append(WayPoint(wpNameList[i],waypointList[i])) #list containing waypoint class elements\n",
    "# print(\"****\")\n",
    "# print(wps[0].name)\n"
   ]
  },
  {
   "cell_type": "code",
   "execution_count": 16,
   "metadata": {},
   "outputs": [],
   "source": [
    "##################################    AIRWAYS  #####################################################\n",
    "# Here, airway is a subclass of wayPoint class and every \n",
    "wayPointInfo=[]\n",
    "for i in range(len(wpNameList)):\n",
    "    wayPointInfo.append([wpNameList[i],waypointList[i]])\n",
    "\n",
    "airwayNames=np.arange(len(wpNameList))\n",
    "airway_list=[]\n",
    "sampled_airways=[]\n",
    "for i in range(len(waypointList)-2):\n",
    "    points = random.sample(wayPointInfo,2)\n",
    "    airway_list.append(Airways(airwayNames[i],points))\n",
    "    sampled_airways.append(points)\n",
    "        "
   ]
  },
  {
   "cell_type": "code",
   "execution_count": 19,
   "metadata": {},
   "outputs": [
    {
     "data": {
      "text/plain": [
       "[['wpJ', [0.5911557634011304, 0.00821815168638007]],\n",
       " ['wpG', [0.2117332570913829, 0.24321230325397147]]]"
      ]
     },
     "execution_count": 19,
     "metadata": {},
     "output_type": "execute_result"
    }
   ],
   "source": [
    "sampled_airways[1]"
   ]
  },
  {
   "cell_type": "code",
   "execution_count": 5,
   "metadata": {},
   "outputs": [
    {
     "data": {
      "text/plain": [
       "<classLib_yash_Copy1.Airways at 0x23fa411ae48>"
      ]
     },
     "execution_count": 5,
     "metadata": {},
     "output_type": "execute_result"
    }
   ],
   "source": [
    "airway_list[0]"
   ]
  },
  {
   "cell_type": "code",
   "execution_count": 6,
   "metadata": {},
   "outputs": [
    {
     "data": {
      "text/plain": [
       "array([0.21173326, 0.2432123 ])"
      ]
     },
     "execution_count": 6,
     "metadata": {},
     "output_type": "execute_result"
    }
   ],
   "source": [
    "airway_list[0].airwayStartLoc()"
   ]
  },
  {
   "cell_type": "code",
   "execution_count": 7,
   "metadata": {},
   "outputs": [
    {
     "data": {
      "text/plain": [
       "array([0.66677914, 0.58493516])"
      ]
     },
     "execution_count": 7,
     "metadata": {},
     "output_type": "execute_result"
    }
   ],
   "source": [
    "airway_list[0].airwayEndLoc()"
   ]
  },
  {
   "cell_type": "code",
   "execution_count": 8,
   "metadata": {},
   "outputs": [
    {
     "data": {
      "text/plain": [
       "(-8.300570877077133, 6.6012565905053)"
      ]
     },
     "execution_count": 8,
     "metadata": {},
     "output_type": "execute_result"
    }
   ],
   "source": [
    "airway_list[2].airwayCoefficient()"
   ]
  },
  {
   "cell_type": "code",
   "execution_count": 9,
   "metadata": {
    "scrolled": true
   },
   "outputs": [
    {
     "data": {
      "text/plain": [
       "[[0.37, 0.53],\n",
       " [0.35, 0.53],\n",
       " [0.33, 0.52],\n",
       " [0.31, 0.52],\n",
       " [0.29, 0.51],\n",
       " [0.28, 0.51],\n",
       " [0.26, 0.5],\n",
       " [0.24, 0.49],\n",
       " [0.22, 0.49],\n",
       " [0.2, 0.48],\n",
       " [0.18, 0.47],\n",
       " [0.17, 0.47],\n",
       " [0.15, 0.46],\n",
       " [0.13, 0.46],\n",
       " [0.11, 0.45]]"
      ]
     },
     "execution_count": 9,
     "metadata": {},
     "output_type": "execute_result"
    }
   ],
   "source": [
    "airway_list[1].location()"
   ]
  },
  {
   "cell_type": "code",
   "execution_count": 10,
   "metadata": {},
   "outputs": [
    {
     "data": {
      "text/plain": [
       "[0.2117332570913829, 0.24321230325397147]"
      ]
     },
     "execution_count": 10,
     "metadata": {},
     "output_type": "execute_result"
    }
   ],
   "source": [
    "a = [airway_list[0].start_wp_x,airway_list[0].start_wp_y]\n",
    "a"
   ]
  },
  {
   "cell_type": "code",
   "execution_count": 11,
   "metadata": {},
   "outputs": [
    {
     "data": {
      "text/plain": [
       "[0.1877400120834718, 0.23491562437652236]"
      ]
     },
     "execution_count": 11,
     "metadata": {},
     "output_type": "execute_result"
    }
   ],
   "source": [
    "b=[airway_list[0].end_wp_x, airway_list[0].end_wp_y]\n",
    "b"
   ]
  },
  {
   "cell_type": "markdown",
   "metadata": {},
   "source": [
    "ac_per_scenario =8\n",
    "for i in range(ac_per_scenario):\n",
    "for j in range(len(airway_list)):# just a random number to have no of aircraft in one scenario\n",
    "    aircraft = np.random(airway_list[i])\n",
    "    aircraft_start = aircraft.start_wp\n",
    "    aircraft_end = aircraft.end_wp\n",
    "    \n",
    "    "
   ]
  },
  {
   "cell_type": "code",
   "execution_count": 12,
   "metadata": {},
   "outputs": [
    {
     "ename": "TypeError",
     "evalue": "__init__() missing 1 required positional argument: 'points'",
     "output_type": "error",
     "traceback": [
      "\u001b[1;31m---------------------------------------------------------------------------\u001b[0m",
      "\u001b[1;31mTypeError\u001b[0m                                 Traceback (most recent call last)",
      "\u001b[1;32m<ipython-input-12-86639ec56e17>\u001b[0m in \u001b[0;36m<module>\u001b[1;34m\u001b[0m\n\u001b[1;32m----> 1\u001b[1;33m \u001b[0mac\u001b[0m\u001b[1;33m=\u001b[0m\u001b[0mAircraft\u001b[0m\u001b[1;33m(\u001b[0m\u001b[0mairway_list\u001b[0m\u001b[1;33m[\u001b[0m\u001b[1;36m1\u001b[0m\u001b[1;33m]\u001b[0m\u001b[1;33m)\u001b[0m\u001b[1;33m\u001b[0m\u001b[1;33m\u001b[0m\u001b[0m\n\u001b[0m",
      "\u001b[1;31mTypeError\u001b[0m: __init__() missing 1 required positional argument: 'points'"
     ]
    }
   ],
   "source": [
    "ac=Aircraft(airway_list[1])"
   ]
  }
 ],
 "metadata": {
  "kernelspec": {
   "display_name": "Python 3",
   "language": "python",
   "name": "python3"
  },
  "language_info": {
   "codemirror_mode": {
    "name": "ipython",
    "version": 3
   },
   "file_extension": ".py",
   "mimetype": "text/x-python",
   "name": "python",
   "nbconvert_exporter": "python",
   "pygments_lexer": "ipython3",
   "version": "3.7.6"
  }
 },
 "nbformat": 4,
 "nbformat_minor": 4
}
