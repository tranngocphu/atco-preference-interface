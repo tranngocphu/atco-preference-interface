{
 "metadata": {
  "language_info": {
   "codemirror_mode": {
    "name": "ipython",
    "version": 3
   },
   "file_extension": ".py",
   "mimetype": "text/x-python",
   "name": "python",
   "nbconvert_exporter": "python",
   "pygments_lexer": "ipython3",
   "version": "3.8.3-final"
  },
  "orig_nbformat": 2,
  "kernelspec": {
   "name": "python38364bitatcovizcondaa3d166ff95094005a202b42906b28fb0",
   "display_name": "Python 3.8.3 64-bit ('ATCOviz': conda)"
  }
 },
 "nbformat": 4,
 "nbformat_minor": 2,
 "cells": [
  {
   "cell_type": "code",
   "execution_count": 1,
   "metadata": {},
   "outputs": [],
   "source": [
    "import pandas as pd \n",
    "import numpy as np\n",
    "from pathlib import Path\n",
    "from shapely.geometry import Polygon, Point\n",
    "from shapely.ops import transform\n",
    "from functools import partial\n",
    "import pyproj\n",
    "from classLib_forFlightplans import *\n",
    "import random"
   ]
  },
  {
   "cell_type": "code",
   "execution_count": 2,
   "metadata": {},
   "outputs": [
    {
     "output_type": "execute_result",
     "data": {
      "text/plain": "WindowsPath('e:/ATMRI/CD_R/ATCO_preferences_interface/Scenario_interface_work/python-code')"
     },
     "metadata": {},
     "execution_count": 2
    }
   ],
   "source": [
    "region = [105,0,110,0,110,5,105,5]\n",
    "Path.cwd()"
   ]
  },
  {
   "cell_type": "code",
   "execution_count": 3,
   "metadata": {},
   "outputs": [],
   "source": [
    "air=pd.read_json(\"../airways.json\")\n",
    "\n",
    "\n",
    "def filter_airways(x1,y1,x2,y2,x3,y3,x4,y4,airway):\n",
    "    filtered_airways = pd.DataFrame()\n",
    "\n",
    "    boundary_coordinates = ([x1,y1],[x2,y2],[x3,y3],[x4,y4])\n",
    "\n",
    "    poly = Polygon(boundary_coordinates)\n",
    "    for i in range(len(airway)):\n",
    "        for j in range(len(airway.segments[i])):\n",
    "            point1 = Point([float(airway.segments[i][j]['lat']),float(airway.segments[i][j]['lon'])])\n",
    "        # point2 = Point([float(airway.segments[i][1]['lat']),float(airway.segments[i][1]['lon'])])\n",
    "            if poly.contains(point1)== True :\n",
    "            # and poly.contains(point2)== True\n",
    "                filtered_airways=filtered_airways.append(airway.loc[i])\n",
    "    filtered_airways = filtered_airways.drop_duplicates(subset=['name'])\n",
    "    return filtered_airways"
   ]
  },
  {
   "cell_type": "code",
   "execution_count": 4,
   "metadata": {},
   "outputs": [
    {
     "output_type": "execute_result",
     "data": {
      "text/plain": "(   name                                           segments\n 0  G334  [{'name': 'PULAU TIOMAN VOR/DME (VPT)', 'lat':...\n 1  G580  [{'name': 'SINJON DVOR/DME (SJ)', 'lat': '1.22...\n 2  L517  [{'name': 'TERIX', 'lat': '4.256', 'lon': '109...\n 3  L625  [{'name': 'AKMON', 'lat': '8.215', 'lon': '110...\n 4  L629  [{'name': 'DOLOX', 'lat': '4.811', 'lon': '105...,\n 16)"
     },
     "metadata": {},
     "execution_count": 4
    }
   ],
   "source": [
    "filteraws = filter_airways(1,105,0,110,5,110,5,105,air)\n",
    "filteraws = filteraws.reset_index(drop=True)\n",
    "filteraws.head(), len(filteraws)"
   ]
  },
  {
   "cell_type": "code",
   "execution_count": 5,
   "metadata": {
    "tags": []
   },
   "outputs": [
    {
     "output_type": "stream",
     "name": "stdout",
     "text": "[{'name': 'G334', 'segments': [{'name': 'PULAU TIOMAN VOR/DME (VPT)', 'lat': '2.916', 'lon': '104.111', 'latdms': '025459N', 'londms': '1040639E', 'transf_x': -160.01999999999924, 'transf_y': 524.88}, {'name': 'KIBOL (WMFC/WSJC FIR BDRY)', 'lat': '2.875', 'lon': '104.468', 'latdms': '025229N', 'londms': '1042805E', 'transf_x': -95.75999999999937, 'transf_y': 517.5}, {'name': 'BUNTO', 'lat': '2.669', 'lon': '105.998', 'latdms': '024008N', 'londms': '1055953E', 'transf_x': 179.64000000000084, 'transf_y': 480.42}, {'name': 'KAMIN (WSJC/WBFC FIR BDRY)', 'lat': '2.578', 'lon': '108.927', 'latdms': '023442N', 'londms': '1085536E', 'transf_x': 706.8600000000013, 'transf_y': 464.03999999999996}]}, {'name': 'G580', 'segments': [{'name': 'SINJON DVOR/DME (SJ)', 'lat': '1.222', 'lon': '103.856', 'latdms': '011319N', 'londms': '1035120E', 'transf_x': -205.92000000000098, 'transf_y': 219.96}, {'name': 'HOSBA (R079/34 DME SJ)(R103/24 DME VTK)', 'lat': '1.330', 'lon': '104.405', 'latdms': '011948N', 'londms': '1042418E', 'transf_x': -107.0999999999998, 'transf_y': 239.4}, {'name': 'TOMAN', 'lat': '1.363', 'lon': '105.788', 'latdms': '012147N', 'londms': '1054717E', 'transf_x': 141.8399999999994, 'transf_y': 245.34}, {'name': 'OBGET', 'lat': '1.385', 'lon': '106.759', 'latdms': '012307N', 'londms': '1064531E', 'transf_x': 316.62000000000006, 'transf_y': 249.3}, {'name': 'NIMIX', 'lat': '1.414', 'lon': '107.991', 'latdms': '012452N', 'londms': '1075926E', 'transf_x': 538.3799999999999, 'transf_y': 254.51999999999998}, {'name': 'ATETI (FIR BDRY)', 'lat': '1.428', 'lon': '108.500', 'latdms': '012540N', 'londms': '1083000E', 'transf_x': 630.0, 'transf_y': 257.03999999999996}]}, {'name': 'L517', 'segments': [{'name': 'TERIX', 'lat': '4.256', 'lon': '109.582', 'latdms': '041521N', 'londms': '1093456E', 'transf_x': 824.7599999999989, 'transf_y': 766.08}, {'name': 'GULIB (WSJC/WBFC FIR BDRY)', 'lat': '4.287', 'lon': '111.109', 'latdms': '041714N', 'londms': '1110633E', 'transf_x': 1099.619999999999, 'transf_y': 771.66}]}, {'name': 'L625', 'segments': [{'name': 'AKMON', 'lat': '8.215', 'lon': '110.218', 'latdms': '081254N', 'londms': '1101306E', 'transf_x': 939.2400000000007, 'transf_y': 1478.7}, {'name': 'LUSMO', 'lat': '3.561', 'lon': '106.926', 'latdms': '033341N', 'londms': '1065534E', 'transf_x': 346.68000000000035, 'transf_y': 640.98}, {'name': 'VERIN', 'lat': '2.559', 'lon': '106.407', 'latdms': '023332N', 'londms': '1062425E', 'transf_x': 253.25999999999937, 'transf_y': 460.62}, {'name': 'TOMAN', 'lat': '1.363', 'lon': '105.788', 'latdms': '012147N', 'londms': '1054717E', 'transf_x': 141.8399999999994, 'transf_y': 245.34}]}, {'name': 'L629', 'segments': [{'name': 'DOLOX', 'lat': '4.811', 'lon': '105.380', 'latdms': '044841N', 'londms': '1052247E', 'transf_x': 68.39999999999918, 'transf_y': 865.98}, {'name': 'NOPAT', 'lat': '4.387', 'lon': '104.799', 'latdms': '042313N', 'londms': '1044756E', 'transf_x': -36.17999999999881, 'transf_y': 789.66}, {'name': 'VEPLI', 'lat': '3.873', 'lon': '104.095', 'latdms': '035223N', 'londms': '1040542E', 'transf_x': -162.9000000000002, 'transf_y': 697.14}, {'name': 'BUVAL (WSJC/WMFC FIR BDRY)', 'lat': '3.606', 'lon': '103.728', 'latdms': '033622N', 'londms': '1034341E', 'transf_x': -228.960000000001, 'transf_y': 649.0799999999999}, {'name': 'PEKAN DVOR/DME (VPK)', 'lat': '3.383', 'lon': '103.423', 'latdms': '032259N', 'londms': '1032524E', 'transf_x': -283.8599999999997, 'transf_y': 608.94}]}, {'name': 'L635', 'segments': [{'name': 'MABLI', 'lat': '4.288', 'lon': '106.213', 'latdms': '041717N', 'londms': '1061247E', 'transf_x': 218.3399999999989, 'transf_y': 771.84}, {'name': 'SUSAR', 'lat': '3.980', 'lon': '105.263', 'latdms': '035848N', 'londms': '1051547E', 'transf_x': 47.34000000000094, 'transf_y': 716.4}, {'name': 'DUBSA', 'lat': '3.817', 'lon': '104.761', 'latdms': '034901N', 'londms': '1044540E', 'transf_x': -43.02000000000078, 'transf_y': 687.0600000000001}, {'name': 'UGPEK', 'lat': '3.613', 'lon': '104.131', 'latdms': '033647N', 'londms': '1040752E', 'transf_x': -156.41999999999996, 'transf_y': 650.34}, {'name': 'DOVOL (WSJC/WMFC FIR BDRY)', 'lat': '3.513', 'lon': '103.823', 'latdms': '033047N', 'londms': '1034923E', 'transf_x': -211.8600000000012, 'transf_y': 632.34}, {'name': 'PEKAN DVOR/DME (VPK)', 'lat': '3.383', 'lon': '103.423', 'latdms': '032259N', 'londms': '1032524E', 'transf_x': -283.8599999999997, 'transf_y': 608.94}]}, {'name': 'L644', 'segments': [{'name': 'DUDIS (WSJC/VVTS FIR BDRY)', 'lat': '7.000', 'lon': '106.810', 'latdms': '070000N', 'londms': '1064836E', 'transf_x': 325.8000000000004, 'transf_y': 1260.0}, {'name': 'MABLI', 'lat': '4.288', 'lon': '106.213', 'latdms': '041717N', 'londms': '1061247E', 'transf_x': 218.3399999999989, 'transf_y': 771.84}, {'name': 'OPULA', 'lat': '3.532', 'lon': '106.355', 'latdms': '033155N', 'londms': '1062118E', 'transf_x': 243.90000000000072, 'transf_y': 635.76}, {'name': 'ONAPO', 'lat': '3.354', 'lon': '106.388', 'latdms': '032116N', 'londms': '1062318E', 'transf_x': 249.84000000000094, 'transf_y': 603.72}, {'name': 'OMLIV', 'lat': '2.920', 'lon': '106.470', 'latdms': '025512N', 'londms': '1062812E', 'transf_x': 264.5999999999998, 'transf_y': 525.6}, {'name': 'OMBAP', 'lat': '2.521', 'lon': '106.545', 'latdms': '023116N', 'londms': '1063242E', 'transf_x': 278.1000000000003, 'transf_y': 453.78}, {'name': 'OLSAM', 'lat': '2.016', 'lon': '106.640', 'latdms': '020059N', 'londms': '1063824E', 'transf_x': 295.2000000000001, 'transf_y': 362.88}, {'name': 'OBLOT', 'lat': '1.716', 'lon': '106.696', 'latdms': '014256N', 'londms': '1064147E', 'transf_x': 305.27999999999963, 'transf_y': 308.88}, {'name': 'OBGET', 'lat': '1.385', 'lon': '106.759', 'latdms': '012307N', 'londms': '1064531E', 'transf_x': 316.62000000000006, 'transf_y': 249.3}, {'name': 'KIKOR (WSJC/WIIZ FIR BDRY)', 'lat': '-0.379', 'lon': '107.090', 'latdms': '002244S', 'londms': '1070524E', 'transf_x': 376.2000000000006, 'transf_y': -68.22}]}, {'name': 'M646', 'segments': [{'name': 'KAMIN (WBFC/WSJC FIR BDRY)', 'lat': '2.578', 'lon': '108.927', 'latdms': '023442N', 'londms': '1085536E', 'transf_x': 706.8600000000013, 'transf_y': 464.03999999999996}, {'name': 'SABIP', 'lat': '2.161', 'lon': '107.846', 'latdms': '020940N', 'londms': '1075044E', 'transf_x': 512.2800000000007, 'transf_y': 388.98}, {'name': 'ESPIT', 'lat': '2.003', 'lon': '107.440', 'latdms': '020011N', 'londms': '1072624E', 'transf_x': 439.1999999999996, 'transf_y': 360.54}, {'name': 'OBLOT', 'lat': '1.716', 'lon': '106.696', 'latdms': '014256N', 'londms': '1064147E', 'transf_x': 305.27999999999963, 'transf_y': 308.88}, {'name': 'TOMAN', 'lat': '1.363', 'lon': '105.788', 'latdms': '012147N', 'londms': '1054717E', 'transf_x': 141.8399999999994, 'transf_y': 245.34}]}, {'name': 'M758', 'segments': [{'name': 'PEKAN DVOR/DME (VPK)', 'lat': '3.383', 'lon': '103.423', 'latdms': '032259N', 'londms': '1032524E', 'transf_x': -283.8599999999997, 'transf_y': 608.94}, {'name': 'IDSEL (WMFC/WSJC FIR BDRY)', 'lat': '3.409', 'lon': '103.929', 'latdms': '032432N', 'londms': '1035544E', 'transf_x': -192.77999999999963, 'transf_y': 613.62}, {'name': 'URIGO', 'lat': '3.418', 'lon': '104.113', 'latdms': '032505N', 'londms': '1040647E', 'transf_x': -159.66000000000008, 'transf_y': 615.24}, {'name': 'VISAT', 'lat': '3.439', 'lon': '104.526', 'latdms': '032620N', 'londms': '1043134E', 'transf_x': -85.32000000000068, 'transf_y': 619.02}, {'name': 'MABAL', 'lat': '3.474', 'lon': '105.210', 'latdms': '032826N', 'londms': '1051236E', 'transf_x': 37.799999999998875, 'transf_y': 625.32}, {'name': 'ELGOR', 'lat': '3.504', 'lon': '105.805', 'latdms': '033014N', 'londms': '1054818E', 'transf_x': 144.90000000000123, 'transf_y': 630.72}, {'name': 'LUSMO', 'lat': '3.561', 'lon': '106.926', 'latdms': '033341N', 'londms': '1065534E', 'transf_x': 346.68000000000035, 'transf_y': 640.98}, {'name': 'TERIX', 'lat': '4.256', 'lon': '109.582', 'latdms': '041521N', 'londms': '1093456E', 'transf_x': 824.7599999999989, 'transf_y': 766.08}, {'name': 'OLKIT (WSJC/WBFC FIR BDRY)', 'lat': '4.836', 'lon': '111.855', 'latdms': '045010N', 'londms': '1115118E', 'transf_x': 1233.9000000000008, 'transf_y': 870.48}]}, {'name': 'M761', 'segments': [{'name': 'PEKAN DVOR/DME (VPK)', 'lat': '3.383', 'lon': '103.423', 'latdms': '032259N', 'londms': '1032524E', 'transf_x': -283.8599999999997, 'transf_y': 608.94}, {'name': 'KETOD (WMFC/WSJC FIR BDRY)', 'lat': '3.178', 'lon': '104.162', 'latdms': '031042N', 'londms': '1040942E', 'transf_x': -150.8399999999989, 'transf_y': 572.04}, {'name': 'OTLON', 'lat': '3.131', 'lon': '104.335', 'latdms': '030752N', 'londms': '1042006E', 'transf_x': -119.70000000000113, 'transf_y': 563.5799999999999}, {'name': 'KILOT', 'lat': '3.038', 'lon': '104.673', 'latdms': '030217N', 'londms': '1044023E', 'transf_x': -58.85999999999967, 'transf_y': 546.8399999999999}, {'name': 'LIPRO', 'lat': '2.895', 'lon': '105.191', 'latdms': '025342N', 'londms': '1051128E', 'transf_x': 34.38000000000045, 'transf_y': 521.1}, {'name': 'BOBOB', 'lat': '2.368', 'lon': '107.099', 'latdms': '022206N', 'londms': '1070558E', 'transf_x': 377.8200000000007, 'transf_y': 426.23999999999995}, {'name': 'SABIP', 'lat': '2.161', 'lon': '107.846', 'latdms': '020940N', 'londms': '1075044E', 'transf_x': 512.2800000000007, 'transf_y': 388.98}, {'name': 'AGOBA (WSJC/WBFC FIR BDRY)', 'lat': '1.978', 'lon': '108.500', 'latdms': '015840N', 'londms': '1083000E', 'transf_x': 630.0, 'transf_y': 356.04}]}, {'name': 'M767', 'segments': [{'name': 'TEGID (RPHI/WSJC FIR BDRY)', 'lat': '8.949', 'lon': '115.862', 'latdms': '085656N', 'londms': '1155143E', 'transf_x': 1955.159999999999, 'transf_y': 1610.82}, {'name': 'TODAM', 'lat': '6.527', 'lon': '112.593', 'latdms': '063138N', 'londms': '1123536E', 'transf_x': 1366.7400000000007, 'transf_y': 1174.8600000000001}, {'name': 'TERIX', 'lat': '4.256', 'lon': '109.582', 'latdms': '041521N', 'londms': '1093456E', 'transf_x': 824.7599999999989, 'transf_y': 766.08}, {'name': 'BOBOB', 'lat': '2.368', 'lon': '107.099', 'latdms': '022206N', 'londms': '1070558E', 'transf_x': 377.8200000000007, 'transf_y': 426.23999999999995}, {'name': 'TOMAN', 'lat': '1.363', 'lon': '105.788', 'latdms': '012147N', 'londms': '1054717E', 'transf_x': 141.8399999999994, 'transf_y': 245.34}]}, {'name': 'M771', 'segments': [{'name': 'DUDIS (WSJC/VVTS FIR BDRY)', 'lat': '7.000', 'lon': '106.810', 'latdms': '070000N', 'londms': '1064836E', 'transf_x': 325.8000000000004, 'transf_y': 1260.0}, {'name': 'DOLOX', 'lat': '4.811', 'lon': '105.380', 'latdms': '044841N', 'londms': '1052247E', 'transf_x': 68.39999999999918, 'transf_y': 865.98}, {'name': 'DAMOG', 'lat': '4.207', 'lon': '105.004', 'latdms': '041225N', 'londms': '1050014E', 'transf_x': 0.7200000000008799, 'transf_y': 757.26}, {'name': 'DUBSA', 'lat': '3.817', 'lon': '104.761', 'latdms': '034901N', 'londms': '1044540E', 'transf_x': -43.02000000000078, 'transf_y': 687.0600000000001}, {'name': 'VISAT', 'lat': '3.439', 'lon': '104.526', 'latdms': '032620N', 'londms': '1043134E', 'transf_x': -85.32000000000068, 'transf_y': 619.02}, {'name': 'OTLON', 'lat': '3.131', 'lon': '104.335', 'latdms': '030752N', 'londms': '1042006E', 'transf_x': -119.70000000000113, 'transf_y': 563.5799999999999}, {'name': 'RAXIM (WMFC/WSJC FIR BDRY)', 'lat': '3.055', 'lon': '104.287', 'latdms': '030318N', 'londms': '1041713E', 'transf_x': -128.3399999999989, 'transf_y': 549.9}, {'name': 'MERSING DVOR/DME (VMR)', 'lat': '2.388', 'lon': '103.872', 'latdms': '022318N', 'londms': '1035218E', 'transf_x': -203.04000000000002, 'transf_y': 429.84}]}, {'name': 'N875', 'segments': [{'name': 'ENREP', 'lat': '4.873', 'lon': '104.245', 'latdms': '045223N', 'londms': '1041442E', 'transf_x': -135.89999999999918, 'transf_y': 877.14}, {'name': 'NOPAT', 'lat': '4.387', 'lon': '104.799', 'latdms': '042313N', 'londms': '1044756E', 'transf_x': -36.17999999999881, 'transf_y': 789.66}, {'name': 'DAMOG', 'lat': '4.207', 'lon': '105.004', 'latdms': '041225N', 'londms': '1050014E', 'transf_x': 0.7200000000008799, 'transf_y': 757.26}, {'name': 'SUSAR', 'lat': '3.980', 'lon': '105.263', 'latdms': '035848N', 'londms': '1051547E', 'transf_x': 47.34000000000094, 'transf_y': 716.4}, {'name': 'MUMSO', 'lat': '3.739', 'lon': '105.537', 'latdms': '034420N', 'londms': '1053213E', 'transf_x': 96.6600000000011, 'transf_y': 673.02}, {'name': 'ELGOR', 'lat': '3.504', 'lon': '105.805', 'latdms': '033014N', 'londms': '1054818E', 'transf_x': 144.90000000000123, 'transf_y': 630.72}, {'name': 'LEBIN', 'lat': '3.244', 'lon': '106.101', 'latdms': '031438N', 'londms': '1060604E', 'transf_x': 198.17999999999984, 'transf_y': 583.9200000000001}, {'name': 'BOBOB', 'lat': '2.368', 'lon': '107.099', 'latdms': '022206N', 'londms': '1070558E', 'transf_x': 377.8200000000007, 'transf_y': 426.23999999999995}, {'name': 'ESPIT', 'lat': '2.003', 'lon': '107.440', 'latdms': '020011N', 'londms': '1072624E', 'transf_x': 439.1999999999996, 'transf_y': 360.54}, {'name': 'NIMIX', 'lat': '1.414', 'lon': '107.991', 'latdms': '012452N', 'londms': '1075926E', 'transf_x': 538.3799999999999, 'transf_y': 254.51999999999998}, {'name': 'ARUPA', 'lat': '0.528', 'lon': '108.813', 'latdms': '003140N', 'londms': '1084846E', 'transf_x': 686.3400000000004, 'transf_y': 95.04}]}, {'name': 'N884', 'segments': [{'name': 'LAXOR (WSJC/RPHI FIR BDRY)', 'lat': '9.827', 'lon': '114.808', 'latdms': '094937N', 'londms': '1144829E', 'transf_x': 1765.4400000000012, 'transf_y': 1768.86}, {'name': 'LAGOT', 'lat': '7.276', 'lon': '111.545', 'latdms': '071632N', 'londms': '1113243E', 'transf_x': 1178.1000000000004, 'transf_y': 1309.68}, {'name': 'LUSMO', 'lat': '3.561', 'lon': '106.926', 'latdms': '033341N', 'londms': '1065534E', 'transf_x': 346.68000000000035, 'transf_y': 640.98}, {'name': 'LEBIN', 'lat': '3.244', 'lon': '106.101', 'latdms': '031438N', 'londms': '1060604E', 'transf_x': 198.17999999999984, 'transf_y': 583.9200000000001}, {'name': 'LIPRO', 'lat': '2.895', 'lon': '105.191', 'latdms': '025342N', 'londms': '1051128E', 'transf_x': 34.38000000000045, 'transf_y': 521.1}, {'name': 'LENDA (WSJC/WMFC FIR BDRY)', 'lat': '2.690', 'lon': '104.659', 'latdms': '024124N', 'londms': '1043932E', 'transf_x': -61.379999999998915, 'transf_y': 484.2}, {'name': 'MERSING DVOR/DME (VMR)', 'lat': '2.388', 'lon': '103.872', 'latdms': '022318N', 'londms': '1035218E', 'transf_x': -203.04000000000002, 'transf_y': 429.84}]}, {'name': 'N892', 'segments': [{'name': 'MELAS (VVTS/WSJC FIR BDRY)', 'lat': '7.089', 'lon': '108.153', 'latdms': '070520N', 'londms': '1080911E', 'transf_x': 567.5400000000011, 'transf_y': 1276.02}, {'name': 'MABLI', 'lat': '4.288', 'lon': '106.213', 'latdms': '041717N', 'londms': '1061247E', 'transf_x': 218.3399999999989, 'transf_y': 771.84}, {'name': 'MUMSO', 'lat': '3.739', 'lon': '105.537', 'latdms': '034420N', 'londms': '1053213E', 'transf_x': 96.6600000000011, 'transf_y': 673.02}, {'name': 'MABAL', 'lat': '3.474', 'lon': '105.210', 'latdms': '032826N', 'londms': '1051236E', 'transf_x': 37.799999999998875, 'transf_y': 625.32}, {'name': 'KILOT', 'lat': '3.038', 'lon': '104.673', 'latdms': '030217N', 'londms': '1044023E', 'transf_x': -58.85999999999967, 'transf_y': 546.8399999999999}, {'name': 'KIBOL WSJC/WMFC FIR BDRY', 'lat': '2.875', 'lon': '104.468', 'latdms': '025229N', 'londms': '1042805E', 'transf_x': -95.75999999999937, 'transf_y': 517.5}, {'name': 'PEKLA', 'lat': '2.577', 'lon': '104.105', 'latdms': '023437N', 'londms': '1040618E', 'transf_x': -161.09999999999928, 'transf_y': 463.86}, {'name': 'MERSING DVOR/DME (VMR)', 'lat': '2.388', 'lon': '103.872', 'latdms': '022318N', 'londms': '1035218E', 'transf_x': -203.04000000000002, 'transf_y': 429.84}]}, {'name': 'T612', 'segments': [{'name': 'DOLOX', 'lat': '4.811', 'lon': '105.380', 'latdms': '044841N', 'londms': '1052247E', 'transf_x': 68.39999999999918, 'transf_y': 865.98}, {'name': 'IDSEL (WMFC/WSJC FIR BDRY)', 'lat': '3.409', 'lon': '103.929', 'latdms': '032432N', 'londms': '1035544E', 'transf_x': -192.77999999999963, 'transf_y': 613.62}]}]\n"
    }
   ],
   "source": [
    "\"\"\"This snippet adds transformed x and y columns to the airways file\"\"\"\n",
    "# a= np.array([1.19,103.06])\n",
    "a=np.array([0,105])\n",
    "a_ = np.array([a[1],a[0]])\n",
    "# b=  np.array([1.19,104.7])\n",
    "b=  np.array([0,110])\n",
    "b_ = np.array([b[1],b[0]])\n",
    "# c =np.array([1.76,104.7])\n",
    "c =np.array([5,110])\n",
    "c_ = np.array([c[1],c[0]])\n",
    "# d=  np.array([1.76,103.06])\n",
    "d=  np.array([5,105])\n",
    "d_ = np.array([d[1],d[0]])\n",
    "\n",
    "horizontal_len= b[1]-a[1]\n",
    "vertical_len = d[0]-a[0]\n",
    "\n",
    "dict1=[]\n",
    "\n",
    "for i in range(len(filteraws)):\n",
    "    # print(i)\n",
    "    d1= []\n",
    "    for j in range(len(filteraws.segments[i])):\n",
    "        # print(j)\n",
    "        P = np.array([float(filteraws.segments[i][j]['lon']),float(filteraws.segments[i][j]['lat'])])\n",
    "        # print(P)\n",
    "        # print(\"^^\")\n",
    "        # vert_d = np.linalg.norm(np.cross(b_-a_,P-a_))/np.linalg.norm(b_-a_)\n",
    "        # horiz_d = np.linalg.norm(np.cross(d_-a_,P-a_))/np.linalg.norm(d_-a_)\n",
    "        vert_d = P[1]-a_[1]\n",
    "        horiz_d = P[0] -a_[0]\n",
    "        airdict1={\n",
    "                # \"name\":filteraws.name[i],        \n",
    "                # \"segments\":[{\"name\":filteraws.segments[i][j]['name'],\n",
    "                \"name\":filteraws.segments[i][j]['name'],\n",
    "                \"lat\":filteraws.segments[i][j]['lat'],\n",
    "                \"lon\":filteraws.segments[i][j]['lon'],\n",
    "                \"latdms\":filteraws.segments[i][j]['latdms'],\n",
    "                \"londms\":filteraws.segments[i][j]['londms'],\n",
    "                \"transf_x\": (900/horizontal_len)*horiz_d,\n",
    "                \"transf_y\": (900/vertical_len)*vert_d\n",
    "                }\n",
    "        d1.append(airdict1)\n",
    "    # dict2={\"segments\":d1}\n",
    "    dict3 ={\"name\":filteraws.name[i], \n",
    "            \"segments\":d1}\n",
    "    # print(dict3)\n",
    "    dict1.append(dict3)\n",
    "        \n",
    "print(dict1)"
   ]
  },
  {
   "cell_type": "code",
   "execution_count": 6,
   "metadata": {},
   "outputs": [],
   "source": [
    "import json\n",
    "with open('scenario_data/airwaysforFlightPlan.json', 'w') as json_file:\n",
    "    json.dump(dict1, json_file)"
   ]
  },
  {
   "cell_type": "code",
   "execution_count": 7,
   "metadata": {},
   "outputs": [
    {
     "output_type": "execute_result",
     "data": {
      "text/plain": "100"
     },
     "metadata": {},
     "execution_count": 7
    }
   ],
   "source": [
    "df=pd.read_json('scenario_data/airwaysforFlightPlan.json')\n",
    "waypointList = []\n",
    "for i in range(len(df)):\n",
    "    for j in range(len(df.segments[i])):\n",
    "        waypointList.append(WayPoint(df.segments[i][j]['name'],[df.segments[i][j]['transf_x'],900-df.segments[i][j]['transf_y']]))\n",
    "        \n",
    "len(waypointList)"
   ]
  },
  {
   "cell_type": "code",
   "execution_count": 8,
   "metadata": {
    "tags": []
   },
   "outputs": [
    {
     "output_type": "stream",
     "name": "stdout",
     "text": "0 4\n1 6\n2 2\n3 4\n4 5\n5 6\n6 10\n7 5\n8 9\n9 8\n10 5\n11 8\n12 11\n13 7\n14 8\n15 2\n"
    }
   ],
   "source": [
    "for a in range(len(df.segments)):\n",
    "    print(a,len(df.segments[a]))"
   ]
  },
  {
   "cell_type": "code",
   "execution_count": 9,
   "metadata": {
    "tags": []
   },
   "outputs": [
    {
     "output_type": "stream",
     "name": "stdout",
     "text": "4\n[<classLib_forFlightplans.WayPoint object at 0x000002800D1F8730>, <classLib_forFlightplans.WayPoint object at 0x00000280100B1A60>]\n[<classLib_forFlightplans.WayPoint object at 0x00000280100B1A60>, <classLib_forFlightplans.WayPoint object at 0x00000280100B18B0>]\n[<classLib_forFlightplans.WayPoint object at 0x00000280100B18B0>, <classLib_forFlightplans.WayPoint object at 0x00000280100B1CA0>]\n6\n[<classLib_forFlightplans.WayPoint object at 0x00000280100B1C40>, <classLib_forFlightplans.WayPoint object at 0x00000280100B1D60>]\n[<classLib_forFlightplans.WayPoint object at 0x00000280100B1D60>, <classLib_forFlightplans.WayPoint object at 0x00000280100B1D90>]\n[<classLib_forFlightplans.WayPoint object at 0x00000280100B1D90>, <classLib_forFlightplans.WayPoint object at 0x00000280100B1E50>]\n[<classLib_forFlightplans.WayPoint object at 0x00000280100B1E50>, <classLib_forFlightplans.WayPoint object at 0x00000280100B1E80>]\n[<classLib_forFlightplans.WayPoint object at 0x00000280100B1E80>, <classLib_forFlightplans.WayPoint object at 0x00000280100B1F10>]\n2\n[<classLib_forFlightplans.WayPoint object at 0x00000280100B1F40>, <classLib_forFlightplans.WayPoint object at 0x00000280100B1910>]\n4\n[<classLib_forFlightplans.WayPoint object at 0x00000280100B1B20>, <classLib_forFlightplans.WayPoint object at 0x00000280100B1790>]\n[<classLib_forFlightplans.WayPoint object at 0x00000280100B1790>, <classLib_forFlightplans.WayPoint object at 0x000002800FF33520>]\n[<classLib_forFlightplans.WayPoint object at 0x000002800FF33520>, <classLib_forFlightplans.WayPoint object at 0x000002800FF33790>]\n5\n[<classLib_forFlightplans.WayPoint object at 0x000002800FF33700>, <classLib_forFlightplans.WayPoint object at 0x000002800D213370>]\n[<classLib_forFlightplans.WayPoint object at 0x000002800D213370>, <classLib_forFlightplans.WayPoint object at 0x000002800D213490>]\n[<classLib_forFlightplans.WayPoint object at 0x000002800D213490>, <classLib_forFlightplans.WayPoint object at 0x000002800D213610>]\n[<classLib_forFlightplans.WayPoint object at 0x000002800D213610>, <classLib_forFlightplans.WayPoint object at 0x000002800D213460>]\n6\n[<classLib_forFlightplans.WayPoint object at 0x000002800D213310>, <classLib_forFlightplans.WayPoint object at 0x0000028010005220>]\n[<classLib_forFlightplans.WayPoint object at 0x0000028010005220>, <classLib_forFlightplans.WayPoint object at 0x00000280100056D0>]\n[<classLib_forFlightplans.WayPoint object at 0x00000280100056D0>, <classLib_forFlightplans.WayPoint object at 0x0000028010005AC0>]\n[<classLib_forFlightplans.WayPoint object at 0x0000028010005AC0>, <classLib_forFlightplans.WayPoint object at 0x0000028010005130>]\n[<classLib_forFlightplans.WayPoint object at 0x0000028010005130>, <classLib_forFlightplans.WayPoint object at 0x0000028010005580>]\n10\n[<classLib_forFlightplans.WayPoint object at 0x0000028010005910>, <classLib_forFlightplans.WayPoint object at 0x0000028010005610>]\n[<classLib_forFlightplans.WayPoint object at 0x0000028010005610>, <classLib_forFlightplans.WayPoint object at 0x00000280100058B0>]\n[<classLib_forFlightplans.WayPoint object at 0x00000280100058B0>, <classLib_forFlightplans.WayPoint object at 0x00000280100052E0>]\n[<classLib_forFlightplans.WayPoint object at 0x00000280100052E0>, <classLib_forFlightplans.WayPoint object at 0x0000028010005370>]\n[<classLib_forFlightplans.WayPoint object at 0x0000028010005370>, <classLib_forFlightplans.WayPoint object at 0x0000028010005490>]\n[<classLib_forFlightplans.WayPoint object at 0x0000028010005490>, <classLib_forFlightplans.WayPoint object at 0x0000028010005430>]\n[<classLib_forFlightplans.WayPoint object at 0x0000028010005430>, <classLib_forFlightplans.WayPoint object at 0x0000028010005B50>]\n[<classLib_forFlightplans.WayPoint object at 0x0000028010005B50>, <classLib_forFlightplans.WayPoint object at 0x0000028010005880>]\n[<classLib_forFlightplans.WayPoint object at 0x0000028010005880>, <classLib_forFlightplans.WayPoint object at 0x0000028010005340>]\n5\n[<classLib_forFlightplans.WayPoint object at 0x0000028010005FD0>, <classLib_forFlightplans.WayPoint object at 0x0000028010005F40>]\n[<classLib_forFlightplans.WayPoint object at 0x0000028010005F40>, <classLib_forFlightplans.WayPoint object at 0x0000028010005F70>]\n[<classLib_forFlightplans.WayPoint object at 0x0000028010005F70>, <classLib_forFlightplans.WayPoint object at 0x0000028010005E20>]\n[<classLib_forFlightplans.WayPoint object at 0x0000028010005E20>, <classLib_forFlightplans.WayPoint object at 0x0000028010005730>]\n9\n[<classLib_forFlightplans.WayPoint object at 0x0000028010005E80>, <classLib_forFlightplans.WayPoint object at 0x00000280100D8070>]\n[<classLib_forFlightplans.WayPoint object at 0x00000280100D8070>, <classLib_forFlightplans.WayPoint object at 0x00000280100D80D0>]\n[<classLib_forFlightplans.WayPoint object at 0x00000280100D80D0>, <classLib_forFlightplans.WayPoint object at 0x00000280100D8130>]\n[<classLib_forFlightplans.WayPoint object at 0x00000280100D8130>, <classLib_forFlightplans.WayPoint object at 0x00000280100D8190>]\n[<classLib_forFlightplans.WayPoint object at 0x00000280100D8190>, <classLib_forFlightplans.WayPoint object at 0x00000280100D81F0>]\n[<classLib_forFlightplans.WayPoint object at 0x00000280100D81F0>, <classLib_forFlightplans.WayPoint object at 0x00000280100D8250>]\n[<classLib_forFlightplans.WayPoint object at 0x00000280100D8250>, <classLib_forFlightplans.WayPoint object at 0x00000280100D82B0>]\n[<classLib_forFlightplans.WayPoint object at 0x00000280100D82B0>, <classLib_forFlightplans.WayPoint object at 0x00000280100D8310>]\n8\n[<classLib_forFlightplans.WayPoint object at 0x00000280100D8370>, <classLib_forFlightplans.WayPoint object at 0x00000280100D83D0>]\n[<classLib_forFlightplans.WayPoint object at 0x00000280100D83D0>, <classLib_forFlightplans.WayPoint object at 0x00000280100D8430>]\n[<classLib_forFlightplans.WayPoint object at 0x00000280100D8430>, <classLib_forFlightplans.WayPoint object at 0x00000280100D8490>]\n[<classLib_forFlightplans.WayPoint object at 0x00000280100D8490>, <classLib_forFlightplans.WayPoint object at 0x00000280100D84F0>]\n[<classLib_forFlightplans.WayPoint object at 0x00000280100D84F0>, <classLib_forFlightplans.WayPoint object at 0x00000280100D8550>]\n[<classLib_forFlightplans.WayPoint object at 0x00000280100D8550>, <classLib_forFlightplans.WayPoint object at 0x00000280100D85B0>]\n[<classLib_forFlightplans.WayPoint object at 0x00000280100D85B0>, <classLib_forFlightplans.WayPoint object at 0x00000280100D8610>]\n5\n[<classLib_forFlightplans.WayPoint object at 0x00000280100D8670>, <classLib_forFlightplans.WayPoint object at 0x00000280100D86D0>]\n[<classLib_forFlightplans.WayPoint object at 0x00000280100D86D0>, <classLib_forFlightplans.WayPoint object at 0x00000280100D8730>]\n[<classLib_forFlightplans.WayPoint object at 0x00000280100D8730>, <classLib_forFlightplans.WayPoint object at 0x00000280100D8790>]\n[<classLib_forFlightplans.WayPoint object at 0x00000280100D8790>, <classLib_forFlightplans.WayPoint object at 0x00000280100D87F0>]\n8\n[<classLib_forFlightplans.WayPoint object at 0x00000280100D8850>, <classLib_forFlightplans.WayPoint object at 0x00000280100D88B0>]\n[<classLib_forFlightplans.WayPoint object at 0x00000280100D88B0>, <classLib_forFlightplans.WayPoint object at 0x00000280100D8910>]\n[<classLib_forFlightplans.WayPoint object at 0x00000280100D8910>, <classLib_forFlightplans.WayPoint object at 0x00000280100D8970>]\n[<classLib_forFlightplans.WayPoint object at 0x00000280100D8970>, <classLib_forFlightplans.WayPoint object at 0x00000280100D89D0>]\n[<classLib_forFlightplans.WayPoint object at 0x00000280100D89D0>, <classLib_forFlightplans.WayPoint object at 0x00000280100D8A30>]\n[<classLib_forFlightplans.WayPoint object at 0x00000280100D8A30>, <classLib_forFlightplans.WayPoint object at 0x00000280100D8A90>]\n[<classLib_forFlightplans.WayPoint object at 0x00000280100D8A90>, <classLib_forFlightplans.WayPoint object at 0x00000280100D8AF0>]\n11\n[<classLib_forFlightplans.WayPoint object at 0x00000280100D8B50>, <classLib_forFlightplans.WayPoint object at 0x00000280100D8BB0>]\n[<classLib_forFlightplans.WayPoint object at 0x00000280100D8BB0>, <classLib_forFlightplans.WayPoint object at 0x00000280100D8C10>]\n[<classLib_forFlightplans.WayPoint object at 0x00000280100D8C10>, <classLib_forFlightplans.WayPoint object at 0x00000280100D8C70>]\n[<classLib_forFlightplans.WayPoint object at 0x00000280100D8C70>, <classLib_forFlightplans.WayPoint object at 0x00000280100D8CD0>]\n[<classLib_forFlightplans.WayPoint object at 0x00000280100D8CD0>, <classLib_forFlightplans.WayPoint object at 0x00000280100D8D60>]\n[<classLib_forFlightplans.WayPoint object at 0x00000280100D8D60>, <classLib_forFlightplans.WayPoint object at 0x00000280100D8DC0>]\n[<classLib_forFlightplans.WayPoint object at 0x00000280100D8DC0>, <classLib_forFlightplans.WayPoint object at 0x00000280100D8E20>]\n[<classLib_forFlightplans.WayPoint object at 0x00000280100D8E20>, <classLib_forFlightplans.WayPoint object at 0x00000280100D8E80>]\n[<classLib_forFlightplans.WayPoint object at 0x00000280100D8E80>, <classLib_forFlightplans.WayPoint object at 0x00000280100D8EE0>]\n[<classLib_forFlightplans.WayPoint object at 0x00000280100D8EE0>, <classLib_forFlightplans.WayPoint object at 0x00000280100D8F40>]\n7\n[<classLib_forFlightplans.WayPoint object at 0x00000280100D8FA0>, <classLib_forFlightplans.WayPoint object at 0x00000280100DB040>]\n[<classLib_forFlightplans.WayPoint object at 0x00000280100DB040>, <classLib_forFlightplans.WayPoint object at 0x00000280100DB0A0>]\n[<classLib_forFlightplans.WayPoint object at 0x00000280100DB0A0>, <classLib_forFlightplans.WayPoint object at 0x00000280100DB100>]\n[<classLib_forFlightplans.WayPoint object at 0x00000280100DB100>, <classLib_forFlightplans.WayPoint object at 0x00000280100DB160>]\n[<classLib_forFlightplans.WayPoint object at 0x00000280100DB160>, <classLib_forFlightplans.WayPoint object at 0x00000280100DB1C0>]\n[<classLib_forFlightplans.WayPoint object at 0x00000280100DB1C0>, <classLib_forFlightplans.WayPoint object at 0x00000280100DB220>]\n8\n[<classLib_forFlightplans.WayPoint object at 0x00000280100DB280>, <classLib_forFlightplans.WayPoint object at 0x00000280100DB2E0>]\n[<classLib_forFlightplans.WayPoint object at 0x00000280100DB2E0>, <classLib_forFlightplans.WayPoint object at 0x00000280100DB340>]\n[<classLib_forFlightplans.WayPoint object at 0x00000280100DB340>, <classLib_forFlightplans.WayPoint object at 0x00000280100DB3A0>]\n[<classLib_forFlightplans.WayPoint object at 0x00000280100DB3A0>, <classLib_forFlightplans.WayPoint object at 0x00000280100DB400>]\n[<classLib_forFlightplans.WayPoint object at 0x00000280100DB400>, <classLib_forFlightplans.WayPoint object at 0x00000280100DB460>]\n[<classLib_forFlightplans.WayPoint object at 0x00000280100DB460>, <classLib_forFlightplans.WayPoint object at 0x00000280100DB4C0>]\n[<classLib_forFlightplans.WayPoint object at 0x00000280100DB4C0>, <classLib_forFlightplans.WayPoint object at 0x00000280100DB520>]\n2\n[<classLib_forFlightplans.WayPoint object at 0x00000280100DB580>, <classLib_forFlightplans.WayPoint object at 0x00000280100DB5E0>]\n"
    }
   ],
   "source": [
    "airwayList=[]\n",
    "a=0\n",
    "for i in range(len(df.segments)):\n",
    "    x=len(df.segments[i])\n",
    "    print(x)\n",
    "    for j in range(a,len(waypointList[:a+x])-1):\n",
    "        li=[waypointList[j],waypointList[j+1]]\n",
    "        print(li)\n",
    "        airwayList.append(Airways('aw'+ str(j),li[0],li[1]))\n",
    "    a+=x"
   ]
  },
  {
   "cell_type": "code",
   "execution_count": 10,
   "metadata": {
    "tags": []
   },
   "outputs": [
    {
     "output_type": "execute_result",
     "data": {
      "text/plain": "84"
     },
     "metadata": {},
     "execution_count": 10
    }
   ],
   "source": [
    "len(airwayList)"
   ]
  },
  {
   "cell_type": "code",
   "execution_count": 11,
   "metadata": {},
   "outputs": [],
   "source": [
    "# ac_per_scenario = 8\n",
    "# aircraftList=[]\n",
    "# aircraft_name=[]\n",
    "# for n in range(1,ac_per_scenario+1):\n",
    "#     aircraft_name.append('ac'+str(n))\n",
    "# for i in range(ac_per_scenario):\n",
    "#     point=np.random.choice(airwayList)\n",
    "#     d=[20,30,40,50,60,80,100,120,140,150,170,190,210,220,230,240,250] #offset,\n",
    "#     aircraft = Aircraft(str(aircraft_name[i]), point , np.random.choice(d)) #this will create multiple scenarios\n",
    "#     # aircraftList.append(aircraft)"
   ]
  },
  {
   "cell_type": "code",
   "execution_count": 12,
   "metadata": {},
   "outputs": [],
   "source": [
    "# pp=Polygon(([0,0],[2,0],[2,2],[0,2]))\n",
    "# a=pp.buffer(0.2)\n",
    "# pp.area\n",
    "# pop=list(a.exterior.coords)"
   ]
  },
  {
   "cell_type": "code",
   "execution_count": 13,
   "metadata": {
    "tags": []
   },
   "outputs": [],
   "source": [
    "\"\"\"\"here, the list aircraft_paths contains the waypoint lists that an aircraft will move on\"\"\"\n",
    "aircraft_paths=[] \n",
    "b=0\n",
    "for i in range(len(df.segments)):\n",
    "    x= len(df.segments[i])\n",
    "    segment=[]\n",
    "    for j in range(b,len(waypointList[:b+x])):\n",
    "        li=waypointList[j]\n",
    "        segment.append(li)\n",
    "    aircraft_paths.append(segment)\n",
    "    b+=x"
   ]
  },
  {
   "cell_type": "code",
   "execution_count": 14,
   "metadata": {},
   "outputs": [
    {
     "output_type": "execute_result",
     "data": {
      "text/plain": "6"
     },
     "metadata": {},
     "execution_count": 14
    }
   ],
   "source": [
    "len(aircraft_paths[1])"
   ]
  },
  {
   "cell_type": "code",
   "execution_count": 15,
   "metadata": {},
   "outputs": [],
   "source": [
    "aircraft_paths_x=[]\n",
    "aircraft_paths_y=[]\n",
    "for i in range(len(aircraft_paths)):\n",
    "    x_list=[]\n",
    "    y_list=[]\n",
    "    for j in range(len((aircraft_paths[i]))):\n",
    "        x=aircraft_paths[i][j].x\n",
    "        y=aircraft_paths[i][j].y\n",
    "        x_list.append(x)\n",
    "        y_list.append(y)\n",
    "    aircraft_paths_x.append(x_list)\n",
    "    aircraft_paths_y.append(y_list)\n"
   ]
  },
  {
   "cell_type": "code",
   "execution_count": 16,
   "metadata": {},
   "outputs": [
    {
     "output_type": "execute_result",
     "data": {
      "text/plain": "6"
     },
     "metadata": {},
     "execution_count": 16
    }
   ],
   "source": [
    "len(aircraft_paths_x[1])"
   ]
  },
  {
   "cell_type": "code",
   "execution_count": 17,
   "metadata": {},
   "outputs": [],
   "source": [
    "startEnd_point=[]\n",
    "for i in range(len(aircraft_paths)):\n",
    "    point=[aircraft_paths[i][0],aircraft_paths[i][-1]]\n",
    "    startEnd_point.append(point)"
   ]
  },
  {
   "cell_type": "code",
   "execution_count": 18,
   "metadata": {},
   "outputs": [
    {
     "output_type": "execute_result",
     "data": {
      "text/plain": "16"
     },
     "metadata": {},
     "execution_count": 18
    }
   ],
   "source": [
    "len(startEnd_point)"
   ]
  },
  {
   "cell_type": "code",
   "execution_count": 19,
   "metadata": {},
   "outputs": [],
   "source": [
    "aircraft_type=['medium','heavy','super_heavy']"
   ]
  },
  {
   "cell_type": "code",
   "execution_count": 20,
   "metadata": {
    "tags": []
   },
   "outputs": [
    {
     "output_type": "stream",
     "name": "stdout",
     "text": "[<classLib_forFlightplans.WayPoint object at 0x000002800D1F8730>, <classLib_forFlightplans.WayPoint object at 0x00000280100B1CA0>]\n[<classLib_forFlightplans.WayPoint object at 0x00000280100B1C40>, <classLib_forFlightplans.WayPoint object at 0x00000280100B1F10>]\n[<classLib_forFlightplans.WayPoint object at 0x00000280100B1F40>, <classLib_forFlightplans.WayPoint object at 0x00000280100B1910>]\n[<classLib_forFlightplans.WayPoint object at 0x00000280100B1B20>, <classLib_forFlightplans.WayPoint object at 0x000002800FF33790>]\n[<classLib_forFlightplans.WayPoint object at 0x000002800FF33700>, <classLib_forFlightplans.WayPoint object at 0x000002800D213460>]\n[<classLib_forFlightplans.WayPoint object at 0x000002800D213310>, <classLib_forFlightplans.WayPoint object at 0x0000028010005580>]\n[<classLib_forFlightplans.WayPoint object at 0x0000028010005910>, <classLib_forFlightplans.WayPoint object at 0x0000028010005340>]\n[<classLib_forFlightplans.WayPoint object at 0x0000028010005FD0>, <classLib_forFlightplans.WayPoint object at 0x0000028010005730>]\n"
    }
   ],
   "source": [
    "ac_per_scenario = 8\n",
    "aircraftList=[]\n",
    "aircraft_name=[]\n",
    "for n in range(1,ac_per_scenario+1):\n",
    "    aircraft_name.append('ac'+str(n))\n",
    "for i in range(ac_per_scenario):\n",
    "    point = startEnd_point[i]\n",
    "    print(point)\n",
    "    d=[20,30,40,50,60,80,100,120,140,150,170,190,210,220] #offset,\n",
    "    aircraft = Aircraft(str(aircraft_name[i]), point[0] ,point[1], np.random.choice(d)) #this will create multiple scenarios\n",
    "    aircraftList.append(aircraft)\n"
   ]
  },
  {
   "cell_type": "code",
   "execution_count": 21,
   "metadata": {},
   "outputs": [
    {
     "output_type": "execute_result",
     "data": {
      "text/plain": "8"
     },
     "metadata": {},
     "execution_count": 21
    }
   ],
   "source": [
    "len(aircraftList)"
   ]
  },
  {
   "cell_type": "code",
   "execution_count": 22,
   "metadata": {},
   "outputs": [],
   "source": [
    "dict4={}\n",
    "for i in range(len(waypointList)):\n",
    "    waydict={waypointList[i].name:{\n",
    "        'x':waypointList[i].x,\n",
    "        'y':waypointList[i].y}}\n",
    "    dict4.update(waydict)\n",
    "\n",
    "\n",
    "dict5={}\n",
    "for i in range(len(airwayList)):\n",
    "    airwaydict= {airwayList[i].name:{\n",
    "        'start':airwayList[i].start_wp,\n",
    "        'end' : airwayList[i].end_wp}}\n",
    "    dict5.update(airwaydict)\n",
    "\n",
    "\n",
    "dict6={}\n",
    "for i in range(len(aircraftList)):\n",
    "    aircraftdict= {\n",
    "        aircraftList[i].name:{\n",
    "        # 'x':aircraftList[i].offset_x,\n",
    "        'x': aircraftList[i].start_wp_x,\n",
    "        # 'y':aircraftList[i].offset_y,\n",
    "        'y':aircraftList[i].start_wp_y,\n",
    "        'dir_x': aircraftList[i].dir_x,\n",
    "        'dir_y': aircraftList[i].dir_y,\n",
    "        'type': np.random.choice(aircraft_type),\n",
    "        'altitude':360,\n",
    "        'x_path' : aircraft_paths_x[i],\n",
    "        'y_path' : aircraft_paths_y[i],\n",
    "        'timestep': [i for i in range(len(aircraft_paths_x[i]))]\n",
    "        # 'waypoints':aircraft_paths\n",
    "        }\n",
    "        }\n",
    "    dict6.update(aircraftdict)"
   ]
  },
  {
   "cell_type": "code",
   "execution_count": 23,
   "metadata": {},
   "outputs": [
    {
     "output_type": "execute_result",
     "data": {
      "text/plain": "[0, 1, 2, 3]"
     },
     "metadata": {},
     "execution_count": 23
    }
   ],
   "source": [
    "[i for i in range(len(aircraft_paths_x[0]))]"
   ]
  },
  {
   "cell_type": "code",
   "execution_count": 26,
   "metadata": {},
   "outputs": [],
   "source": [
    "df2=pd.read_json('SgSectors_LonLat.json')\n",
    "\n",
    "\n",
    "\"\"\"the sqaure region with 'a' as the bottom left point (moving anticlock abcd)\n",
    "    a,b,c,d= [lon,lat] format\"\"\"\n",
    "a = np.array([102,1])\n",
    "b = np.array([108,1])\n",
    "c = np.array([108,7])\n",
    "d = np.array([102,7])\n",
    "\n",
    "horizontal_length  = b[0]-a[0]\n",
    "vertical_length = d[1]-a[1]\n",
    "keylist=['sector1','sector2','sector3','sector4','sector5','sector6','sector7','sector8']\n",
    "l1=[[],[],[],[],[],[],[],[]]\n",
    "for i in range(len(keylist)):\n",
    "    for j in range(len(df2.Sectors[0][keylist[i]])):\n",
    "        P= np.array([df2.Sectors[0][keylist[i]][j][0],df2.Sectors[0][keylist[i]][j][1]])\n",
    "        # print(P)\n",
    "        vert_d = P[1]-a[1]\n",
    "        horiz_d= P[0]-a[0]\n",
    "        l1[i].append([(900/horizontal_length)*horiz_d,900-(900/vertical_length)*vert_d])\n",
    "\n",
    "\n",
    "\n",
    "data_dict={'waypoints':dict4, 'airways':dict5,'aircrafts':dict6, \n",
    "        'sectors':{\n",
    "                    'sector1':{'type': 'secondary', 'boundary': l1[0]},\n",
    "                    'sector2':{'type': 'secondary', 'boundary': l1[1]},\n",
    "                    'sector3':{'type': 'secondary', 'boundary': l1[2]},\n",
    "                    'sector4':{'type': 'secondary', 'boundary': l1[3]},\n",
    "                    'sector5':{'type': 'secondary',  'boundary': l1[4]},\n",
    "                    'sector6':{'type': 'primary', 'boundary':  l1[5]},\n",
    "                    'sector7':{'type':'secondary', 'boundary': l1[6]},\n",
    "                    'sector8':{'type':'secondary' ,'boundary':l1[7]}\n",
    "                    }}"
   ]
  },
  {
   "cell_type": "code",
   "execution_count": 27,
   "metadata": {},
   "outputs": [
    {
     "output_type": "execute_result",
     "data": {
      "text/plain": "{'waypoints': {'PULAU TIOMAN VOR/DME (VPT)': {'x': -160.01999999999924,\n   'y': 375.12},\n  'KIBOL (WMFC/WSJC FIR BDRY)': {'x': -95.75999999999937, 'y': 382.5},\n  'BUNTO': {'x': 179.64000000000084, 'y': 419.58},\n  'KAMIN (WSJC/WBFC FIR BDRY)': {'x': 706.8600000000013,\n   'y': 435.96000000000004},\n  'SINJON DVOR/DME (SJ)': {'x': -205.92000000000098, 'y': 680.04},\n  'HOSBA (R079/34 DME SJ)(R103/24 DME VTK)': {'x': -107.0999999999998,\n   'y': 660.6},\n  'TOMAN': {'x': 141.8399999999994, 'y': 654.66},\n  'OBGET': {'x': 316.62000000000006, 'y': 650.7},\n  'NIMIX': {'x': 538.3799999999999, 'y': 645.48},\n  'ATETI (FIR BDRY)': {'x': 630.0, 'y': 642.96},\n  'TERIX': {'x': 824.7599999999989, 'y': 133.91999999999996},\n  'GULIB (WSJC/WBFC FIR BDRY)': {'x': 1099.619999999999,\n   'y': 128.34000000000003},\n  'AKMON': {'x': 939.2400000000007, 'y': -578.7},\n  'LUSMO': {'x': 346.68000000000035, 'y': 259.02},\n  'VERIN': {'x': 253.25999999999937, 'y': 439.38},\n  'DOLOX': {'x': 68.39999999999918, 'y': 34.01999999999998},\n  'NOPAT': {'x': -36.17999999999881, 'y': 110.34000000000003},\n  'VEPLI': {'x': -162.9000000000002, 'y': 202.86},\n  'BUVAL (WSJC/WMFC FIR BDRY)': {'x': -228.960000000001,\n   'y': 250.92000000000007},\n  'PEKAN DVOR/DME (VPK)': {'x': -283.8599999999997, 'y': 291.05999999999995},\n  'MABLI': {'x': 218.3399999999989, 'y': 128.15999999999997},\n  'SUSAR': {'x': 47.34000000000094, 'y': 183.60000000000002},\n  'DUBSA': {'x': -43.02000000000078, 'y': 212.93999999999994},\n  'UGPEK': {'x': -156.41999999999996, 'y': 249.65999999999997},\n  'DOVOL (WSJC/WMFC FIR BDRY)': {'x': -211.8600000000012,\n   'y': 267.65999999999997},\n  'DUDIS (WSJC/VVTS FIR BDRY)': {'x': 325.8000000000004, 'y': -360.0},\n  'OPULA': {'x': 243.90000000000072, 'y': 264.24},\n  'ONAPO': {'x': 249.84000000000094, 'y': 296.28},\n  'OMLIV': {'x': 264.5999999999998, 'y': 374.4},\n  'OMBAP': {'x': 278.1000000000003, 'y': 446.22},\n  'OLSAM': {'x': 295.2000000000001, 'y': 537.12},\n  'OBLOT': {'x': 305.27999999999963, 'y': 591.12},\n  'KIKOR (WSJC/WIIZ FIR BDRY)': {'x': 376.2000000000006, 'y': 968.22},\n  'KAMIN (WBFC/WSJC FIR BDRY)': {'x': 706.8600000000013,\n   'y': 435.96000000000004},\n  'SABIP': {'x': 512.2800000000007, 'y': 511.02},\n  'ESPIT': {'x': 439.1999999999996, 'y': 539.46},\n  'IDSEL (WMFC/WSJC FIR BDRY)': {'x': -192.77999999999963, 'y': 286.38},\n  'URIGO': {'x': -159.66000000000008, 'y': 284.76},\n  'VISAT': {'x': -85.32000000000068, 'y': 280.98},\n  'MABAL': {'x': 37.799999999998875, 'y': 274.67999999999995},\n  'ELGOR': {'x': 144.90000000000123, 'y': 269.28},\n  'OLKIT (WSJC/WBFC FIR BDRY)': {'x': 1233.9000000000008,\n   'y': 29.519999999999982},\n  'KETOD (WMFC/WSJC FIR BDRY)': {'x': -150.8399999999989,\n   'y': 327.96000000000004},\n  'OTLON': {'x': -119.70000000000113, 'y': 336.4200000000001},\n  'KILOT': {'x': -58.85999999999967, 'y': 353.1600000000001},\n  'LIPRO': {'x': 34.38000000000045, 'y': 378.9},\n  'BOBOB': {'x': 377.8200000000007, 'y': 473.76000000000005},\n  'AGOBA (WSJC/WBFC FIR BDRY)': {'x': 630.0, 'y': 543.96},\n  'TEGID (RPHI/WSJC FIR BDRY)': {'x': 1955.159999999999,\n   'y': -710.8199999999999},\n  'TODAM': {'x': 1366.7400000000007, 'y': -274.8600000000001},\n  'DAMOG': {'x': 0.720000000000879, 'y': 142.74},\n  'RAXIM (WMFC/WSJC FIR BDRY)': {'x': -128.3399999999989, 'y': 350.1},\n  'MERSING DVOR/DME (VMR)': {'x': -203.04000000000002, 'y': 470.16},\n  'ENREP': {'x': -135.89999999999918, 'y': 22.860000000000014},\n  'MUMSO': {'x': 96.6600000000011, 'y': 226.98000000000002},\n  'LEBIN': {'x': 198.17999999999984, 'y': 316.0799999999999},\n  'ARUPA': {'x': 686.3400000000004, 'y': 804.96},\n  'LAXOR (WSJC/RPHI FIR BDRY)': {'x': 1765.4400000000012,\n   'y': -868.8599999999999},\n  'LAGOT': {'x': 1178.1000000000004, 'y': -409.68000000000006},\n  'LENDA (WSJC/WMFC FIR BDRY)': {'x': -61.379999999998915, 'y': 415.8},\n  'MELAS (VVTS/WSJC FIR BDRY)': {'x': 567.5400000000011, 'y': -376.02},\n  'KIBOL WSJC/WMFC FIR BDRY': {'x': -95.75999999999937, 'y': 382.5},\n  'PEKLA': {'x': -161.09999999999928, 'y': 436.14}},\n 'airways': {'aw0': {'start': 'PULAU TIOMAN VOR/DME (VPT)',\n   'end': 'KIBOL (WMFC/WSJC FIR BDRY)'},\n  'aw1': {'start': 'KIBOL (WMFC/WSJC FIR BDRY)', 'end': 'BUNTO'},\n  'aw2': {'start': 'BUNTO', 'end': 'KAMIN (WSJC/WBFC FIR BDRY)'},\n  'aw4': {'start': 'SINJON DVOR/DME (SJ)',\n   'end': 'HOSBA (R079/34 DME SJ)(R103/24 DME VTK)'},\n  'aw5': {'start': 'HOSBA (R079/34 DME SJ)(R103/24 DME VTK)', 'end': 'TOMAN'},\n  'aw6': {'start': 'TOMAN', 'end': 'OBGET'},\n  'aw7': {'start': 'OBGET', 'end': 'NIMIX'},\n  'aw8': {'start': 'NIMIX', 'end': 'ATETI (FIR BDRY)'},\n  'aw10': {'start': 'TERIX', 'end': 'GULIB (WSJC/WBFC FIR BDRY)'},\n  'aw12': {'start': 'AKMON', 'end': 'LUSMO'},\n  'aw13': {'start': 'LUSMO', 'end': 'VERIN'},\n  'aw14': {'start': 'VERIN', 'end': 'TOMAN'},\n  'aw16': {'start': 'DOLOX', 'end': 'NOPAT'},\n  'aw17': {'start': 'NOPAT', 'end': 'VEPLI'},\n  'aw18': {'start': 'VEPLI', 'end': 'BUVAL (WSJC/WMFC FIR BDRY)'},\n  'aw19': {'start': 'BUVAL (WSJC/WMFC FIR BDRY)',\n   'end': 'PEKAN DVOR/DME (VPK)'},\n  'aw21': {'start': 'MABLI', 'end': 'SUSAR'},\n  'aw22': {'start': 'SUSAR', 'end': 'DUBSA'},\n  'aw23': {'start': 'DUBSA', 'end': 'UGPEK'},\n  'aw24': {'start': 'UGPEK', 'end': 'DOVOL (WSJC/WMFC FIR BDRY)'},\n  'aw25': {'start': 'DOVOL (WSJC/WMFC FIR BDRY)',\n   'end': 'PEKAN DVOR/DME (VPK)'},\n  'aw27': {'start': 'DUDIS (WSJC/VVTS FIR BDRY)', 'end': 'MABLI'},\n  'aw28': {'start': 'MABLI', 'end': 'OPULA'},\n  'aw29': {'start': 'OPULA', 'end': 'ONAPO'},\n  'aw30': {'start': 'ONAPO', 'end': 'OMLIV'},\n  'aw31': {'start': 'OMLIV', 'end': 'OMBAP'},\n  'aw32': {'start': 'OMBAP', 'end': 'OLSAM'},\n  'aw33': {'start': 'OLSAM', 'end': 'OBLOT'},\n  'aw34': {'start': 'OBLOT', 'end': 'OBGET'},\n  'aw35': {'start': 'OBGET', 'end': 'KIKOR (WSJC/WIIZ FIR BDRY)'},\n  'aw37': {'start': 'KAMIN (WBFC/WSJC FIR BDRY)', 'end': 'SABIP'},\n  'aw38': {'start': 'SABIP', 'end': 'ESPIT'},\n  'aw39': {'start': 'ESPIT', 'end': 'OBLOT'},\n  'aw40': {'start': 'OBLOT', 'end': 'TOMAN'},\n  'aw42': {'start': 'PEKAN DVOR/DME (VPK)',\n   'end': 'IDSEL (WMFC/WSJC FIR BDRY)'},\n  'aw43': {'start': 'IDSEL (WMFC/WSJC FIR BDRY)', 'end': 'URIGO'},\n  'aw44': {'start': 'URIGO', 'end': 'VISAT'},\n  'aw45': {'start': 'VISAT', 'end': 'MABAL'},\n  'aw46': {'start': 'MABAL', 'end': 'ELGOR'},\n  'aw47': {'start': 'ELGOR', 'end': 'LUSMO'},\n  'aw48': {'start': 'LUSMO', 'end': 'TERIX'},\n  'aw49': {'start': 'TERIX', 'end': 'OLKIT (WSJC/WBFC FIR BDRY)'},\n  'aw51': {'start': 'PEKAN DVOR/DME (VPK)',\n   'end': 'KETOD (WMFC/WSJC FIR BDRY)'},\n  'aw52': {'start': 'KETOD (WMFC/WSJC FIR BDRY)', 'end': 'OTLON'},\n  'aw53': {'start': 'OTLON', 'end': 'KILOT'},\n  'aw54': {'start': 'KILOT', 'end': 'LIPRO'},\n  'aw55': {'start': 'LIPRO', 'end': 'BOBOB'},\n  'aw56': {'start': 'BOBOB', 'end': 'SABIP'},\n  'aw57': {'start': 'SABIP', 'end': 'AGOBA (WSJC/WBFC FIR BDRY)'},\n  'aw59': {'start': 'TEGID (RPHI/WSJC FIR BDRY)', 'end': 'TODAM'},\n  'aw60': {'start': 'TODAM', 'end': 'TERIX'},\n  'aw61': {'start': 'TERIX', 'end': 'BOBOB'},\n  'aw62': {'start': 'BOBOB', 'end': 'TOMAN'},\n  'aw64': {'start': 'DUDIS (WSJC/VVTS FIR BDRY)', 'end': 'DOLOX'},\n  'aw65': {'start': 'DOLOX', 'end': 'DAMOG'},\n  'aw66': {'start': 'DAMOG', 'end': 'DUBSA'},\n  'aw67': {'start': 'DUBSA', 'end': 'VISAT'},\n  'aw68': {'start': 'VISAT', 'end': 'OTLON'},\n  'aw69': {'start': 'OTLON', 'end': 'RAXIM (WMFC/WSJC FIR BDRY)'},\n  'aw70': {'start': 'RAXIM (WMFC/WSJC FIR BDRY)',\n   'end': 'MERSING DVOR/DME (VMR)'},\n  'aw72': {'start': 'ENREP', 'end': 'NOPAT'},\n  'aw73': {'start': 'NOPAT', 'end': 'DAMOG'},\n  'aw74': {'start': 'DAMOG', 'end': 'SUSAR'},\n  'aw75': {'start': 'SUSAR', 'end': 'MUMSO'},\n  'aw76': {'start': 'MUMSO', 'end': 'ELGOR'},\n  'aw77': {'start': 'ELGOR', 'end': 'LEBIN'},\n  'aw78': {'start': 'LEBIN', 'end': 'BOBOB'},\n  'aw79': {'start': 'BOBOB', 'end': 'ESPIT'},\n  'aw80': {'start': 'ESPIT', 'end': 'NIMIX'},\n  'aw81': {'start': 'NIMIX', 'end': 'ARUPA'},\n  'aw83': {'start': 'LAXOR (WSJC/RPHI FIR BDRY)', 'end': 'LAGOT'},\n  'aw84': {'start': 'LAGOT', 'end': 'LUSMO'},\n  'aw85': {'start': 'LUSMO', 'end': 'LEBIN'},\n  'aw86': {'start': 'LEBIN', 'end': 'LIPRO'},\n  'aw87': {'start': 'LIPRO', 'end': 'LENDA (WSJC/WMFC FIR BDRY)'},\n  'aw88': {'start': 'LENDA (WSJC/WMFC FIR BDRY)',\n   'end': 'MERSING DVOR/DME (VMR)'},\n  'aw90': {'start': 'MELAS (VVTS/WSJC FIR BDRY)', 'end': 'MABLI'},\n  'aw91': {'start': 'MABLI', 'end': 'MUMSO'},\n  'aw92': {'start': 'MUMSO', 'end': 'MABAL'},\n  'aw93': {'start': 'MABAL', 'end': 'KILOT'},\n  'aw94': {'start': 'KILOT', 'end': 'KIBOL WSJC/WMFC FIR BDRY'},\n  'aw95': {'start': 'KIBOL WSJC/WMFC FIR BDRY', 'end': 'PEKLA'},\n  'aw96': {'start': 'PEKLA', 'end': 'MERSING DVOR/DME (VMR)'},\n  'aw98': {'start': 'DOLOX', 'end': 'IDSEL (WMFC/WSJC FIR BDRY)'}},\n 'aircrafts': {'ac1': {'x': -160.01999999999924,\n   'y': 375.12,\n   'dir_x': 0.9975462535539611,\n   'dir_y': 0.0700105136422838,\n   'type': 'super_heavy',\n   'altitude': 360,\n   'x_path': [-160.01999999999924,\n    -95.75999999999937,\n    179.64000000000084,\n    706.8600000000013],\n   'y_path': [375.12, 382.5, 419.58, 435.96000000000004],\n   'timestep': [0, 1, 2, 3]},\n  'ac2': {'x': -205.92000000000098,\n   'y': 680.04,\n   'dir_x': 0.9990176195924823,\n   'dir_y': -0.044314735063749076,\n   'type': 'super_heavy',\n   'altitude': 360,\n   'x_path': [-205.92000000000098,\n    -107.0999999999998,\n    141.8399999999994,\n    316.62000000000006,\n    538.3799999999999,\n    630.0],\n   'y_path': [680.04, 660.6, 654.66, 650.7, 645.48, 642.96],\n   'timestep': [0, 1, 2, 3, 4, 5]},\n  'ac3': {'x': 824.7599999999989,\n   'y': 133.91999999999996,\n   'dir_x': 0.9997939934161074,\n   'dir_y': -0.02029706207982902,\n   'type': 'medium',\n   'altitude': 360,\n   'x_path': [824.7599999999989, 1099.619999999999],\n   'y_path': [133.91999999999996, 128.34000000000003],\n   'timestep': [0, 1]},\n  'ac4': {'x': 939.2400000000007,\n   'y': -578.7,\n   'dir_x': -0.5429361737113132,\n   'dir_y': 0.8397739643950143,\n   'type': 'medium',\n   'altitude': 360,\n   'x_path': [939.2400000000007,\n    346.68000000000035,\n    253.25999999999937,\n    141.8399999999994],\n   'y_path': [-578.7, 259.02, 439.38, 654.66],\n   'timestep': [0, 1, 2, 3]},\n  'ac5': {'x': 68.39999999999918,\n   'y': 34.01999999999998,\n   'dir_x': -0.8078068841855355,\n   'dir_y': 0.5894472307700298,\n   'type': 'heavy',\n   'altitude': 360,\n   'x_path': [68.39999999999918,\n    -36.17999999999881,\n    -162.9000000000002,\n    -228.960000000001,\n    -283.8599999999997],\n   'y_path': [34.01999999999998,\n    110.34000000000003,\n    202.86,\n    250.92000000000007,\n    291.05999999999995],\n   'timestep': [0, 1, 2, 3, 4]},\n  'ac6': {'x': 218.3399999999989,\n   'y': 128.15999999999997,\n   'dir_x': -0.9512092978013595,\n   'dir_y': 0.3085463851291157,\n   'type': 'medium',\n   'altitude': 360,\n   'x_path': [218.3399999999989,\n    47.34000000000094,\n    -43.02000000000078,\n    -156.41999999999996,\n    -211.8600000000012,\n    -283.8599999999997],\n   'y_path': [128.15999999999997,\n    183.60000000000002,\n    212.93999999999994,\n    249.65999999999997,\n    267.65999999999997,\n    291.05999999999995],\n   'timestep': [0, 1, 2, 3, 4, 5]},\n  'ac7': {'x': 325.8000000000004,\n   'y': -360.0,\n   'dir_x': 0.03791823237103137,\n   'dir_y': 0.9992808452351404,\n   'type': 'heavy',\n   'altitude': 360,\n   'x_path': [325.8000000000004,\n    218.3399999999989,\n    243.90000000000072,\n    249.84000000000094,\n    264.5999999999998,\n    278.1000000000003,\n    295.2000000000001,\n    305.27999999999963,\n    316.62000000000006,\n    376.2000000000006],\n   'y_path': [-360.0,\n    128.15999999999997,\n    264.24,\n    296.28,\n    374.4,\n    446.22,\n    537.12,\n    591.12,\n    650.7,\n    968.22],\n   'timestep': [0, 1, 2, 3, 4, 5, 6, 7, 8, 9]},\n  'ac8': {'x': 706.8600000000013,\n   'y': 435.96000000000004,\n   'dir_x': -0.9325777770164226,\n   'dir_y': 0.3609690981442974,\n   'type': 'medium',\n   'altitude': 360,\n   'x_path': [706.8600000000013,\n    512.2800000000007,\n    439.1999999999996,\n    305.27999999999963,\n    141.8399999999994],\n   'y_path': [435.96000000000004, 511.02, 539.46, 591.12, 654.66],\n   'timestep': [0, 1, 2, 3, 4]}},\n 'sectors': {'sector1': {'type': 'secondary',\n   'boundary': [[386.02465222603826, 894.3045658388949],\n    [1047.7087499999996, 1026.3120833333335],\n    [1050.0, 1050.0],\n    [898.9995833333339, 1050.0],\n    [600.0, 1175.0],\n    [474.9995833333337, 1050.0],\n    [415.00041666666687, 1050.0],\n    [293.49958333333245, 1093.9166666666667],\n    [275.5813414167711, 943.8627147460479],\n    [278.96781205352636, 944.7157137124241],\n    [288.66083759105123, 946.1607735224628],\n    [298.44808033342787, 946.6426274200669],\n    [308.2353165654773, 946.1565748244218],\n    [317.92831124189007, 944.7072402839798],\n    [327.4337270938339, 942.3085308407015],\n    [336.66002526074476, 938.9835032754531],\n    [345.5183485183369, 934.7641425344991],\n    [353.92337837859384, 929.691053557577],\n    [361.7941576480313, 923.8130696148297],\n    [369.0548704374344, 917.1867810998298],\n    [375.63557210792237, 909.8759895080681],\n    [381.47286220150676, 901.9510920460494],\n    [386.02465222603826, 894.3045658388949]]},\n  'sector2': {'type': 'secondary',\n   'boundary': [[24.999583333333675, 802.5],\n    [155.19999999999996, 844.9166666666667],\n    [182.62500000000017, 786.7925],\n    [193.19916666666757, 794.375],\n    [194.57458333333335, 780.125],\n    [199.32500000000033, 767.0825],\n    [206.32458333333332, 757.125],\n    [223.92416666666648, 744.5],\n    [241.7004166666672, 740.5825000000001],\n    [258.6995833333326, 742.5425],\n    [270.9707173038545, 749.5503612996656],\n    [269.3670351688269, 749.9557483867775],\n    [260.13913151695294, 753.2856063212112],\n    [251.28051121268982, 757.5096022544097],\n    [242.87650409527473, 762.586953097606],\n    [235.00802797356215, 768.4686617955916],\n    [227.75081014216738, 775.0979948284573],\n    [221.17466085314206, 782.4110337312495],\n    [215.34280556161676, 790.3372949754297],\n    [210.31128207536582, 798.8004119516445],\n    [206.12840801302923, 807.7188722711187],\n    [202.8343232286332, 817.00680316226],\n    [200.460611103059, 826.5747973770141],\n    [199.0300018459763, 836.3307717338616],\n    [198.55616020099376, 846.1808502060446],\n    [199.04355920595123, 856.0302633094419],\n    [200.4874409305515, 865.7842554498409],\n    [202.87386439354194, 875.3489918505063],\n    [206.17984014906412, 884.6324566958011],\n    [210.37355032304603, 893.5453341945838],\n    [215.41465217309295, 902.0018643893535],\n    [221.25466253688586, 909.9206657162571],\n    [227.83741982468442, 917.2255165608572],\n    [235.09961950344476, 923.8460883593831],\n    [242.9714183177488, 929.7186231694592],\n    [251.3771018042533, 934.786549081816],\n    [260.23580899128405, 939.0010273677345],\n    [269.462307546204, 942.3214258566167],\n    [275.5813414167711, 943.8627147460479],\n    [293.49958333333245, 1093.9166666666667],\n    [240.0500000000008, 1093.3333333333333],\n    [172.04916666666676, 1077.1666666666667],\n    [131.25, 1055.0833333333335],\n    [93.00041666666772, 1024.4583333333333],\n    [60.69958333333361, 984.5416666666666],\n    [35.19958333333335, 934.375],\n    [22.449999999999193, 883.4166666666666],\n    [21.574583333332953, 836.6666666666667],\n    [24.999583333333675, 802.5]]},\n  'sector3': {'type': 'secondary',\n   'boundary': [[271.1664034917888, 749.5008947302115],\n    [268.0745833333326, 694.875],\n    [233.49958333333376, 619.1675],\n    [265.24999999999966, 614.25],\n    [261.6250000049995, 582.124999995],\n    [332.4583333349999, 580.54166667],\n    [409.352916666667, 657.2016666666666],\n    [372.4451371599606, 778.814535380927],\n    [369.02330192264543, 775.0177751163219],\n    [361.7565508711962, 768.3949552886395],\n    [353.8793177557785, 762.5210558904187],\n    [345.46752584835616, 757.4527013171523],\n    [336.60227086850654, 753.2387468146452],\n    [327.36903681411536, 749.9198044600188],\n    [317.85686800623836, 747.5278491520892],\n    [308.1575055536057, 746.0859086689898],\n    [298.3644968915876, 745.6078409894913],\n    [288.5722873940118, 746.0982011625215],\n    [278.87530328340586, 747.5521990609727],\n    [271.1664034917888, 749.5008947302115]]},\n  'sector4': {'type': 'secondary',\n   'boundary': [[372.4451371599606, 778.814535380927],\n    [409.352916666667, 657.2016666666666],\n    [426.175833333334, 651.0424999999999],\n    [525.0, 675.0],\n    [852.8250000000007, 611.9175],\n    [1143.5495833333327, 554.9175],\n    [1213.8245833333335, 528.6249999999999],\n    [975.0, 712.5],\n    [975.0, 900.0],\n    [1035.0004166666658, 900.0],\n    [1047.7087499999996, 1026.3120833333335],\n    [386.02465222603826, 894.3045658388949],\n    [386.5104940255293, 893.4884029596075],\n    [390.69991522610223, 884.5694182378306],\n    [394.00073438360437, 875.2800308400081],\n    [396.3811093830685, 865.7097040081153],\n    [397.8180540454907, 855.950610568776],\n    [398.2976602470856, 846.0967463994286],\n    [398.2976602470856, 846.096746399428],\n    [397.81523349887846, 836.2430264367715],\n    [396.37534070752804, 826.484371744347],\n    [393.99176959031905, 816.9147962322915],\n    [390.6873999743425, 807.6265016367026],\n    [386.4939879733967, 798.7089893181012],\n    [381.4518648071704, 790.2481973263183],\n    [375.6095528054274, 782.325670999729],\n    [372.4451371599606, 778.814535380927]]},\n  'sector5': {'type': 'secondary',\n   'boundary': [[685.6245833333339, 464.3325],\n    [1079.950416666666, -104.95749999999998],\n    [1800.0, -525.0],\n    [2175.0, -212.5],\n    [1213.8245833333335, 528.6249999999999],\n    [1143.5495833333327, 554.9175],\n    [852.8250000000007, 611.9175],\n    [738.9245833333341, 515.7925],\n    [685.6245833333339, 464.3325]]},\n  'sector6': {'type': 'primary',\n   'boundary': [[631.9495833333342, 406.79249999999996],\n    [685.6245833333339, 464.3325],\n    [738.9245833333341, 515.7925],\n    [852.8250000000007, 611.9175],\n    [525.0, 675.0],\n    [426.175833333334, 651.0424999999999],\n    [409.352916666667, 657.2016666666666],\n    [332.4583333349999, 580.54166667],\n    [349.4999999999998, 508.249999995],\n    [569.2500000000002, 438.62500000049994],\n    [631.9495833333342, 406.79249999999996]]},\n  'sector7': {'type': 'secondary',\n   'boundary': [[261.6250000049995, 582.124999995],\n    [259.99958333333313, 325.0],\n    [336.7504166666677, 319.0425],\n    [506.94916666666575, 328.2925],\n    [631.9495833333342, 406.79249999999996],\n    [569.2500000000002, 438.62500000049994],\n    [349.4999999999998, 508.249999995],\n    [332.4583333349999, 580.54166667],\n    [261.6250000049995, 582.124999995]]},\n  'sector8': {'type': 'secondary',\n   'boundary': [[685.6245833333339, 464.3325],\n    [631.9495833333342, 406.79249999999996],\n    [506.94916666666575, 328.2925],\n    [336.7504166666677, 319.0425],\n    [259.99958333333313, 325.0],\n    [99.99958333333367, 37.5],\n    [150.0, 0.0],\n    [900.0, 0.0],\n    [1079.950416666666, -104.95749999999998],\n    [685.6245833333339, 464.3325]]}}}"
     },
     "metadata": {},
     "execution_count": 27
    }
   ],
   "source": [
    "datadata_dict"
   ]
  },
  {
   "cell_type": "code",
   "execution_count": 29,
   "metadata": {},
   "outputs": [
    {
     "output_type": "execute_result",
     "data": {
      "text/plain": "WindowsPath('e:/ATMRI/CD_R/ATCO_preferences_interface/Scenario_interface_work/python-code')"
     },
     "metadata": {},
     "execution_count": 29
    }
   ],
   "source": [
    "Path.cwd()"
   ]
  },
  {
   "cell_type": "code",
   "execution_count": 31,
   "metadata": {},
   "outputs": [],
   "source": [
    "datalist=[]\n",
    "datalist.append(data_dict)\n",
    "import json\n",
    "with open('scenario_data/28July_FlightPlanTest.json', 'w') as json_file:\n",
    "    json.dump(datalist, json_file)"
   ]
  },
  {
   "cell_type": "code",
   "execution_count": null,
   "metadata": {},
   "outputs": [],
   "source": []
  }
 ]
}