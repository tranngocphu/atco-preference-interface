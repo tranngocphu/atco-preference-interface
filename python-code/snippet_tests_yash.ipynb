{
 "cells": [
  {
   "cell_type": "code",
   "execution_count": 1,
   "metadata": {},
   "outputs": [],
   "source": [
    "import numpy as np \n",
    "import pandas as pd \n",
    "from classLib_yash_Copy1 import *\n",
    "import random\n",
    "\n",
    "import matplotlib.pyplot as plt"
   ]
  },
  {
   "cell_type": "code",
   "execution_count": 2,
   "metadata": {},
   "outputs": [
    {
     "name": "stdout",
     "output_type": "stream",
     "text": [
      "length of random points: 1000\n",
      "no of waypoints: 18\n",
      "[[0.9638 0.7005]\n",
      " [0.7234 0.0248]\n",
      " [0.085  0.039 ]\n",
      " [0.3994 0.2679]\n",
      " [0.5229 0.074 ]\n",
      " [0.4136 0.7284]\n",
      " [0.1553 0.4205]\n",
      " [0.8899 0.5693]\n",
      " [0.6347 0.6904]\n",
      " [0.5297 0.8988]\n",
      " [0.115  0.6662]\n",
      " [0.7481 0.3167]\n",
      " [0.08   0.2747]\n",
      " [0.9884 0.1893]\n",
      " [0.5719 0.4321]]\n",
      "15\n",
      "^^^\n",
      "\n"
     ]
    }
   ],
   "source": [
    "\n",
    "randompoints= [] # generating random point between 0 and 1\n",
    "for i in range(1000): \n",
    "    a=[np.round(random.random(),4), np.round(random.random(),4)]\n",
    "    randompoints.append(a)\n",
    "print('length of random points:',len(randompoints))\n",
    "allWaypoint = [] #here selecting the points which have a distance of more than 0.2 from every other (no justification as to why 0.2)\n",
    "for j in range(len(randompoints)):\n",
    "    a=[]\n",
    "    for k in range(j+1,len(randompoints)):\n",
    "        s=np.linalg.norm(np.array(randompoints[j])-np.array(randompoints[k])) # not efficient way to claculate distance of one point from all others\n",
    "        a.append(s)\n",
    "    if all(i>0.15 for i in a):\n",
    "        allWaypoint.append(randompoints[j])\n",
    "print('no of waypoints:', len(allWaypoint))\n",
    "waypointList = allWaypoint[:15] #need 15 waypoints\n",
    "\n",
    "waypointList=np.round(waypointList,4)\n",
    "print(waypointList)\n",
    "print(len(waypointList))\n",
    "print(\"^^^\")\n",
    "print()"
   ]
  },
  {
   "cell_type": "code",
   "execution_count": 3,
   "metadata": {},
   "outputs": [],
   "source": [
    "wpN = ['wpA','wpB','wpC','wpD','wpE','wpF','wpG','wpH','wpI', 'wpJ','wpK','wpL','wpM', 'wpN','wpO','wpP']\n",
    "wpNameList=wpN[:len(waypointList)]\n",
    "#print(wpNames)\n",
    "wps =[]\n",
    "for i in range(len(waypointList)):\n",
    "    wps.append(WayPoint(wpNameList[i],waypointList[i])) #list containing waypoint class elements\n",
    "# print(\"****\")\n",
    "# print(wps[0].name)\n"
   ]
  },
  {
   "cell_type": "code",
   "execution_count": 4,
   "metadata": {},
   "outputs": [
    {
     "name": "stdout",
     "output_type": "stream",
     "text": [
      "waypoint class:wpB  x co-ord: 0.7234  y co-ord: 0.0248\n"
     ]
    }
   ],
   "source": [
    "print(wps[1])"
   ]
  },
  {
   "cell_type": "code",
   "execution_count": 5,
   "metadata": {},
   "outputs": [
    {
     "name": "stdout",
     "output_type": "stream",
     "text": [
      "[['wpA', array([0.9638, 0.7005])], ['wpB', array([0.7234, 0.0248])], ['wpC', array([0.085, 0.039])], ['wpD', array([0.3994, 0.2679])], ['wpE', array([0.5229, 0.074 ])], ['wpF', array([0.4136, 0.7284])], ['wpG', array([0.1553, 0.4205])], ['wpH', array([0.8899, 0.5693])], ['wpI', array([0.6347, 0.6904])], ['wpJ', array([0.5297, 0.8988])], ['wpK', array([0.115 , 0.6662])], ['wpL', array([0.7481, 0.3167])], ['wpM', array([0.08  , 0.2747])], ['wpN', array([0.9884, 0.1893])], ['wpO', array([0.5719, 0.4321])]]\n"
     ]
    }
   ],
   "source": [
    "##################################    AIRWAYS  #####################################################\n",
    "# Here, airway is a subclass of wayPoint class and every \n",
    "wayPointInfo=[]\n",
    "for i in range(len(wpNameList)):\n",
    "    wayPointInfo.append([wpNameList[i],waypointList[i]])\n",
    "print(wayPointInfo)\n",
    "airwayNames=np.arange(len(wpNameList))\n",
    "airwayList=[]\n",
    "sampled_airways=[]\n",
    "for i in range(8): #no of airways chosen 8 at random\n",
    "    points = random.sample(wayPointInfo,2)\n",
    "    airwayList.append(Airways(airwayNames[i],points))\n",
    "    sampled_airways.append(points)\n",
    "        "
   ]
  },
  {
   "cell_type": "code",
   "execution_count": 6,
   "metadata": {},
   "outputs": [
    {
     "data": {
      "text/plain": [
       "('wpI', 0.6347)"
      ]
     },
     "execution_count": 6,
     "metadata": {},
     "output_type": "execute_result"
    }
   ],
   "source": [
    "airwayList[0].start_wp, airwayList[0].start_wp_x"
   ]
  },
  {
   "cell_type": "code",
   "execution_count": 7,
   "metadata": {},
   "outputs": [
    {
     "name": "stdout",
     "output_type": "stream",
     "text": [
      "waypoint class:wpA  x co-ord: 0.9638  y co-ord: 0.7005\n",
      "waypoint class:wpB  x co-ord: 0.7234  y co-ord: 0.0248\n",
      "waypoint class:wpC  x co-ord: 0.085  y co-ord: 0.039\n",
      "waypoint class:wpD  x co-ord: 0.3994  y co-ord: 0.2679\n",
      "waypoint class:wpE  x co-ord: 0.5229  y co-ord: 0.074\n",
      "waypoint class:wpF  x co-ord: 0.4136  y co-ord: 0.7284\n",
      "waypoint class:wpG  x co-ord: 0.1553  y co-ord: 0.4205\n",
      "waypoint class:wpH  x co-ord: 0.8899  y co-ord: 0.5693\n",
      "waypoint class:wpI  x co-ord: 0.6347  y co-ord: 0.6904\n",
      "waypoint class:wpJ  x co-ord: 0.5297  y co-ord: 0.8988\n",
      "waypoint class:wpK  x co-ord: 0.115  y co-ord: 0.6662\n",
      "waypoint class:wpL  x co-ord: 0.7481  y co-ord: 0.3167\n",
      "waypoint class:wpM  x co-ord: 0.08  y co-ord: 0.2747\n",
      "waypoint class:wpN  x co-ord: 0.9884  y co-ord: 0.1893\n",
      "waypoint class:wpO  x co-ord: 0.5719  y co-ord: 0.4321\n"
     ]
    }
   ],
   "source": [
    "for i in range(len(wps)):\n",
    "    print(wps[i])"
   ]
  },
  {
   "cell_type": "code",
   "execution_count": 8,
   "metadata": {},
   "outputs": [
    {
     "name": "stdout",
     "output_type": "stream",
     "text": [
      "wpIstart coords0.63470.6904wpH\n",
      "wpFstart coords0.41360.7284wpA\n",
      "wpJstart coords0.52970.8988wpA\n",
      "wpAstart coords0.96380.7005wpO\n",
      "wpBstart coords0.72340.0248wpO\n",
      "wpHstart coords0.88990.5693wpM\n",
      "wpDstart coords0.39940.2679wpO\n",
      "wpGstart coords0.15530.4205wpC\n"
     ]
    }
   ],
   "source": [
    "for i in range(len(airwayList)):\n",
    "    print(airwayList[i])"
   ]
  },
  {
   "cell_type": "code",
   "execution_count": 9,
   "metadata": {},
   "outputs": [
    {
     "data": {
      "text/plain": [
       "[0.6347, 0.6904]"
      ]
     },
     "execution_count": 9,
     "metadata": {},
     "output_type": "execute_result"
    }
   ],
   "source": [
    "a = [airwayList[0].start_wp_x,airwayList[0].start_wp_y]\n",
    "a"
   ]
  },
  {
   "cell_type": "code",
   "execution_count": 10,
   "metadata": {},
   "outputs": [
    {
     "data": {
      "text/plain": [
       "([0.8899, 0.5693], 'wpH')"
      ]
     },
     "execution_count": 10,
     "metadata": {},
     "output_type": "execute_result"
    }
   ],
   "source": [
    "b=[airwayList[0].end_wp_x, airwayList[0].end_wp_y]\n",
    "b,airwayList[0].end_wp"
   ]
  },
  {
   "cell_type": "code",
   "execution_count": 11,
   "metadata": {},
   "outputs": [],
   "source": [
    "ac_per_scenario =8  # just a random number to have no of aircraft in one scenario\n",
    "aircraftList=[]\n",
    "aircraft_name=np.arange(ac_per_scenario)\n",
    "for i in range(ac_per_scenario):\n",
    "    aircraft= Aircraft(aircraft_name[i],random.choice(sampled_airways))\n",
    "    aircraftList.append(aircraft)"
   ]
  },
  {
   "cell_type": "code",
   "execution_count": 12,
   "metadata": {},
   "outputs": [],
   "source": [
    "names=[]\n",
    "x =[]\n",
    "y=[]\n",
    "\n",
    "for i in range(len(wps)):\n",
    "    names.append(wps[i].name)\n",
    "    x.append(wps[i].x)\n",
    "    y.append(wps[i].y)\n",
    "air_x=[]\n",
    "air_y=[]\n",
    "for i in range(len(airwayList)):\n",
    "    a=[airwayList[i].start_wp_x,airwayList[i].start_wp_y]\n",
    "    b=[airwayList[i].end_wp_x,airwayList[i].end_wp_y]"
   ]
  },
  {
   "cell_type": "code",
   "execution_count": 15,
   "metadata": {},
   "outputs": [
    {
     "name": "stdout",
     "output_type": "stream",
     "text": [
      "0.9638 0.7005\n",
      "0.7234 0.0248\n",
      "0.085 0.039\n",
      "0.3994 0.2679\n",
      "0.5229 0.074\n",
      "0.4136 0.7284\n",
      "0.1553 0.4205\n",
      "0.8899 0.5693\n",
      "0.6347 0.6904\n",
      "0.5297 0.8988\n",
      "0.115 0.6662\n",
      "0.7481 0.3167\n",
      "0.08 0.2747\n",
      "0.9884 0.1893\n",
      "0.5719 0.4321\n",
      "[0.6347, 0.6904] [0.8899, 0.5693]\n",
      "[0.4136, 0.7284] [0.9638, 0.7005]\n",
      "[0.5297, 0.8988] [0.9638, 0.7005]\n",
      "[0.9638, 0.7005] [0.5719, 0.4321]\n",
      "[0.7234, 0.0248] [0.5719, 0.4321]\n",
      "[0.8899, 0.5693] [0.08, 0.2747]\n",
      "[0.3994, 0.2679] [0.5719, 0.4321]\n",
      "[0.1553, 0.4205] [0.085, 0.039]\n"
     ]
    },
    {
     "data": {
      "image/png": "[encoded data removed]",
      "text/plain": [
       "<Figure size 1080x1080 with 1 Axes>"
      ]
     },
     "metadata": {
      "needs_background": "light"
     },
     "output_type": "display_data"
    }
   ],
   "source": [
    "fig,ax=plt.subplots(1,1,figsize=(15,15))\n",
    "plt.scatter(x,y)\n",
    "for i,n in enumerate(names):\n",
    "    plt.annotate(n, (x[i],y[i]))\n",
    "    print(x[i],y[i])\n",
    "for i in range(len(airwayList)):\n",
    "    a=[airwayList[i].start_wp_x,airwayList[i].start_wp_y]\n",
    "    b=[airwayList[i].end_wp_x,airwayList[i].end_wp_y]\n",
    "    print(a,b)\n",
    "    plt.plot(a,b)"
   ]
  },
  {
   "cell_type": "code",
   "execution_count": 16,
   "metadata": {
    "scrolled": true
   },
   "outputs": [
    {
     "data": {
      "text/plain": [
       "[<matplotlib.lines.Line2D at 0x22dd5646748>]"
      ]
     },
     "execution_count": 16,
     "metadata": {},
     "output_type": "execute_result"
    },
    {
     "data": {
      "image/png": "[encoded data removed]",
      "text/plain": [
       "<Figure size 432x288 with 1 Axes>"
      ]
     },
     "metadata": {
      "needs_background": "light"
     },
     "output_type": "display_data"
    }
   ],
   "source": [
    "c=[0.6347, 0.6904]\n",
    "d=[0.8899, 0.5693]\n",
    "plt.plot(c,d)"
   ]
  },
  {
   "cell_type": "code",
   "execution_count": null,
   "metadata": {},
   "outputs": [],
   "source": [
    "[airway_list[0].start_wp_x,airway_list[0].start_wp_y],airway_list[0].start_wp"
   ]
  },
  {
   "cell_type": "code",
   "execution_count": null,
   "metadata": {},
   "outputs": [],
   "source": [
    "airway_list[0].end_wp_x,airway_list[0].end_wp_y,airway_list[0].end_wp"
   ]
  },
  {
   "cell_type": "code",
   "execution_count": null,
   "metadata": {},
   "outputs": [],
   "source": []
  }
 ],
 "metadata": {
  "kernelspec": {
   "display_name": "Python 3",
   "language": "python",
   "name": "python3"
  },
  "language_info": {
   "codemirror_mode": {
    "name": "ipython",
    "version": 3
   },
   "file_extension": ".py",
   "mimetype": "text/x-python",
   "name": "python",
   "nbconvert_exporter": "python",
   "pygments_lexer": "ipython3",
   "version": "3.7.6"
  }
 },
 "nbformat": 4,
 "nbformat_minor": 4
}