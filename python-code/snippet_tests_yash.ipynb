{
 "cells": [
  {
   "cell_type": "code",
   "execution_count": 1,
   "metadata": {},
   "outputs": [],
   "source": [
    "import numpy as np \n",
    "import pandas as pd \n",
    "from classLib_yash_Copy1 import *\n",
    "import random\n",
    "\n",
    "import matplotlib.pyplot as plt"
   ]
  },
  {
   "cell_type": "code",
   "execution_count": 2,
   "metadata": {},
   "outputs": [
    {
     "name": "stdout",
     "output_type": "stream",
     "text": [
      "length of random points: 1000\n",
      "no of waypoints: 17\n",
      "[[0.4409704367374141, 0.743470278872396], [0.8988080506395714, 0.009856292469634043], [0.6396667987396915, 0.5249439228225918], [0.9687685103823821, 0.9480500927449416], [0.20032683095627357, 0.060639431189973614], [0.6127138906653409, 0.2035470449457678], [0.13723601177958156, 0.7331534244849963], [0.0050501187392230085, 0.3749657920711632], [0.36442868533494976, 0.5628705743113397], [0.1313880636278174, 0.8833980880761269], [0.8067380716723825, 0.6695186576402515], [0.8524040396500994, 0.5134969507571927], [0.3761462420861269, 0.06215483408811229], [0.40741399898403063, 0.9081678937055795], [0.21043009067922203, 0.27328777593471587]]\n",
      "15\n",
      "^^^\n",
      "\n"
     ]
    }
   ],
   "source": [
    "\n",
    "randompoints= [] # generating random point between 0 and 1\n",
    "for i in range(1000): \n",
    "    a=[random.random(), random.random()]\n",
    "    randompoints.append(a)\n",
    "print('length of random points:',len(randompoints))\n",
    "allWaypoint = [] #here selecting the points which have a distance of more than 0.2 from every other (no justification as to why 0.2)\n",
    "for j in range(len(randompoints)):\n",
    "    a=[]\n",
    "    for k in range(j+1,len(randompoints)):\n",
    "        s=np.linalg.norm(np.array(randompoints[j])-np.array(randompoints[k])) # not efficient way to claculate distance of one point from all others\n",
    "        a.append(s)\n",
    "    if all(i>0.15 for i in a):\n",
    "        allWaypoint.append(randompoints[j])\n",
    "print('no of waypoints:', len(allWaypoint))\n",
    "waypointList = allWaypoint[:15] #need 15 waypoints\n",
    "print(waypointList)\n",
    "print(len(waypointList))\n",
    "print(\"^^^\")\n",
    "print()"
   ]
  },
  {
   "cell_type": "code",
   "execution_count": 3,
   "metadata": {},
   "outputs": [],
   "source": [
    "wpN = ['wpA','wpB','wpC','wpD','wpE','wpF','wpG','wpH','wpI', 'wpJ','wpK','wpL','wpM', 'wpN','wpO','wpP']\n",
    "wpNameList=wpN[:len(waypointList)]\n",
    "#print(wpNames)\n",
    "wps =[]\n",
    "for i in range(len(waypointList)):\n",
    "    wps.append(WayPoint(wpNameList[i],waypointList[i])) #list containing waypoint class elements\n",
    "# print(\"****\")\n",
    "# print(wps[0].name)\n"
   ]
  },
  {
   "cell_type": "code",
   "execution_count": 4,
   "metadata": {},
   "outputs": [],
   "source": [
    "##################################    AIRWAYS  #####################################################\n",
    "# Here, airway is a subclass of wayPoint class and every \n",
    "wayPointInfo=[]\n",
    "for i in range(len(wpNameList)):\n",
    "    wayPointInfo.append([wpNameList[i],waypointList[i]])\n",
    "\n",
    "airwayNames=np.arange(len(wpNameList))\n",
    "airway_list=[]\n",
    "for i in range(len(waypointList)-2):\n",
    "    airway_list.append(Airways(airwayNames[i],random.sample(wayPointInfo,2)))"
   ]
  },
  {
   "cell_type": "code",
   "execution_count": 5,
   "metadata": {},
   "outputs": [
    {
     "data": {
      "text/plain": [
       "<classLib_yash_Copy1.Airways at 0x169293b93c8>"
      ]
     },
     "execution_count": 5,
     "metadata": {},
     "output_type": "execute_result"
    }
   ],
   "source": [
    "airway_list[0]"
   ]
  },
  {
   "cell_type": "code",
   "execution_count": 6,
   "metadata": {},
   "outputs": [
    {
     "data": {
      "text/plain": [
       "array([0.96876851, 0.94805009])"
      ]
     },
     "execution_count": 6,
     "metadata": {},
     "output_type": "execute_result"
    }
   ],
   "source": [
    "airway_list[0].airwayStartLoc()"
   ]
  },
  {
   "cell_type": "code",
   "execution_count": 7,
   "metadata": {},
   "outputs": [
    {
     "data": {
      "text/plain": [
       "array([0.44097044, 0.74347028])"
      ]
     },
     "execution_count": 7,
     "metadata": {},
     "output_type": "execute_result"
    }
   ],
   "source": [
    "airway_list[0].airwayEndLoc()"
   ]
  },
  {
   "cell_type": "code",
   "execution_count": 8,
   "metadata": {},
   "outputs": [
    {
     "data": {
      "text/plain": [
       "(-0.07270508825328967, 0.07520421111415132)"
      ]
     },
     "execution_count": 8,
     "metadata": {},
     "output_type": "execute_result"
    }
   ],
   "source": [
    "airway_list[2].airwayCoefficient()"
   ]
  },
  {
   "cell_type": "code",
   "execution_count": 15,
   "metadata": {},
   "outputs": [
    {
     "data": {
      "text/plain": [
       "[[0.81, 0.6583739989821144]]"
      ]
     },
     "execution_count": 15,
     "metadata": {},
     "output_type": "execute_result"
    }
   ],
   "source": [
    "airway_list[5].location()"
   ]
  },
  {
   "cell_type": "code",
   "execution_count": 25,
   "metadata": {},
   "outputs": [
    {
     "data": {
      "text/plain": [
       "[0.9687685103823821, 0.9480500927449416]"
      ]
     },
     "execution_count": 25,
     "metadata": {},
     "output_type": "execute_result"
    }
   ],
   "source": [
    "a = [airway_list[0].start_wp_x,airway_list[0].start_wp_y]\n",
    "a"
   ]
  },
  {
   "cell_type": "code",
   "execution_count": 26,
   "metadata": {},
   "outputs": [
    {
     "data": {
      "text/plain": [
       "[0.4409704367374141, 0.743470278872396]"
      ]
     },
     "execution_count": 26,
     "metadata": {},
     "output_type": "execute_result"
    }
   ],
   "source": [
    "b=[airway_list[0].end_wp_x, airway_list[0].end_wp_y]\n",
    "b"
   ]
  },
  {
   "cell_type": "code",
   "execution_count": 27,
   "metadata": {},
   "outputs": [
    {
     "data": {
      "text/plain": [
       "<matplotlib.collections.PathCollection at 0x1692b2d8648>"
      ]
     },
     "execution_count": 27,
     "metadata": {},
     "output_type": "execute_result"
    },
    {
     "data": {
      "image/png": "[encoded data removed]",
      "text/plain": [
       "<Figure size 432x288 with 1 Axes>"
      ]
     },
     "metadata": {
      "needs_background": "light"
     },
     "output_type": "display_data"
    }
   ],
   "source": [
    "plt.scatter(a,b)"
   ]
  },
  {
   "cell_type": "code",
   "execution_count": 29,
   "metadata": {},
   "outputs": [
    {
     "data": {
      "text/plain": [
       "array([], dtype=float64)"
      ]
     },
     "execution_count": 29,
     "metadata": {},
     "output_type": "execute_result"
    }
   ],
   "source": [
    "np.arange(a[0],b[0],0.5)"
   ]
  }
 ],
 "metadata": {
  "kernelspec": {
   "display_name": "Python 3",
   "language": "python",
   "name": "python3"
  },
  "language_info": {
   "codemirror_mode": {
    "name": "ipython",
    "version": 3
   },
   "file_extension": ".py",
   "mimetype": "text/x-python",
   "name": "python",
   "nbconvert_exporter": "python",
   "pygments_lexer": "ipython3",
   "version": "3.7.6"
  }
 },
 "nbformat": 4,
 "nbformat_minor": 4
}
