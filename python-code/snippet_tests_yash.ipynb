{
 "cells": [
  {
   "cell_type": "code",
   "execution_count": 1,
   "metadata": {},
   "outputs": [],
   "source": [
    "import numpy as np \n",
    "import pandas as pd \n",
    "from classLib_yash_Copy1 import *\n",
    "import random\n",
    "\n",
    "import matplotlib.pyplot as plt"
   ]
  },
  {
   "cell_type": "code",
   "execution_count": 2,
   "metadata": {},
   "outputs": [
    {
     "name": "stdout",
     "output_type": "stream",
     "text": [
      "length of random points: 1000\n",
      "no of waypoints: 15\n",
      "[[0.06429582101818987, 0.07058420344222072], [0.23439232341098548, 0.5366464238681461], [0.1877400120834718, 0.23491562437652236], [0.7042290480880952, 0.2667800508669944], [0.12594112062706897, 0.7441517257372894], [0.36663777041048096, 0.34467246466714774], [0.08019731389775864, 0.9277881015399457], [0.0401517540869325, 0.3745882339951112], [0.4332287668184125, 0.9561718500583005], [0.7692060985286294, 0.5196947308216713], [0.8883176590213769, 0.16076530694231395], [0.5728065750562052, 0.10293245765484893], [0.5574961949807377, 0.6536578734000826], [0.7695653041325503, 0.8681867380871946], [0.9002101648179719, 0.6456961243992708]]\n",
      "15\n",
      "^^^\n",
      "\n"
     ]
    }
   ],
   "source": [
    "\n",
    "randompoints= [] # generating random point between 0 and 1\n",
    "for i in range(1000): \n",
    "    a=[random.random(), random.random()]\n",
    "    randompoints.append(a)\n",
    "print('length of random points:',len(randompoints))\n",
    "allWaypoint = [] #here selecting the points which have a distance of more than 0.2 from every other (no justification as to why 0.2)\n",
    "for j in range(len(randompoints)):\n",
    "    a=[]\n",
    "    for k in range(j+1,len(randompoints)):\n",
    "        s=np.linalg.norm(np.array(randompoints[j])-np.array(randompoints[k])) # not efficient way to claculate distance of one point from all others\n",
    "        a.append(s)\n",
    "    if all(i>0.15 for i in a):\n",
    "        allWaypoint.append(randompoints[j])\n",
    "print('no of waypoints:', len(allWaypoint))\n",
    "waypointList = allWaypoint[:15] #need 15 waypoints\n",
    "print(waypointList)\n",
    "print(len(waypointList))\n",
    "print(\"^^^\")\n",
    "print()"
   ]
  },
  {
   "cell_type": "code",
   "execution_count": 3,
   "metadata": {},
   "outputs": [],
   "source": [
    "wpN = ['wpA','wpB','wpC','wpD','wpE','wpF','wpG','wpH','wpI', 'wpJ','wpK','wpL','wpM', 'wpN','wpO','wpP']\n",
    "wpNameList=wpN[:len(waypointList)]\n",
    "#print(wpNames)\n",
    "wps =[]\n",
    "for i in range(len(waypointList)):\n",
    "    wps.append(WayPoint(wpNameList[i],waypointList[i])) #list containing waypoint class elements\n",
    "# print(\"****\")\n",
    "# print(wps[0].name)\n"
   ]
  },
  {
   "cell_type": "code",
   "execution_count": 4,
   "metadata": {},
   "outputs": [],
   "source": [
    "##################################    AIRWAYS  #####################################################\n",
    "# Here, airway is a subclass of wayPoint class and every \n",
    "wayPointInfo=[]\n",
    "for i in range(len(wpNameList)):\n",
    "    wayPointInfo.append([wpNameList[i],waypointList[i]])\n",
    "\n",
    "airwayNames=np.arange(len(wpNameList))\n",
    "airway_list=[]\n",
    "for i in range(len(waypointList)-2):\n",
    "    airway_list.append(Airways(airwayNames[i],random.sample(wayPointInfo,2)))"
   ]
  },
  {
   "cell_type": "code",
   "execution_count": 5,
   "metadata": {},
   "outputs": [
    {
     "data": {
      "text/plain": [
       "<classLib_yash_Copy1.Airways at 0x2d1757bbd08>"
      ]
     },
     "execution_count": 5,
     "metadata": {},
     "output_type": "execute_result"
    }
   ],
   "source": [
    "airway_list[0]"
   ]
  },
  {
   "cell_type": "code",
   "execution_count": 6,
   "metadata": {},
   "outputs": [
    {
     "data": {
      "text/plain": [
       "array([0.12594112, 0.74415173])"
      ]
     },
     "execution_count": 6,
     "metadata": {},
     "output_type": "execute_result"
    }
   ],
   "source": [
    "airway_list[0].airwayStartLoc()"
   ]
  },
  {
   "cell_type": "code",
   "execution_count": 7,
   "metadata": {},
   "outputs": [
    {
     "data": {
      "text/plain": [
       "array([0.18774001, 0.23491562])"
      ]
     },
     "execution_count": 7,
     "metadata": {},
     "output_type": "execute_result"
    }
   ],
   "source": [
    "airway_list[0].airwayEndLoc()"
   ]
  },
  {
   "cell_type": "code",
   "execution_count": 8,
   "metadata": {},
   "outputs": [
    {
     "data": {
      "text/plain": [
       "(1.9334315461348313, -1.0947986064110318)"
      ]
     },
     "execution_count": 8,
     "metadata": {},
     "output_type": "execute_result"
    }
   ],
   "source": [
    "airway_list[2].airwayCoefficient()"
   ]
  },
  {
   "cell_type": "code",
   "execution_count": 9,
   "metadata": {},
   "outputs": [
    {
     "data": {
      "text/plain": [
       "[[0.13, 0.74],\n",
       " [0.18, 0.74],\n",
       " [0.24, 0.73],\n",
       " [0.29, 0.72],\n",
       " [0.35, 0.72],\n",
       " [0.4, 0.71],\n",
       " [0.46, 0.7],\n",
       " [0.51, 0.7],\n",
       " [0.57, 0.69],\n",
       " [0.62, 0.68],\n",
       " [0.68, 0.67],\n",
       " [0.73, 0.67],\n",
       " [0.79, 0.66],\n",
       " [0.84, 0.65],\n",
       " [0.9, 0.65]]"
      ]
     },
     "execution_count": 9,
     "metadata": {},
     "output_type": "execute_result"
    }
   ],
   "source": [
    "airway_list[1].location()"
   ]
  },
  {
   "cell_type": "code",
   "execution_count": 10,
   "metadata": {},
   "outputs": [
    {
     "data": {
      "text/plain": [
       "[0.12594112062706897, 0.7441517257372894]"
      ]
     },
     "execution_count": 10,
     "metadata": {},
     "output_type": "execute_result"
    }
   ],
   "source": [
    "a = [airway_list[0].start_wp_x,airway_list[0].start_wp_y]\n",
    "a"
   ]
  },
  {
   "cell_type": "code",
   "execution_count": 11,
   "metadata": {},
   "outputs": [
    {
     "data": {
      "text/plain": [
       "[0.1877400120834718, 0.23491562437652236]"
      ]
     },
     "execution_count": 11,
     "metadata": {},
     "output_type": "execute_result"
    }
   ],
   "source": [
    "b=[airway_list[0].end_wp_x, airway_list[0].end_wp_y]\n",
    "b"
   ]
  },
  {
   "cell_type": "code",
   "execution_count": 12,
   "metadata": {},
   "outputs": [
    {
     "data": {
      "text/plain": [
       "<matplotlib.collections.PathCollection at 0x2d175eb7c48>"
      ]
     },
     "execution_count": 12,
     "metadata": {},
     "output_type": "execute_result"
    },
    {
     "data": {
      "image/png": "[encoded data removed]",
      "text/plain": [
       "<Figure size 432x288 with 1 Axes>"
      ]
     },
     "metadata": {
      "needs_background": "light"
     },
     "output_type": "display_data"
    }
   ],
   "source": [
    "plt.scatter(a,b)"
   ]
  },
  {
   "cell_type": "code",
   "execution_count": 13,
   "metadata": {},
   "outputs": [
    {
     "data": {
      "text/plain": [
       "array([0.12594112])"
      ]
     },
     "execution_count": 13,
     "metadata": {},
     "output_type": "execute_result"
    }
   ],
   "source": [
    "np.arange(a[0],b[0],0.5)"
   ]
  },
  {
   "cell_type": "code",
   "execution_count": 14,
   "metadata": {},
   "outputs": [
    {
     "data": {
      "text/plain": [
       "array([0.12594112, 0.13280766, 0.13967421, 0.14654075, 0.15340729,\n",
       "       0.16027384, 0.16714038, 0.17400693, 0.18087347, 0.18774001])"
      ]
     },
     "execution_count": 14,
     "metadata": {},
     "output_type": "execute_result"
    }
   ],
   "source": [
    "np.linspace(a[0],b[0],10)"
   ]
  },
  {
   "cell_type": "code",
   "execution_count": null,
   "metadata": {},
   "outputs": [],
   "source": []
  }
 ],
 "metadata": {
  "kernelspec": {
   "display_name": "Python 3",
   "language": "python",
   "name": "python3"
  },
  "language_info": {
   "codemirror_mode": {
    "name": "ipython",
    "version": 3
   },
   "file_extension": ".py",
   "mimetype": "text/x-python",
   "name": "python",
   "nbconvert_exporter": "python",
   "pygments_lexer": "ipython3",
   "version": "3.7.6"
  }
 },
 "nbformat": 4,
 "nbformat_minor": 4
}
