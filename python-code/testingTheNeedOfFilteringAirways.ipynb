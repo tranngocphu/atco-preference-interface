{
 "cells": [
  {
   "cell_type": "code",
   "execution_count": 1,
   "metadata": {},
   "outputs": [],
   "source": [
    "import pandas as pd\n",
    "import numpy as np\n",
    "from pathlib import Path\n",
    "import numpy as np\n",
    "from classLib_yash_Copy1 import *\n",
    "from shapely.geometry import Polygon, Point\n",
    "from shapely.ops import transform\n",
    "from functools import partial\n",
    "import pyproj"
   ]
  },
  {
   "cell_type": "code",
   "execution_count": 2,
   "metadata": {},
   "outputs": [
    {
     "output_type": "execute_result",
     "data": {
      "text/plain": "WindowsPath('e:/ATMRI/CD_R/ATCO_preferences_interface/Scenario_interface_work/python-code')"
     },
     "metadata": {},
     "execution_count": 2
    }
   ],
   "source": [
    "Path.cwd()"
   ]
  },
  {
   "cell_type": "code",
   "execution_count": 7,
   "metadata": {},
   "outputs": [
    {
     "output_type": "execute_result",
     "data": {
      "text/plain": "(   name                                           segments\n 0  A224  [{'name': 'JOHOR BAHRU DVOR/DME (VJB)', 'lat':...\n 1  A457  [{'name': 'JOHOR BAHRU DVOR/DME (VJB)', 'lat':...\n 2  A464  [{'name': 'ARAMA (50 DME SJ)(Delegated airspac...,\n 62)"
     },
     "metadata": {},
     "execution_count": 7
    }
   ],
   "source": [
    "os.chdir('e:/ATMRI/CD_R/ATCO_preferences_interface/Scenario_interface_work')\n",
    "airway = pd.read_json('airways.json')\n",
    "airway.head(3),len(airways)"
   ]
  },
  {
   "cell_type": "code",
   "execution_count": 9,
   "metadata": {},
   "outputs": [],
   "source": [
    "def filter_airways(x1,y1,x2,y2,x3,y3,x4,y4,airway):\n",
    "    filtered_airways = pd.DataFrame()\n",
    "\n",
    "    boundary_coordinates = ([x1,y1],[x2,y2],[x3,y3],[x4,y4])\n",
    "\n",
    "    poly = Polygon(boundary_coordinates)\n",
    "    for i in range(len(airway)):\n",
    "        for j in range(len(airway.segments[i])):\n",
    "            point1 = Point([float(airway.segments[i][j]['lat']),float(airway.segments[i][j]['lon'])])\n",
    "        # point2 = Point([float(airway.segments[i][1]['lat']),float(airway.segments[i][1]['lon'])])\n",
    "            if poly.contains(point1)== True :\n",
    "            # and poly.contains(point2)== True\n",
    "                filtered_airways=filtered_airways.append(airway.loc[i])\n",
    "    filtered_airways = filtered_airways.drop_duplicates(subset=['name'])\n",
    "    return filtered_airways\n",
    "\n",
    "# filteraws = filter_airways(1.19,103.06,1.19,104.7,1.76,104.7,1.76,103.06,airway)\n",
    "# filteraws = filter_airways(0,105,0,109,5,109,5,105,airway)\n",
    "filteraws = filter_airways(1,104,1,108,5,108,5,104,airway)\n",
    "\n",
    "\n",
    "filteraws=filteraws.reset_index(drop=True)\n",
    "# filteraws"
   ]
  },
  {
   "cell_type": "code",
   "execution_count": 10,
   "metadata": {
    "tags": [
     "outputPrepend"
    ]
   },
   "outputs": [
    {
     "output_type": "stream",
     "name": "stdout",
     "text": "', 'lat': '4.811', 'lon': '105.380', 'latdms': '044841N', 'londms': '1052247E', 'transf_x': 310.499999999999, 'transf_y': 857.475}, {'name': 'NOPAT', 'lat': '4.387', 'lon': '104.799', 'latdms': '042313N', 'londms': '1044756E', 'transf_x': 179.77500000000148, 'transf_y': 762.0749999999999}, {'name': 'VEPLI', 'lat': '3.873', 'lon': '104.095', 'latdms': '035223N', 'londms': '1040542E', 'transf_x': 21.374999999999744, 'transf_y': 646.4250000000001}, {'name': 'BUVAL (WSJC/WMFC FIR BDRY)', 'lat': '3.606', 'lon': '103.728', 'latdms': '033622N', 'londms': '1034341E', 'transf_x': -61.20000000000125, 'transf_y': 586.35}, {'name': 'PEKAN DVOR/DME (VPK)', 'lat': '3.383', 'lon': '103.423', 'latdms': '032259N', 'londms': '1032524E', 'transf_x': -129.8249999999996, 'transf_y': 536.175}]}, {'name': 'L635', 'segments': [{'name': 'MABLI', 'lat': '4.288', 'lon': '106.213', 'latdms': '041717N', 'londms': '1061247E', 'transf_x': 497.9249999999986, 'transf_y': 739.8000000000001}, {'name': 'SUSAR', 'lat': '3.980', 'lon': '105.263', 'latdms': '035848N', 'londms': '1051547E', 'transf_x': 284.1750000000012, 'transf_y': 670.5}, {'name': 'DUBSA', 'lat': '3.817', 'lon': '104.761', 'latdms': '034901N', 'londms': '1044540E', 'transf_x': 171.22499999999903, 'transf_y': 633.825}, {'name': 'UGPEK', 'lat': '3.613', 'lon': '104.131', 'latdms': '033647N', 'londms': '1040752E', 'transf_x': 29.47500000000005, 'transf_y': 587.925}, {'name': 'DOVOL (WSJC/WMFC FIR BDRY)', 'lat': '3.513', 'lon': '103.823', 'latdms': '033047N', 'londms': '1034923E', 'transf_x': -39.82500000000151, 'transf_y': 565.425}, {'name': 'PEKAN DVOR/DME (VPK)', 'lat': '3.383', 'lon': '103.423', 'latdms': '032259N', 'londms': '1032524E', 'transf_x': -129.8249999999996, 'transf_y': 536.175}]}, {'name': 'L642', 'segments': [{'name': 'ESPOB (VVTS/WSJC FIR BDRY)', 'lat': '7.000', 'lon': '105.555', 'latdms': '070000N', 'londms': '1053318E', 'transf_x': 349.87500000000153, 'transf_y': 1350.0}, {'name': 'ENREP', 'lat': '4.873', 'lon': '104.245', 'latdms': '045223N', 'londms': '1041442E', 'transf_x': 55.12500000000102, 'transf_y': 871.4250000000001}, {'name': 'VEPLI', 'lat': '3.873', 'lon': '104.095', 'latdms': '035223N', 'londms': '1040542E', 'transf_x': 21.374999999999744, 'transf_y': 646.4250000000001}, {'name': 'EGOLO (WSJC/WMFC FIR BDRY)', 'lat': '3.326', 'lon': '104.013', 'latdms': '031934N', 'londms': '1040047E', 'transf_x': 2.9250000000011767, 'transf_y': 523.35}, {'name': 'ROBMO', 'lat': '2.911', 'lon': '103.950', 'latdms': '025440N', 'londms': '1035700E', 'transf_x': -11.24999999999936, 'transf_y': 429.975}, {'name': 'MERSING DVOR/DME (VMR)', 'lat': '2.388', 'lon': '103.872', 'latdms': '022318N', 'londms': '1035218E', 'transf_x': -28.800000000000026, 'transf_y': 312.29999999999995}]}, {'name': 'L644', 'segments': [{'name': 'DUDIS (WSJC/VVTS FIR BDRY)', 'lat': '7.000', 'lon': '106.810', 'latdms': '070000N', 'londms': '1064836E', 'transf_x': 632.2500000000005, 'transf_y': 1350.0}, {'name': 'MABLI', 'lat': '4.288', 'lon': '106.213', 'latdms': '041717N', 'londms': '1061247E', 'transf_x': 497.9249999999986, 'transf_y': 739.8000000000001}, {'name': 'OPULA', 'lat': '3.532', 'lon': '106.355', 'latdms': '033155N', 'londms': '1062118E', 'transf_x': 529.8750000000009, 'transf_y': 569.7}, {'name': 'ONAPO', 'lat': '3.354', 'lon': '106.388', 'latdms': '032116N', 'londms': '1062318E', 'transf_x': 537.3000000000012, 'transf_y': 529.65}, {'name': 'OMLIV', 'lat': '2.920', 'lon': '106.470', 'latdms': '025512N', 'londms': '1062812E', 'transf_x': 555.7499999999998, 'transf_y': 432.0}, {'name': 'OMBAP', 'lat': '2.521', 'lon': '106.545', 'latdms': '023116N', 'londms': '1063242E', 'transf_x': 572.6250000000003, 'transf_y': 342.22499999999997}, {'name': 'OLSAM', 'lat': '2.016', 'lon': '106.640', 'latdms': '020059N', 'londms': '1063824E', 'transf_x': 594.0000000000001, 'transf_y': 228.6}, {'name': 'OBLOT', 'lat': '1.716', 'lon': '106.696', 'latdms': '014256N', 'londms': '1064147E', 'transf_x': 606.5999999999996, 'transf_y': 161.1}, {'name': 'OBGET', 'lat': '1.385', 'lon': '106.759', 'latdms': '012307N', 'londms': '1064531E', 'transf_x': 620.7750000000001, 'transf_y': 86.625}, {'name': 'KIKOR (WSJC/WIIZ FIR BDRY)', 'lat': '-0.379', 'lon': '107.090', 'latdms': '002244S', 'londms': '1070524E', 'transf_x': 695.2500000000008, 'transf_y': -310.275}]}, {'name': 'M635', 'segments': [{'name': 'TEKONG DVOR/DME (VTK)', 'lat': '1.415', 'lon': '104.022', 'latdms': '012455N', 'londms': '1040120E', 'transf_x': 4.950000000001253, 'transf_y': 93.37500000000001}, {'name': 'TANJUNG PINANG VOR/DME (TPG)', 'lat': '0.904', 'lon': '104.514', 'latdms': '005413N', 'londms': '1043052E', 'transf_x': 115.64999999999905, 'transf_y': -21.599999999999994}, {'name': 'ATPOM', 'lat': '0.407', 'lon': '105.354', 'latdms': '002425N', 'londms': '1052114E', 'transf_x': 304.6499999999998, 'transf_y': -133.42499999999998}, {'name': 'SURGA (WSJC/WIIZ FIR BDRY)', 'lat': '-0.616', 'lon': '106.522', 'latdms': '003657S', 'londms': '1063119E', 'transf_x': 567.4500000000013, 'transf_y': -363.6}]}, {'name': 'M646', 'segments': [{'name': 'KAMIN (WBFC/WSJC FIR BDRY)', 'lat': '2.578', 'lon': '108.927', 'latdms': '023442N', 'londms': '1085536E', 'transf_x': 1108.5750000000014, 'transf_y': 355.04999999999995}, {'name': 'SABIP', 'lat': '2.161', 'lon': '107.846', 'latdms': '020940N', 'londms': '1075044E', 'transf_x': 865.3500000000008, 'transf_y': 261.225}, {'name': 'ESPIT', 'lat': '2.003', 'lon': '107.440', 'latdms': '020011N', 'londms': '1072624E', 'transf_x': 773.9999999999995, 'transf_y': 225.675}, {'name': 'OBLOT', 'lat': '1.716', 'lon': '106.696', 'latdms': '014256N', 'londms': '1064147E', 'transf_x': 606.5999999999996, 'transf_y': 161.1}, {'name': 'TOMAN', 'lat': '1.363', 'lon': '105.788', 'latdms': '012147N', 'londms': '1054717E', 'transf_x': 402.2999999999993, 'transf_y': 81.675}]}, {'name': 'M753', 'segments': [{'name': 'IPRIX (VVTS/WSJC FIR BDRY)', 'lat': '7.000', 'lon': '104.132', 'latdms': '070000N', 'londms': '1040755E', 'transf_x': 29.700000000001125, 'transf_y': 1350.0}, {'name': 'ENREP', 'lat': '4.873', 'lon': '104.245', 'latdms': '045223N', 'londms': '1041442E', 'transf_x': 55.12500000000102, 'transf_y': 871.4250000000001}]}, {'name': 'M758', 'segments': [{'name': 'PEKAN DVOR/DME (VPK)', 'lat': '3.383', 'lon': '103.423', 'latdms': '032259N', 'londms': '1032524E', 'transf_x': -129.8249999999996, 'transf_y': 536.175}, {'name': 'IDSEL (WMFC/WSJC FIR BDRY)', 'lat': '3.409', 'lon': '103.929', 'latdms': '032432N', 'londms': '1035544E', 'transf_x': -15.97499999999954, 'transf_y': 542.025}, {'name': 'URIGO', 'lat': '3.418', 'lon': '104.113', 'latdms': '032505N', 'londms': '1040647E', 'transf_x': 25.424999999999898, 'transf_y': 544.0500000000001}, {'name': 'VISAT', 'lat': '3.439', 'lon': '104.526', 'latdms': '032620N', 'londms': '1043134E', 'transf_x': 118.34999999999916, 'transf_y': 548.775}, {'name': 'MABAL', 'lat': '3.474', 'lon': '105.210', 'latdms': '032826N', 'londms': '1051236E', 'transf_x': 272.2499999999986, 'transf_y': 556.6500000000001}, {'name': 'ELGOR', 'lat': '3.504', 'lon': '105.805', 'latdms': '033014N', 'londms': '1054818E', 'transf_x': 406.12500000000153, 'transf_y': 563.4}, {'name': 'LUSMO', 'lat': '3.561', 'lon': '106.926', 'latdms': '033341N', 'londms': '1065534E', 'transf_x': 658.3500000000005, 'transf_y': 576.225}, {'name': 'TERIX', 'lat': '4.256', 'lon': '109.582', 'latdms': '041521N', 'londms': '1093456E', 'transf_x': 1255.9499999999985, 'transf_y': 732.6}, {'name': 'OLKIT (WSJC/WBFC FIR BDRY)', 'lat': '4.836', 'lon': '111.855', 'latdms': '045010N', 'londms': '1115118E', 'transf_x': 1767.375000000001, 'transf_y': 863.1}]}, {'name': 'M761', 'segments': [{'name': 'PEKAN DVOR/DME (VPK)', 'lat': '3.383', 'lon': '103.423', 'latdms': '032259N', 'londms': '1032524E', 'transf_x': -129.8249999999996, 'transf_y': 536.175}, {'name': 'KETOD (WMFC/WSJC FIR BDRY)', 'lat': '3.178', 'lon': '104.162', 'latdms': '031042N', 'londms': '1040942E', 'transf_x': 36.45000000000138, 'transf_y': 490.05}, {'name': 'OTLON', 'lat': '3.131', 'lon': '104.335', 'latdms': '030752N', 'londms': '1042006E', 'transf_x': 75.3749999999986, 'transf_y': 479.47499999999997}, {'name': 'KILOT', 'lat': '3.038', 'lon': '104.673', 'latdms': '030217N', 'londms': '1044023E', 'transf_x': 151.4250000000004, 'transf_y': 458.54999999999995}, {'name': 'LIPRO', 'lat': '2.895', 'lon': '105.191', 'latdms': '025342N', 'londms': '1051128E', 'transf_x': 267.9750000000006, 'transf_y': 426.375}, {'name': 'BOBOB', 'lat': '2.368', 'lon': '107.099', 'latdms': '022206N', 'londms': '1070558E', 'transf_x': 697.2750000000009, 'transf_y': 307.79999999999995}, {'name': 'SABIP', 'lat': '2.161', 'lon': '107.846', 'latdms': '020940N', 'londms': '1075044E', 'transf_x': 865.3500000000008, 'transf_y': 261.225}, {'name': 'AGOBA (WSJC/WBFC FIR BDRY)', 'lat': '1.978', 'lon': '108.500', 'latdms': '015840N', 'londms': '1083000E', 'transf_x': 1012.5, 'transf_y': 220.04999999999998}]}, {'name': 'M763', 'segments': [{'name': 'ENREP', 'lat': '4.873', 'lon': '104.245', 'latdms': '045223N', 'londms': '1041442E', 'transf_x': 55.12500000000102, 'transf_y': 871.4250000000001}, {'name': 'TAXUL (WMFC/WSJC FIR BDRY)', 'lat': '3.843', 'lon': '103.677', 'latdms': '035035N', 'londms': '1034037E', 'transf_x': -72.67499999999849, 'transf_y': 639.675}, {'name': 'PEKAN DVOR/DME (VPK)', 'lat': '3.383', 'lon': '103.423', 'latdms': '032259N', 'londms': '1032524E', 'transf_x': -129.8249999999996, 'transf_y': 536.175}]}, {'name': 'M767', 'segments': [{'name': 'TEGID (RPHI/WSJC FIR BDRY)', 'lat': '8.949', 'lon': '115.862', 'latdms': '085656N', 'londms': '1155143E', 'transf_x': 2668.949999999999, 'transf_y': 1788.5249999999999}, {'name': 'TODAM', 'lat': '6.527', 'lon': '112.593', 'latdms': '063138N', 'londms': '1123536E', 'transf_x': 1933.4250000000009, 'transf_y': 1243.575}, {'name': 'TERIX', 'lat': '4.256', 'lon': '109.582', 'latdms': '041521N', 'londms': '1093456E', 'transf_x': 1255.9499999999985, 'transf_y': 732.6}, {'name': 'BOBOB', 'lat': '2.368', 'lon': '107.099', 'latdms': '022206N', 'londms': '1070558E', 'transf_x': 697.2750000000009, 'transf_y': 307.79999999999995}, {'name': 'TOMAN', 'lat': '1.363', 'lon': '105.788', 'latdms': '012147N', 'londms': '1054717E', 'transf_x': 402.2999999999993, 'transf_y': 81.675}]}, {'name': 'M771', 'segments': [{'name': 'DUDIS (WSJC/VVTS FIR BDRY)', 'lat': '7.000', 'lon': '106.810', 'latdms': '070000N', 'londms': '1064836E', 'transf_x': 632.2500000000005, 'transf_y': 1350.0}, {'name': 'DOLOX', 'lat': '4.811', 'lon': '105.380', 'latdms': '044841N', 'londms': '1052247E', 'transf_x': 310.499999999999, 'transf_y': 857.475}, {'name': 'DAMOG', 'lat': '4.207', 'lon': '105.004', 'latdms': '041225N', 'londms': '1050014E', 'transf_x': 225.9000000000011, 'transf_y': 721.5749999999999}, {'name': 'DUBSA', 'lat': '3.817', 'lon': '104.761', 'latdms': '034901N', 'londms': '1044540E', 'transf_x': 171.22499999999903, 'transf_y': 633.825}, {'name': 'VISAT', 'lat': '3.439', 'lon': '104.526', 'latdms': '032620N', 'londms': '1043134E', 'transf_x': 118.34999999999916, 'transf_y': 548.775}, {'name': 'OTLON', 'lat': '3.131', 'lon': '104.335', 'latdms': '030752N', 'londms': '1042006E', 'transf_x': 75.3749999999986, 'transf_y': 479.47499999999997}, {'name': 'RAXIM (WMFC/WSJC FIR BDRY)', 'lat': '3.055', 'lon': '104.287', 'latdms': '030318N', 'londms': '1041713E', 'transf_x': 64.57500000000138, 'transf_y': 462.37500000000006}, {'name': 'MERSING DVOR/DME (VMR)', 'lat': '2.388', 'lon': '103.872', 'latdms': '022318N', 'londms': '1035218E', 'transf_x': -28.800000000000026, 'transf_y': 312.29999999999995}]}, {'name': 'M904', 'segments': [{'name': 'TIDAR (WSJC/VTBB FIR BDRY)', 'lat': '6.875', 'lon': '102.833', 'latdms': '065230.15N', 'londms': '1024959.82E', 'transf_x': -262.5750000000004, 'transf_y': 1321.875}, {'name': 'ODONO', 'lat': '6.604', 'lon': '103.025', 'latdms': '063613.82N', 'londms': '1030129.41E', 'transf_x': -219.37499999999872, 'transf_y': 1260.9}, {'name': 'UPRON', 'lat': '6.151', 'lon': '103.344', 'latdms': '060903.41N', 'londms': '1032039.98E', 'transf_x': -147.60000000000133, 'transf_y': 1158.975}, {'name': 'ENREP', 'lat': '4.873', 'lon': '104.245', 'latdms': '045223N', 'londms': '1041442E', 'transf_x': 55.12500000000102, 'transf_y': 871.4250000000001}]}, {'name': 'N875', 'segments': [{'name': 'ENREP', 'lat': '4.873', 'lon': '104.245', 'latdms': '045223N', 'londms': '1041442E', 'transf_x': 55.12500000000102, 'transf_y': 871.4250000000001}, {'name': 'NOPAT', 'lat': '4.387', 'lon': '104.799', 'latdms': '042313N', 'londms': '1044756E', 'transf_x': 179.77500000000148, 'transf_y': 762.0749999999999}, {'name': 'DAMOG', 'lat': '4.207', 'lon': '105.004', 'latdms': '041225N', 'londms': '1050014E', 'transf_x': 225.9000000000011, 'transf_y': 721.5749999999999}, {'name': 'SUSAR', 'lat': '3.980', 'lon': '105.263', 'latdms': '035848N', 'londms': '1051547E', 'transf_x': 284.1750000000012, 'transf_y': 670.5}, {'name': 'MUMSO', 'lat': '3.739', 'lon': '105.537', 'latdms': '034420N', 'londms': '1053213E', 'transf_x': 345.8250000000014, 'transf_y': 616.275}, {'name': 'ELGOR', 'lat': '3.504', 'lon': '105.805', 'latdms': '033014N', 'londms': '1054818E', 'transf_x': 406.12500000000153, 'transf_y': 563.4}, {'name': 'LEBIN', 'lat': '3.244', 'lon': '106.101', 'latdms': '031438N', 'londms': '1060604E', 'transf_x': 472.7249999999998, 'transf_y': 504.90000000000003}, {'name': 'BOBOB', 'lat': '2.368', 'lon': '107.099', 'latdms': '022206N', 'londms': '1070558E', 'transf_x': 697.2750000000009, 'transf_y': 307.79999999999995}, {'name': 'ESPIT', 'lat': '2.003', 'lon': '107.440', 'latdms': '020011N', 'londms': '1072624E', 'transf_x': 773.9999999999995, 'transf_y': 225.675}, {'name': 'NIMIX', 'lat': '1.414', 'lon': '107.991', 'latdms': '012452N', 'londms': '1075926E', 'transf_x': 897.9749999999999, 'transf_y': 93.14999999999998}, {'name': 'ARUPA', 'lat': '0.528', 'lon': '108.813', 'latdms': '003140N', 'londms': '1084846E', 'transf_x': 1082.9250000000006, 'transf_y': -106.19999999999999}]}, {'name': 'N884', 'segments': [{'name': 'LAXOR (WSJC/RPHI FIR BDRY)', 'lat': '9.827', 'lon': '114.808', 'latdms': '094937N', 'londms': '1144829E', 'transf_x': 2431.8000000000015, 'transf_y': 1986.075}, {'name': 'LAGOT', 'lat': '7.276', 'lon': '111.545', 'latdms': '071632N', 'londms': '1113243E', 'transf_x': 1697.6250000000005, 'transf_y': 1412.1}, {'name': 'LUSMO', 'lat': '3.561', 'lon': '106.926', 'latdms': '033341N', 'londms': '1065534E', 'transf_x': 658.3500000000005, 'transf_y': 576.225}, {'name': 'LEBIN', 'lat': '3.244', 'lon': '106.101', 'latdms': '031438N', 'londms': '1060604E', 'transf_x': 472.7249999999998, 'transf_y': 504.90000000000003}, {'name': 'LIPRO', 'lat': '2.895', 'lon': '105.191', 'latdms': '025342N', 'londms': '1051128E', 'transf_x': 267.9750000000006, 'transf_y': 426.375}, {'name': 'LENDA (WSJC/WMFC FIR BDRY)', 'lat': '2.690', 'lon': '104.659', 'latdms': '024124N', 'londms': '1043932E', 'transf_x': 148.27500000000134, 'transf_y': 380.25}, {'name': 'MERSING DVOR/DME (VMR)', 'lat': '2.388', 'lon': '103.872', 'latdms': '022318N', 'londms': '1035218E', 'transf_x': -28.800000000000026, 'transf_y': 312.29999999999995}]}, {'name': 'N891', 'segments': [{'name': 'IGARI', 'lat': '6.937', 'lon': '103.585', 'latdms': '065612N', 'londms': '1033506E', 'transf_x': -93.3750000000014, 'transf_y': 1335.825}, {'name': 'IKUMI', 'lat': '5.894', 'lon': '103.919', 'latdms': '055338N', 'londms': '1035509E', 'transf_x': -18.22500000000069, 'transf_y': 1101.15}, {'name': 'ENREP', 'lat': '4.873', 'lon': '104.245', 'latdms': '045223N', 'londms': '1041442E', 'transf_x': 55.12500000000102, 'transf_y': 871.4250000000001}, {'name': 'UGPEK', 'lat': '3.613', 'lon': '104.131', 'latdms': '033647N', 'londms': '1040752E', 'transf_x': 29.47500000000005, 'transf_y': 587.925}, {'name': 'URIGO', 'lat': '3.418', 'lon': '104.113', 'latdms': '032505N', 'londms': '1040647E', 'transf_x': 25.424999999999898, 'transf_y': 544.0500000000001}, {'name': 'MANIM (WMFC/WSJC FIR BDRY)', 'lat': '3.242', 'lon': '104.098', 'latdms': '031431N', 'londms': '1040553E', 'transf_x': 22.04999999999977, 'transf_y': 504.45}, {'name': 'OBDAB', 'lat': '3.198', 'lon': '104.094', 'latdms': '031153N', 'londms': '1040538E', 'transf_x': 21.14999999999867, 'transf_y': 494.55}, {'name': 'PAPA UNIFORM DVOR/DME (PU)', 'lat': '1.423', 'lon': '103.933', 'latdms': '012523.99N', 'londms': '1035559.74E', 'transf_x': -15.07499999999844, 'transf_y': 95.17500000000001}]}, {'name': 'N892', 'segments': [{'name': 'MELAS (VVTS/WSJC FIR BDRY)', 'lat': '7.089', 'lon': '108.153', 'latdms': '070520N', 'londms': '1080911E', 'transf_x': 934.4250000000013, 'transf_y': 1370.025}, {'name': 'MABLI', 'lat': '4.288', 'lon': '106.213', 'latdms': '041717N', 'londms': '1061247E', 'transf_x': 497.9249999999986, 'transf_y': 739.8000000000001}, {'name': 'MUMSO', 'lat': '3.739', 'lon': '105.537', 'latdms': '034420N', 'londms': '1053213E', 'transf_x': 345.8250000000014, 'transf_y': 616.275}, {'name': 'MABAL', 'lat': '3.474', 'lon': '105.210', 'latdms': '032826N', 'londms': '1051236E', 'transf_x': 272.2499999999986, 'transf_y': 556.6500000000001}, {'name': 'KILOT', 'lat': '3.038', 'lon': '104.673', 'latdms': '030217N', 'londms': '1044023E', 'transf_x': 151.4250000000004, 'transf_y': 458.54999999999995}, {'name': 'KIBOL WSJC/WMFC FIR BDRY', 'lat': '2.875', 'lon': '104.468', 'latdms': '025229N', 'londms': '1042805E', 'transf_x': 105.3000000000008, 'transf_y': 421.875}, {'name': 'PEKLA', 'lat': '2.577', 'lon': '104.105', 'latdms': '023437N', 'londms': '1040618E', 'transf_x': 23.625000000000895, 'transf_y': 354.825}, {'name': 'MERSING DVOR/DME (VMR)', 'lat': '2.388', 'lon': '103.872', 'latdms': '022318N', 'londms': '1035218E', 'transf_x': -28.800000000000026, 'transf_y': 312.29999999999995}]}, {'name': 'Q801', 'segments': [{'name': 'ESPOB (VVTS/WSJC FIR BDRY)', 'lat': '7.000', 'lon': '105.555', 'latdms': '070000N', 'londms': '1053318E', 'transf_x': 349.87500000000153, 'transf_y': 1350.0}, {'name': 'ESBUM', 'lat': '4.869', 'lon': '104.475', 'latdms': '045210N', 'londms': '1042830E', 'transf_x': 106.87499999999872, 'transf_y': 870.525}]}, {'name': 'Q802', 'segments': [{'name': 'IPRIX (VVTS/WSJC FIR BDRY)', 'lat': '7.000', 'lon': '104.132', 'latdms': '070000N', 'londms': '1040755E', 'transf_x': 29.700000000001125, 'transf_y': 1350.0}, {'name': 'ESBUM', 'lat': '4.869', 'lon': '104.475', 'latdms': '045210N', 'londms': '1042830E', 'transf_x': 106.87499999999872, 'transf_y': 870.525}, {'name': 'ELALO', 'lat': '4.211', 'lon': '104.558', 'latdms': '041240N', 'londms': '1043329E', 'transf_x': 125.55000000000156, 'transf_y': 722.475}]}, {'name': 'Q803', 'segments': [{'name': 'UPRON', 'lat': '6.151', 'lon': '103.344', 'latdms': '060903.41N', 'londms': '1032039.98E', 'transf_x': -147.60000000000133, 'transf_y': 1158.975}, {'name': 'IPDOL', 'lat': '4.853', 'lon': '103.989', 'latdms': '045111N', 'londms': '1035920E', 'transf_x': -2.474999999999028, 'transf_y': 866.925}, {'name': 'KEXOL', 'lat': '4.658', 'lon': '104.162', 'latdms': '043930N', 'londms': '1040942E', 'transf_x': 36.45000000000138, 'transf_y': 823.0500000000001}, {'name': 'ELALO', 'lat': '4.211', 'lon': '104.558', 'latdms': '041240N', 'londms': '1043329E', 'transf_x': 125.55000000000156, 'transf_y': 722.475}]}, {'name': 'T612', 'segments': [{'name': 'DOLOX', 'lat': '4.811', 'lon': '105.380', 'latdms': '044841N', 'londms': '1052247E', 'transf_x': 310.499999999999, 'transf_y': 857.475}, {'name': 'IDSEL (WMFC/WSJC FIR BDRY)', 'lat': '3.409', 'lon': '103.929', 'latdms': '032432N', 'londms': '1035544E', 'transf_x': -15.97499999999954, 'transf_y': 542.025}]}, {'name': 'Y336', 'segments': [{'name': 'KETOD (WMFC/WSJC FIR BDRY)', 'lat': '3.178', 'lon': '104.162', 'latdms': '031042N', 'londms': '1040942E', 'transf_x': 36.45000000000138, 'transf_y': 490.05}, {'name': 'PADLI', 'lat': '3.155', 'lon': '103.526', 'latdms': '030918N', 'londms': '1033133E', 'transf_x': -106.65000000000084, 'transf_y': 484.87499999999994}]}]\n"
    }
   ],
   "source": [
    "# a= np.array([1.19,103.06])\n",
    "a=np.array([1,104])\n",
    "a_ = np.array([a[1],a[0]])\n",
    "# b=  np.array([1.19,104.7])\n",
    "b=  np.array([1,108])\n",
    "b_ = np.array([b[1],b[0]])\n",
    "# c =np.array([1.76,104.7])\n",
    "c =np.array([5,104])\n",
    "c_ = np.array([c[1],c[0]])\n",
    "# d=  np.array([1.76,103.06])\n",
    "d=  np.array([5,106])\n",
    "d_ = np.array([d[1],d[0]])\n",
    "\n",
    "horizontal_len= b[1]-a[1]\n",
    "vertical_len = d[0]-a[0]\n",
    "\n",
    "dict1=[]\n",
    "\n",
    "for i in range(len(filteraws)):\n",
    "    print(i)\n",
    "    d1= []\n",
    "    for j in range(len(filteraws.segments[i])):\n",
    "        # print(j)\n",
    "        P = np.array([float(filteraws.segments[i][j]['lon']),float(filteraws.segments[i][j]['lat'])])\n",
    "        print(P)\n",
    "        print(\"^^\")\n",
    "        # vert_d = np.linalg.norm(np.cross(b_-a_,P-a_))/np.linalg.norm(b_-a_)\n",
    "        # horiz_d = np.linalg.norm(np.cross(d_-a_,P-a_))/np.linalg.norm(d_-a_)\n",
    "        vert_d = P[1]-a_[1]\n",
    "        horiz_d = P[0] -a_[0]\n",
    "        airdict1={\n",
    "                # \"name\":filteraws.name[i],        \n",
    "                # \"segments\":[{\"name\":filteraws.segments[i][j]['name'],\n",
    "                \"name\":filteraws.segments[i][j]['name'],\n",
    "                \"lat\":filteraws.segments[i][j]['lat'],\n",
    "                \"lon\":filteraws.segments[i][j]['lon'],\n",
    "                \"latdms\":filteraws.segments[i][j]['latdms'],\n",
    "                \"londms\":filteraws.segments[i][j]['londms'],\n",
    "                \"transf_x\": (900/horizontal_len)*horiz_d,\n",
    "                \"transf_y\": (900/vertical_len)*vert_d\n",
    "                }\n",
    "        d1.append(airdict1)\n",
    "    # dict2={\"segments\":d1}\n",
    "    dict3 ={\"name\":filteraws.name[i], \n",
    "            \"segments\":d1}\n",
    "    # print(dict3)\n",
    "    dict1.append(dict3)\n",
    "        \n",
    "print(dict1)"
   ]
  },
  {
   "cell_type": "code",
   "execution_count": 13,
   "metadata": {},
   "outputs": [],
   "source": [
    "import json\n",
    "with open('python-code/14Test1.json', 'w') as json_file:\n",
    "    json.dump(dict1, json_file)\n"
   ]
  },
  {
   "cell_type": "code",
   "execution_count": 15,
   "metadata": {
    "tags": []
   },
   "outputs": [
    {
     "output_type": "stream",
     "name": "stdout",
     "text": "geometry\n0   POLYGON ((104.57350 1.03797, 108.98472 0.15792...\n1   POLYGON ((102.16666 1.65000, 103.03467 1.36722...\n2   POLYGON ((103.80778 2.00333, 103.78716 2.36750...\n3   POLYGON ((104.48297 1.80790, 104.72902 2.61866...\n4   POLYGON ((106.57083 3.90445, 109.19967 7.69972...\n5   POLYGON ((106.21300 4.28805, 106.57083 3.90445...\n6   POLYGON ((103.74417 3.11917, 103.73333 4.83333...\n7   POLYGON ((106.57083 3.90445, 106.21300 4.28805...\n8   POLYGON ((104.40200 1.54111, 103.98866 1.51972...\n9   POLYGON ((102.16666 1.65000, 103.03467 1.36722...\n10  POLYGON ((103.84033 1.50389, 103.98866 1.51972...\n11  POLYGON ((104.40200 1.54111, 104.72902 2.61866...\n12  POLYGON ((103.80778 2.00333, 103.78716 2.36750...\n13  POLYGON ((106.57083 3.90445, 106.92616 3.56138...\n14  POLYGON ((108.98472 0.15792, 109.00000 0.00000...\n15  POLYGON ((110.09216 3.47583, 108.50000 2.25000...\n"
    },
    {
     "output_type": "execute_result",
     "data": {
      "text/plain": "[{'Sectors': {'sector1': {'type': 'secondary',\n    'boundary': [[386.02465222603826, 894.3045658388949],\n     [1047.7087499999996, 1026.3120833333335],\n     [1050.0, 1050.0],\n     [898.9995833333339, 1050.0],\n     [600.0, 1175.0],\n     [474.9995833333337, 1050.0],\n     [415.00041666666687, 1050.0],\n     [293.49958333333245, 1093.9166666666667],\n     [275.5813414167711, 943.8627147460479],\n     [278.96781205352636, 944.7157137124241],\n     [288.66083759105123, 946.1607735224628],\n     [298.44808033342787, 946.6426274200669],\n     [308.2353165654773, 946.1565748244218],\n     [317.92831124189007, 944.7072402839798],\n     [327.4337270938339, 942.3085308407015],\n     [336.66002526074476, 938.9835032754531],\n     [345.5183485183369, 934.7641425344991],\n     [353.92337837859384, 929.691053557577],\n     [361.7941576480313, 923.8130696148297],\n     [369.0548704374344, 917.1867810998298],\n     [375.63557210792237, 909.8759895080681],\n     [381.47286220150676, 901.9510920460494],\n     [386.02465222603826, 894.3045658388949]]},\n   'sector2': {'type': 'secondary',\n    'boundary': [[24.999583333333675, 802.5],\n     [155.19999999999996, 844.9166666666667],\n     [182.62500000000017, 786.7925],\n     [193.19916666666757, 794.375],\n     [194.57458333333335, 780.125],\n     [199.32500000000033, 767.0825],\n     [206.32458333333332, 757.125],\n     [223.92416666666648, 744.5],\n     [241.7004166666672, 740.5825000000001],\n     [258.6995833333326, 742.5425],\n     [270.9707173038545, 749.5503612996656],\n     [269.3670351688269, 749.9557483867775],\n     [260.13913151695294, 753.2856063212112],\n     [251.28051121268982, 757.5096022544097],\n     [242.87650409527473, 762.586953097606],\n     [235.00802797356215, 768.4686617955916],\n     [227.75081014216738, 775.0979948284573],\n     [221.17466085314206, 782.4110337312495],\n     [215.34280556161676, 790.3372949754297],\n     [210.31128207536582, 798.8004119516445],\n     [206.12840801302923, 807.7188722711187],\n     [202.8343232286332, 817.00680316226],\n     [200.460611103059, 826.5747973770141],\n     [199.0300018459763, 836.3307717338616],\n     [198.55616020099376, 846.1808502060446],\n     [199.04355920595123, 856.0302633094419],\n     [200.4874409305515, 865.7842554498409],\n     [202.87386439354194, 875.3489918505063],\n     [206.17984014906412, 884.6324566958011],\n     [210.37355032304603, 893.5453341945838],\n     [215.41465217309295, 902.0018643893535],\n     [221.25466253688586, 909.9206657162571],\n     [227.83741982468442, 917.2255165608572],\n     [235.09961950344476, 923.8460883593831],\n     [242.9714183177488, 929.7186231694592],\n     [251.3771018042533, 934.786549081816],\n     [260.23580899128405, 939.0010273677345],\n     [269.462307546204, 942.3214258566167],\n     [275.5813414167711, 943.8627147460479],\n     [293.49958333333245, 1093.9166666666667],\n     [240.0500000000008, 1093.3333333333333],\n     [172.04916666666676, 1077.1666666666667],\n     [131.25, 1055.0833333333335],\n     [93.00041666666772, 1024.4583333333333],\n     [60.69958333333361, 984.5416666666666],\n     [35.19958333333335, 934.375],\n     [22.449999999999193, 883.4166666666666],\n     [21.574583333332953, 836.6666666666667],\n     [24.999583333333675, 802.5]]},\n   'sector3': {'type': 'secondary',\n    'boundary': [[271.1664034917888, 749.5008947302115],\n     [268.0745833333326, 694.875],\n     [233.49958333333376, 619.1675],\n     [265.24999999999966, 614.25],\n     [261.6250000049995, 582.124999995],\n     [332.4583333349999, 580.54166667],\n     [409.352916666667, 657.2016666666666],\n     [372.4451371599606, 778.814535380927],\n     [369.02330192264543, 775.0177751163219],\n     [361.7565508711962, 768.3949552886395],\n     [353.8793177557785, 762.5210558904187],\n     [345.46752584835616, 757.4527013171523],\n     [336.60227086850654, 753.2387468146452],\n     [327.36903681411536, 749.9198044600188],\n     [317.85686800623836, 747.5278491520892],\n     [308.1575055536057, 746.0859086689898],\n     [298.3644968915876, 745.6078409894913],\n     [288.5722873940118, 746.0982011625215],\n     [278.87530328340586, 747.5521990609727],\n     [271.1664034917888, 749.5008947302115]]},\n   'sector4': {'type': 'secondary',\n    'boundary': [[372.4451371599606, 778.814535380927],\n     [409.352916666667, 657.2016666666666],\n     [426.175833333334, 651.0424999999999],\n     [525.0, 675.0],\n     [852.8250000000007, 611.9175],\n     [1143.5495833333327, 554.9175],\n     [1213.8245833333335, 528.6249999999999],\n     [975.0, 712.5],\n     [975.0, 900.0],\n     [1035.0004166666658, 900.0],\n     [1047.7087499999996, 1026.3120833333335],\n     [386.02465222603826, 894.3045658388949],\n     [386.5104940255293, 893.4884029596075],\n     [390.69991522610223, 884.5694182378306],\n     [394.00073438360437, 875.2800308400081],\n     [396.3811093830685, 865.7097040081153],\n     [397.8180540454907, 855.950610568776],\n     [398.2976602470856, 846.0967463994286],\n     [398.2976602470856, 846.096746399428],\n     [397.81523349887846, 836.2430264367715],\n     [396.37534070752804, 826.484371744347],\n     [393.99176959031905, 816.9147962322915],\n     [390.6873999743425, 807.6265016367026],\n     [386.4939879733967, 798.7089893181012],\n     [381.4518648071704, 790.2481973263183],\n     [375.6095528054274, 782.325670999729],\n     [372.4451371599606, 778.814535380927]]},\n   'sector5': {'type': 'secondary',\n    'boundary': [[685.6245833333339, 464.3325],\n     [1079.950416666666, -104.95749999999998],\n     [1800.0, -525.0],\n     [2175.0, -212.5],\n     [1213.8245833333335, 528.6249999999999],\n     [1143.5495833333327, 554.9175],\n     [852.8250000000007, 611.9175],\n     [738.9245833333341, 515.7925],\n     [685.6245833333339, 464.3325]]},\n   'sector6': {'type': 'primary',\n    'boundary': [[631.9495833333342, 406.79249999999996],\n     [685.6245833333339, 464.3325],\n     [738.9245833333341, 515.7925],\n     [852.8250000000007, 611.9175],\n     [525.0, 675.0],\n     [426.175833333334, 651.0424999999999],\n     [409.352916666667, 657.2016666666666],\n     [332.4583333349999, 580.54166667],\n     [349.4999999999998, 508.249999995],\n     [569.2500000000002, 438.62500000049994],\n     [631.9495833333342, 406.79249999999996]]},\n   'sector7': {'type': 'secondary',\n    'boundary': [[261.6250000049995, 582.124999995],\n     [259.99958333333313, 325.0],\n     [336.7504166666677, 319.0425],\n     [506.94916666666575, 328.2925],\n     [631.9495833333342, 406.79249999999996],\n     [569.2500000000002, 438.62500000049994],\n     [349.4999999999998, 508.249999995],\n     [332.4583333349999, 580.54166667],\n     [261.6250000049995, 582.124999995]]},\n   'sector8': {'type': 'secondary',\n    'boundary': [[685.6245833333339, 464.3325],\n     [631.9495833333342, 406.79249999999996],\n     [506.94916666666575, 328.2925],\n     [336.7504166666677, 319.0425],\n     [259.99958333333313, 325.0],\n     [99.99958333333367, 37.5],\n     [150.0, 0.0],\n     [900.0, 0.0],\n     [1079.950416666666, -104.95749999999998],\n     [685.6245833333339, 464.3325]]}}}]"
     },
     "metadata": {},
     "execution_count": 15
    }
   ],
   "source": [
    "import geopandas as gpd\n",
    "df = gpd.read_file('e:/ATMRI/CD_R/ATCO_preferences_interface/Scenario_interface_work/sector_bounds/test.geojson')\n",
    "print(df.head(16))\n",
    "\n",
    "pop= list(df.geometry[0].exterior.coords)\n",
    "type(pop)\n",
    "sec1,sec2,sec3,sec4,sec5,sec6,sec7,sec8 = [],[],[],[],[],[],[],[]\n",
    "\n",
    "a= df.geometry[0].exterior.coords\n",
    "for x,y in a:\n",
    "    sec1.append([x,y])\n",
    "b= df.geometry[1].exterior.coords\n",
    "for x,y in b:\n",
    "    sec2.append([x,y])\n",
    "c = df.geometry[2].exterior.coords\n",
    "for x,y in c:\n",
    "    sec3.append([x,y])\n",
    "d= df.geometry[3].exterior.coords\n",
    "for x,y in d:\n",
    "    sec4.append([x,y])  \n",
    "e= df.geometry[4].exterior.coords\n",
    "for x,y in e:\n",
    "    sec5.append([x,y])\n",
    "f= df.geometry[5].exterior.coords\n",
    "for x,y in f:\n",
    "    sec6.append([x,y]) \n",
    "g= df.geometry[6].exterior.coords\n",
    "for x,y in g:\n",
    "    sec7.append([x,y])\n",
    "h= df.geometry[7].exterior.coords\n",
    "for x,y in h:\n",
    "    sec8.append([x,y])\n",
    "\n",
    "d1= {'sector1':sec1}\n",
    "# for i in range(len(sec1)):\n",
    "#     d1.setdefault('sector1',[])\n",
    "#     d1['sector1'].append(sec1[i])\n",
    "\n",
    "d2= {}\n",
    "for i in range(len(sec1)):\n",
    "    d2.setdefault('sector2',[])\n",
    "    d2['sector2'].append(sec2[i])\n",
    "d3= {}\n",
    "for i in range(len(sec3)):\n",
    "    d3.setdefault('sector3',[])\n",
    "    d3['sector3'].append(sec3[i])\n",
    "d4= {}\n",
    "for i in range(len(sec4)):\n",
    "    d4.setdefault('sector4',[])\n",
    "    d4['sector4'].append(sec4[i])\n",
    "d5= {}\n",
    "for i in range(len(sec5)):\n",
    "    d5.setdefault('sector5',[])\n",
    "    d5['sector5'].append(sec5[i])\n",
    "d6= {}\n",
    "for i in range(len(sec6)):\n",
    "    d6.setdefault('sector6',[])\n",
    "    d6['sector6'].append(sec6[i])\n",
    "d7= {}\n",
    "for i in range(len(sec7)):\n",
    "    d7.setdefault('sector7',[])\n",
    "    d7['sector7'].append(sec1[7])\n",
    "d8= {}\n",
    "for i in range(len(sec8)):\n",
    "    d8.setdefault('sector8',[])\n",
    "    d8['sector8'].append(sec8[i]) \n",
    "\n",
    "\n",
    "dd={'Sectors':\n",
    "    {'sector1':sec1,\n",
    "    'sector2':sec2,\n",
    "    'sector3':sec3,\n",
    "    'sector4':sec4,\n",
    "    'sector5':sec5,\n",
    "    'sector6':sec6,\n",
    "    'sector7':sec7,\n",
    "    'sector8':sec8}\n",
    "    }\n",
    "sectorcoords=[dd]\n",
    "os.chdir('E:\\\\atmri\\CD_R\\ATCO_preferences_interface\\Scenario_interface_work\\data')\n",
    "import json\n",
    "with open('SgSectors_LonLat.json','w') as json_file:\n",
    "    json.dump(sectorcoords,json_file)\n",
    "\n",
    "df2=pd.read_json('SgSectors_LonLat.json')\n",
    "\n",
    "\n",
    "\"\"\"the sqaure region with 'a' as the bottom left point (moving anticlock abcd)\n",
    "    a,b,c,d= [lon,lat] format\"\"\"\n",
    "a = np.array([102,1])\n",
    "b = np.array([108,1])\n",
    "c = np.array([108,7])\n",
    "d = np.array([102,7])\n",
    "\n",
    "horizontal_length  = b[0]-a[0]\n",
    "vertical_length = d[1]-a[1]\n",
    "keylist=['sector1','sector2','sector3','sector4','sector5','sector6','sector7','sector8']\n",
    "l1=[[],[],[],[],[],[],[],[]]\n",
    "for i in range(len(keylist)):\n",
    "    for j in range(len(df2.Sectors[0][keylist[i]])):\n",
    "        P= np.array([df2.Sectors[0][keylist[i]][j][0],df2.Sectors[0][keylist[i]][j][1]])\n",
    "        # print(P)\n",
    "        vert_d = P[1]-a[1]\n",
    "        horiz_d= P[0]-a[0]\n",
    "        l1[i].append([(900/horizontal_length)*horiz_d,900-(900/vertical_length)*vert_d])\n",
    "\n",
    "sectordict = {'Sectors':{\n",
    "                'sector1':{'type': 'secondary', 'boundary': l1[0]},\n",
    "                'sector2':{'type': 'secondary', 'boundary': l1[1]},\n",
    "                'sector3':{'type': 'secondary', 'boundary': l1[2]},\n",
    "                'sector4':{'type': 'secondary', 'boundary': l1[3]},\n",
    "                'sector5':{'type': 'secondary',  'boundary': l1[4]},\n",
    "                'sector6':{'type': 'primary', 'boundary':  l1[5]},\n",
    "                'sector7':{'type':'secondary', 'boundary': l1[6]},\n",
    "                'sector8':{'type':'secondary' ,'boundary':l1[7]}\n",
    "                }}\n",
    "\n",
    "sectorpoints=[sectordict]\n",
    "sectorpoints"
   ]
  },
  {
   "cell_type": "code",
   "execution_count": 16,
   "metadata": {},
   "outputs": [
    {
     "output_type": "execute_result",
     "data": {
      "text/plain": "{'name': '20DME (20 DME PU)',\n 'lat': '1.758',\n 'lon': '103.970',\n 'latdms': '014530N',\n 'londms': '1035812E',\n 'transf_x': -6.750000000000256,\n 'transf_y': 170.55}"
     },
     "metadata": {},
     "execution_count": 16
    }
   ],
   "source": [
    "df = pd.read_json('E:/atmri/CD_R/ATCO_preferences_interface/Scenario_interface_work/python-code/14Test1.json')\n",
    "\n",
    "\n",
    "(df.segments[0][1])"
   ]
  },
  {
   "cell_type": "code",
   "execution_count": 17,
   "metadata": {
    "tags": [
     "outputPrepend"
    ]
   },
   "outputs": [
    {
     "output_type": "stream",
     "name": "stdout",
     "text": "_Copy1.WayPoint object at 0x000001DC0669FB80>]\nj:  115\n[<classLib_yash_Copy1.WayPoint object at 0x000001DC0669FB80>, <classLib_yash_Copy1.WayPoint object at 0x000001DC0669FBE0>]\nj:  117\n[<classLib_yash_Copy1.WayPoint object at 0x000001DC0669FC70>, <classLib_yash_Copy1.WayPoint object at 0x000001DC0669FCA0>]\nj:  118\n[<classLib_yash_Copy1.WayPoint object at 0x000001DC0669FCA0>, <classLib_yash_Copy1.WayPoint object at 0x000001DC0669FD00>]\nj:  119\n[<classLib_yash_Copy1.WayPoint object at 0x000001DC0669FD00>, <classLib_yash_Copy1.WayPoint object at 0x000001DC0669FD60>]\nj:  120\n[<classLib_yash_Copy1.WayPoint object at 0x000001DC0669FD60>, <classLib_yash_Copy1.WayPoint object at 0x000001DC0669FDC0>]\nj:  121\n[<classLib_yash_Copy1.WayPoint object at 0x000001DC0669FDC0>, <classLib_yash_Copy1.WayPoint object at 0x000001DC0669FE20>]\nj:  122\n[<classLib_yash_Copy1.WayPoint object at 0x000001DC0669FE20>, <classLib_yash_Copy1.WayPoint object at 0x000001DC0669FEB0>]\nj:  124\n[<classLib_yash_Copy1.WayPoint object at 0x000001DC0669FFA0>, <classLib_yash_Copy1.WayPoint object at 0x000001DC052AAD90>]\nj:  125\n[<classLib_yash_Copy1.WayPoint object at 0x000001DC052AAD90>, <classLib_yash_Copy1.WayPoint object at 0x000001DC052AAE80>]\nj:  126\n[<classLib_yash_Copy1.WayPoint object at 0x000001DC052AAE80>, <classLib_yash_Copy1.WayPoint object at 0x000001DC052AAA00>]\nj:  127\n[<classLib_yash_Copy1.WayPoint object at 0x000001DC052AAA00>, <classLib_yash_Copy1.WayPoint object at 0x000001DC052AA310>]\nj:  128\n[<classLib_yash_Copy1.WayPoint object at 0x000001DC052AA310>, <classLib_yash_Copy1.WayPoint object at 0x000001DC052AA430>]\nj:  129\n[<classLib_yash_Copy1.WayPoint object at 0x000001DC052AA430>, <classLib_yash_Copy1.WayPoint object at 0x000001DC052AA220>]\nj:  130\n[<classLib_yash_Copy1.WayPoint object at 0x000001DC052AA220>, <classLib_yash_Copy1.WayPoint object at 0x000001DC052AA0D0>]\nj:  132\n[<classLib_yash_Copy1.WayPoint object at 0x000001DC052AAA30>, <classLib_yash_Copy1.WayPoint object at 0x000001DC052AA2E0>]\nj:  133\n[<classLib_yash_Copy1.WayPoint object at 0x000001DC052AA2E0>, <classLib_yash_Copy1.WayPoint object at 0x000001DC066A4A60>]\nj:  134\n[<classLib_yash_Copy1.WayPoint object at 0x000001DC066A4A60>, <classLib_yash_Copy1.WayPoint object at 0x000001DC066A4F70>]\nj:  135\n[<classLib_yash_Copy1.WayPoint object at 0x000001DC066A4F70>, <classLib_yash_Copy1.WayPoint object at 0x000001DC066A4190>]\nj:  136\n[<classLib_yash_Copy1.WayPoint object at 0x000001DC066A4190>, <classLib_yash_Copy1.WayPoint object at 0x000001DC066A47F0>]\nj:  137\n[<classLib_yash_Copy1.WayPoint object at 0x000001DC066A47F0>, <classLib_yash_Copy1.WayPoint object at 0x000001DC066A4FD0>]\nj:  138\n[<classLib_yash_Copy1.WayPoint object at 0x000001DC066A4FD0>, <classLib_yash_Copy1.WayPoint object at 0x000001DC066A4910>]\nj:  140\n[<classLib_yash_Copy1.WayPoint object at 0x000001DC066A4070>, <classLib_yash_Copy1.WayPoint object at 0x000001DC066A4460>]\nj:  142\n[<classLib_yash_Copy1.WayPoint object at 0x000001DC066A4BB0>, <classLib_yash_Copy1.WayPoint object at 0x000001DC066A4280>]\nj:  143\n[<classLib_yash_Copy1.WayPoint object at 0x000001DC066A4280>, <classLib_yash_Copy1.WayPoint object at 0x000001DC066A4760>]\nj:  145\n[<classLib_yash_Copy1.WayPoint object at 0x000001DC02B86790>, <classLib_yash_Copy1.WayPoint object at 0x000001DC0385D5B0>]\nj:  146\n[<classLib_yash_Copy1.WayPoint object at 0x000001DC0385D5B0>, <classLib_yash_Copy1.WayPoint object at 0x000001DC0385D310>]\nj:  147\n[<classLib_yash_Copy1.WayPoint object at 0x000001DC0385D310>, <classLib_yash_Copy1.WayPoint object at 0x000001DC0385DBE0>]\nj:  149\n[<classLib_yash_Copy1.WayPoint object at 0x000001DC06658910>, <classLib_yash_Copy1.WayPoint object at 0x000001DC066589A0>]\nj:  151\n[<classLib_yash_Copy1.WayPoint object at 0x000001DC06658820>, <classLib_yash_Copy1.WayPoint object at 0x000001DC066582E0>]\nj:  0\n[<classLib_yash_Copy1.WayPoint object at 0x000001DC0664ECA0>, <classLib_yash_Copy1.WayPoint object at 0x000001DC0664E250>]\nj:  1\n[<classLib_yash_Copy1.WayPoint object at 0x000001DC0664E250>, <classLib_yash_Copy1.WayPoint object at 0x000001DC0664E3D0>]\nj:  2\n[<classLib_yash_Copy1.WayPoint object at 0x000001DC0664E3D0>, <classLib_yash_Copy1.WayPoint object at 0x000001DC0664ECD0>]\nj:  3\n[<classLib_yash_Copy1.WayPoint object at 0x000001DC0664ECD0>, <classLib_yash_Copy1.WayPoint object at 0x000001DC0664EB50>]\nj:  4\n[<classLib_yash_Copy1.WayPoint object at 0x000001DC0664EB50>, <classLib_yash_Copy1.WayPoint object at 0x000001DC0664E4C0>]\nj:  6\n[<classLib_yash_Copy1.WayPoint object at 0x000001DC0664EFD0>, <classLib_yash_Copy1.WayPoint object at 0x000001DC0664E9A0>]\nj:  7\n[<classLib_yash_Copy1.WayPoint object at 0x000001DC0664E9A0>, <classLib_yash_Copy1.WayPoint object at 0x000001DC0664E880>]\nj:  9\n[<classLib_yash_Copy1.WayPoint object at 0x000001DC0664E760>, <classLib_yash_Copy1.WayPoint object at 0x000001DC06658BB0>]\nj:  10\n[<classLib_yash_Copy1.WayPoint object at 0x000001DC06658BB0>, <classLib_yash_Copy1.WayPoint object at 0x000001DC06658CA0>]\nj:  11\n[<classLib_yash_Copy1.WayPoint object at 0x000001DC06658CA0>, <classLib_yash_Copy1.WayPoint object at 0x000001DC06658B80>]\nj:  13\n[<classLib_yash_Copy1.WayPoint object at 0x000001DC06658730>, <classLib_yash_Copy1.WayPoint object at 0x000001DC06658430>]\nj:  14\n[<classLib_yash_Copy1.WayPoint object at 0x000001DC06658430>, <classLib_yash_Copy1.WayPoint object at 0x000001DC06658C70>]\nj:  15\n[<classLib_yash_Copy1.WayPoint object at 0x000001DC06658C70>, <classLib_yash_Copy1.WayPoint object at 0x000001DC06658070>]\nj:  16\n[<classLib_yash_Copy1.WayPoint object at 0x000001DC06658070>, <classLib_yash_Copy1.WayPoint object at 0x000001DC06658FD0>]\nj:  17\n[<classLib_yash_Copy1.WayPoint object at 0x000001DC06658FD0>, <classLib_yash_Copy1.WayPoint object at 0x000001DC06658100>]\nj:  19\n[<classLib_yash_Copy1.WayPoint object at 0x000001DC066581F0>, <classLib_yash_Copy1.WayPoint object at 0x000001DC06658C40>]\nj:  20\n[<classLib_yash_Copy1.WayPoint object at 0x000001DC06658C40>, <classLib_yash_Copy1.WayPoint object at 0x000001DC06658DF0>]\nj:  21\n[<classLib_yash_Copy1.WayPoint object at 0x000001DC06658DF0>, <classLib_yash_Copy1.WayPoint object at 0x000001DC066588B0>]\nj:  22\n[<classLib_yash_Copy1.WayPoint object at 0x000001DC066588B0>, <classLib_yash_Copy1.WayPoint object at 0x000001DC06658310>]\nj:  23\n[<classLib_yash_Copy1.WayPoint object at 0x000001DC06658310>, <classLib_yash_Copy1.WayPoint object at 0x000001DC06658F40>]\nj:  25\n[<classLib_yash_Copy1.WayPoint object at 0x000001DC066580A0>, <classLib_yash_Copy1.WayPoint object at 0x000001DC06658670>]\nj:  27\n[<classLib_yash_Copy1.WayPoint object at 0x000001DC06658C10>, <classLib_yash_Copy1.WayPoint object at 0x000001DC06658A00>]\nj:  28\n[<classLib_yash_Copy1.WayPoint object at 0x000001DC06658A00>, <classLib_yash_Copy1.WayPoint object at 0x000001DC06658CD0>]\nj:  29\n[<classLib_yash_Copy1.WayPoint object at 0x000001DC06658CD0>, <classLib_yash_Copy1.WayPoint object at 0x000001DC06658370>]\nj:  31\n[<classLib_yash_Copy1.WayPoint object at 0x000001DC06658280>, <classLib_yash_Copy1.WayPoint object at 0x000001DC066585B0>]\nj:  32\n[<classLib_yash_Copy1.WayPoint object at 0x000001DC066585B0>, <classLib_yash_Copy1.WayPoint object at 0x000001DC06658A90>]\nj:  33\n[<classLib_yash_Copy1.WayPoint object at 0x000001DC06658A90>, <classLib_yash_Copy1.WayPoint object at 0x000001DC06658BE0>]\nj:  34\n[<classLib_yash_Copy1.WayPoint object at 0x000001DC06658BE0>, <classLib_yash_Copy1.WayPoint object at 0x000001DC06658E80>]\nj:  36\n[<classLib_yash_Copy1.WayPoint object at 0x000001DC066582B0>, <classLib_yash_Copy1.WayPoint object at 0x000001DC06658B20>]\nj:  37\n[<classLib_yash_Copy1.WayPoint object at 0x000001DC06658B20>, <classLib_yash_Copy1.WayPoint object at 0x000001DC06658760>]\nj:  38\n[<classLib_yash_Copy1.WayPoint object at 0x000001DC06658760>, <classLib_yash_Copy1.WayPoint object at 0x000001DC066581C0>]\nj:  39\n[<classLib_yash_Copy1.WayPoint object at 0x000001DC066581C0>, <classLib_yash_Copy1.WayPoint object at 0x000001DC06658880>]\nj:  40\n[<classLib_yash_Copy1.WayPoint object at 0x000001DC06658880>, <classLib_yash_Copy1.WayPoint object at 0x000001DC06667A60>]\nj:  42\n[<classLib_yash_Copy1.WayPoint object at 0x000001DC066672B0>, <classLib_yash_Copy1.WayPoint object at 0x000001DC06667BE0>]\nj:  43\n[<classLib_yash_Copy1.WayPoint object at 0x000001DC06667BE0>, <classLib_yash_Copy1.WayPoint object at 0x000001DC06667E20>]\nj:  44\n[<classLib_yash_Copy1.WayPoint object at 0x000001DC06667E20>, <classLib_yash_Copy1.WayPoint object at 0x000001DC066674F0>]\nj:  45\n[<classLib_yash_Copy1.WayPoint object at 0x000001DC066674F0>, <classLib_yash_Copy1.WayPoint object at 0x000001DC06667940>]\nj:  46\n[<classLib_yash_Copy1.WayPoint object at 0x000001DC06667940>, <classLib_yash_Copy1.WayPoint object at 0x000001DC05602AF0>]\nj:  48\n[<classLib_yash_Copy1.WayPoint object at 0x000001DC05602D30>, <classLib_yash_Copy1.WayPoint object at 0x000001DC05602DC0>]\nj:  49\n[<classLib_yash_Copy1.WayPoint object at 0x000001DC05602DC0>, <classLib_yash_Copy1.WayPoint object at 0x000001DC05602D00>]\nj:  50\n[<classLib_yash_Copy1.WayPoint object at 0x000001DC05602D00>, <classLib_yash_Copy1.WayPoint object at 0x000001DC05602F70>]\nj:  51\n[<classLib_yash_Copy1.WayPoint object at 0x000001DC05602F70>, <classLib_yash_Copy1.WayPoint object at 0x000001DC066A4A30>]\nj:  52\n[<classLib_yash_Copy1.WayPoint object at 0x000001DC066A4A30>, <classLib_yash_Copy1.WayPoint object at 0x000001DC066A44C0>]\nj:  53\n[<classLib_yash_Copy1.WayPoint object at 0x000001DC066A44C0>, <classLib_yash_Copy1.WayPoint object at 0x000001DC066A4F10>]\nj:  54\n[<classLib_yash_Copy1.WayPoint object at 0x000001DC066A4F10>, <classLib_yash_Copy1.WayPoint object at 0x000001DC066A4EE0>]\nj:  55\n[<classLib_yash_Copy1.WayPoint object at 0x000001DC066A4EE0>, <classLib_yash_Copy1.WayPoint object at 0x000001DC066A4E50>]\nj:  56\n[<classLib_yash_Copy1.WayPoint object at 0x000001DC066A4E50>, <classLib_yash_Copy1.WayPoint object at 0x000001DC066A4DF0>]\nj:  58\n[<classLib_yash_Copy1.WayPoint object at 0x000001DC066A4D60>, <classLib_yash_Copy1.WayPoint object at 0x000001DC066A4D00>]\nj:  59\n[<classLib_yash_Copy1.WayPoint object at 0x000001DC066A4D00>, <classLib_yash_Copy1.WayPoint object at 0x000001DC066A4BE0>]\nj:  60\n[<classLib_yash_Copy1.WayPoint object at 0x000001DC066A4BE0>, <classLib_yash_Copy1.WayPoint object at 0x000001DC066A4B80>]\nj:  62\n[<classLib_yash_Copy1.WayPoint object at 0x000001DC066A4B20>, <classLib_yash_Copy1.WayPoint object at 0x000001DC066A4AC0>]\nj:  63\n[<classLib_yash_Copy1.WayPoint object at 0x000001DC066A4AC0>, <classLib_yash_Copy1.WayPoint object at 0x000001DC066A4AF0>]\nj:  64\n[<classLib_yash_Copy1.WayPoint object at 0x000001DC066A4AF0>, <classLib_yash_Copy1.WayPoint object at 0x000001DC066A4A90>]\nj:  65\n[<classLib_yash_Copy1.WayPoint object at 0x000001DC066A4A90>, <classLib_yash_Copy1.WayPoint object at 0x000001DC066A4970>]\nj:  67\n[<classLib_yash_Copy1.WayPoint object at 0x000001DC066A4850>, <classLib_yash_Copy1.WayPoint object at 0x000001DC066A47C0>]\nj:  69\n[<classLib_yash_Copy1.WayPoint object at 0x000001DC066587F0>, <classLib_yash_Copy1.WayPoint object at 0x000001DC06658250>]\nj:  70\n[<classLib_yash_Copy1.WayPoint object at 0x000001DC06658250>, <classLib_yash_Copy1.WayPoint object at 0x000001DC06658520>]\nj:  71\n[<classLib_yash_Copy1.WayPoint object at 0x000001DC06658520>, <classLib_yash_Copy1.WayPoint object at 0x000001DC0664E730>]\nj:  72\n[<classLib_yash_Copy1.WayPoint object at 0x000001DC0664E730>, <classLib_yash_Copy1.WayPoint object at 0x000001DC0664E2B0>]\nj:  73\n[<classLib_yash_Copy1.WayPoint object at 0x000001DC0664E2B0>, <classLib_yash_Copy1.WayPoint object at 0x000001DC0664EEE0>]\nj:  74\n[<classLib_yash_Copy1.WayPoint object at 0x000001DC0664EEE0>, <classLib_yash_Copy1.WayPoint object at 0x000001DC0664E460>]\nj:  75\n[<classLib_yash_Copy1.WayPoint object at 0x000001DC0664E460>, <classLib_yash_Copy1.WayPoint object at 0x000001DC0664E4F0>]\nj:  76\n[<classLib_yash_Copy1.WayPoint object at 0x000001DC0664E4F0>, <classLib_yash_Copy1.WayPoint object at 0x000001DC0664E7C0>]\nj:  78\n[<classLib_yash_Copy1.WayPoint object at 0x000001DC0664E610>, <classLib_yash_Copy1.WayPoint object at 0x000001DC0664E910>]\nj:  79\n[<classLib_yash_Copy1.WayPoint object at 0x000001DC0664E910>, <classLib_yash_Copy1.WayPoint object at 0x000001DC0664E400>]\nj:  80\n[<classLib_yash_Copy1.WayPoint object at 0x000001DC0664E400>, <classLib_yash_Copy1.WayPoint object at 0x000001DC0664E9D0>]\nj:  81\n[<classLib_yash_Copy1.WayPoint object at 0x000001DC0664E9D0>, <classLib_yash_Copy1.WayPoint object at 0x000001DC0664ED90>]\nj:  82\n[<classLib_yash_Copy1.WayPoint object at 0x000001DC0664ED90>, <classLib_yash_Copy1.WayPoint object at 0x000001DC0664ED60>]\nj:  83\n[<classLib_yash_Copy1.WayPoint object at 0x000001DC0664ED60>, <classLib_yash_Copy1.WayPoint object at 0x000001DC0664EA00>]\nj:  84\n[<classLib_yash_Copy1.WayPoint object at 0x000001DC0664EA00>, <classLib_yash_Copy1.WayPoint object at 0x000001DC0664E070>]\nj:  86\n[<classLib_yash_Copy1.WayPoint object at 0x000001DC0664E190>, <classLib_yash_Copy1.WayPoint object at 0x000001DC0664E2E0>]\nj:  87\n[<classLib_yash_Copy1.WayPoint object at 0x000001DC0664E2E0>, <classLib_yash_Copy1.WayPoint object at 0x000001DC0664E670>]\nj:  89\n[<classLib_yash_Copy1.WayPoint object at 0x000001DC06669CD0>, <classLib_yash_Copy1.WayPoint object at 0x000001DC06669460>]\nj:  90\n[<classLib_yash_Copy1.WayPoint object at 0x000001DC06669460>, <classLib_yash_Copy1.WayPoint object at 0x000001DC06669BE0>]\nj:  91\n[<classLib_yash_Copy1.WayPoint object at 0x000001DC06669BE0>, <classLib_yash_Copy1.WayPoint object at 0x000001DC06669E20>]\nj:  92\n[<classLib_yash_Copy1.WayPoint object at 0x000001DC06669E20>, <classLib_yash_Copy1.WayPoint object at 0x000001DC06669EB0>]\nj:  94\n[<classLib_yash_Copy1.WayPoint object at 0x000001DC06669040>, <classLib_yash_Copy1.WayPoint object at 0x000001DC06669BB0>]\nj:  95\n[<classLib_yash_Copy1.WayPoint object at 0x000001DC06669BB0>, <classLib_yash_Copy1.WayPoint object at 0x000001DC066696D0>]\nj:  96\n[<classLib_yash_Copy1.WayPoint object at 0x000001DC066696D0>, <classLib_yash_Copy1.WayPoint object at 0x000001DC066697C0>]\nj:  97\n[<classLib_yash_Copy1.WayPoint object at 0x000001DC066697C0>, <classLib_yash_Copy1.WayPoint object at 0x000001DC06669700>]\nj:  98\n[<classLib_yash_Copy1.WayPoint object at 0x000001DC06669700>, <classLib_yash_Copy1.WayPoint object at 0x000001DC06669D60>]\nj:  99\n[<classLib_yash_Copy1.WayPoint object at 0x000001DC06669D60>, <classLib_yash_Copy1.WayPoint object at 0x000001DC06669070>]\nj:  100\n[<classLib_yash_Copy1.WayPoint object at 0x000001DC06669070>, <classLib_yash_Copy1.WayPoint object at 0x000001DC06669490>]\nj:  102\n[<classLib_yash_Copy1.WayPoint object at 0x000001DC06669B50>, <classLib_yash_Copy1.WayPoint object at 0x000001DC06669A00>]\nj:  103\n[<classLib_yash_Copy1.WayPoint object at 0x000001DC06669A00>, <classLib_yash_Copy1.WayPoint object at 0x000001DC06669100>]\nj:  104\n[<classLib_yash_Copy1.WayPoint object at 0x000001DC06669100>, <classLib_yash_Copy1.WayPoint object at 0x000001DC06669F70>]\nj:  106\n[<classLib_yash_Copy1.WayPoint object at 0x000001DC066694F0>, <classLib_yash_Copy1.WayPoint object at 0x000001DC06669340>]\nj:  107\n[<classLib_yash_Copy1.WayPoint object at 0x000001DC06669340>, <classLib_yash_Copy1.WayPoint object at 0x000001DC06669AC0>]\nj:  108\n[<classLib_yash_Copy1.WayPoint object at 0x000001DC06669AC0>, <classLib_yash_Copy1.WayPoint object at 0x000001DC066695B0>]\nj:  109\n[<classLib_yash_Copy1.WayPoint object at 0x000001DC066695B0>, <classLib_yash_Copy1.WayPoint object at 0x000001DC066699A0>]\nj:  110\n[<classLib_yash_Copy1.WayPoint object at 0x000001DC066699A0>, <classLib_yash_Copy1.WayPoint object at 0x000001DC06669A90>]\nj:  111\n[<classLib_yash_Copy1.WayPoint object at 0x000001DC06669A90>, <classLib_yash_Copy1.WayPoint object at 0x000001DC06669A60>]\nj:  112\n[<classLib_yash_Copy1.WayPoint object at 0x000001DC06669A60>, <classLib_yash_Copy1.WayPoint object at 0x000001DC06669850>]\nj:  113\n[<classLib_yash_Copy1.WayPoint object at 0x000001DC06669850>, <classLib_yash_Copy1.WayPoint object at 0x000001DC06669910>]\nj:  114\n[<classLib_yash_Copy1.WayPoint object at 0x000001DC06669910>, <classLib_yash_Copy1.WayPoint object at 0x000001DC06669DF0>]\nj:  115\n[<classLib_yash_Copy1.WayPoint object at 0x000001DC06669DF0>, <classLib_yash_Copy1.WayPoint object at 0x000001DC066690A0>]\nj:  117\n[<classLib_yash_Copy1.WayPoint object at 0x000001DC066A46D0>, <classLib_yash_Copy1.WayPoint object at 0x000001DC066A4670>]\nj:  118\n[<classLib_yash_Copy1.WayPoint object at 0x000001DC066A4670>, <classLib_yash_Copy1.WayPoint object at 0x000001DC066A4580>]\nj:  119\n[<classLib_yash_Copy1.WayPoint object at 0x000001DC066A4580>, <classLib_yash_Copy1.WayPoint object at 0x000001DC066A4400>]\nj:  120\n[<classLib_yash_Copy1.WayPoint object at 0x000001DC066A4400>, <classLib_yash_Copy1.WayPoint object at 0x000001DC066A4040>]\nj:  121\n[<classLib_yash_Copy1.WayPoint object at 0x000001DC066A4040>, <classLib_yash_Copy1.WayPoint object at 0x000001DC066A40A0>]\nj:  122\n[<classLib_yash_Copy1.WayPoint object at 0x000001DC066A40A0>, <classLib_yash_Copy1.WayPoint object at 0x000001DC066A4220>]\nj:  124\n[<classLib_yash_Copy1.WayPoint object at 0x000001DC066A42B0>, <classLib_yash_Copy1.WayPoint object at 0x000001DC066A42E0>]\nj:  125\n[<classLib_yash_Copy1.WayPoint object at 0x000001DC066A42E0>, <classLib_yash_Copy1.WayPoint object at 0x000001DC066A4310>]\nj:  126\n[<classLib_yash_Copy1.WayPoint object at 0x000001DC066A4310>, <classLib_yash_Copy1.WayPoint object at 0x000001DC0669F4C0>]\nj:  127\n[<classLib_yash_Copy1.WayPoint object at 0x000001DC0669F4C0>, <classLib_yash_Copy1.WayPoint object at 0x000001DC0669F9A0>]\nj:  128\n[<classLib_yash_Copy1.WayPoint object at 0x000001DC0669F9A0>, <classLib_yash_Copy1.WayPoint object at 0x000001DC0669FE80>]\nj:  129\n[<classLib_yash_Copy1.WayPoint object at 0x000001DC0669FE80>, <classLib_yash_Copy1.WayPoint object at 0x000001DC0669FC40>]\nj:  130\n[<classLib_yash_Copy1.WayPoint object at 0x000001DC0669FC40>, <classLib_yash_Copy1.WayPoint object at 0x000001DC0669F6D0>]\nj:  132\n[<classLib_yash_Copy1.WayPoint object at 0x000001DC0669F190>, <classLib_yash_Copy1.WayPoint object at 0x000001DC0669FFD0>]\nj:  133\n[<classLib_yash_Copy1.WayPoint object at 0x000001DC0669FFD0>, <classLib_yash_Copy1.WayPoint object at 0x000001DC066A1280>]\nj:  134\n[<classLib_yash_Copy1.WayPoint object at 0x000001DC066A1280>, <classLib_yash_Copy1.WayPoint object at 0x000001DC066A14C0>]\nj:  135\n[<classLib_yash_Copy1.WayPoint object at 0x000001DC066A14C0>, <classLib_yash_Copy1.WayPoint object at 0x000001DC066A1550>]\nj:  136\n[<classLib_yash_Copy1.WayPoint object at 0x000001DC066A1550>, <classLib_yash_Copy1.WayPoint object at 0x000001DC066A15B0>]\nj:  137\n[<classLib_yash_Copy1.WayPoint object at 0x000001DC066A15B0>, <classLib_yash_Copy1.WayPoint object at 0x000001DC066A1CD0>]\nj:  138\n[<classLib_yash_Copy1.WayPoint object at 0x000001DC066A1CD0>, <classLib_yash_Copy1.WayPoint object at 0x000001DC066A1520>]\nj:  140\n[<classLib_yash_Copy1.WayPoint object at 0x000001DC066A19D0>, <classLib_yash_Copy1.WayPoint object at 0x000001DC066A1040>]\nj:  142\n[<classLib_yash_Copy1.WayPoint object at 0x000001DC066A1430>, <classLib_yash_Copy1.WayPoint object at 0x000001DC066A15E0>]\nj:  143\n[<classLib_yash_Copy1.WayPoint object at 0x000001DC066A15E0>, <classLib_yash_Copy1.WayPoint object at 0x000001DC066A12E0>]\nj:  145\n[<classLib_yash_Copy1.WayPoint object at 0x000001DC066A1C10>, <classLib_yash_Copy1.WayPoint object at 0x000001DC066A1820>]\nj:  146\n[<classLib_yash_Copy1.WayPoint object at 0x000001DC066A1820>, <classLib_yash_Copy1.WayPoint object at 0x000001DC066A1460>]\nj:  147\n[<classLib_yash_Copy1.WayPoint object at 0x000001DC066A1460>, <classLib_yash_Copy1.WayPoint object at 0x000001DC066A1340>]\nj:  149\n[<classLib_yash_Copy1.WayPoint object at 0x000001DC066583A0>, <classLib_yash_Copy1.WayPoint object at 0x000001DC066A1610>]\nj:  151\n[<classLib_yash_Copy1.WayPoint object at 0x000001DC066A1AF0>, <classLib_yash_Copy1.WayPoint object at 0x000001DC066A1FD0>]\n"
    }
   ],
   "source": [
    "datalist=[]\n",
    "for i in range(10):\n",
    "\n",
    "    waypointList=[]\n",
    "    for i in range(len(df)):\n",
    "        for j in range(len(df.segments[i])):\n",
    "            waypointList.append(WayPoint(df.segments[i][j]['name'],[df.segments[i][j]['transf_x'],900-df.segments[i][j]['transf_y']]))\n",
    "\n",
    "    airwayList=[]\n",
    "    a=0\n",
    "    for i in range(len(df.segments)):\n",
    "        x=len(df.segments[i])\n",
    "        # print('x:',x)\n",
    "        for j in range(a,len(waypointList[:a+x])-1):\n",
    "            print('j: ',j)\n",
    "            li= [waypointList[j],waypointList[j+1]]\n",
    "            print(li)\n",
    "            airwayList.append(Airways('aw'+str(j), li[0],li[1]))\n",
    "        a+=x\n",
    "       \n",
    "    # for k in range(len(waypointList)-1):\n",
    "    #     li=[waypointList[k],waypointList[k+1]]\n",
    "    #     airwayList.append(Airways('aw'+str(k), li[0],li[1]))\n",
    "\n",
    "\n",
    "\n",
    "    ac_per_scenario = 6\n",
    "    aircraftList=[]\n",
    "    aircraft_name=[]\n",
    "    for n in range(1,ac_per_scenario+1):\n",
    "        aircraft_name.append('ac'+str(n))\n",
    "    for i in range(ac_per_scenario):\n",
    "        point=np.random.choice(airwayList)\n",
    "        d=[20,30,40,50,60,70,80,90,100,110,120,140,150,170,190,210,220,230,240,250] #offset,\n",
    "        aircraft = Aircraft(str(aircraft_name[i]), point , np.random.choice(d)) #this randomization will create multiple scenaios\n",
    "        aircraftList.append(aircraft)\n",
    "\n",
    "\n",
    "    d= Scenario(waypointList,airwayList)\n",
    "    dict4={}\n",
    "    for i in range(len(waypointList)):\n",
    "        waydict={waypointList[i].name:{\n",
    "            'x':waypointList[i].x,\n",
    "            'y':waypointList[i].y}}\n",
    "        dict4.update(waydict)\n",
    "\n",
    "    dict5={}\n",
    "    for i in range(len(airwayList)):\n",
    "        airwaydict= {airwayList[i].name:{\n",
    "            'start':airwayList[i].start_wp,\n",
    "            'end' : airwayList[i].end_wp}}\n",
    "        dict5.update(airwaydict)\n",
    "\n",
    "    dict6={}\n",
    "    for i in range(len(aircraftList)):\n",
    "        aircraftdict= {aircraftList[i].name:{\n",
    "            'x':aircraftList[i].offset_x,\n",
    "            'y':aircraftList[i].offset_y,\n",
    "            'dir_x': aircraftList[i].dir_x,\n",
    "            'dir_y': aircraftList[i].dir_y}}\n",
    "        dict6.update(aircraftdict)    \n",
    "\n",
    "    data_dict={'waypoints':dict4, 'airways':dict5,'aircrafts':dict6, \n",
    "        'sectors':{\n",
    "                    'sector1':{'type': 'secondary', 'boundary': l1[0]},\n",
    "                    'sector2':{'type': 'secondary', 'boundary': l1[1]},\n",
    "                    'sector3':{'type': 'secondary', 'boundary': l1[2]},\n",
    "                    'sector4':{'type': 'secondary', 'boundary': l1[3]},\n",
    "                    'sector5':{'type': 'secondary',  'boundary': l1[4]},\n",
    "                    'sector6':{'type': 'primary', 'boundary':  l1[5]},\n",
    "                    'sector7':{'type':'secondary', 'boundary': l1[6]},\n",
    "                    'sector8':{'type':'secondary' ,'boundary':l1[7]}\n",
    "                    }}\n",
    "\n",
    "\n",
    "    datalist.append(data_dict) "
   ]
  },
  {
   "cell_type": "code",
   "execution_count": 20,
   "metadata": {},
   "outputs": [
    {
     "output_type": "execute_result",
     "data": {
      "text/plain": "WindowsPath('E:/atmri/CD_R/ATCO_preferences_interface/Scenario_interface_work/data')"
     },
     "metadata": {},
     "execution_count": 20
    }
   ],
   "source": [
    "\n",
    "Path.cwd()"
   ]
  },
  {
   "cell_type": "code",
   "execution_count": 22,
   "metadata": {},
   "outputs": [],
   "source": [
    "import json\n",
    "with open('scenarioWith_sector_allairwaytest_14july.json', 'w') as json_file:\n",
    "    json.dump(datalist, json_file)\n"
   ]
  },
  {
   "cell_type": "code",
   "execution_count": null,
   "metadata": {},
   "outputs": [],
   "source": []
  }
 ],
 "metadata": {
  "language_info": {
   "codemirror_mode": {
    "name": "ipython",
    "version": 3
   },
   "file_extension": ".py",
   "mimetype": "text/x-python",
   "name": "python",
   "nbconvert_exporter": "python",
   "pygments_lexer": "ipython3",
   "version": "3.8.3-final"
  },
  "orig_nbformat": 2,
  "kernelspec": {
   "name": "python38364bitatcovizcondaa3d166ff95094005a202b42906b28fb0",
   "display_name": "Python 3.8.3 64-bit ('ATCOviz': conda)"
  }
 },
 "nbformat": 4,
 "nbformat_minor": 2
}