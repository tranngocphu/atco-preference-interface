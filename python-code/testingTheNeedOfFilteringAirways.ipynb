{
 "cells": [
  {
   "cell_type": "code",
   "execution_count": 1,
   "metadata": {},
   "outputs": [],
   "source": [
    "import pandas as pd\n",
    "import numpy as np\n",
    "from pathlib import Path\n",
    "import numpy as np\n",
    "from classLib_yash import *\n",
    "from shapely.geometry import Polygon, Point\n",
    "from shapely.ops import transform\n",
    "from functools import partial\n",
    "import pyproj"
   ]
  },
  {
   "cell_type": "code",
   "execution_count": 2,
   "metadata": {},
   "outputs": [
    {
     "output_type": "execute_result",
     "data": {
      "text/plain": "WindowsPath('e:/ATMRI/CD_R/ATCO_preferences_interface/Scenario_interface_work/python-code')"
     },
     "metadata": {},
     "execution_count": 2
    }
   ],
   "source": [
    "Path.cwd()"
   ]
  },
  {
   "cell_type": "code",
   "execution_count": 3,
   "metadata": {},
   "outputs": [
    {
     "output_type": "execute_result",
     "data": {
      "text/plain": "(   name                                           segments\n 0  A224  [{'name': 'JOHOR BAHRU DVOR/DME (VJB)', 'lat':...\n 1  A457  [{'name': 'JOHOR BAHRU DVOR/DME (VJB)', 'lat':...\n 2  A464  [{'name': 'ARAMA (50 DME SJ)(Delegated airspac...,\n 62)"
     },
     "metadata": {},
     "execution_count": 3
    }
   ],
   "source": [
    "os.chdir('e:/ATMRI/CD_R/ATCO_preferences_interface/Scenario_interface_work')\n",
    "airway = pd.read_json('airways.json')\n",
    "airway.head(3),len(airway)"
   ]
  },
  {
   "cell_type": "code",
   "execution_count": 4,
   "metadata": {},
   "outputs": [],
   "source": [
    "# def filter_airways(x1,y1,x2,y2,x3,y3,x4,y4,airway):\n",
    "#     filtered_airways = pd.DataFrame()\n",
    "\n",
    "#     boundary_coordinates = ([x1,y1],[x2,y2],[x3,y3],[x4,y4])\n",
    "\n",
    "#     poly = Polygon(boundary_coordinates)\n",
    "#     for i in range(len(airway)):\n",
    "#         for j in range(len(airway.segments[i])):\n",
    "#             point1 = Point([float(airway.segments[i][j]['lat']),float(airway.segments[i][j]['lon'])])\n",
    "#         # point2 = Point([float(airway.segments[i][1]['lat']),float(airway.segments[i][1]['lon'])])\n",
    "#             if poly.contains(point1)== True :\n",
    "#             # and poly.contains(point2)== True\n",
    "#                 filtered_airways=filtered_airways.append(airway.loc[i])\n",
    "#     filtered_airways = filtered_airways.drop_duplicates(subset=['name'])\n",
    "#     return filtered_airways\n",
    "\n",
    "# # filteraws = filter_airways(1.19,103.06,1.19,104.7,1.76,104.7,1.76,103.06,airway)\n",
    "# # filteraws = filter_airways(0,105,0,109,5,109,5,105,airway)\n",
    "# filteraws = filter_airways(1,104,1,108,5,108,5,104,airway)\n",
    "\n",
    "\n",
    "# filteraws=filteraws.reset_index(drop=True)\n",
    "# len(filteraws)"
   ]
  },
  {
   "cell_type": "code",
   "execution_count": 5,
   "metadata": {
    "tags": []
   },
   "outputs": [],
   "source": [
    "filteraws = airway\n",
    "# a= np.array([1.19,103.06])\n",
    "a=np.array([1,102])\n",
    "a_ = np.array([a[1],a[0]])\n",
    "# b=  np.array([1.19,104.7])\n",
    "b=  np.array([1,108])\n",
    "b_ = np.array([b[1],b[0]])\n",
    "# c =np.array([1.76,104.7])\n",
    "c =np.array([7,108])\n",
    "c_ = np.array([c[1],c[0]])\n",
    "# d=  np.array([1.76,103.06])\n",
    "d=  np.array([7,102])\n",
    "d_ = np.array([d[1],d[0]])\n",
    "\n",
    "horizontal_len= b[1]-a[1]\n",
    "vertical_len = d[0]-a[0]\n",
    "\n",
    "dict1=[]\n",
    "\n",
    "for i in range(len(filteraws)):\n",
    "    # print(i)\n",
    "    d1= []\n",
    "    for j in range(len(filteraws.segments[i])):\n",
    "        # print(j)\n",
    "        P = np.array([float(filteraws.segments[i][j]['lon']),float(filteraws.segments[i][j]['lat'])])\n",
    "        # print(P)\n",
    "        # print(\"^^\")\n",
    "        # vert_d = np.linalg.norm(np.cross(b_-a_,P-a_))/np.linalg.norm(b_-a_)\n",
    "        # horiz_d = np.linalg.norm(np.cross(d_-a_,P-a_))/np.linalg.norm(d_-a_)\n",
    "        vert_d = P[1]-a_[1]\n",
    "        horiz_d = P[0] -a_[0]\n",
    "        airdict1={\n",
    "                # \"name\":filteraws.name[i],        \n",
    "                # \"segments\":[{\"name\":filteraws.segments[i][j]['name'],\n",
    "                \"name\":filteraws.segments[i][j]['name'],\n",
    "                \"lat\":filteraws.segments[i][j]['lat'],\n",
    "                \"lon\":filteraws.segments[i][j]['lon'],\n",
    "                \"latdms\":filteraws.segments[i][j]['latdms'],\n",
    "                \"londms\":filteraws.segments[i][j]['londms'],\n",
    "                \"transf_x\": (900/horizontal_len)*horiz_d,\n",
    "                \"transf_y\": (900/vertical_len)*vert_d\n",
    "                }\n",
    "        d1.append(airdict1)\n",
    "    # dict2={\"segments\":d1}\n",
    "    dict3 ={\"name\":filteraws.name[i], \n",
    "            \"segments\":d1}\n",
    "    # print(dict3)\n",
    "    dict1.append(dict3)\n",
    "        \n",
    "# print(dict1)"
   ]
  },
  {
   "cell_type": "code",
   "execution_count": 11,
   "metadata": {
    "tags": []
   },
   "outputs": [
    {
     "output_type": "stream",
     "name": "stdout",
     "text": "<class 'pandas.core.frame.DataFrame'>\n"
    },
    {
     "output_type": "execute_result",
     "data": {
      "text/plain": "    name                                           segments\n0   A224  [{'name': 'JOHOR BAHRU DVOR/DME (VJB)', 'lat':...\n1   A457  [{'name': 'JOHOR BAHRU DVOR/DME (VJB)', 'lat':...\n2   A464  [{'name': 'ARAMA (50 DME SJ)(Delegated airspac...\n3   A576  [{'name': 'REKOP (50 DME SJ)(delegated airspac...\n4   B338  [{'name': 'MERSING DVOR/DME (VMR)', 'lat': '2....\n..   ...                                                ...\n57  Y334  [{'name': 'DOVOL (WSJC/WMFC FIR BDRY)', 'lat':...\n58  Y335  [{'name': 'IDSEL (WMFC/WSJC FIR BDRY)', 'lat':...\n59  Y336  [{'name': 'KETOD (WMFC/WSJC FIR BDRY)', 'lat':...\n60  Y339  [{'name': 'AKOMA (20 DME PU)', 'lat': '1.756',...\n61  Y342  [{'name': 'JOHOR BAHRU DVOR/DME (VJB)', 'lat':...\n\n[62 rows x 2 columns]",
      "text/html": "<div>\n<style scoped>\n    .dataframe tbody tr th:only-of-type {\n        vertical-align: middle;\n    }\n\n    .dataframe tbody tr th {\n        vertical-align: top;\n    }\n\n    .dataframe thead th {\n        text-align: right;\n    }\n</style>\n<table border=\"1\" class=\"dataframe\">\n  <thead>\n    <tr style=\"text-align: right;\">\n      <th></th>\n      <th>name</th>\n      <th>segments</th>\n    </tr>\n  </thead>\n  <tbody>\n    <tr>\n      <th>0</th>\n      <td>A224</td>\n      <td>[{'name': 'JOHOR BAHRU DVOR/DME (VJB)', 'lat':...</td>\n    </tr>\n    <tr>\n      <th>1</th>\n      <td>A457</td>\n      <td>[{'name': 'JOHOR BAHRU DVOR/DME (VJB)', 'lat':...</td>\n    </tr>\n    <tr>\n      <th>2</th>\n      <td>A464</td>\n      <td>[{'name': 'ARAMA (50 DME SJ)(Delegated airspac...</td>\n    </tr>\n    <tr>\n      <th>3</th>\n      <td>A576</td>\n      <td>[{'name': 'REKOP (50 DME SJ)(delegated airspac...</td>\n    </tr>\n    <tr>\n      <th>4</th>\n      <td>B338</td>\n      <td>[{'name': 'MERSING DVOR/DME (VMR)', 'lat': '2....</td>\n    </tr>\n    <tr>\n      <th>...</th>\n      <td>...</td>\n      <td>...</td>\n    </tr>\n    <tr>\n      <th>57</th>\n      <td>Y334</td>\n      <td>[{'name': 'DOVOL (WSJC/WMFC FIR BDRY)', 'lat':...</td>\n    </tr>\n    <tr>\n      <th>58</th>\n      <td>Y335</td>\n      <td>[{'name': 'IDSEL (WMFC/WSJC FIR BDRY)', 'lat':...</td>\n    </tr>\n    <tr>\n      <th>59</th>\n      <td>Y336</td>\n      <td>[{'name': 'KETOD (WMFC/WSJC FIR BDRY)', 'lat':...</td>\n    </tr>\n    <tr>\n      <th>60</th>\n      <td>Y339</td>\n      <td>[{'name': 'AKOMA (20 DME PU)', 'lat': '1.756',...</td>\n    </tr>\n    <tr>\n      <th>61</th>\n      <td>Y342</td>\n      <td>[{'name': 'JOHOR BAHRU DVOR/DME (VJB)', 'lat':...</td>\n    </tr>\n  </tbody>\n</table>\n<p>62 rows × 2 columns</p>\n</div>"
     },
     "metadata": {},
     "execution_count": 11
    }
   ],
   "source": [
    "print(type(filteraws))\n",
    "filteraws"
   ]
  },
  {
   "cell_type": "code",
   "execution_count": 20,
   "metadata": {
    "tags": []
   },
   "outputs": [],
   "source": [
    "\n"
   ]
  },
  {
   "cell_type": "code",
   "execution_count": null,
   "metadata": {},
   "outputs": [],
   "source": [
    "Path.cwd()"
   ]
  },
  {
   "cell_type": "code",
   "execution_count": null,
   "metadata": {},
   "outputs": [],
   "source": [
    "import json\n",
    "with open('python-code/14Test3.json', 'w') as json_file:\n",
    "    json.dump(dict1, json_file)\n"
   ]
  },
  {
   "cell_type": "code",
   "execution_count": null,
   "metadata": {
    "tags": []
   },
   "outputs": [],
   "source": [
    "import geopandas as gpd\n",
    "df = gpd.read_file('e:/ATMRI/CD_R/ATCO_preferences_interface/Scenario_interface_work/sector_bounds/test.geojson')\n",
    "print(df.head(16))\n",
    "\n",
    "pop= list(df.geometry[0].exterior.coords)\n",
    "type(pop)\n",
    "sec1,sec2,sec3,sec4,sec5,sec6,sec7,sec8 = [],[],[],[],[],[],[],[]\n",
    "\n",
    "a= df.geometry[0].exterior.coords\n",
    "for x,y in a:\n",
    "    sec1.append([x,y])\n",
    "b= df.geometry[1].exterior.coords\n",
    "for x,y in b:\n",
    "    sec2.append([x,y])\n",
    "c = df.geometry[2].exterior.coords\n",
    "for x,y in c:\n",
    "    sec3.append([x,y])\n",
    "d= df.geometry[3].exterior.coords\n",
    "for x,y in d:\n",
    "    sec4.append([x,y])  \n",
    "e= df.geometry[4].exterior.coords\n",
    "for x,y in e:\n",
    "    sec5.append([x,y])\n",
    "f= df.geometry[5].exterior.coords\n",
    "for x,y in f:\n",
    "    sec6.append([x,y]) \n",
    "g= df.geometry[6].exterior.coords\n",
    "for x,y in g:\n",
    "    sec7.append([x,y])\n",
    "h= df.geometry[7].exterior.coords\n",
    "for x,y in h:\n",
    "    sec8.append([x,y])\n",
    "\n",
    "d1= {'sector1':sec1}\n",
    "# for i in range(len(sec1)):\n",
    "#     d1.setdefault('sector1',[])\n",
    "#     d1['sector1'].append(sec1[i])\n",
    "\n",
    "# d2= {}\n",
    "# for i in range(len(sec1)):\n",
    "#     d2.setdefault('sector2',[])\n",
    "#     d2['sector2'].append(sec2[i])\n",
    "# d3= {}\n",
    "# for i in range(len(sec3)):\n",
    "#     d3.setdefault('sector3',[])\n",
    "#     d3['sector3'].append(sec3[i])\n",
    "# d4= {}\n",
    "# for i in range(len(sec4)):\n",
    "#     d4.setdefault('sector4',[])\n",
    "#     d4['sector4'].append(sec4[i])\n",
    "# d5= {}\n",
    "# for i in range(len(sec5)):\n",
    "#     d5.setdefault('sector5',[])\n",
    "#     d5['sector5'].append(sec5[i])\n",
    "# d6= {}\n",
    "# for i in range(len(sec6)):\n",
    "#     d6.setdefault('sector6',[])\n",
    "#     d6['sector6'].append(sec6[i])\n",
    "# d7= {}\n",
    "# for i in range(len(sec7)):\n",
    "#     d7.setdefault('sector7',[])\n",
    "#     d7['sector7'].append(sec1[7])\n",
    "# d8= {}\n",
    "# for i in range(len(sec8)):\n",
    "#     d8.setdefault('sector8',[])\n",
    "#     d8['sector8'].append(sec8[i]) \n",
    "\n",
    "\n",
    "dd={'Sectors':\n",
    "    {'sector1':sec1,\n",
    "    'sector2':sec2,\n",
    "    'sector3':sec3,\n",
    "    'sector4':sec4,\n",
    "    'sector5':sec5,\n",
    "    'sector6':sec6,\n",
    "    'sector7':sec7,\n",
    "    'sector8':sec8}\n",
    "    }\n",
    "sectorcoords=[dd]\n",
    "os.chdir('E:\\\\atmri\\CD_R\\ATCO_preferences_interface\\Scenario_interface_work\\data')\n",
    "import json\n",
    "with open('SgSectors_LonLat.json','w') as json_file:\n",
    "    json.dump(sectorcoords,json_file)\n",
    "\n",
    "df2=pd.read_json('SgSectors_LonLat.json')\n",
    "\n",
    "\n",
    "\"\"\"the square region with 'a' as the bottom left point (moving anticlock abcd)\n",
    "    a,b,c,d= [lon,lat] format\"\"\"\n",
    "a = np.array([102,1])\n",
    "b = np.array([108,1])\n",
    "c = np.array([108,7])\n",
    "d = np.array([102,7])\n",
    "\n",
    "horizontal_length  = b[0]-a[0]\n",
    "vertical_length = d[1]-a[1]\n",
    "keylist=['sector1','sector2','sector3','sector4','sector5','sector6','sector7','sector8']\n",
    "l1=[[],[],[],[],[],[],[],[]]\n",
    "for i in range(len(keylist)):\n",
    "    for j in range(len(df2.Sectors[0][keylist[i]])):\n",
    "        P= np.array([df2.Sectors[0][keylist[i]][j][0],df2.Sectors[0][keylist[i]][j][1]])\n",
    "        # print(P)\n",
    "        vert_d = P[1]-a[1]\n",
    "        horiz_d= P[0]-a[0]\n",
    "        l1[i].append([(900/horizontal_length)*horiz_d,900-(900/vertical_length)*vert_d])\n",
    "\n",
    "sectordict = {'Sectors':{\n",
    "                'sector1':{'type': 'secondary', 'boundary': l1[0]},\n",
    "                'sector2':{'type': 'secondary', 'boundary': l1[1]},\n",
    "                'sector3':{'type': 'secondary', 'boundary': l1[2]},\n",
    "                'sector4':{'type': 'secondary', 'boundary': l1[3]},\n",
    "                'sector5':{'type': 'secondary',  'boundary': l1[4]},\n",
    "                'sector6':{'type': 'primary', 'boundary':  l1[5]},\n",
    "                'sector7':{'type':'secondary', 'boundary': l1[6]},\n",
    "                'sector8':{'type':'secondary' ,'boundary':l1[7]}\n",
    "                }}\n",
    "\n",
    "sectorpoints=[sectordict]\n",
    "sectorpoints"
   ]
  },
  {
   "cell_type": "code",
   "execution_count": null,
   "metadata": {},
   "outputs": [],
   "source": [
    "df = pd.read_json('E:/atmri/CD_R/ATCO_preferences_interface/Scenario_interface_work/python-code/14Test3.json')\n",
    "\n",
    "\n",
    "(df.segments[0][1])"
   ]
  },
  {
   "cell_type": "code",
   "execution_count": null,
   "metadata": {
    "tags": [
     "outputPrepend"
    ]
   },
   "outputs": [],
   "source": [
    "datalist=[]\n",
    "for i in range(10):\n",
    "\n",
    "    waypointList=[]\n",
    "    for i in range(len(df)):\n",
    "        for j in range(len(df.segments[i])):\n",
    "            waypointList.append(WayPoint(df.segments[i][j]['name'],[df.segments[i][j]['transf_x'],900-df.segments[i][j]['transf_y']]))\n",
    "\n",
    "    airwayList=[]\n",
    "    a=0\n",
    "    for i in range(len(df.segments)):\n",
    "        x=len(df.segments[i])\n",
    "        # print('x:',x)\n",
    "        for j in range(a,len(waypointList[:a+x])-1):\n",
    "            print('j: ',j)\n",
    "            li= [waypointList[j],waypointList[j+1]]\n",
    "            print(li)\n",
    "            airwayList.append(Airways('aw'+str(j), li[0],li[1]))\n",
    "        a+=x\n",
    "       \n",
    "    # for k in range(len(waypointList)-1):\n",
    "    #     li=[waypointList[k],waypointList[k+1]]\n",
    "    #     airwayList.append(Airways('aw'+str(k), li[0],li[1]))\n",
    "\n",
    "\n",
    "\n",
    "    ac_per_scenario = 6\n",
    "    aircraftList=[]\n",
    "    aircraft_name=[]\n",
    "    for n in range(1,ac_per_scenario+1):\n",
    "        aircraft_name.append('ac'+str(n))\n",
    "    for i in range(ac_per_scenario):\n",
    "        point=np.random.choice(airwayList)\n",
    "        d=[20,30,40,50,60,70,80,90,100,110,120,140,150,170,190,210,220,230,240,250] #offset,\n",
    "        aircraft = Aircraft(str(aircraft_name[i]), point , np.random.choice(d)) #this randomization will create multiple scenaios\n",
    "        aircraftList.append(aircraft)\n",
    "\n",
    "\n",
    "    d= Scenario(waypointList,airwayList)\n",
    "    dict4={}\n",
    "    for i in range(len(waypointList)):\n",
    "        waydict={waypointList[i].name:{\n",
    "            'x':waypointList[i].x,\n",
    "            'y':waypointList[i].y}}\n",
    "        dict4.update(waydict)\n",
    "\n",
    "    dict5={}\n",
    "    for i in range(len(airwayList)):\n",
    "        airwaydict= {airwayList[i].name:{\n",
    "            'start':airwayList[i].start_wp,\n",
    "            'end' : airwayList[i].end_wp}}\n",
    "        dict5.update(airwaydict)\n",
    "\n",
    "    dict6={}\n",
    "    for i in range(len(aircraftList)):\n",
    "        aircraftdict= {aircraftList[i].name:{\n",
    "            'x':aircraftList[i].offset_x,\n",
    "            'y':aircraftList[i].offset_y,\n",
    "            'dir_x': aircraftList[i].dir_x,\n",
    "            'dir_y': aircraftList[i].dir_y}}\n",
    "        dict6.update(aircraftdict)    \n",
    "\n",
    "    data_dict={'waypoints':dict4, 'airways':dict5,'aircrafts':dict6, \n",
    "        'sectors':{\n",
    "                    'sector1':{'type': 'secondary', 'boundary': l1[0]},\n",
    "                    'sector2':{'type': 'secondary', 'boundary': l1[1]},\n",
    "                    'sector3':{'type': 'secondary', 'boundary': l1[2]},\n",
    "                    'sector4':{'type': 'secondary', 'boundary': l1[3]},\n",
    "                    'sector5':{'type': 'secondary',  'boundary': l1[4]},\n",
    "                    'sector6':{'type': 'primary', 'boundary':  l1[5]},\n",
    "                    'sector7':{'type':'secondary', 'boundary': l1[6]},\n",
    "                    'sector8':{'type':'secondary' ,'boundary':l1[7]}\n",
    "                    }}\n",
    "\n",
    "\n",
    "    datalist.append(data_dict) "
   ]
  },
  {
   "cell_type": "code",
   "execution_count": null,
   "metadata": {},
   "outputs": [],
   "source": [
    "\n",
    "Path.cwd()"
   ]
  },
  {
   "cell_type": "code",
   "execution_count": null,
   "metadata": {},
   "outputs": [],
   "source": [
    "import json\n",
    "with open('scenarioWith_sector_allairwaytest_14july3.json', 'w') as json_file:\n",
    "    json.dump(datalist, json_file)\n"
   ]
  },
  {
   "cell_type": "code",
   "execution_count": null,
   "metadata": {},
   "outputs": [],
   "source": []
  }
 ],
 "metadata": {
  "language_info": {
   "codemirror_mode": {
    "name": "ipython",
    "version": 3
   },
   "file_extension": ".py",
   "mimetype": "text/x-python",
   "name": "python",
   "nbconvert_exporter": "python",
   "pygments_lexer": "ipython3",
   "version": "3.8.3-final"
  },
  "orig_nbformat": 2,
  "kernelspec": {
   "name": "python38364bitatcovizcondaa3d166ff95094005a202b42906b28fb0",
   "display_name": "Python 3.8.3 64-bit ('ATCOviz': conda)"
  }
 },
 "nbformat": 4,
 "nbformat_minor": 2
}