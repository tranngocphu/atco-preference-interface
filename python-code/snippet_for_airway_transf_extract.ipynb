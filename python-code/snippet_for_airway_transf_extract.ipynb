{
 "cells": [
  {
   "cell_type": "markdown",
   "metadata": {},
   "source": [
    ">This notebook is for extracting the airways in a given square region and then transformin the co-ordinates of those airway waypoints to interface co-ordinates. Later in this notebook , we code to generate structured scenarios using \"classLib_Yash.py\" "
   ]
  },
  {
   "cell_type": "code",
   "execution_count": null,
   "metadata": {},
   "outputs": [],
   "source": [
    "import pandas as pd\n",
    "import numpy as np\n",
    "from pathlib import Path\n",
    "import numpy as np\n",
    "from shapely.geometry import Polygon, Point\n",
    "from shapely.ops import transform\n",
    "from functools import partial\n",
    "import pyproj"
   ]
  },
  {
   "cell_type": "code",
   "execution_count": null,
   "metadata": {},
   "outputs": [],
   "source": [
    "Path.cwd()"
   ]
  },
  {
   "cell_type": "code",
   "execution_count": null,
   "metadata": {},
   "outputs": [],
   "source": [
    "os.chdir('e:/ATMRI/CD_R/ATCO_preferences_interface/Scenario_interface_work')\n",
    "Path.cwd()"
   ]
  },
  {
   "cell_type": "code",
   "execution_count": null,
   "metadata": {},
   "outputs": [],
   "source": [
    "airway = pd.read_json('airways.json')\n",
    "airway.head(3)"
   ]
  },
  {
   "cell_type": "code",
   "execution_count": null,
   "metadata": {},
   "outputs": [],
   "source": [
    "def filter_airways(x1,y1,x2,y2,x3,y3,x4,y4,airway):\n",
    "    filtered_airways = pd.DataFrame()\n",
    "\n",
    "    boundary_coordinates = ([x1,y1],[x2,y2],[x3,y3],[x4,y4])\n",
    "\n",
    "    poly = Polygon(boundary_coordinates)\n",
    "    for i in range(len(airway)):\n",
    "        point1 = Point([float(airway.segments[i][0]['lat']),float(airway.segments[i][0]['lon'])])\n",
    "        point2 = Point([float(airway.segments[i][1]['lat']),float(airway.segments[i][1]['lon'])])\n",
    "        if poly.contains(point1)== True and poly.contains(point2)== True:\n",
    "            filtered_airways=filtered_airways.append(airway.loc[i])\n",
    "    return filtered_airways\n",
    "\n",
    "filteraws = filter_airways(1.19,103.06,1.19,104.7,1.76,104.7,1.76,103.06,airway)\n",
    "filteraws=filteraws.reset_index(drop=True)\n",
    "filteraws"
   ]
  },
  {
   "cell_type": "code",
   "execution_count": null,
   "metadata": {},
   "outputs": [],
   "source": [
    "filteraws.name[0]"
   ]
  },
  {
   "cell_type": "code",
   "execution_count": null,
   "metadata": {
    "tags": []
   },
   "outputs": [],
   "source": [
    "\n",
    "horizontal_len=1.64\n",
    "vertical_len = 0.57\n",
    "a= np.array([1.19,103.06])\n",
    "a_ = np.array([a[1],a[0]])\n",
    "b=  np.array([1.19,104.7])\n",
    "b_ = np.array([b[1],b[0]])\n",
    "c =np.array([1.76,104.7])\n",
    "c_ = np.array([c[1],c[0]])\n",
    "d=  np.array([1.76,103.06])\n",
    "d_ = np.array([d[1],d[0]])\n",
    "\n",
    "dict1=[]\n",
    "\n",
    "for i in range(len(filteraws)):\n",
    "    print(i)\n",
    "    d1= []\n",
    "    for j in range(len(filteraws.segments[i])):\n",
    "        # print(j)\n",
    "        P = np.array([float(filteraws.segments[i][j]['lon']),float(filteraws.segments[i][j]['lat'])])\n",
    "        vert_d = np.linalg.norm(np.cross(b_-a_,P-a_))/np.linalg.norm(b_-a_)\n",
    "        horiz_d = np.linalg.norm(np.cross(d_-a_,P-a_))/np.linalg.norm(d_-a_)\n",
    "        airdict1={\n",
    "                # \"name\":filteraws.name[i],        \n",
    "                # \"segments\":[{\"name\":filteraws.segments[i][j]['name'],\n",
    "                \"name\":filteraws.segments[i][j]['name'],\n",
    "                \"lat\":filteraws.segments[i][j]['lat'],\n",
    "                \"lon\":filteraws.segments[i][j]['lon'],\n",
    "                \"latdms\":filteraws.segments[i][j]['latdms'],\n",
    "                \"londms\":filteraws.segments[i][j]['londms'],\n",
    "                \"transf_x\": (900/horizontal_len)*horiz_d,\n",
    "                \"transf_y\": (900/vertical_len)*vert_d\n",
    "                }\n",
    "        d1.append(airdict1)\n",
    "    # dict2={\"segments\":d1}\n",
    "    dict3 ={\"name\":filteraws.name[i], \n",
    "            \"segments\":d1}\n",
    "    # print(dict3)\n",
    "    dict1.append(dict3)\n",
    "        \n",
    "print(dict1)\n",
    "        \n",
    "        # print(d1)\n",
    "    # airdict2 = {\"name\":filteraws.name[i],\n",
    "                # \"segments\":airdict1}\n",
    "    # print(airdict2)\n",
    "    # d1\n"
   ]
  },
  {
   "cell_type": "code",
   "execution_count": null,
   "metadata": {},
   "outputs": [],
   "source": [
    "import json\n",
    "with open('filtered_transformed_airways.json', 'w') as json_file:\n",
    "    json.dump(dict1, json_file)"
   ]
  },
  {
   "cell_type": "markdown",
   "metadata": {},
   "source": [
    "## creating structured scenarios after filtering a sqaure region"
   ]
  },
  {
   "cell_type": "code",
   "execution_count": 1,
   "metadata": {},
   "outputs": [],
   "source": [
    "import numpy as np \n",
    "import pandas as pd \n",
    "from classLib_yash_Copy1 import *\n",
    "import random\n",
    "from pathlib import Path\n"
   ]
  },
  {
   "cell_type": "code",
   "execution_count": 2,
   "metadata": {},
   "outputs": [
    {
     "output_type": "execute_result",
     "data": {
      "text/plain": "WindowsPath('e:/ATMRI/CD_R/ATCO_preferences_interface/Scenario_interface_work')"
     },
     "metadata": {},
     "execution_count": 2
    }
   ],
   "source": [
    "os.chdir('e:/ATMRI/CD_R/ATCO_preferences_interface/Scenario_interface_work')\n",
    "Path.cwd()"
   ]
  },
  {
   "cell_type": "code",
   "execution_count": 3,
   "metadata": {},
   "outputs": [],
   "source": [
    "datalist=[]\n",
    "for scenarioSet in range(10): \n",
    "    df = pd.read_json('filtered_transformed_airways.json')\n",
    "    waypointList=[]\n",
    "    for i in range(len(df)):\n",
    "        for j in range(len(df.segments[i])):\n",
    "            waypointList.append(WayPoint(df.segments[i][j]['name'],[df.segments[i][j]['transf_x'],900-df.segments[i][j]['transf_y']]))\n",
    "\n",
    "    airwayList=[]\n",
    "    l1= [i for i in zip(*[iter(waypointList)]*2)]\n",
    "    for i in range(len(l1)):\n",
    "        airwayList.append(Airways('aw'+str(i), l1[i][0],l1[i][1]))\n",
    "    # len(airwayList) ,len(waypointList)\n",
    "\n",
    "    ac_per_scenario = 8\n",
    "    aircraftList=[]\n",
    "    aircraft_name=[]\n",
    "    for n in range(1,ac_per_scenario+1):\n",
    "        aircraft_name.append('ac'+str(n))\n",
    "    for i in range(ac_per_scenario):\n",
    "        point=np.random.choice(airwayList)\n",
    "        d=[20,30,40,50,60,80,100,120,140,150,170,190,210,220,230,240,250] #offset,\n",
    "        aircraft = Aircraft(str(aircraft_name[i]), point , np.random.choice(d)) #this randomization will create multiple scenaios\n",
    "        aircraftList.append(aircraft)\n",
    "\n",
    "\n",
    "    d= Scenario(waypointList,airwayList)\n",
    "    dict4={}\n",
    "    for i in range(len(waypointList)):\n",
    "        waydict={waypointList[i].name:{\n",
    "            'x':waypointList[i].x,\n",
    "            'y':waypointList[i].y}}\n",
    "        dict4.update(waydict)\n",
    "\n",
    "    dict5={}\n",
    "    for i in range(len(airwayList)):\n",
    "        airwaydict= {airwayList[i].name:{\n",
    "            'start':airwayList[i].start_wp,\n",
    "            'end' : airwayList[i].end_wp}}\n",
    "        dict5.update(airwaydict)\n",
    "\n",
    "    dict6={}\n",
    "    for i in range(len(aircraftList)):\n",
    "        aircraftdict= {aircraftList[i].name:{\n",
    "            'x':aircraftList[i].offset_x,\n",
    "            'y':aircraftList[i].offset_y,\n",
    "            'dir_x': aircraftList[i].dir_x,\n",
    "            'dir_y': aircraftList[i].dir_y}}\n",
    "        dict6.update(aircraftdict)\n",
    "\n",
    "    data_dict={'waypoints':dict4, 'airways':dict5, 'aircrafts':dict6}\n",
    "    datalist.append(data_dict)        \n"
   ]
  },
  {
   "cell_type": "code",
   "execution_count": 4,
   "metadata": {},
   "outputs": [],
   "source": [
    "import json\n",
    "with open('structuredScenarios_set3.json', 'w') as json_file:\n",
    "    json.dump(datalist, json_file)\n"
   ]
  },
  {
   "cell_type": "code",
   "execution_count": 1,
   "metadata": {},
   "outputs": [],
   "source": [
    "from mpl_toolkits.basemap import Basemap\n"
   ]
  },
  {
   "cell_type": "code",
   "execution_count": null,
   "metadata": {},
   "outputs": [],
   "source": []
  }
 ],
 "metadata": {
  "language_info": {
   "codemirror_mode": {
    "name": "ipython",
    "version": 3
   },
   "file_extension": ".py",
   "mimetype": "text/x-python",
   "name": "python",
   "nbconvert_exporter": "python",
   "pygments_lexer": "ipython3",
   "version": "3.8.3-final"
  },
  "orig_nbformat": 2,
  "kernelspec": {
   "name": "python38364bitatcovizcondaa3d166ff95094005a202b42906b28fb0",
   "display_name": "Python 3.8.3 64-bit ('ATCOviz': conda)"
  }
 },
 "nbformat": 4,
 "nbformat_minor": 2
}