{
 "metadata": {
  "language_info": {
   "codemirror_mode": {
    "name": "ipython",
    "version": 3
   },
   "file_extension": ".py",
   "mimetype": "text/x-python",
   "name": "python",
   "nbconvert_exporter": "python",
   "pygments_lexer": "ipython3",
   "version": "3.8.3-final"
  },
  "orig_nbformat": 2,
  "kernelspec": {
   "name": "python38364bitatcovizcondaa3d166ff95094005a202b42906b28fb0",
   "display_name": "Python 3.8.3 64-bit ('ATCOviz': conda)"
  }
 },
 "nbformat": 4,
 "nbformat_minor": 2,
 "cells": [
  {
   "cell_type": "code",
   "execution_count": 1,
   "metadata": {},
   "outputs": [],
   "source": [
    "import pandas as pd \n",
    "import numpy as np\n",
    "from pathlib import Path\n",
    "from shapely.geometry import Polygon, Point\n",
    "from shapely.ops import transform\n",
    "from functools import partial\n",
    "import pyproj\n",
    "from classLib_forFlightplans import *\n",
    "import random\n",
    "import operator\n",
    "from functools import reduce"
   ]
  },
  {
   "cell_type": "code",
   "execution_count": null,
   "metadata": {},
   "outputs": [],
   "source": []
  },
  {
   "cell_type": "code",
   "execution_count": 2,
   "metadata": {},
   "outputs": [],
   "source": [
    "air=pd.read_json(\"../airways.json\")\n",
    "def filter_airways(x1,y1,x2,y2,x3,y3,x4,y4,airway):\n",
    "    filtered_airways = pd.DataFrame()\n",
    "\n",
    "    boundary_coordinates = ([x1,y1],[x2,y2],[x3,y3],[x4,y4])\n",
    "\n",
    "    poly = Polygon(boundary_coordinates)\n",
    "    for i in range(len(airway)):\n",
    "        for j in range(len(airway.segments[i])):\n",
    "            point1 = Point([float(airway.segments[i][j]['lat']),float(airway.segments[i][j]['lon'])])\n",
    "        # point2 = Point([float(airway.segments[i][1]['lat']),float(airway.segments[i][1]['lon'])])\n",
    "            if poly.contains(point1)== True :\n",
    "            # and poly.contains(point2)== True\n",
    "                filtered_airways=filtered_airways.append(airway.loc[i])\n",
    "    filtered_airways = filtered_airways.drop_duplicates(subset=['name'])\n",
    "    return filtered_airways"
   ]
  },
  {
   "cell_type": "code",
   "execution_count": 3,
   "metadata": {},
   "outputs": [
    {
     "output_type": "execute_result",
     "data": {
      "text/plain": "(   name                                           segments\n 0  A224  [{'name': 'JOHOR BAHRU DVOR/DME (VJB)', 'lat':...\n 1  A457  [{'name': 'JOHOR BAHRU DVOR/DME (VJB)', 'lat':...\n 2  A464  [{'name': 'ARAMA (50 DME SJ)(Delegated airspac...\n 3  A576  [{'name': 'REKOP (50 DME SJ)(delegated airspac...\n 4  B338  [{'name': 'MERSING DVOR/DME (VMR)', 'lat': '2....,\n 57)"
     },
     "metadata": {},
     "execution_count": 3
    }
   ],
   "source": [
    "filteraws = filter_airways(0,100,0,110,10,110,10,100,air)\n",
    "filteraws = filteraws.reset_index(drop=True)\n",
    "filteraws.head(), len(filteraws)"
   ]
  },
  {
   "cell_type": "code",
   "execution_count": 4,
   "metadata": {},
   "outputs": [],
   "source": [
    "\"\"\"This snippet adds transformed x and y columns to the airways file\"\"\"\n",
    "a=np.array([0,100])\n",
    "a_ = np.array([a[1],a[0]])\n",
    "b=  np.array([0,110])\n",
    "b_ = np.array([b[1],b[0]])\n",
    "c =np.array([10,110])\n",
    "c_ = np.array([c[1],c[0]])\n",
    "d=  np.array([10,100])\n",
    "d_ = np.array([d[1],d[0]])\n",
    "\n",
    "horizontal_len= b[1]-a[1]\n",
    "vertical_len = d[0]-a[0]\n",
    "\n",
    "dict1=[]\n",
    "\n",
    "for i in range(len(filteraws)):\n",
    "    # print(i)\n",
    "    d1= []\n",
    "    for j in range(len(filteraws.segments[i])):\n",
    "        # print(j)\n",
    "        P = np.array([float(filteraws.segments[i][j]['lon']),float(filteraws.segments[i][j]['lat'])])\n",
    "        # print(P)\n",
    "        # print(\"^^\")\n",
    "        # vert_d = np.linalg.norm(np.cross(b_-a_,P-a_))/np.linalg.norm(b_-a_)\n",
    "        # horiz_d = np.linalg.norm(np.cross(d_-a_,P-a_))/np.linalg.norm(d_-a_)\n",
    "        vert_d = P[1]-a_[1]\n",
    "        horiz_d = P[0] -a_[0]\n",
    "        airdict1={\n",
    "                # \"name\":filteraws.name[i],        \n",
    "                # \"segments\":[{\"name\":filteraws.segments[i][j]['name'],\n",
    "                \"name\":filteraws.segments[i][j]['name'],\n",
    "                \"lat\":filteraws.segments[i][j]['lat'],\n",
    "                \"lon\":filteraws.segments[i][j]['lon'],\n",
    "                \"latdms\":filteraws.segments[i][j]['latdms'],\n",
    "                \"londms\":filteraws.segments[i][j]['londms'],\n",
    "                \"transf_x\": (900/horizontal_len)*horiz_d,\n",
    "                \"transf_y\": (900/vertical_len)*vert_d\n",
    "                }\n",
    "        d1.append(airdict1)\n",
    "    # dict2={\"segments\":d1}\n",
    "    dict3 ={\"name\":filteraws.name[i], \n",
    "            \"segments\":d1}\n",
    "    # print(dict3)\n",
    "    dict1.append(dict3)\n",
    "        \n",
    "df = pd.DataFrame(dict1)"
   ]
  },
  {
   "cell_type": "code",
   "execution_count": 5,
   "metadata": {},
   "outputs": [],
   "source": [
    "datalist=[]\n",
    "for i in range(15):\n",
    "    waypointList = []\n",
    "    for i in range(len(df)):\n",
    "        for j in range(len(df.segments[i])):\n",
    "            waypointList.append(WayPoint(df.segments[i][j]['name'],[df.segments[i][j]['transf_x'],900-df.segments[i][j]['transf_y']]))\n",
    "            \n",
    "    len(waypointList),len(df.segments)\n",
    "\n",
    "    airwayList=[]\n",
    "    a=0\n",
    "    for i in range(len(df.segments)):\n",
    "        x=len(df.segments[i])\n",
    "        # print(x)\n",
    "        for j in range(a,len(waypointList[:a+x])-1):\n",
    "            li=[waypointList[j],waypointList[j+1]]\n",
    "            # print(li)\n",
    "            airwayList.append(Airways('aw'+ str(j),li[0],li[1]))\n",
    "        a+=x\n",
    "\n",
    "    route1 = ['MELAS (VVTS/WSJC FIR BDRY)','MABLI','MUMSO','MABAL','KILOT','KIBOL WSJC/WMFC FIR BDRY','PEKLA']\n",
    "    route2 = ['ENREP','NOPAT','DAMOG','SUSAR','MUMSO','MABAL','KILOT','KIBOL WSJC/WMFC FIR BDRY','PEKLA']\n",
    "\n",
    "\n",
    "    r1=[]\n",
    "    for i in (route1):\n",
    "        for j in range(len(waypointList)):\n",
    "            if i == waypointList[j].name:\n",
    "                r1.append(waypointList[j])\n",
    "                break\n",
    "    r2=[]\n",
    "    for i in (route2):\n",
    "        for j in range(len(waypointList)):\n",
    "            if i == waypointList[j].name:\n",
    "                r2.append(waypointList[j])\n",
    "                break\n",
    "\n",
    "    ac_paths=[r1,r2]\n",
    "    aircraft_type=['medium','heavy','super_heavy']\n",
    "\n",
    "    ac_per_scenario = 2 \n",
    "    aircraftList=[]\n",
    "    aircraft_name=[]\n",
    "    routelist=[]\n",
    "    for n in range(1,ac_per_scenario+1):\n",
    "        aircraft_name.append('ac'+str(n))\n",
    "    for i in range(ac_per_scenario):\n",
    "        route = np.random.choice(ac_paths)\n",
    "        \n",
    "        d=[10,20,30,40,50,60,65,70,75,80,85,90,95,100,110,120] #offset,\n",
    "        aircraft = Aircraft(str(aircraft_name[i]), route[0] ,route[1], route,  np.random.choice(d)) #this will create multiple scenarios\n",
    "        aircraftList.append(aircraft)\n",
    "        routelist.append(route)\n",
    "\n",
    "\n",
    "    aircraft_paths_x = []\n",
    "    aircraft_paths_y = []\n",
    "    path_waypoints   = []\n",
    "    for i in range(len(routelist)):\n",
    "        x_list=[]\n",
    "        y_list=[]\n",
    "        wps_list=[]\n",
    "        for j in range(len((routelist[i]))):\n",
    "            wps_list.append(routelist[i][j].name)\n",
    "            x=routelist[i][j].x\n",
    "            y=routelist[i][j].y\n",
    "            x_list.append(x)\n",
    "            y_list.append(y)\n",
    "        aircraft_paths_x.append(x_list)\n",
    "        aircraft_paths_y.append(y_list)\n",
    "        path_waypoints.append(wps_list)\n",
    "\n",
    "\n",
    "    x_dirlist=[]\n",
    "    y_dirlist=[]\n",
    "    for i in range(len(aircraftList)):\n",
    "        x_dir =[]\n",
    "        y_dir =[]\n",
    "        for j in range(len(aircraftList[i].route)-1):\n",
    "            startpoint = np.array([aircraftList[i].route[j].x, aircraftList[i].route[j].y])\n",
    "            endpoint = np.array([aircraftList[i].route[j+1].x, aircraftList[i].route[j+1].y])\n",
    "            segment = np.linalg.norm(startpoint - endpoint)\n",
    "            xdir = (endpoint[0] - startpoint[0])/segment\n",
    "            ydir = (endpoint[1] - startpoint[1])/segment\n",
    "            x_dir.append(xdir)\n",
    "            y_dir.append(ydir)\n",
    "        x_dirlist.append(x_dir)\n",
    "        y_dirlist.append(y_dir)\n",
    "\n",
    "\n",
    "    vel=0.25\n",
    "    timelist=[]\n",
    "    x_loclist=[]\n",
    "    y_loclist=[]\n",
    "    total_time=[]\n",
    "    for i in range(len(aircraftList)):\n",
    "        x_loc=[]\n",
    "        y_loc=[]\n",
    "        time=[]\n",
    "        section_time=[]\n",
    "        for j in range(len(aircraftList[i].route)-1):\n",
    "            startpoint = np.array([aircraftList[i].route[j].x, aircraftList[i].route[j].y])\n",
    "            endpoint = np.array([aircraftList[i].route[j+1].x, aircraftList[i].route[j+1].y])\n",
    "            distance = np.linalg.norm(startpoint - endpoint)\n",
    "            totaltime = distance/vel    #(time per kilometer in seconds, bwtween two waypoints)\n",
    "            \n",
    "            for t in range(int(totaltime)):\n",
    "                x_point = startpoint[0] + t*x_dirlist[i][j]*vel\n",
    "                y_point = startpoint[1] + t*y_dirlist[i][j]*vel\n",
    "                x_loc.append(x_point)\n",
    "                y_loc.append(y_point)\n",
    "                time.append(t)\n",
    "                \n",
    "            section_time.append(totaltime)\n",
    "        # print(len(section_time))\n",
    "        timelist.append(time)\n",
    "        x_loclist.append(x_loc)\n",
    "        y_loclist.append(y_loc)\n",
    "        total_time.append(section_time)\n",
    "\n",
    "        \n",
    "    #repeating the directins vectors based on total time\n",
    "    all_dirs_x=[]\n",
    "    all_dirs_y=[]\n",
    "    for i in range(len(total_time)): #2\n",
    "        x_list=[]\n",
    "        y_list=[]\n",
    "        for j in range(len(total_time[i])):\n",
    "            x = np.repeat(x_dirlist[i][j], int(total_time[i][j]))\n",
    "            y = np.repeat(y_dirlist[i], int(total_time[i][j]))\n",
    "            # print(len(x))\n",
    "            x= x.tolist()\n",
    "            y= y.tolist()\n",
    "            # print(len(x))\n",
    "            # print(len(y[]))\n",
    "            x_list.append(x)\n",
    "            y_list.append(y)\n",
    "        \n",
    "        all_dirs_x.append(x_list)\n",
    "        all_dirs_y.append(y_list)\n",
    "\n",
    "    x_directions_flat=[]\n",
    "    y_directions_flat=[]\n",
    "    for i in range(len(x_dirlist)): #2\n",
    "        x_l= all_dirs_x[i]\n",
    "        x_flat = reduce(operator.concat,x_l)\n",
    "        # print(x_flat)\n",
    "        x_directions_flat.append(x_flat)\n",
    "\n",
    "        y_l = all_dirs_y[i]\n",
    "        y_flat = reduce(operator.concat,y_l)\n",
    "        y_directions_flat.append(y_flat)\n",
    "\n",
    "    # len(x_directions_flat[0])\n",
    "\n",
    "    dict4={}\n",
    "    for i in range(len(waypointList)):\n",
    "        waydict={waypointList[i].name:{\n",
    "            'x':waypointList[i].x,\n",
    "            'y':waypointList[i].y}}\n",
    "        dict4.update(waydict)\n",
    "\n",
    "\n",
    "    dict5={}\n",
    "    for i in range(len(airwayList)):\n",
    "        airwaydict= {airwayList[i].name:{\n",
    "            'start':airwayList[i].start_wp,\n",
    "            'end' : airwayList[i].end_wp}}\n",
    "        dict5.update(airwaydict)\n",
    "\n",
    "\n",
    "    dict6={}\n",
    "    for i in range(len(aircraftList)):\n",
    "        aircraftdict= {\n",
    "            aircraftList[i].name:{\n",
    "            'x': aircraftList[i].offset_x,\n",
    "            'y':aircraftList[i].offset_y,\n",
    "            'dir_x': x_dirlist[i][0],\n",
    "            'dir_y': y_dirlist[i][0],\n",
    "            'x_dirs':x_directions_flat[i],\n",
    "            'y_dirs':y_directions_flat[i],\n",
    "            'type': np.random.choice(aircraft_type),\n",
    "            'altitude':360,\n",
    "            'path_waypoints': path_waypoints[i],\n",
    "            'x_path' : x_loclist[i],\n",
    "            'y_path' : y_loclist[i],\n",
    "            'timestep': timelist[i]\n",
    "            }\n",
    "            }\n",
    "        dict6.update(aircraftdict)\n",
    "\n",
    "\n",
    "    df2=pd.read_json('SgSectors_LonLat.json')\n",
    "\n",
    "\n",
    "    \"\"\"the sqaure region with 'a' as the bottom left point (moving anticlock abcd)\n",
    "        a,b,c,d= [lon,lat] format\"\"\"\n",
    "    a = np.array([100,0])\n",
    "    b = np.array([110,0])\n",
    "    c = np.array([110,10])\n",
    "    d = np.array([100,10])\n",
    "\n",
    "    horizontal_length  = b[0]-a[0]\n",
    "    vertical_length = d[1]-a[1]\n",
    "    keylist=['sector1','sector2','sector3','sector4','sector5','sector6','sector7','sector8']\n",
    "    l1=[[],[],[],[],[],[],[],[]]\n",
    "    for i in range(len(keylist)):\n",
    "        for j in range(len(df2.Sectors[0][keylist[i]])):\n",
    "            P= np.array([df2.Sectors[0][keylist[i]][j][0],df2.Sectors[0][keylist[i]][j][1]])\n",
    "            # print(P)\n",
    "            vert_d = P[1]-a[1]\n",
    "            horiz_d= P[0]-a[0]\n",
    "            l1[i].append([(900/horizontal_length)*horiz_d,900-(900/vertical_length)*vert_d])\n",
    "\n",
    "\n",
    "\n",
    "    data_dict={'waypoints':dict4, 'airways':dict5,'aircrafts':dict6, \n",
    "            'sectors':{\n",
    "                        'sector1':{'type': 'secondary', 'boundary': l1[0]},\n",
    "                        'sector2':{'type': 'secondary', 'boundary': l1[1]},\n",
    "                        'sector3':{'type': 'secondary', 'boundary': l1[2]},\n",
    "                        'sector4':{'type': 'secondary', 'boundary': l1[3]},\n",
    "                        'sector5':{'type': 'secondary',  'boundary': l1[4]},\n",
    "                        'sector6':{'type': 'primary', 'boundary':  l1[5]},\n",
    "                        'sector7':{'type':'secondary', 'boundary': l1[6]},\n",
    "                        'sector8':{'type':'secondary' ,'boundary':l1[7]}\n",
    "                        }}\n",
    "\n",
    "    datalist.append(data_dict)\n",
    "\n",
    "import json\n",
    "with open('scenario_data/28Aug_Test.json', 'w') as json_file:\n",
    "    json.dump(datalist, json_file) \n"
   ]
  },
  {
   "cell_type": "code",
   "execution_count": null,
   "metadata": {
    "tags": []
   },
   "outputs": [],
   "source": [
    "r1,r2"
   ]
  },
  {
   "cell_type": "code",
   "execution_count": null,
   "metadata": {},
   "outputs": [],
   "source": []
  },
  {
   "cell_type": "code",
   "execution_count": null,
   "metadata": {},
   "outputs": [],
   "source": []
  },
  {
   "cell_type": "code",
   "execution_count": null,
   "metadata": {},
   "outputs": [],
   "source": [
    "aircraftList[0].start_wp_x,aircraftList[0].offset_x"
   ]
  },
  {
   "cell_type": "code",
   "execution_count": null,
   "metadata": {},
   "outputs": [],
   "source": [
    "a=np.random.choice(ac_paths)\n",
    "a[0].name,a[-1].name"
   ]
  },
  {
   "cell_type": "code",
   "execution_count": null,
   "metadata": {},
   "outputs": [],
   "source": [
    "aircraftList[0].route[0].x"
   ]
  },
  {
   "cell_type": "code",
   "execution_count": null,
   "metadata": {},
   "outputs": [],
   "source": []
  },
  {
   "cell_type": "code",
   "execution_count": null,
   "metadata": {},
   "outputs": [],
   "source": [
    "len(x_dirlist)"
   ]
  },
  {
   "cell_type": "code",
   "execution_count": null,
   "metadata": {},
   "outputs": [],
   "source": []
  },
  {
   "cell_type": "code",
   "execution_count": null,
   "metadata": {},
   "outputs": [],
   "source": [
    "len(total_time[0]),len(x_dirlist[0])"
   ]
  },
  {
   "cell_type": "code",
   "execution_count": null,
   "metadata": {
    "tags": []
   },
   "outputs": [],
   "source": [
    "\n"
   ]
  },
  {
   "cell_type": "code",
   "execution_count": null,
   "metadata": {},
   "outputs": [],
   "source": [
    "m=[[1,2],[34,2],[12,23,34,3]]\n",
    "mm = reduce(operator.concat,m)\n",
    "mm"
   ]
  },
  {
   "cell_type": "code",
   "execution_count": null,
   "metadata": {
    "tags": []
   },
   "outputs": [],
   "source": []
  },
  {
   "cell_type": "code",
   "execution_count": null,
   "metadata": {
    "tags": []
   },
   "outputs": [],
   "source": []
  },
  {
   "cell_type": "code",
   "execution_count": null,
   "metadata": {},
   "outputs": [],
   "source": []
  },
  {
   "cell_type": "code",
   "execution_count": null,
   "metadata": {
    "tags": []
   },
   "outputs": [],
   "source": []
  },
  {
   "cell_type": "code",
   "execution_count": null,
   "metadata": {},
   "outputs": [],
   "source": [
    "aircraftList[1].start_wp_x ,aircraftList[1].offset_x"
   ]
  },
  {
   "cell_type": "code",
   "execution_count": null,
   "metadata": {},
   "outputs": [],
   "source": []
  },
  {
   "cell_type": "code",
   "execution_count": null,
   "metadata": {},
   "outputs": [],
   "source": []
  },
  {
   "cell_type": "code",
   "execution_count": null,
   "metadata": {
    "tags": []
   },
   "outputs": [],
   "source": []
  },
  {
   "cell_type": "code",
   "execution_count": null,
   "metadata": {},
   "outputs": [],
   "source": [
    "\n",
    "ac_paths[0]"
   ]
  },
  {
   "cell_type": "code",
   "execution_count": null,
   "metadata": {},
   "outputs": [],
   "source": [
    "\"\"\"\"here, the list aircraft_paths contains the waypoint lists that an aircraft will move on\"\"\"\n",
    "# aircraft_paths=[] \n",
    "# b=0\n",
    "# for i in range(len(df.segments)):\n",
    "#     x= len(df.segments[i])\n",
    "#     segment=[]\n",
    "#     for j in range(b,len(waypointList[:b+x])):\n",
    "#         li=waypointList[j]\n",
    "#         segment.append(li)\n",
    "#     aircraft_paths.append(segment)\n",
    "#     b+=x\n",
    "\n",
    "# aircraft_paths[1]"
   ]
  },
  {
   "cell_type": "code",
   "execution_count": null,
   "metadata": {},
   "outputs": [],
   "source": [
    "len"
   ]
  },
  {
   "cell_type": "code",
   "execution_count": null,
   "metadata": {},
   "outputs": [],
   "source": [
    "# #change things accorgdign to ac_paths\n",
    "# aircraft_paths_x = []\n",
    "# aircraft_paths_y = []\n",
    "# path_waypoints   = []\n",
    "# for i in range(len(ac_paths)):\n",
    "#     x_list=[]\n",
    "#     y_list=[]\n",
    "#     wps_list=[]\n",
    "#     for j in range(len((ac_paths[i]))):\n",
    "#         wps_list.append(ac_paths[i][j].name)\n",
    "#         x=ac_paths[i][j].x\n",
    "#         y=ac_paths[i][j].y\n",
    "#         x_list.append(x)\n",
    "#         y_list.append(y)\n",
    "#     aircraft_paths_x.append(x_list)\n",
    "#     aircraft_paths_y.append(y_list)\n",
    "#     path_waypoints.append(wps_list)\n",
    "# path_waypoints[0]\n"
   ]
  },
  {
   "cell_type": "code",
   "execution_count": null,
   "metadata": {},
   "outputs": [],
   "source": [
    "#change things accorgdign to ac_paths\n"
   ]
  },
  {
   "cell_type": "code",
   "execution_count": null,
   "metadata": {},
   "outputs": [],
   "source": [
    "routelist[0]"
   ]
  },
  {
   "cell_type": "code",
   "execution_count": null,
   "metadata": {
    "tags": []
   },
   "outputs": [],
   "source": [
    "\n",
    "# ac_pathlongerthan2= []\n",
    "# for i in range(len(a_paths)):\n",
    "#     if len(aircraft_paths[i])>2:\n",
    "#         ac_pathlongerthan2.append(aircraft_paths[i])\n",
    "# len(ac_pathlongerthan2)\n",
    "\n",
    "\n",
    "    \n"
   ]
  },
  {
   "cell_type": "code",
   "execution_count": null,
   "metadata": {},
   "outputs": [],
   "source": [
    "len(routelist),len(aircraftList)"
   ]
  },
  {
   "cell_type": "code",
   "execution_count": null,
   "metadata": {
    "tags": [
     "outputPrepend"
    ]
   },
   "outputs": [],
   "source": []
  },
  {
   "cell_type": "code",
   "execution_count": null,
   "metadata": {},
   "outputs": [],
   "source": []
  }
 ]
}