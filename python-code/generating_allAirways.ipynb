{
 "cells": [
  {
   "cell_type": "markdown",
   "metadata": {},
   "source": [
    ">> This notebook is to generate the actual airway structure in a given region (chosen by 4 lat lon co-ordinates)"
   ]
  },
  {
   "cell_type": "code",
   "execution_count": 6,
   "metadata": {},
   "outputs": [],
   "source": [
    "import pandas as pd\n",
    "import numpy as np\n",
    "from pathlib import Path\n",
    "import numpy as np\n",
    "from classLib_yash import *\n",
    "from shapely.geometry import Polygon, Point\n",
    "from shapely.ops import transform\n",
    "from functools import partial\n",
    "import pyproj"
   ]
  },
  {
   "cell_type": "code",
   "execution_count": 7,
   "metadata": {},
   "outputs": [
    {
     "output_type": "execute_result",
     "data": {
      "text/plain": "WindowsPath('e:/ATMRI/CD_R/ATCO_preferences_interface/Scenario_interface_work')"
     },
     "metadata": {},
     "execution_count": 7
    }
   ],
   "source": [
    "Path.cwd()"
   ]
  },
  {
   "cell_type": "code",
   "execution_count": 8,
   "metadata": {},
   "outputs": [
    {
     "output_type": "execute_result",
     "data": {
      "text/plain": "WindowsPath('e:/ATMRI/CD_R/ATCO_preferences_interface/Scenario_interface_work')"
     },
     "metadata": {},
     "execution_count": 8
    }
   ],
   "source": [
    "os.chdir('e:/ATMRI/CD_R/ATCO_preferences_interface/Scenario_interface_work')\n",
    "Path.cwd()\n",
    "\n"
   ]
  },
  {
   "cell_type": "code",
   "execution_count": 9,
   "metadata": {},
   "outputs": [
    {
     "output_type": "execute_result",
     "data": {
      "text/plain": "   name                                           segments\n0  A224  [{'name': 'JOHOR BAHRU DVOR/DME (VJB)', 'lat':...\n1  A457  [{'name': 'JOHOR BAHRU DVOR/DME (VJB)', 'lat':...\n2  A464  [{'name': 'ARAMA (50 DME SJ)(Delegated airspac...",
      "text/html": "<div>\n<style scoped>\n    .dataframe tbody tr th:only-of-type {\n        vertical-align: middle;\n    }\n\n    .dataframe tbody tr th {\n        vertical-align: top;\n    }\n\n    .dataframe thead th {\n        text-align: right;\n    }\n</style>\n<table border=\"1\" class=\"dataframe\">\n  <thead>\n    <tr style=\"text-align: right;\">\n      <th></th>\n      <th>name</th>\n      <th>segments</th>\n    </tr>\n  </thead>\n  <tbody>\n    <tr>\n      <th>0</th>\n      <td>A224</td>\n      <td>[{'name': 'JOHOR BAHRU DVOR/DME (VJB)', 'lat':...</td>\n    </tr>\n    <tr>\n      <th>1</th>\n      <td>A457</td>\n      <td>[{'name': 'JOHOR BAHRU DVOR/DME (VJB)', 'lat':...</td>\n    </tr>\n    <tr>\n      <th>2</th>\n      <td>A464</td>\n      <td>[{'name': 'ARAMA (50 DME SJ)(Delegated airspac...</td>\n    </tr>\n  </tbody>\n</table>\n</div>"
     },
     "metadata": {},
     "execution_count": 9
    }
   ],
   "source": [
    "airway = pd.read_json('airways.json')\n",
    "airway.head(3)"
   ]
  },
  {
   "cell_type": "code",
   "execution_count": 10,
   "metadata": {},
   "outputs": [
    {
     "output_type": "execute_result",
     "data": {
      "text/plain": "2"
     },
     "metadata": {},
     "execution_count": 10
    }
   ],
   "source": [
    "len(airway.segments[0])"
   ]
  },
  {
   "cell_type": "code",
   "execution_count": 11,
   "metadata": {},
   "outputs": [
    {
     "output_type": "execute_result",
     "data": {
      "text/plain": "{'name': 'MERSING DVOR/DME (VMR) (58 DME PU)',\n 'lat': '2.388',\n 'lon': '103.872',\n 'latdms': '022318N',\n 'londms': '1035218E'}"
     },
     "metadata": {},
     "execution_count": 11
    }
   ],
   "source": [
    "airway.segments[0][1]"
   ]
  },
  {
   "cell_type": "code",
   "execution_count": 12,
   "metadata": {},
   "outputs": [
    {
     "output_type": "execute_result",
     "data": {
      "text/plain": "    name                                           segments\n0   B338  [{'name': 'MERSING DVOR/DME (VMR)', 'lat': '2....\n1   G219  [{'name': 'NIVAM', 'lat': '2.614', 'lon': '104...\n2   G334  [{'name': 'PULAU TIOMAN VOR/DME (VPT)', 'lat':...\n3   G580  [{'name': 'SINJON DVOR/DME (SJ)', 'lat': '1.22...\n4   W401  [{'name': 'HOSBA (R079/34 DME SJ)(R103/24 DME ...\n5   W407  [{'name': 'TEKONG DVOR/DME (VTK)', 'lat': '1.4...\n6   L625  [{'name': 'AKMON', 'lat': '8.215', 'lon': '110...\n7   L629  [{'name': 'DOLOX', 'lat': '4.811', 'lon': '105...\n8   L635  [{'name': 'MABLI', 'lat': '4.288', 'lon': '106...\n9   L642  [{'name': 'ESPOB (VVTS/WSJC FIR BDRY)', 'lat':...\n10  L644  [{'name': 'DUDIS (WSJC/VVTS FIR BDRY)', 'lat':...\n11  M635  [{'name': 'TEKONG DVOR/DME (VTK)', 'lat': '1.4...\n12  M646  [{'name': 'KAMIN (WBFC/WSJC FIR BDRY)', 'lat':...\n13  M753  [{'name': 'IPRIX (VVTS/WSJC FIR BDRY)', 'lat':...\n14  M758  [{'name': 'PEKAN DVOR/DME (VPK)', 'lat': '3.38...\n15  M761  [{'name': 'PEKAN DVOR/DME (VPK)', 'lat': '3.38...\n16  M763  [{'name': 'ENREP', 'lat': '4.873', 'lon': '104...\n17  M767  [{'name': 'TEGID (RPHI/WSJC FIR BDRY)', 'lat':...\n18  M771  [{'name': 'DUDIS (WSJC/VVTS FIR BDRY)', 'lat':...\n19  M904  [{'name': 'TIDAR (WSJC/VTBB FIR BDRY)', 'lat':...\n20  N875  [{'name': 'ENREP', 'lat': '4.873', 'lon': '104...\n21  N884  [{'name': 'LAXOR (WSJC/RPHI FIR BDRY)', 'lat':...\n22  N891  [{'name': 'IGARI', 'lat': '6.937', 'lon': '103...\n23  N892  [{'name': 'MELAS (VVTS/WSJC FIR BDRY)', 'lat':...\n24  Q801  [{'name': 'ESPOB (VVTS/WSJC FIR BDRY)', 'lat':...\n25  Q802  [{'name': 'IPRIX (VVTS/WSJC FIR BDRY)', 'lat':...\n26  Q803  [{'name': 'UPRON', 'lat': '6.151', 'lon': '103...\n27  T612  [{'name': 'DOLOX', 'lat': '4.811', 'lon': '105...\n28  Y336  [{'name': 'KETOD (WMFC/WSJC FIR BDRY)', 'lat':...",
      "text/html": "<div>\n<style scoped>\n    .dataframe tbody tr th:only-of-type {\n        vertical-align: middle;\n    }\n\n    .dataframe tbody tr th {\n        vertical-align: top;\n    }\n\n    .dataframe thead th {\n        text-align: right;\n    }\n</style>\n<table border=\"1\" class=\"dataframe\">\n  <thead>\n    <tr style=\"text-align: right;\">\n      <th></th>\n      <th>name</th>\n      <th>segments</th>\n    </tr>\n  </thead>\n  <tbody>\n    <tr>\n      <th>0</th>\n      <td>B338</td>\n      <td>[{'name': 'MERSING DVOR/DME (VMR)', 'lat': '2....</td>\n    </tr>\n    <tr>\n      <th>1</th>\n      <td>G219</td>\n      <td>[{'name': 'NIVAM', 'lat': '2.614', 'lon': '104...</td>\n    </tr>\n    <tr>\n      <th>2</th>\n      <td>G334</td>\n      <td>[{'name': 'PULAU TIOMAN VOR/DME (VPT)', 'lat':...</td>\n    </tr>\n    <tr>\n      <th>3</th>\n      <td>G580</td>\n      <td>[{'name': 'SINJON DVOR/DME (SJ)', 'lat': '1.22...</td>\n    </tr>\n    <tr>\n      <th>4</th>\n      <td>W401</td>\n      <td>[{'name': 'HOSBA (R079/34 DME SJ)(R103/24 DME ...</td>\n    </tr>\n    <tr>\n      <th>5</th>\n      <td>W407</td>\n      <td>[{'name': 'TEKONG DVOR/DME (VTK)', 'lat': '1.4...</td>\n    </tr>\n    <tr>\n      <th>6</th>\n      <td>L625</td>\n      <td>[{'name': 'AKMON', 'lat': '8.215', 'lon': '110...</td>\n    </tr>\n    <tr>\n      <th>7</th>\n      <td>L629</td>\n      <td>[{'name': 'DOLOX', 'lat': '4.811', 'lon': '105...</td>\n    </tr>\n    <tr>\n      <th>8</th>\n      <td>L635</td>\n      <td>[{'name': 'MABLI', 'lat': '4.288', 'lon': '106...</td>\n    </tr>\n    <tr>\n      <th>9</th>\n      <td>L642</td>\n      <td>[{'name': 'ESPOB (VVTS/WSJC FIR BDRY)', 'lat':...</td>\n    </tr>\n    <tr>\n      <th>10</th>\n      <td>L644</td>\n      <td>[{'name': 'DUDIS (WSJC/VVTS FIR BDRY)', 'lat':...</td>\n    </tr>\n    <tr>\n      <th>11</th>\n      <td>M635</td>\n      <td>[{'name': 'TEKONG DVOR/DME (VTK)', 'lat': '1.4...</td>\n    </tr>\n    <tr>\n      <th>12</th>\n      <td>M646</td>\n      <td>[{'name': 'KAMIN (WBFC/WSJC FIR BDRY)', 'lat':...</td>\n    </tr>\n    <tr>\n      <th>13</th>\n      <td>M753</td>\n      <td>[{'name': 'IPRIX (VVTS/WSJC FIR BDRY)', 'lat':...</td>\n    </tr>\n    <tr>\n      <th>14</th>\n      <td>M758</td>\n      <td>[{'name': 'PEKAN DVOR/DME (VPK)', 'lat': '3.38...</td>\n    </tr>\n    <tr>\n      <th>15</th>\n      <td>M761</td>\n      <td>[{'name': 'PEKAN DVOR/DME (VPK)', 'lat': '3.38...</td>\n    </tr>\n    <tr>\n      <th>16</th>\n      <td>M763</td>\n      <td>[{'name': 'ENREP', 'lat': '4.873', 'lon': '104...</td>\n    </tr>\n    <tr>\n      <th>17</th>\n      <td>M767</td>\n      <td>[{'name': 'TEGID (RPHI/WSJC FIR BDRY)', 'lat':...</td>\n    </tr>\n    <tr>\n      <th>18</th>\n      <td>M771</td>\n      <td>[{'name': 'DUDIS (WSJC/VVTS FIR BDRY)', 'lat':...</td>\n    </tr>\n    <tr>\n      <th>19</th>\n      <td>M904</td>\n      <td>[{'name': 'TIDAR (WSJC/VTBB FIR BDRY)', 'lat':...</td>\n    </tr>\n    <tr>\n      <th>20</th>\n      <td>N875</td>\n      <td>[{'name': 'ENREP', 'lat': '4.873', 'lon': '104...</td>\n    </tr>\n    <tr>\n      <th>21</th>\n      <td>N884</td>\n      <td>[{'name': 'LAXOR (WSJC/RPHI FIR BDRY)', 'lat':...</td>\n    </tr>\n    <tr>\n      <th>22</th>\n      <td>N891</td>\n      <td>[{'name': 'IGARI', 'lat': '6.937', 'lon': '103...</td>\n    </tr>\n    <tr>\n      <th>23</th>\n      <td>N892</td>\n      <td>[{'name': 'MELAS (VVTS/WSJC FIR BDRY)', 'lat':...</td>\n    </tr>\n    <tr>\n      <th>24</th>\n      <td>Q801</td>\n      <td>[{'name': 'ESPOB (VVTS/WSJC FIR BDRY)', 'lat':...</td>\n    </tr>\n    <tr>\n      <th>25</th>\n      <td>Q802</td>\n      <td>[{'name': 'IPRIX (VVTS/WSJC FIR BDRY)', 'lat':...</td>\n    </tr>\n    <tr>\n      <th>26</th>\n      <td>Q803</td>\n      <td>[{'name': 'UPRON', 'lat': '6.151', 'lon': '103...</td>\n    </tr>\n    <tr>\n      <th>27</th>\n      <td>T612</td>\n      <td>[{'name': 'DOLOX', 'lat': '4.811', 'lon': '105...</td>\n    </tr>\n    <tr>\n      <th>28</th>\n      <td>Y336</td>\n      <td>[{'name': 'KETOD (WMFC/WSJC FIR BDRY)', 'lat':...</td>\n    </tr>\n  </tbody>\n</table>\n</div>"
     },
     "metadata": {},
     "execution_count": 12
    }
   ],
   "source": [
    "def filter_airways(x1,y1,x2,y2,x3,y3,x4,y4,airway):\n",
    "    filtered_airways = pd.DataFrame()\n",
    "\n",
    "    boundary_coordinates = ([x1,y1],[x2,y2],[x3,y3],[x4,y4])\n",
    "\n",
    "    poly = Polygon(boundary_coordinates)\n",
    "    for i in range(len(airway)):\n",
    "        for j in range(len(airway.segments[i])):\n",
    "            point1 = Point([float(airway.segments[i][j]['lat']),float(airway.segments[i][j]['lon'])])\n",
    "        # point2 = Point([float(airway.segments[i][1]['lat']),float(airway.segments[i][1]['lon'])])\n",
    "            if poly.contains(point1)== True :\n",
    "            # and poly.contains(point2)== True\n",
    "                filtered_airways=filtered_airways.append(airway.loc[i])\n",
    "    filtered_airways = filtered_airways.drop_duplicates(subset=['name'])\n",
    "    return filtered_airways\n",
    "\n",
    "# filteraws = filter_airways(1.19,103.06,1.19,104.7,1.76,104.7,1.76,103.06,airway)\n",
    "# filteraws = filter_airways(0,105,0,109,5,109,5,105,airway)\n",
    "filteraws = filter_airways(1,104,1,108,5,108,5,104,airway)\n",
    "\n",
    "\n",
    "filteraws=filteraws.reset_index(drop=True)\n",
    "filteraws\n"
   ]
  },
  {
   "cell_type": "code",
   "execution_count": 13,
   "metadata": {},
   "outputs": [
    {
     "output_type": "execute_result",
     "data": {
      "text/plain": "(29,\n [{'name': 'PULAU TIOMAN VOR/DME (VPT)',\n   'lat': '2.916',\n   'lon': '104.111',\n   'latdms': '025459N',\n   'londms': '1040639E'},\n  {'name': 'KIBOL (WMFC/WSJC FIR BDRY)',\n   'lat': '2.875',\n   'lon': '104.468',\n   'latdms': '025229N',\n   'londms': '1042805E'},\n  {'name': 'BUNTO',\n   'lat': '2.669',\n   'lon': '105.998',\n   'latdms': '024008N',\n   'londms': '1055953E'},\n  {'name': 'KAMIN (WSJC/WBFC FIR BDRY)',\n   'lat': '2.578',\n   'lon': '108.927',\n   'latdms': '023442N',\n   'londms': '1085536E'}])"
     },
     "metadata": {},
     "execution_count": 13
    }
   ],
   "source": [
    "len(filteraws),filteraws.segments[2]"
   ]
  },
  {
   "cell_type": "markdown",
   "metadata": {},
   "source": []
  },
  {
   "cell_type": "code",
   "execution_count": 14,
   "metadata": {
    "tags": [
     "outputPrepend"
    ]
   },
   "outputs": [
    {
     "output_type": "stream",
     "name": "stdout",
     "text": "', 'lat': '4.811', 'lon': '105.380', 'latdms': '044841N', 'londms': '1052247E', 'transf_x': 310.499999999999, 'transf_y': 857.475}, {'name': 'NOPAT', 'lat': '4.387', 'lon': '104.799', 'latdms': '042313N', 'londms': '1044756E', 'transf_x': 179.77500000000148, 'transf_y': 762.0749999999999}, {'name': 'VEPLI', 'lat': '3.873', 'lon': '104.095', 'latdms': '035223N', 'londms': '1040542E', 'transf_x': 21.374999999999744, 'transf_y': 646.4250000000001}, {'name': 'BUVAL (WSJC/WMFC FIR BDRY)', 'lat': '3.606', 'lon': '103.728', 'latdms': '033622N', 'londms': '1034341E', 'transf_x': -61.20000000000125, 'transf_y': 586.35}, {'name': 'PEKAN DVOR/DME (VPK)', 'lat': '3.383', 'lon': '103.423', 'latdms': '032259N', 'londms': '1032524E', 'transf_x': -129.8249999999996, 'transf_y': 536.175}]}, {'name': 'L635', 'segments': [{'name': 'MABLI', 'lat': '4.288', 'lon': '106.213', 'latdms': '041717N', 'londms': '1061247E', 'transf_x': 497.9249999999986, 'transf_y': 739.8000000000001}, {'name': 'SUSAR', 'lat': '3.980', 'lon': '105.263', 'latdms': '035848N', 'londms': '1051547E', 'transf_x': 284.1750000000012, 'transf_y': 670.5}, {'name': 'DUBSA', 'lat': '3.817', 'lon': '104.761', 'latdms': '034901N', 'londms': '1044540E', 'transf_x': 171.22499999999903, 'transf_y': 633.825}, {'name': 'UGPEK', 'lat': '3.613', 'lon': '104.131', 'latdms': '033647N', 'londms': '1040752E', 'transf_x': 29.47500000000005, 'transf_y': 587.925}, {'name': 'DOVOL (WSJC/WMFC FIR BDRY)', 'lat': '3.513', 'lon': '103.823', 'latdms': '033047N', 'londms': '1034923E', 'transf_x': -39.82500000000151, 'transf_y': 565.425}, {'name': 'PEKAN DVOR/DME (VPK)', 'lat': '3.383', 'lon': '103.423', 'latdms': '032259N', 'londms': '1032524E', 'transf_x': -129.8249999999996, 'transf_y': 536.175}]}, {'name': 'L642', 'segments': [{'name': 'ESPOB (VVTS/WSJC FIR BDRY)', 'lat': '7.000', 'lon': '105.555', 'latdms': '070000N', 'londms': '1053318E', 'transf_x': 349.87500000000153, 'transf_y': 1350.0}, {'name': 'ENREP', 'lat': '4.873', 'lon': '104.245', 'latdms': '045223N', 'londms': '1041442E', 'transf_x': 55.12500000000102, 'transf_y': 871.4250000000001}, {'name': 'VEPLI', 'lat': '3.873', 'lon': '104.095', 'latdms': '035223N', 'londms': '1040542E', 'transf_x': 21.374999999999744, 'transf_y': 646.4250000000001}, {'name': 'EGOLO (WSJC/WMFC FIR BDRY)', 'lat': '3.326', 'lon': '104.013', 'latdms': '031934N', 'londms': '1040047E', 'transf_x': 2.9250000000011767, 'transf_y': 523.35}, {'name': 'ROBMO', 'lat': '2.911', 'lon': '103.950', 'latdms': '025440N', 'londms': '1035700E', 'transf_x': -11.24999999999936, 'transf_y': 429.975}, {'name': 'MERSING DVOR/DME (VMR)', 'lat': '2.388', 'lon': '103.872', 'latdms': '022318N', 'londms': '1035218E', 'transf_x': -28.800000000000026, 'transf_y': 312.29999999999995}]}, {'name': 'L644', 'segments': [{'name': 'DUDIS (WSJC/VVTS FIR BDRY)', 'lat': '7.000', 'lon': '106.810', 'latdms': '070000N', 'londms': '1064836E', 'transf_x': 632.2500000000005, 'transf_y': 1350.0}, {'name': 'MABLI', 'lat': '4.288', 'lon': '106.213', 'latdms': '041717N', 'londms': '1061247E', 'transf_x': 497.9249999999986, 'transf_y': 739.8000000000001}, {'name': 'OPULA', 'lat': '3.532', 'lon': '106.355', 'latdms': '033155N', 'londms': '1062118E', 'transf_x': 529.8750000000009, 'transf_y': 569.7}, {'name': 'ONAPO', 'lat': '3.354', 'lon': '106.388', 'latdms': '032116N', 'londms': '1062318E', 'transf_x': 537.3000000000012, 'transf_y': 529.65}, {'name': 'OMLIV', 'lat': '2.920', 'lon': '106.470', 'latdms': '025512N', 'londms': '1062812E', 'transf_x': 555.7499999999998, 'transf_y': 432.0}, {'name': 'OMBAP', 'lat': '2.521', 'lon': '106.545', 'latdms': '023116N', 'londms': '1063242E', 'transf_x': 572.6250000000003, 'transf_y': 342.22499999999997}, {'name': 'OLSAM', 'lat': '2.016', 'lon': '106.640', 'latdms': '020059N', 'londms': '1063824E', 'transf_x': 594.0000000000001, 'transf_y': 228.6}, {'name': 'OBLOT', 'lat': '1.716', 'lon': '106.696', 'latdms': '014256N', 'londms': '1064147E', 'transf_x': 606.5999999999996, 'transf_y': 161.1}, {'name': 'OBGET', 'lat': '1.385', 'lon': '106.759', 'latdms': '012307N', 'londms': '1064531E', 'transf_x': 620.7750000000001, 'transf_y': 86.625}, {'name': 'KIKOR (WSJC/WIIZ FIR BDRY)', 'lat': '-0.379', 'lon': '107.090', 'latdms': '002244S', 'londms': '1070524E', 'transf_x': 695.2500000000008, 'transf_y': -310.275}]}, {'name': 'M635', 'segments': [{'name': 'TEKONG DVOR/DME (VTK)', 'lat': '1.415', 'lon': '104.022', 'latdms': '012455N', 'londms': '1040120E', 'transf_x': 4.950000000001253, 'transf_y': 93.37500000000001}, {'name': 'TANJUNG PINANG VOR/DME (TPG)', 'lat': '0.904', 'lon': '104.514', 'latdms': '005413N', 'londms': '1043052E', 'transf_x': 115.64999999999905, 'transf_y': -21.599999999999994}, {'name': 'ATPOM', 'lat': '0.407', 'lon': '105.354', 'latdms': '002425N', 'londms': '1052114E', 'transf_x': 304.6499999999998, 'transf_y': -133.42499999999998}, {'name': 'SURGA (WSJC/WIIZ FIR BDRY)', 'lat': '-0.616', 'lon': '106.522', 'latdms': '003657S', 'londms': '1063119E', 'transf_x': 567.4500000000013, 'transf_y': -363.6}]}, {'name': 'M646', 'segments': [{'name': 'KAMIN (WBFC/WSJC FIR BDRY)', 'lat': '2.578', 'lon': '108.927', 'latdms': '023442N', 'londms': '1085536E', 'transf_x': 1108.5750000000014, 'transf_y': 355.04999999999995}, {'name': 'SABIP', 'lat': '2.161', 'lon': '107.846', 'latdms': '020940N', 'londms': '1075044E', 'transf_x': 865.3500000000008, 'transf_y': 261.225}, {'name': 'ESPIT', 'lat': '2.003', 'lon': '107.440', 'latdms': '020011N', 'londms': '1072624E', 'transf_x': 773.9999999999995, 'transf_y': 225.675}, {'name': 'OBLOT', 'lat': '1.716', 'lon': '106.696', 'latdms': '014256N', 'londms': '1064147E', 'transf_x': 606.5999999999996, 'transf_y': 161.1}, {'name': 'TOMAN', 'lat': '1.363', 'lon': '105.788', 'latdms': '012147N', 'londms': '1054717E', 'transf_x': 402.2999999999993, 'transf_y': 81.675}]}, {'name': 'M753', 'segments': [{'name': 'IPRIX (VVTS/WSJC FIR BDRY)', 'lat': '7.000', 'lon': '104.132', 'latdms': '070000N', 'londms': '1040755E', 'transf_x': 29.700000000001125, 'transf_y': 1350.0}, {'name': 'ENREP', 'lat': '4.873', 'lon': '104.245', 'latdms': '045223N', 'londms': '1041442E', 'transf_x': 55.12500000000102, 'transf_y': 871.4250000000001}]}, {'name': 'M758', 'segments': [{'name': 'PEKAN DVOR/DME (VPK)', 'lat': '3.383', 'lon': '103.423', 'latdms': '032259N', 'londms': '1032524E', 'transf_x': -129.8249999999996, 'transf_y': 536.175}, {'name': 'IDSEL (WMFC/WSJC FIR BDRY)', 'lat': '3.409', 'lon': '103.929', 'latdms': '032432N', 'londms': '1035544E', 'transf_x': -15.97499999999954, 'transf_y': 542.025}, {'name': 'URIGO', 'lat': '3.418', 'lon': '104.113', 'latdms': '032505N', 'londms': '1040647E', 'transf_x': 25.424999999999898, 'transf_y': 544.0500000000001}, {'name': 'VISAT', 'lat': '3.439', 'lon': '104.526', 'latdms': '032620N', 'londms': '1043134E', 'transf_x': 118.34999999999916, 'transf_y': 548.775}, {'name': 'MABAL', 'lat': '3.474', 'lon': '105.210', 'latdms': '032826N', 'londms': '1051236E', 'transf_x': 272.2499999999986, 'transf_y': 556.6500000000001}, {'name': 'ELGOR', 'lat': '3.504', 'lon': '105.805', 'latdms': '033014N', 'londms': '1054818E', 'transf_x': 406.12500000000153, 'transf_y': 563.4}, {'name': 'LUSMO', 'lat': '3.561', 'lon': '106.926', 'latdms': '033341N', 'londms': '1065534E', 'transf_x': 658.3500000000005, 'transf_y': 576.225}, {'name': 'TERIX', 'lat': '4.256', 'lon': '109.582', 'latdms': '041521N', 'londms': '1093456E', 'transf_x': 1255.9499999999985, 'transf_y': 732.6}, {'name': 'OLKIT (WSJC/WBFC FIR BDRY)', 'lat': '4.836', 'lon': '111.855', 'latdms': '045010N', 'londms': '1115118E', 'transf_x': 1767.375000000001, 'transf_y': 863.1}]}, {'name': 'M761', 'segments': [{'name': 'PEKAN DVOR/DME (VPK)', 'lat': '3.383', 'lon': '103.423', 'latdms': '032259N', 'londms': '1032524E', 'transf_x': -129.8249999999996, 'transf_y': 536.175}, {'name': 'KETOD (WMFC/WSJC FIR BDRY)', 'lat': '3.178', 'lon': '104.162', 'latdms': '031042N', 'londms': '1040942E', 'transf_x': 36.45000000000138, 'transf_y': 490.05}, {'name': 'OTLON', 'lat': '3.131', 'lon': '104.335', 'latdms': '030752N', 'londms': '1042006E', 'transf_x': 75.3749999999986, 'transf_y': 479.47499999999997}, {'name': 'KILOT', 'lat': '3.038', 'lon': '104.673', 'latdms': '030217N', 'londms': '1044023E', 'transf_x': 151.4250000000004, 'transf_y': 458.54999999999995}, {'name': 'LIPRO', 'lat': '2.895', 'lon': '105.191', 'latdms': '025342N', 'londms': '1051128E', 'transf_x': 267.9750000000006, 'transf_y': 426.375}, {'name': 'BOBOB', 'lat': '2.368', 'lon': '107.099', 'latdms': '022206N', 'londms': '1070558E', 'transf_x': 697.2750000000009, 'transf_y': 307.79999999999995}, {'name': 'SABIP', 'lat': '2.161', 'lon': '107.846', 'latdms': '020940N', 'londms': '1075044E', 'transf_x': 865.3500000000008, 'transf_y': 261.225}, {'name': 'AGOBA (WSJC/WBFC FIR BDRY)', 'lat': '1.978', 'lon': '108.500', 'latdms': '015840N', 'londms': '1083000E', 'transf_x': 1012.5, 'transf_y': 220.04999999999998}]}, {'name': 'M763', 'segments': [{'name': 'ENREP', 'lat': '4.873', 'lon': '104.245', 'latdms': '045223N', 'londms': '1041442E', 'transf_x': 55.12500000000102, 'transf_y': 871.4250000000001}, {'name': 'TAXUL (WMFC/WSJC FIR BDRY)', 'lat': '3.843', 'lon': '103.677', 'latdms': '035035N', 'londms': '1034037E', 'transf_x': -72.67499999999849, 'transf_y': 639.675}, {'name': 'PEKAN DVOR/DME (VPK)', 'lat': '3.383', 'lon': '103.423', 'latdms': '032259N', 'londms': '1032524E', 'transf_x': -129.8249999999996, 'transf_y': 536.175}]}, {'name': 'M767', 'segments': [{'name': 'TEGID (RPHI/WSJC FIR BDRY)', 'lat': '8.949', 'lon': '115.862', 'latdms': '085656N', 'londms': '1155143E', 'transf_x': 2668.949999999999, 'transf_y': 1788.5249999999999}, {'name': 'TODAM', 'lat': '6.527', 'lon': '112.593', 'latdms': '063138N', 'londms': '1123536E', 'transf_x': 1933.4250000000009, 'transf_y': 1243.575}, {'name': 'TERIX', 'lat': '4.256', 'lon': '109.582', 'latdms': '041521N', 'londms': '1093456E', 'transf_x': 1255.9499999999985, 'transf_y': 732.6}, {'name': 'BOBOB', 'lat': '2.368', 'lon': '107.099', 'latdms': '022206N', 'londms': '1070558E', 'transf_x': 697.2750000000009, 'transf_y': 307.79999999999995}, {'name': 'TOMAN', 'lat': '1.363', 'lon': '105.788', 'latdms': '012147N', 'londms': '1054717E', 'transf_x': 402.2999999999993, 'transf_y': 81.675}]}, {'name': 'M771', 'segments': [{'name': 'DUDIS (WSJC/VVTS FIR BDRY)', 'lat': '7.000', 'lon': '106.810', 'latdms': '070000N', 'londms': '1064836E', 'transf_x': 632.2500000000005, 'transf_y': 1350.0}, {'name': 'DOLOX', 'lat': '4.811', 'lon': '105.380', 'latdms': '044841N', 'londms': '1052247E', 'transf_x': 310.499999999999, 'transf_y': 857.475}, {'name': 'DAMOG', 'lat': '4.207', 'lon': '105.004', 'latdms': '041225N', 'londms': '1050014E', 'transf_x': 225.9000000000011, 'transf_y': 721.5749999999999}, {'name': 'DUBSA', 'lat': '3.817', 'lon': '104.761', 'latdms': '034901N', 'londms': '1044540E', 'transf_x': 171.22499999999903, 'transf_y': 633.825}, {'name': 'VISAT', 'lat': '3.439', 'lon': '104.526', 'latdms': '032620N', 'londms': '1043134E', 'transf_x': 118.34999999999916, 'transf_y': 548.775}, {'name': 'OTLON', 'lat': '3.131', 'lon': '104.335', 'latdms': '030752N', 'londms': '1042006E', 'transf_x': 75.3749999999986, 'transf_y': 479.47499999999997}, {'name': 'RAXIM (WMFC/WSJC FIR BDRY)', 'lat': '3.055', 'lon': '104.287', 'latdms': '030318N', 'londms': '1041713E', 'transf_x': 64.57500000000138, 'transf_y': 462.37500000000006}, {'name': 'MERSING DVOR/DME (VMR)', 'lat': '2.388', 'lon': '103.872', 'latdms': '022318N', 'londms': '1035218E', 'transf_x': -28.800000000000026, 'transf_y': 312.29999999999995}]}, {'name': 'M904', 'segments': [{'name': 'TIDAR (WSJC/VTBB FIR BDRY)', 'lat': '6.875', 'lon': '102.833', 'latdms': '065230.15N', 'londms': '1024959.82E', 'transf_x': -262.5750000000004, 'transf_y': 1321.875}, {'name': 'ODONO', 'lat': '6.604', 'lon': '103.025', 'latdms': '063613.82N', 'londms': '1030129.41E', 'transf_x': -219.37499999999872, 'transf_y': 1260.9}, {'name': 'UPRON', 'lat': '6.151', 'lon': '103.344', 'latdms': '060903.41N', 'londms': '1032039.98E', 'transf_x': -147.60000000000133, 'transf_y': 1158.975}, {'name': 'ENREP', 'lat': '4.873', 'lon': '104.245', 'latdms': '045223N', 'londms': '1041442E', 'transf_x': 55.12500000000102, 'transf_y': 871.4250000000001}]}, {'name': 'N875', 'segments': [{'name': 'ENREP', 'lat': '4.873', 'lon': '104.245', 'latdms': '045223N', 'londms': '1041442E', 'transf_x': 55.12500000000102, 'transf_y': 871.4250000000001}, {'name': 'NOPAT', 'lat': '4.387', 'lon': '104.799', 'latdms': '042313N', 'londms': '1044756E', 'transf_x': 179.77500000000148, 'transf_y': 762.0749999999999}, {'name': 'DAMOG', 'lat': '4.207', 'lon': '105.004', 'latdms': '041225N', 'londms': '1050014E', 'transf_x': 225.9000000000011, 'transf_y': 721.5749999999999}, {'name': 'SUSAR', 'lat': '3.980', 'lon': '105.263', 'latdms': '035848N', 'londms': '1051547E', 'transf_x': 284.1750000000012, 'transf_y': 670.5}, {'name': 'MUMSO', 'lat': '3.739', 'lon': '105.537', 'latdms': '034420N', 'londms': '1053213E', 'transf_x': 345.8250000000014, 'transf_y': 616.275}, {'name': 'ELGOR', 'lat': '3.504', 'lon': '105.805', 'latdms': '033014N', 'londms': '1054818E', 'transf_x': 406.12500000000153, 'transf_y': 563.4}, {'name': 'LEBIN', 'lat': '3.244', 'lon': '106.101', 'latdms': '031438N', 'londms': '1060604E', 'transf_x': 472.7249999999998, 'transf_y': 504.90000000000003}, {'name': 'BOBOB', 'lat': '2.368', 'lon': '107.099', 'latdms': '022206N', 'londms': '1070558E', 'transf_x': 697.2750000000009, 'transf_y': 307.79999999999995}, {'name': 'ESPIT', 'lat': '2.003', 'lon': '107.440', 'latdms': '020011N', 'londms': '1072624E', 'transf_x': 773.9999999999995, 'transf_y': 225.675}, {'name': 'NIMIX', 'lat': '1.414', 'lon': '107.991', 'latdms': '012452N', 'londms': '1075926E', 'transf_x': 897.9749999999999, 'transf_y': 93.14999999999998}, {'name': 'ARUPA', 'lat': '0.528', 'lon': '108.813', 'latdms': '003140N', 'londms': '1084846E', 'transf_x': 1082.9250000000006, 'transf_y': -106.19999999999999}]}, {'name': 'N884', 'segments': [{'name': 'LAXOR (WSJC/RPHI FIR BDRY)', 'lat': '9.827', 'lon': '114.808', 'latdms': '094937N', 'londms': '1144829E', 'transf_x': 2431.8000000000015, 'transf_y': 1986.075}, {'name': 'LAGOT', 'lat': '7.276', 'lon': '111.545', 'latdms': '071632N', 'londms': '1113243E', 'transf_x': 1697.6250000000005, 'transf_y': 1412.1}, {'name': 'LUSMO', 'lat': '3.561', 'lon': '106.926', 'latdms': '033341N', 'londms': '1065534E', 'transf_x': 658.3500000000005, 'transf_y': 576.225}, {'name': 'LEBIN', 'lat': '3.244', 'lon': '106.101', 'latdms': '031438N', 'londms': '1060604E', 'transf_x': 472.7249999999998, 'transf_y': 504.90000000000003}, {'name': 'LIPRO', 'lat': '2.895', 'lon': '105.191', 'latdms': '025342N', 'londms': '1051128E', 'transf_x': 267.9750000000006, 'transf_y': 426.375}, {'name': 'LENDA (WSJC/WMFC FIR BDRY)', 'lat': '2.690', 'lon': '104.659', 'latdms': '024124N', 'londms': '1043932E', 'transf_x': 148.27500000000134, 'transf_y': 380.25}, {'name': 'MERSING DVOR/DME (VMR)', 'lat': '2.388', 'lon': '103.872', 'latdms': '022318N', 'londms': '1035218E', 'transf_x': -28.800000000000026, 'transf_y': 312.29999999999995}]}, {'name': 'N891', 'segments': [{'name': 'IGARI', 'lat': '6.937', 'lon': '103.585', 'latdms': '065612N', 'londms': '1033506E', 'transf_x': -93.3750000000014, 'transf_y': 1335.825}, {'name': 'IKUMI', 'lat': '5.894', 'lon': '103.919', 'latdms': '055338N', 'londms': '1035509E', 'transf_x': -18.22500000000069, 'transf_y': 1101.15}, {'name': 'ENREP', 'lat': '4.873', 'lon': '104.245', 'latdms': '045223N', 'londms': '1041442E', 'transf_x': 55.12500000000102, 'transf_y': 871.4250000000001}, {'name': 'UGPEK', 'lat': '3.613', 'lon': '104.131', 'latdms': '033647N', 'londms': '1040752E', 'transf_x': 29.47500000000005, 'transf_y': 587.925}, {'name': 'URIGO', 'lat': '3.418', 'lon': '104.113', 'latdms': '032505N', 'londms': '1040647E', 'transf_x': 25.424999999999898, 'transf_y': 544.0500000000001}, {'name': 'MANIM (WMFC/WSJC FIR BDRY)', 'lat': '3.242', 'lon': '104.098', 'latdms': '031431N', 'londms': '1040553E', 'transf_x': 22.04999999999977, 'transf_y': 504.45}, {'name': 'OBDAB', 'lat': '3.198', 'lon': '104.094', 'latdms': '031153N', 'londms': '1040538E', 'transf_x': 21.14999999999867, 'transf_y': 494.55}, {'name': 'PAPA UNIFORM DVOR/DME (PU)', 'lat': '1.423', 'lon': '103.933', 'latdms': '012523.99N', 'londms': '1035559.74E', 'transf_x': -15.07499999999844, 'transf_y': 95.17500000000001}]}, {'name': 'N892', 'segments': [{'name': 'MELAS (VVTS/WSJC FIR BDRY)', 'lat': '7.089', 'lon': '108.153', 'latdms': '070520N', 'londms': '1080911E', 'transf_x': 934.4250000000013, 'transf_y': 1370.025}, {'name': 'MABLI', 'lat': '4.288', 'lon': '106.213', 'latdms': '041717N', 'londms': '1061247E', 'transf_x': 497.9249999999986, 'transf_y': 739.8000000000001}, {'name': 'MUMSO', 'lat': '3.739', 'lon': '105.537', 'latdms': '034420N', 'londms': '1053213E', 'transf_x': 345.8250000000014, 'transf_y': 616.275}, {'name': 'MABAL', 'lat': '3.474', 'lon': '105.210', 'latdms': '032826N', 'londms': '1051236E', 'transf_x': 272.2499999999986, 'transf_y': 556.6500000000001}, {'name': 'KILOT', 'lat': '3.038', 'lon': '104.673', 'latdms': '030217N', 'londms': '1044023E', 'transf_x': 151.4250000000004, 'transf_y': 458.54999999999995}, {'name': 'KIBOL WSJC/WMFC FIR BDRY', 'lat': '2.875', 'lon': '104.468', 'latdms': '025229N', 'londms': '1042805E', 'transf_x': 105.3000000000008, 'transf_y': 421.875}, {'name': 'PEKLA', 'lat': '2.577', 'lon': '104.105', 'latdms': '023437N', 'londms': '1040618E', 'transf_x': 23.625000000000895, 'transf_y': 354.825}, {'name': 'MERSING DVOR/DME (VMR)', 'lat': '2.388', 'lon': '103.872', 'latdms': '022318N', 'londms': '1035218E', 'transf_x': -28.800000000000026, 'transf_y': 312.29999999999995}]}, {'name': 'Q801', 'segments': [{'name': 'ESPOB (VVTS/WSJC FIR BDRY)', 'lat': '7.000', 'lon': '105.555', 'latdms': '070000N', 'londms': '1053318E', 'transf_x': 349.87500000000153, 'transf_y': 1350.0}, {'name': 'ESBUM', 'lat': '4.869', 'lon': '104.475', 'latdms': '045210N', 'londms': '1042830E', 'transf_x': 106.87499999999872, 'transf_y': 870.525}]}, {'name': 'Q802', 'segments': [{'name': 'IPRIX (VVTS/WSJC FIR BDRY)', 'lat': '7.000', 'lon': '104.132', 'latdms': '070000N', 'londms': '1040755E', 'transf_x': 29.700000000001125, 'transf_y': 1350.0}, {'name': 'ESBUM', 'lat': '4.869', 'lon': '104.475', 'latdms': '045210N', 'londms': '1042830E', 'transf_x': 106.87499999999872, 'transf_y': 870.525}, {'name': 'ELALO', 'lat': '4.211', 'lon': '104.558', 'latdms': '041240N', 'londms': '1043329E', 'transf_x': 125.55000000000156, 'transf_y': 722.475}]}, {'name': 'Q803', 'segments': [{'name': 'UPRON', 'lat': '6.151', 'lon': '103.344', 'latdms': '060903.41N', 'londms': '1032039.98E', 'transf_x': -147.60000000000133, 'transf_y': 1158.975}, {'name': 'IPDOL', 'lat': '4.853', 'lon': '103.989', 'latdms': '045111N', 'londms': '1035920E', 'transf_x': -2.474999999999028, 'transf_y': 866.925}, {'name': 'KEXOL', 'lat': '4.658', 'lon': '104.162', 'latdms': '043930N', 'londms': '1040942E', 'transf_x': 36.45000000000138, 'transf_y': 823.0500000000001}, {'name': 'ELALO', 'lat': '4.211', 'lon': '104.558', 'latdms': '041240N', 'londms': '1043329E', 'transf_x': 125.55000000000156, 'transf_y': 722.475}]}, {'name': 'T612', 'segments': [{'name': 'DOLOX', 'lat': '4.811', 'lon': '105.380', 'latdms': '044841N', 'londms': '1052247E', 'transf_x': 310.499999999999, 'transf_y': 857.475}, {'name': 'IDSEL (WMFC/WSJC FIR BDRY)', 'lat': '3.409', 'lon': '103.929', 'latdms': '032432N', 'londms': '1035544E', 'transf_x': -15.97499999999954, 'transf_y': 542.025}]}, {'name': 'Y336', 'segments': [{'name': 'KETOD (WMFC/WSJC FIR BDRY)', 'lat': '3.178', 'lon': '104.162', 'latdms': '031042N', 'londms': '1040942E', 'transf_x': 36.45000000000138, 'transf_y': 490.05}, {'name': 'PADLI', 'lat': '3.155', 'lon': '103.526', 'latdms': '030918N', 'londms': '1033133E', 'transf_x': -106.65000000000084, 'transf_y': 484.87499999999994}]}]\n"
    }
   ],
   "source": [
    "\"\"\"This snippet adds transformed x and y columns to the airways file\"\"\"\n",
    "# a= np.array([1.19,103.06])\n",
    "a=np.array([1,104])\n",
    "a_ = np.array([a[1],a[0]])\n",
    "# b=  np.array([1.19,104.7])\n",
    "b=  np.array([1,108])\n",
    "b_ = np.array([b[1],b[0]])\n",
    "# c =np.array([1.76,104.7])\n",
    "c =np.array([5,104])\n",
    "c_ = np.array([c[1],c[0]])\n",
    "# d=  np.array([1.76,103.06])\n",
    "d=  np.array([5,106])\n",
    "d_ = np.array([d[1],d[0]])\n",
    "\n",
    "horizontal_len= b[1]-a[1]\n",
    "vertical_len = d[0]-a[0]\n",
    "\n",
    "dict1=[]\n",
    "\n",
    "for i in range(len(filteraws)):\n",
    "    print(i)\n",
    "    d1= []\n",
    "    for j in range(len(filteraws.segments[i])):\n",
    "        # print(j)\n",
    "        P = np.array([float(filteraws.segments[i][j]['lon']),float(filteraws.segments[i][j]['lat'])])\n",
    "        print(P)\n",
    "        print(\"^^\")\n",
    "        # vert_d = np.linalg.norm(np.cross(b_-a_,P-a_))/np.linalg.norm(b_-a_)\n",
    "        # horiz_d = np.linalg.norm(np.cross(d_-a_,P-a_))/np.linalg.norm(d_-a_)\n",
    "        vert_d = P[1]-a_[1]\n",
    "        horiz_d = P[0] -a_[0]\n",
    "        airdict1={\n",
    "                # \"name\":filteraws.name[i],        \n",
    "                # \"segments\":[{\"name\":filteraws.segments[i][j]['name'],\n",
    "                \"name\":filteraws.segments[i][j]['name'],\n",
    "                \"lat\":filteraws.segments[i][j]['lat'],\n",
    "                \"lon\":filteraws.segments[i][j]['lon'],\n",
    "                \"latdms\":filteraws.segments[i][j]['latdms'],\n",
    "                \"londms\":filteraws.segments[i][j]['londms'],\n",
    "                \"transf_x\": (900/horizontal_len)*horiz_d,\n",
    "                \"transf_y\": (900/vertical_len)*vert_d\n",
    "                }\n",
    "        d1.append(airdict1)\n",
    "    # dict2={\"segments\":d1}\n",
    "    dict3 ={\"name\":filteraws.name[i], \n",
    "            \"segments\":d1}\n",
    "    # print(dict3)\n",
    "    dict1.append(dict3)\n",
    "        \n",
    "print(dict1)\n"
   ]
  },
  {
   "cell_type": "code",
   "execution_count": 15,
   "metadata": {},
   "outputs": [],
   "source": [
    "import json\n",
    "with open('14Test_transformedairways.json', 'w') as json_file:\n",
    "    json.dump(dict1, json_file)"
   ]
  },
  {
   "cell_type": "markdown",
   "metadata": {},
   "source": [
    "this section is  copy of the code to transform the sectors to xythis section is  copy of the code to transform the sectors to xy"
   ]
  },
  {
   "cell_type": "code",
   "execution_count": null,
   "metadata": {
    "tags": []
   },
   "outputs": [],
   "source": []
  },
  {
   "cell_type": "markdown",
   "metadata": {},
   "source": [
    "## >> now, creating scenarios using the airways in the previous cell"
   ]
  },
  {
   "cell_type": "code",
   "execution_count": 16,
   "metadata": {},
   "outputs": [
    {
     "output_type": "execute_result",
     "data": {
      "text/plain": "WindowsPath('e:/ATMRI/CD_R/ATCO_preferences_interface/Scenario_interface_work')"
     },
     "metadata": {},
     "execution_count": 16
    }
   ],
   "source": [
    "Path.cwd()"
   ]
  },
  {
   "cell_type": "code",
   "execution_count": 17,
   "metadata": {},
   "outputs": [
    {
     "output_type": "execute_result",
     "data": {
      "text/plain": "{'name': '20DME (20 DME PU)',\n 'lat': '1.758',\n 'lon': '103.970',\n 'latdms': '014530N',\n 'londms': '1035812E',\n 'transf_x': -6.750000000000256,\n 'transf_y': 170.55}"
     },
     "metadata": {},
     "execution_count": 17
    }
   ],
   "source": [
    "df = pd.read_json('E:/atmri/CD_R/ATCO_preferences_interface/Scenario_interface_work/14Test_transformedairways.json')\n",
    "\n",
    "\n",
    "(df.segments[0][1])"
   ]
  },
  {
   "cell_type": "code",
   "execution_count": 18,
   "metadata": {},
   "outputs": [
    {
     "output_type": "execute_result",
     "data": {
      "text/plain": "29"
     },
     "metadata": {},
     "execution_count": 18
    }
   ],
   "source": [
    "len(df)"
   ]
  },
  {
   "cell_type": "code",
   "execution_count": 19,
   "metadata": {
    "tags": []
   },
   "outputs": [],
   "source": [
    "# for k in range(len(waypointList)-1):\n",
    "#     li=[waypointList[k],waypointList[k+1]]\n",
    "#     airwayList.append(Airways('aw'+str(k), li[0],li[1]))\n",
    "\n",
    "# print(airwayList[1])"
   ]
  },
  {
   "cell_type": "code",
   "execution_count": null,
   "metadata": {},
   "outputs": [],
   "source": []
  },
  {
   "cell_type": "code",
   "execution_count": 37,
   "metadata": {
    "tags": []
   },
   "outputs": [
    {
     "output_type": "execute_result",
     "data": {
      "text/plain": "153"
     },
     "metadata": {},
     "execution_count": 37
    }
   ],
   "source": [
    "# datalist=[]\n",
    "# for i in range(10):\n",
    "\n",
    "waypointList=[]\n",
    "for i in range(len(df)):\n",
    "    for j in range(len(df.segments[i])):\n",
    "        waypointList.append(WayPoint(df.segments[i][j]['name'],[df.segments[i][j]['transf_x'],900-df.segments[i][j]['transf_y']]))\n",
    "        \n",
    "len(waypointList)\n",
    "\n"
   ]
  },
  {
   "cell_type": "code",
   "execution_count": 41,
   "metadata": {
    "tags": []
   },
   "outputs": [
    {
     "output_type": "stream",
     "name": "stdout",
     "text": "587.7\n"
    }
   ],
   "source": [
    "\n",
    "airwayList=[]\n",
    "a=0\n",
    "for i in range(len(df.segments)):\n",
    "    x=len(df.segments[i])\n",
    "    # print('x:',x)\n",
    "    for j in range(a,len(waypointList[:a+x])-1):\n",
    "        # print('j: ',j)\n",
    "        li= [waypointList[j],waypointList[j+1]]\n",
    "        # print(li)\n",
    "        airwayList.append(Airways('aw'+str(j), li[0],li[1]))\n",
    "    a+=x\n",
    "print(airwayList[0].start_wp_y)   \n",
    "# for k in range(len(waypointList)-1):\n",
    "#     li=[waypointList[k],waypointList[k+1]]\n",
    "#     airwayList.append(Airways('aw'+str(k), li[0],li[1]))\n"
   ]
  },
  {
   "cell_type": "code",
   "execution_count": 48,
   "metadata": {
    "tags": []
   },
   "outputs": [
    {
     "output_type": "stream",
     "name": "stdout",
     "text": "aw0:  start coords  -28.800000000000026 587.7\n"
    }
   ],
   "source": [
    "print(airwayList[0])"
   ]
  },
  {
   "cell_type": "code",
   "execution_count": 49,
   "metadata": {
    "tags": []
   },
   "outputs": [
    {
     "output_type": "execute_result",
     "data": {
      "text/plain": "84"
     },
     "metadata": {},
     "execution_count": 49
    }
   ],
   "source": [
    "ac_per_scenario = 6\n",
    "aircraftList=[]\n",
    "aircraft_name=[]\n",
    "for n in range(1,ac_per_scenario+1):\n",
    "    aircraft_name.append('ac'+str(n))\n",
    "\n",
    "\n",
    "boundary_coordinates = ([0,0],[900,0],[900,900],[0,900])\n",
    "polyg = Polygon(boundary_coordinates)\n",
    "boundedWps=[]\n",
    "for i in range(len(airwayList)):\n",
    "    point2=Point([airwayList[i].start_wp_x,airwayList[i].start_wp_y])\n",
    "    if polyg.contains(point2)== True:\n",
    "        boundedWps.append(airwayList[i])\n",
    "\n",
    "\n",
    "len(boundedWps)\n",
    "\n",
    "\n",
    "# np.random.choice(airwayList)"
   ]
  },
  {
   "cell_type": "code",
   "execution_count": 50,
   "metadata": {},
   "outputs": [],
   "source": [
    "for i in range(ac_per_scenario):\n",
    "    point=np.random.choice(boundedWps)\n",
    "    d=[20,30,40,50,60,70,80,90,100,110,120,140,150,170,190,210,220,230,240,250] #offset,\n",
    "    aircraft = Aircraft(str(aircraft_name[i]), point , np.random.choice(d)) #this randomization will create multiple scenaios\n",
    "    aircraftList.append(aircraft)"
   ]
  },
  {
   "cell_type": "code",
   "execution_count": 51,
   "metadata": {},
   "outputs": [
    {
     "output_type": "execute_result",
     "data": {
      "text/plain": "[<classLib_yash.Aircraft at 0x2507ba355e0>,\n <classLib_yash.Aircraft at 0x2507ba33580>,\n <classLib_yash.Aircraft at 0x2507ba35550>,\n <classLib_yash.Aircraft at 0x2507ba35580>,\n <classLib_yash.Aircraft at 0x2507ba356a0>,\n <classLib_yash.Aircraft at 0x2507ba356d0>]"
     },
     "metadata": {},
     "execution_count": 51
    }
   ],
   "source": [
    "aircraftList"
   ]
  },
  {
   "cell_type": "code",
   "execution_count": null,
   "metadata": {},
   "outputs": [],
   "source": [
    " d= Scenario(waypointList,airwayList)\n",
    "    dict4={}\n",
    "    for i in range(len(waypointList)):\n",
    "        waydict={waypointList[i].name:{\n",
    "            'x':waypointList[i].x,\n",
    "            'y':waypointList[i].y}}\n",
    "        dict4.update(waydict)\n",
    "\n",
    "    dict5={}\n",
    "    for i in range(len(airwayList)):\n",
    "        airwaydict= {airwayList[i].name:{\n",
    "            'start':airwayList[i].start_wp,\n",
    "            'end' : airwayList[i].end_wp}}\n",
    "        dict5.update(airwaydict)\n",
    "\n",
    "    dict6={}\n",
    "    for i in range(len(aircraftList)):\n",
    "        aircraftdict= {aircraftList[i].name:{\n",
    "            'x':aircraftList[i].offset_x,\n",
    "            'y':aircraftList[i].offset_y,\n",
    "            'dir_x': aircraftList[i].dir_x,\n",
    "            'dir_y': aircraftList[i].dir_y}}\n",
    "        dict6.update(aircraftdict)    \n",
    "\n",
    "    data_dict={'waypoints':dict4, 'airways':dict5,'aircrafts':dict6, \n",
    "        'sectors':{\n",
    "                    'sector1':{'type': 'secondary', 'boundary': l1[0]},\n",
    "                    'sector2':{'type': 'secondary', 'boundary': l1[1]},\n",
    "                    'sector3':{'type': 'secondary', 'boundary': l1[2]},\n",
    "                    'sector4':{'type': 'secondary', 'boundary': l1[3]},\n",
    "                    'sector5':{'type': 'secondary',  'boundary': l1[4]},\n",
    "                    'sector6':{'type': 'primary', 'boundary':  l1[5]},\n",
    "                    'sector7':{'type':'secondary', 'boundary': l1[6]},\n",
    "                    'sector8':{'type':'secondary' ,'boundary':l1[7]}\n",
    "                    }}\n",
    "\n",
    "\n",
    "    datalist.append(data_dict)   "
   ]
  },
  {
   "cell_type": "code",
   "execution_count": null,
   "metadata": {},
   "outputs": [],
   "source": [
    "import json\n",
    "with open('scenarioWith_sector_14julyTest.json', 'w') as json_file:\n",
    "    json.dump(datalist, json_file)"
   ]
  },
  {
   "cell_type": "code",
   "execution_count": null,
   "metadata": {},
   "outputs": [],
   "source": []
  },
  {
   "cell_type": "code",
   "execution_count": null,
   "metadata": {},
   "outputs": [],
   "source": []
  },
  {
   "cell_type": "code",
   "execution_count": null,
   "metadata": {},
   "outputs": [],
   "source": [
    "\n",
    "import pandas as pd\n",
    "import numpy as np\n",
    "from pathlib import Path\n",
    "import numpy as np\n",
    "from shapely.geometry import Polygon, Point\n",
    "from shapely.ops import transform\n",
    "from functools import partial\n",
    "import pyproj\n",
    "import geopandas as gpd\n",
    "\n",
    "df = gpd.read_file('e:/ATMRI/CD_R/ATCO_preferences_interface/Scenario_interface_work/sector_bounds/test.geojson')\n",
    "print(df.head(16))\n",
    "\n",
    "pop= list(df.geometry[0].exterior.coords)\n",
    "type(pop)\n",
    "sec1,sec2,sec3,sec4,sec5,sec6,sec7,sec8 = [],[],[],[],[],[],[],[]\n",
    "\n",
    "a= df.geometry[0].exterior.coords\n",
    "for x,y in a:\n",
    "    sec1.append([x,y])\n",
    "b= df.geometry[1].exterior.coords\n",
    "for x,y in b:\n",
    "    sec2.append([x,y])\n",
    "c = df.geometry[2].exterior.coords\n",
    "for x,y in c:\n",
    "    sec3.append([x,y])\n",
    "d= df.geometry[3].exterior.coords\n",
    "for x,y in d:\n",
    "    sec4.append([x,y])  \n",
    "e= df.geometry[4].exterior.coords\n",
    "for x,y in e:\n",
    "    sec5.append([x,y])\n",
    "f= df.geometry[5].exterior.coords\n",
    "for x,y in f:\n",
    "    sec6.append([x,y]) \n",
    "g= df.geometry[6].exterior.coords\n",
    "for x,y in g:\n",
    "    sec7.append([x,y])\n",
    "h= df.geometry[7].exterior.coords\n",
    "for x,y in h:\n",
    "    sec8.append([x,y])\n",
    "\n",
    "d1= {'sector1':sec1}\n",
    "# for i in range(len(sec1)):\n",
    "#     d1.setdefault('sector1',[])\n",
    "#     d1['sector1'].append(sec1[i])\n",
    "\n",
    "d2= {}\n",
    "for i in range(len(sec1)):\n",
    "    d2.setdefault('sector2',[])\n",
    "    d2['sector2'].append(sec2[i])\n",
    "d3= {}\n",
    "for i in range(len(sec3)):\n",
    "    d3.setdefault('sector3',[])\n",
    "    d3['sector3'].append(sec3[i])\n",
    "d4= {}\n",
    "for i in range(len(sec4)):\n",
    "    d4.setdefault('sector4',[])\n",
    "    d4['sector4'].append(sec4[i])\n",
    "d5= {}\n",
    "for i in range(len(sec5)):\n",
    "    d5.setdefault('sector5',[])\n",
    "    d5['sector5'].append(sec5[i])\n",
    "d6= {}\n",
    "for i in range(len(sec6)):\n",
    "    d6.setdefault('sector6',[])\n",
    "    d6['sector6'].append(sec6[i])\n",
    "d7= {}\n",
    "for i in range(len(sec7)):\n",
    "    d7.setdefault('sector7',[])\n",
    "    d7['sector7'].append(sec1[7])\n",
    "d8= {}\n",
    "for i in range(len(sec8)):\n",
    "    d8.setdefault('sector8',[])\n",
    "    d8['sector8'].append(sec8[i]) \n",
    "\n",
    "\n",
    "dd={'Sectors':\n",
    "    {'sector1':sec1,\n",
    "    'sector2':sec2,\n",
    "    'sector3':sec3,\n",
    "    'sector4':sec4,\n",
    "    'sector5':sec5,\n",
    "    'sector6':sec6,\n",
    "    'sector7':sec7,\n",
    "    'sector8':sec8}\n",
    "    }\n",
    "sectorcoords=[dd]\n",
    "os.chdir('E:\\\\atmri\\CD_R\\ATCO_preferences_interface\\Scenario_interface_work\\data')\n",
    "import json\n",
    "with open('SgSectors_LonLat.json','w') as json_file:\n",
    "    json.dump(sectorcoords,json_file)\n",
    "\n",
    "df2=pd.read_json('SgSectors_LonLat.json')\n",
    "\n",
    "\n",
    "\"\"\"the sqaure region with 'a' as the bottom left point (moving anticlock abcd)\n",
    "    a,b,c,d= [lon,lat] format\"\"\"\n",
    "a = np.array([102,1])\n",
    "b = np.array([108,1])\n",
    "c = np.array([108,7])\n",
    "d = np.array([102,7])\n",
    "\n",
    "horizontal_length  = b[0]-a[0]\n",
    "vertical_length = d[1]-a[1]\n",
    "keylist=['sector1','sector2','sector3','sector4','sector5','sector6','sector7','sector8']\n",
    "l1=[[],[],[],[],[],[],[],[]]\n",
    "for i in range(len(keylist)):\n",
    "    for j in range(len(df2.Sectors[0][keylist[i]])):\n",
    "        P= np.array([df2.Sectors[0][keylist[i]][j][0],df2.Sectors[0][keylist[i]][j][1]])\n",
    "        # print(P)\n",
    "        vert_d = P[1]-a[1]\n",
    "        horiz_d= P[0]-a[0]\n",
    "        l1[i].append([(900/horizontal_length)*horiz_d,900-(900/vertical_length)*vert_d])\n",
    "\n",
    "sectordict = {'Sectors':{\n",
    "                'sector1':{'type': 'secondary', 'boundary': l1[0]},\n",
    "                'sector2':{'type': 'secondary', 'boundary': l1[1]},\n",
    "                'sector3':{'type': 'secondary', 'boundary': l1[2]},\n",
    "                'sector4':{'type': 'secondary', 'boundary': l1[3]},\n",
    "                'sector5':{'type': 'secondary',  'boundary': l1[4]},\n",
    "                'sector6':{'type': 'primary', 'boundary':  l1[5]},\n",
    "                'sector7':{'type':'secondary', 'boundary': l1[6]},\n",
    "                'sector8':{'type':'secondary' ,'boundary':l1[7]}\n",
    "                }}\n",
    "\n",
    "sectorpoints=[sectordict]\n",
    "sectorpoints"
   ]
  }
 ],
 "metadata": {
  "language_info": {
   "codemirror_mode": {
    "name": "ipython",
    "version": 3
   },
   "file_extension": ".py",
   "mimetype": "text/x-python",
   "name": "python",
   "nbconvert_exporter": "python",
   "pygments_lexer": "ipython3",
   "version": 3
  },
  "orig_nbformat": 2,
  "kernelspec": {
   "name": "python_defaultSpec_1594875522861",
   "display_name": "Python 3.8.3 64-bit ('ATCOviz': conda)"
  }
 },
 "nbformat": 4,
 "nbformat_minor": 2
}