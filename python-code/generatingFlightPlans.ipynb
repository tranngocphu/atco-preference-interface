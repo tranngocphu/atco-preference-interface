{
 "metadata": {
  "language_info": {
   "codemirror_mode": {
    "name": "ipython",
    "version": 3
   },
   "file_extension": ".py",
   "mimetype": "text/x-python",
   "name": "python",
   "nbconvert_exporter": "python",
   "pygments_lexer": "ipython3",
   "version": "3.8.3-final"
  },
  "orig_nbformat": 2,
  "kernelspec": {
   "name": "python38364bitatcovizcondaa3d166ff95094005a202b42906b28fb0",
   "display_name": "Python 3.8.3 64-bit ('ATCOviz': conda)"
  }
 },
 "nbformat": 4,
 "nbformat_minor": 2,
 "cells": [
  {
   "cell_type": "code",
   "execution_count": 2,
   "metadata": {},
   "outputs": [],
   "source": [
    "import pandas as pd \n",
    "import numpy as np\n",
    "from pathlib import Path\n",
    "from shapely.geometry import Polygon, Point\n",
    "from shapely.ops import transform\n",
    "from functools import partial\n",
    "import pyproj\n",
    "from classLib_forFlightplans import *\n",
    "import random"
   ]
  },
  {
   "cell_type": "code",
   "execution_count": 3,
   "metadata": {},
   "outputs": [
    {
     "output_type": "execute_result",
     "data": {
      "text/plain": "WindowsPath('e:/ATMRI/CD_R/ATCO_preferences_interface/Scenario_interface_work/python-code')"
     },
     "metadata": {},
     "execution_count": 3
    }
   ],
   "source": [
    "region = [105,0,110,0,110,5,105,5]\n",
    "Path.cwd()"
   ]
  },
  {
   "cell_type": "code",
   "execution_count": 4,
   "metadata": {},
   "outputs": [],
   "source": [
    "air=pd.read_json(\"../airways.json\")\n",
    "\n",
    "\n",
    "def filter_airways(x1,y1,x2,y2,x3,y3,x4,y4,airway):\n",
    "    filtered_airways = pd.DataFrame()\n",
    "\n",
    "    boundary_coordinates = ([x1,y1],[x2,y2],[x3,y3],[x4,y4])\n",
    "\n",
    "    poly = Polygon(boundary_coordinates)\n",
    "    for i in range(len(airway)):\n",
    "        for j in range(len(airway.segments[i])):\n",
    "            point1 = Point([float(airway.segments[i][j]['lat']),float(airway.segments[i][j]['lon'])])\n",
    "        # point2 = Point([float(airway.segments[i][1]['lat']),float(airway.segments[i][1]['lon'])])\n",
    "            if poly.contains(point1)== True :\n",
    "            # and poly.contains(point2)== True\n",
    "                filtered_airways=filtered_airways.append(airway.loc[i])\n",
    "    filtered_airways = filtered_airways.drop_duplicates(subset=['name'])\n",
    "    return filtered_airways"
   ]
  },
  {
   "cell_type": "code",
   "execution_count": 5,
   "metadata": {},
   "outputs": [
    {
     "output_type": "execute_result",
     "data": {
      "text/plain": "(   name                                           segments\n 0  G334  [{'name': 'PULAU TIOMAN VOR/DME (VPT)', 'lat':...\n 1  G580  [{'name': 'SINJON DVOR/DME (SJ)', 'lat': '1.22...\n 2  L504  [{'name': 'OBDOS', 'lat': '0.418', 'lon': '106...\n 3  L517  [{'name': 'TERIX', 'lat': '4.256', 'lon': '109...\n 4  L625  [{'name': 'AKMON', 'lat': '8.215', 'lon': '110...,\n 19)"
     },
     "metadata": {},
     "execution_count": 5
    }
   ],
   "source": [
    "filteraws = filter_airways(0,105,0,110,5,110,5,105,air)\n",
    "filteraws = filteraws.reset_index(drop=True)\n",
    "filteraws.head(), len(filteraws)"
   ]
  },
  {
   "cell_type": "code",
   "execution_count": 6,
   "metadata": {
    "tags": []
   },
   "outputs": [
    {
     "output_type": "stream",
     "name": "stdout",
     "text": "[{'name': 'G334', 'segments': [{'name': 'PULAU TIOMAN VOR/DME (VPT)', 'lat': '2.916', 'lon': '104.111', 'latdms': '025459N', 'londms': '1040639E', 'transf_x': -160.01999999999924, 'transf_y': 524.88}, {'name': 'KIBOL (WMFC/WSJC FIR BDRY)', 'lat': '2.875', 'lon': '104.468', 'latdms': '025229N', 'londms': '1042805E', 'transf_x': -95.75999999999937, 'transf_y': 517.5}, {'name': 'BUNTO', 'lat': '2.669', 'lon': '105.998', 'latdms': '024008N', 'londms': '1055953E', 'transf_x': 179.64000000000084, 'transf_y': 480.42}, {'name': 'KAMIN (WSJC/WBFC FIR BDRY)', 'lat': '2.578', 'lon': '108.927', 'latdms': '023442N', 'londms': '1085536E', 'transf_x': 706.8600000000013, 'transf_y': 464.03999999999996}]}, {'name': 'G580', 'segments': [{'name': 'SINJON DVOR/DME (SJ)', 'lat': '1.222', 'lon': '103.856', 'latdms': '011319N', 'londms': '1035120E', 'transf_x': -205.92000000000098, 'transf_y': 219.96}, {'name': 'HOSBA (R079/34 DME SJ)(R103/24 DME VTK)', 'lat': '1.330', 'lon': '104.405', 'latdms': '011948N', 'londms': '1042418E', 'transf_x': -107.0999999999998, 'transf_y': 239.4}, {'name': 'TOMAN', 'lat': '1.363', 'lon': '105.788', 'latdms': '012147N', 'londms': '1054717E', 'transf_x': 141.8399999999994, 'transf_y': 245.34}, {'name': 'OBGET', 'lat': '1.385', 'lon': '106.759', 'latdms': '012307N', 'londms': '1064531E', 'transf_x': 316.62000000000006, 'transf_y': 249.3}, {'name': 'NIMIX', 'lat': '1.414', 'lon': '107.991', 'latdms': '012452N', 'londms': '1075926E', 'transf_x': 538.3799999999999, 'transf_y': 254.51999999999998}, {'name': 'ATETI (FIR BDRY)', 'lat': '1.428', 'lon': '108.500', 'latdms': '012540N', 'londms': '1083000E', 'transf_x': 630.0, 'transf_y': 257.03999999999996}]}, {'name': 'L504', 'segments': [{'name': 'OBDOS', 'lat': '0.418', 'lon': '106.931', 'latdms': '002503N', 'londms': '1065551E', 'transf_x': 347.57999999999953, 'transf_y': 75.24}, {'name': 'BAVUS (WSJC/WIIZ FIR BDRY)', 'lat': '0.000', 'lon': '109.000', 'latdms': '000000N', 'londms': '1090000E', 'transf_x': 720.0, 'transf_y': 0.0}]}, {'name': 'L517', 'segments': [{'name': 'TERIX', 'lat': '4.256', 'lon': '109.582', 'latdms': '041521N', 'londms': '1093456E', 'transf_x': 824.7599999999989, 'transf_y': 766.08}, {'name': 'GULIB (WSJC/WBFC FIR BDRY)', 'lat': '4.287', 'lon': '111.109', 'latdms': '041714N', 'londms': '1110633E', 'transf_x': 1099.619999999999, 'transf_y': 771.66}]}, {'name': 'L625', 'segments': [{'name': 'AKMON', 'lat': '8.215', 'lon': '110.218', 'latdms': '081254N', 'londms': '1101306E', 'transf_x': 939.2400000000007, 'transf_y': 1478.7}, {'name': 'LUSMO', 'lat': '3.561', 'lon': '106.926', 'latdms': '033341N', 'londms': '1065534E', 'transf_x': 346.68000000000035, 'transf_y': 640.98}, {'name': 'VERIN', 'lat': '2.559', 'lon': '106.407', 'latdms': '023332N', 'londms': '1062425E', 'transf_x': 253.25999999999937, 'transf_y': 460.62}, {'name': 'TOMAN', 'lat': '1.363', 'lon': '105.788', 'latdms': '012147N', 'londms': '1054717E', 'transf_x': 141.8399999999994, 'transf_y': 245.34}]}, {'name': 'L629', 'segments': [{'name': 'DOLOX', 'lat': '4.811', 'lon': '105.380', 'latdms': '044841N', 'londms': '1052247E', 'transf_x': 68.39999999999918, 'transf_y': 865.98}, {'name': 'NOPAT', 'lat': '4.387', 'lon': '104.799', 'latdms': '042313N', 'londms': '1044756E', 'transf_x': -36.17999999999881, 'transf_y': 789.66}, {'name': 'VEPLI', 'lat': '3.873', 'lon': '104.095', 'latdms': '035223N', 'londms': '1040542E', 'transf_x': -162.9000000000002, 'transf_y': 697.14}, {'name': 'BUVAL (WSJC/WMFC FIR BDRY)', 'lat': '3.606', 'lon': '103.728', 'latdms': '033622N', 'londms': '1034341E', 'transf_x': -228.960000000001, 'transf_y': 649.0799999999999}, {'name': 'PEKAN DVOR/DME (VPK)', 'lat': '3.383', 'lon': '103.423', 'latdms': '032259N', 'londms': '1032524E', 'transf_x': -283.8599999999997, 'transf_y': 608.94}]}, {'name': 'L635', 'segments': [{'name': 'MABLI', 'lat': '4.288', 'lon': '106.213', 'latdms': '041717N', 'londms': '1061247E', 'transf_x': 218.3399999999989, 'transf_y': 771.84}, {'name': 'SUSAR', 'lat': '3.980', 'lon': '105.263', 'latdms': '035848N', 'londms': '1051547E', 'transf_x': 47.34000000000094, 'transf_y': 716.4}, {'name': 'DUBSA', 'lat': '3.817', 'lon': '104.761', 'latdms': '034901N', 'londms': '1044540E', 'transf_x': -43.02000000000078, 'transf_y': 687.0600000000001}, {'name': 'UGPEK', 'lat': '3.613', 'lon': '104.131', 'latdms': '033647N', 'londms': '1040752E', 'transf_x': -156.41999999999996, 'transf_y': 650.34}, {'name': 'DOVOL (WSJC/WMFC FIR BDRY)', 'lat': '3.513', 'lon': '103.823', 'latdms': '033047N', 'londms': '1034923E', 'transf_x': -211.8600000000012, 'transf_y': 632.34}, {'name': 'PEKAN DVOR/DME (VPK)', 'lat': '3.383', 'lon': '103.423', 'latdms': '032259N', 'londms': '1032524E', 'transf_x': -283.8599999999997, 'transf_y': 608.94}]}, {'name': 'L644', 'segments': [{'name': 'DUDIS (WSJC/VVTS FIR BDRY)', 'lat': '7.000', 'lon': '106.810', 'latdms': '070000N', 'londms': '1064836E', 'transf_x': 325.8000000000004, 'transf_y': 1260.0}, {'name': 'MABLI', 'lat': '4.288', 'lon': '106.213', 'latdms': '041717N', 'londms': '1061247E', 'transf_x': 218.3399999999989, 'transf_y': 771.84}, {'name': 'OPULA', 'lat': '3.532', 'lon': '106.355', 'latdms': '033155N', 'londms': '1062118E', 'transf_x': 243.90000000000072, 'transf_y': 635.76}, {'name': 'ONAPO', 'lat': '3.354', 'lon': '106.388', 'latdms': '032116N', 'londms': '1062318E', 'transf_x': 249.84000000000094, 'transf_y': 603.72}, {'name': 'OMLIV', 'lat': '2.920', 'lon': '106.470', 'latdms': '025512N', 'londms': '1062812E', 'transf_x': 264.5999999999998, 'transf_y': 525.6}, {'name': 'OMBAP', 'lat': '2.521', 'lon': '106.545', 'latdms': '023116N', 'londms': '1063242E', 'transf_x': 278.1000000000003, 'transf_y': 453.78}, {'name': 'OLSAM', 'lat': '2.016', 'lon': '106.640', 'latdms': '020059N', 'londms': '1063824E', 'transf_x': 295.2000000000001, 'transf_y': 362.88}, {'name': 'OBLOT', 'lat': '1.716', 'lon': '106.696', 'latdms': '014256N', 'londms': '1064147E', 'transf_x': 305.27999999999963, 'transf_y': 308.88}, {'name': 'OBGET', 'lat': '1.385', 'lon': '106.759', 'latdms': '012307N', 'londms': '1064531E', 'transf_x': 316.62000000000006, 'transf_y': 249.3}, {'name': 'KIKOR (WSJC/WIIZ FIR BDRY)', 'lat': '-0.379', 'lon': '107.090', 'latdms': '002244S', 'londms': '1070524E', 'transf_x': 376.2000000000006, 'transf_y': -68.22}]}, {'name': 'M635', 'segments': [{'name': 'TEKONG DVOR/DME (VTK)', 'lat': '1.415', 'lon': '104.022', 'latdms': '012455N', 'londms': '1040120E', 'transf_x': -176.039999999999, 'transf_y': 254.70000000000002}, {'name': 'TANJUNG PINANG VOR/DME (TPG)', 'lat': '0.904', 'lon': '104.514', 'latdms': '005413N', 'londms': '1043052E', 'transf_x': -87.48000000000076, 'transf_y': 162.72}, {'name': 'ATPOM', 'lat': '0.407', 'lon': '105.354', 'latdms': '002425N', 'londms': '1052114E', 'transf_x': 63.71999999999986, 'transf_y': 73.25999999999999}, {'name': 'SURGA (WSJC/WIIZ FIR BDRY)', 'lat': '-0.616', 'lon': '106.522', 'latdms': '003657S', 'londms': '1063119E', 'transf_x': 273.960000000001, 'transf_y': -110.88}]}, {'name': 'M646', 'segments': [{'name': 'KAMIN (WBFC/WSJC FIR BDRY)', 'lat': '2.578', 'lon': '108.927', 'latdms': '023442N', 'londms': '1085536E', 'transf_x': 706.8600000000013, 'transf_y': 464.03999999999996}, {'name': 'SABIP', 'lat': '2.161', 'lon': '107.846', 'latdms': '020940N', 'londms': '1075044E', 'transf_x': 512.2800000000007, 'transf_y': 388.98}, {'name': 'ESPIT', 'lat': '2.003', 'lon': '107.440', 'latdms': '020011N', 'londms': '1072624E', 'transf_x': 439.1999999999996, 'transf_y': 360.54}, {'name': 'OBLOT', 'lat': '1.716', 'lon': '106.696', 'latdms': '014256N', 'londms': '1064147E', 'transf_x': 305.27999999999963, 'transf_y': 308.88}, {'name': 'TOMAN', 'lat': '1.363', 'lon': '105.788', 'latdms': '012147N', 'londms': '1054717E', 'transf_x': 141.8399999999994, 'transf_y': 245.34}]}, {'name': 'M758', 'segments': [{'name': 'PEKAN DVOR/DME (VPK)', 'lat': '3.383', 'lon': '103.423', 'latdms': '032259N', 'londms': '1032524E', 'transf_x': -283.8599999999997, 'transf_y': 608.94}, {'name': 'IDSEL (WMFC/WSJC FIR BDRY)', 'lat': '3.409', 'lon': '103.929', 'latdms': '032432N', 'londms': '1035544E', 'transf_x': -192.77999999999963, 'transf_y': 613.62}, {'name': 'URIGO', 'lat': '3.418', 'lon': '104.113', 'latdms': '032505N', 'londms': '1040647E', 'transf_x': -159.66000000000008, 'transf_y': 615.24}, {'name': 'VISAT', 'lat': '3.439', 'lon': '104.526', 'latdms': '032620N', 'londms': '1043134E', 'transf_x': -85.32000000000068, 'transf_y': 619.02}, {'name': 'MABAL', 'lat': '3.474', 'lon': '105.210', 'latdms': '032826N', 'londms': '1051236E', 'transf_x': 37.799999999998875, 'transf_y': 625.32}, {'name': 'ELGOR', 'lat': '3.504', 'lon': '105.805', 'latdms': '033014N', 'londms': '1054818E', 'transf_x': 144.90000000000123, 'transf_y': 630.72}, {'name': 'LUSMO', 'lat': '3.561', 'lon': '106.926', 'latdms': '033341N', 'londms': '1065534E', 'transf_x': 346.68000000000035, 'transf_y': 640.98}, {'name': 'TERIX', 'lat': '4.256', 'lon': '109.582', 'latdms': '041521N', 'londms': '1093456E', 'transf_x': 824.7599999999989, 'transf_y': 766.08}, {'name': 'OLKIT (WSJC/WBFC FIR BDRY)', 'lat': '4.836', 'lon': '111.855', 'latdms': '045010N', 'londms': '1115118E', 'transf_x': 1233.9000000000008, 'transf_y': 870.48}]}, {'name': 'M761', 'segments': [{'name': 'PEKAN DVOR/DME (VPK)', 'lat': '3.383', 'lon': '103.423', 'latdms': '032259N', 'londms': '1032524E', 'transf_x': -283.8599999999997, 'transf_y': 608.94}, {'name': 'KETOD (WMFC/WSJC FIR BDRY)', 'lat': '3.178', 'lon': '104.162', 'latdms': '031042N', 'londms': '1040942E', 'transf_x': -150.8399999999989, 'transf_y': 572.04}, {'name': 'OTLON', 'lat': '3.131', 'lon': '104.335', 'latdms': '030752N', 'londms': '1042006E', 'transf_x': -119.70000000000113, 'transf_y': 563.5799999999999}, {'name': 'KILOT', 'lat': '3.038', 'lon': '104.673', 'latdms': '030217N', 'londms': '1044023E', 'transf_x': -58.85999999999967, 'transf_y': 546.8399999999999}, {'name': 'LIPRO', 'lat': '2.895', 'lon': '105.191', 'latdms': '025342N', 'londms': '1051128E', 'transf_x': 34.38000000000045, 'transf_y': 521.1}, {'name': 'BOBOB', 'lat': '2.368', 'lon': '107.099', 'latdms': '022206N', 'londms': '1070558E', 'transf_x': 377.8200000000007, 'transf_y': 426.23999999999995}, {'name': 'SABIP', 'lat': '2.161', 'lon': '107.846', 'latdms': '020940N', 'londms': '1075044E', 'transf_x': 512.2800000000007, 'transf_y': 388.98}, {'name': 'AGOBA (WSJC/WBFC FIR BDRY)', 'lat': '1.978', 'lon': '108.500', 'latdms': '015840N', 'londms': '1083000E', 'transf_x': 630.0, 'transf_y': 356.04}]}, {'name': 'M767', 'segments': [{'name': 'TEGID (RPHI/WSJC FIR BDRY)', 'lat': '8.949', 'lon': '115.862', 'latdms': '085656N', 'londms': '1155143E', 'transf_x': 1955.159999999999, 'transf_y': 1610.82}, {'name': 'TODAM', 'lat': '6.527', 'lon': '112.593', 'latdms': '063138N', 'londms': '1123536E', 'transf_x': 1366.7400000000007, 'transf_y': 1174.8600000000001}, {'name': 'TERIX', 'lat': '4.256', 'lon': '109.582', 'latdms': '041521N', 'londms': '1093456E', 'transf_x': 824.7599999999989, 'transf_y': 766.08}, {'name': 'BOBOB', 'lat': '2.368', 'lon': '107.099', 'latdms': '022206N', 'londms': '1070558E', 'transf_x': 377.8200000000007, 'transf_y': 426.23999999999995}, {'name': 'TOMAN', 'lat': '1.363', 'lon': '105.788', 'latdms': '012147N', 'londms': '1054717E', 'transf_x': 141.8399999999994, 'transf_y': 245.34}]}, {'name': 'M771', 'segments': [{'name': 'DUDIS (WSJC/VVTS FIR BDRY)', 'lat': '7.000', 'lon': '106.810', 'latdms': '070000N', 'londms': '1064836E', 'transf_x': 325.8000000000004, 'transf_y': 1260.0}, {'name': 'DOLOX', 'lat': '4.811', 'lon': '105.380', 'latdms': '044841N', 'londms': '1052247E', 'transf_x': 68.39999999999918, 'transf_y': 865.98}, {'name': 'DAMOG', 'lat': '4.207', 'lon': '105.004', 'latdms': '041225N', 'londms': '1050014E', 'transf_x': 0.7200000000008799, 'transf_y': 757.26}, {'name': 'DUBSA', 'lat': '3.817', 'lon': '104.761', 'latdms': '034901N', 'londms': '1044540E', 'transf_x': -43.02000000000078, 'transf_y': 687.0600000000001}, {'name': 'VISAT', 'lat': '3.439', 'lon': '104.526', 'latdms': '032620N', 'londms': '1043134E', 'transf_x': -85.32000000000068, 'transf_y': 619.02}, {'name': 'OTLON', 'lat': '3.131', 'lon': '104.335', 'latdms': '030752N', 'londms': '1042006E', 'transf_x': -119.70000000000113, 'transf_y': 563.5799999999999}, {'name': 'RAXIM (WMFC/WSJC FIR BDRY)', 'lat': '3.055', 'lon': '104.287', 'latdms': '030318N', 'londms': '1041713E', 'transf_x': -128.3399999999989, 'transf_y': 549.9}, {'name': 'MERSING DVOR/DME (VMR)', 'lat': '2.388', 'lon': '103.872', 'latdms': '022318N', 'londms': '1035218E', 'transf_x': -203.04000000000002, 'transf_y': 429.84}]}, {'name': 'M774', 'segments': [{'name': 'TANJUNG PINANG VOR/DME (TPG)', 'lat': '0.904', 'lon': '104.514', 'latdms': '005413N', 'londms': '1043052E', 'transf_x': -87.48000000000076, 'transf_y': 162.72}, {'name': 'OBDOS', 'lat': '0.418', 'lon': '106.931', 'latdms': '002503N', 'londms': '1065551E', 'transf_x': 347.57999999999953, 'transf_y': 75.24}, {'name': 'KADAR (WSJC/WIIZ FIR BDRY)', 'lat': '-0.113', 'lon': '107.728', 'latdms': '000647S', 'londms': '1074342E', 'transf_x': 491.039999999999, 'transf_y': -20.34}]}, {'name': 'N875', 'segments': [{'name': 'ENREP', 'lat': '4.873', 'lon': '104.245', 'latdms': '045223N', 'londms': '1041442E', 'transf_x': -135.89999999999918, 'transf_y': 877.14}, {'name': 'NOPAT', 'lat': '4.387', 'lon': '104.799', 'latdms': '042313N', 'londms': '1044756E', 'transf_x': -36.17999999999881, 'transf_y': 789.66}, {'name': 'DAMOG', 'lat': '4.207', 'lon': '105.004', 'latdms': '041225N', 'londms': '1050014E', 'transf_x': 0.7200000000008799, 'transf_y': 757.26}, {'name': 'SUSAR', 'lat': '3.980', 'lon': '105.263', 'latdms': '035848N', 'londms': '1051547E', 'transf_x': 47.34000000000094, 'transf_y': 716.4}, {'name': 'MUMSO', 'lat': '3.739', 'lon': '105.537', 'latdms': '034420N', 'londms': '1053213E', 'transf_x': 96.6600000000011, 'transf_y': 673.02}, {'name': 'ELGOR', 'lat': '3.504', 'lon': '105.805', 'latdms': '033014N', 'londms': '1054818E', 'transf_x': 144.90000000000123, 'transf_y': 630.72}, {'name': 'LEBIN', 'lat': '3.244', 'lon': '106.101', 'latdms': '031438N', 'londms': '1060604E', 'transf_x': 198.17999999999984, 'transf_y': 583.9200000000001}, {'name': 'BOBOB', 'lat': '2.368', 'lon': '107.099', 'latdms': '022206N', 'londms': '1070558E', 'transf_x': 377.8200000000007, 'transf_y': 426.23999999999995}, {'name': 'ESPIT', 'lat': '2.003', 'lon': '107.440', 'latdms': '020011N', 'londms': '1072624E', 'transf_x': 439.1999999999996, 'transf_y': 360.54}, {'name': 'NIMIX', 'lat': '1.414', 'lon': '107.991', 'latdms': '012452N', 'londms': '1075926E', 'transf_x': 538.3799999999999, 'transf_y': 254.51999999999998}, {'name': 'ARUPA', 'lat': '0.528', 'lon': '108.813', 'latdms': '003140N', 'londms': '1084846E', 'transf_x': 686.3400000000004, 'transf_y': 95.04}]}, {'name': 'N884', 'segments': [{'name': 'LAXOR (WSJC/RPHI FIR BDRY)', 'lat': '9.827', 'lon': '114.808', 'latdms': '094937N', 'londms': '1144829E', 'transf_x': 1765.4400000000012, 'transf_y': 1768.86}, {'name': 'LAGOT', 'lat': '7.276', 'lon': '111.545', 'latdms': '071632N', 'londms': '1113243E', 'transf_x': 1178.1000000000004, 'transf_y': 1309.68}, {'name': 'LUSMO', 'lat': '3.561', 'lon': '106.926', 'latdms': '033341N', 'londms': '1065534E', 'transf_x': 346.68000000000035, 'transf_y': 640.98}, {'name': 'LEBIN', 'lat': '3.244', 'lon': '106.101', 'latdms': '031438N', 'londms': '1060604E', 'transf_x': 198.17999999999984, 'transf_y': 583.9200000000001}, {'name': 'LIPRO', 'lat': '2.895', 'lon': '105.191', 'latdms': '025342N', 'londms': '1051128E', 'transf_x': 34.38000000000045, 'transf_y': 521.1}, {'name': 'LENDA (WSJC/WMFC FIR BDRY)', 'lat': '2.690', 'lon': '104.659', 'latdms': '024124N', 'londms': '1043932E', 'transf_x': -61.379999999998915, 'transf_y': 484.2}, {'name': 'MERSING DVOR/DME (VMR)', 'lat': '2.388', 'lon': '103.872', 'latdms': '022318N', 'londms': '1035218E', 'transf_x': -203.04000000000002, 'transf_y': 429.84}]}, {'name': 'N892', 'segments': [{'name': 'MELAS (VVTS/WSJC FIR BDRY)', 'lat': '7.089', 'lon': '108.153', 'latdms': '070520N', 'londms': '1080911E', 'transf_x': 567.5400000000011, 'transf_y': 1276.02}, {'name': 'MABLI', 'lat': '4.288', 'lon': '106.213', 'latdms': '041717N', 'londms': '1061247E', 'transf_x': 218.3399999999989, 'transf_y': 771.84}, {'name': 'MUMSO', 'lat': '3.739', 'lon': '105.537', 'latdms': '034420N', 'londms': '1053213E', 'transf_x': 96.6600000000011, 'transf_y': 673.02}, {'name': 'MABAL', 'lat': '3.474', 'lon': '105.210', 'latdms': '032826N', 'londms': '1051236E', 'transf_x': 37.799999999998875, 'transf_y': 625.32}, {'name': 'KILOT', 'lat': '3.038', 'lon': '104.673', 'latdms': '030217N', 'londms': '1044023E', 'transf_x': -58.85999999999967, 'transf_y': 546.8399999999999}, {'name': 'KIBOL WSJC/WMFC FIR BDRY', 'lat': '2.875', 'lon': '104.468', 'latdms': '025229N', 'londms': '1042805E', 'transf_x': -95.75999999999937, 'transf_y': 517.5}, {'name': 'PEKLA', 'lat': '2.577', 'lon': '104.105', 'latdms': '023437N', 'londms': '1040618E', 'transf_x': -161.09999999999928, 'transf_y': 463.86}, {'name': 'MERSING DVOR/DME (VMR)', 'lat': '2.388', 'lon': '103.872', 'latdms': '022318N', 'londms': '1035218E', 'transf_x': -203.04000000000002, 'transf_y': 429.84}]}, {'name': 'T612', 'segments': [{'name': 'DOLOX', 'lat': '4.811', 'lon': '105.380', 'latdms': '044841N', 'londms': '1052247E', 'transf_x': 68.39999999999918, 'transf_y': 865.98}, {'name': 'IDSEL (WMFC/WSJC FIR BDRY)', 'lat': '3.409', 'lon': '103.929', 'latdms': '032432N', 'londms': '1035544E', 'transf_x': -192.77999999999963, 'transf_y': 613.62}]}]\n"
    }
   ],
   "source": [
    "\"\"\"This snippet adds transformed x and y columns to the airways file\"\"\"\n",
    "# a= np.array([1.19,103.06])\n",
    "a=np.array([0,105])\n",
    "a_ = np.array([a[1],a[0]])\n",
    "# b=  np.array([1.19,104.7])\n",
    "b=  np.array([0,110])\n",
    "b_ = np.array([b[1],b[0]])\n",
    "# c =np.array([1.76,104.7])\n",
    "c =np.array([5,110])\n",
    "c_ = np.array([c[1],c[0]])\n",
    "# d=  np.array([1.76,103.06])\n",
    "d=  np.array([5,105])\n",
    "d_ = np.array([d[1],d[0]])\n",
    "\n",
    "horizontal_len= b[1]-a[1]\n",
    "vertical_len = d[0]-a[0]\n",
    "\n",
    "dict1=[]\n",
    "\n",
    "for i in range(len(filteraws)):\n",
    "    # print(i)\n",
    "    d1= []\n",
    "    for j in range(len(filteraws.segments[i])):\n",
    "        # print(j)\n",
    "        P = np.array([float(filteraws.segments[i][j]['lon']),float(filteraws.segments[i][j]['lat'])])\n",
    "        # print(P)\n",
    "        # print(\"^^\")\n",
    "        # vert_d = np.linalg.norm(np.cross(b_-a_,P-a_))/np.linalg.norm(b_-a_)\n",
    "        # horiz_d = np.linalg.norm(np.cross(d_-a_,P-a_))/np.linalg.norm(d_-a_)\n",
    "        vert_d = P[1]-a_[1]\n",
    "        horiz_d = P[0] -a_[0]\n",
    "        airdict1={\n",
    "                # \"name\":filteraws.name[i],        \n",
    "                # \"segments\":[{\"name\":filteraws.segments[i][j]['name'],\n",
    "                \"name\":filteraws.segments[i][j]['name'],\n",
    "                \"lat\":filteraws.segments[i][j]['lat'],\n",
    "                \"lon\":filteraws.segments[i][j]['lon'],\n",
    "                \"latdms\":filteraws.segments[i][j]['latdms'],\n",
    "                \"londms\":filteraws.segments[i][j]['londms'],\n",
    "                \"transf_x\": (900/horizontal_len)*horiz_d,\n",
    "                \"transf_y\": (900/vertical_len)*vert_d\n",
    "                }\n",
    "        d1.append(airdict1)\n",
    "    # dict2={\"segments\":d1}\n",
    "    dict3 ={\"name\":filteraws.name[i], \n",
    "            \"segments\":d1}\n",
    "    # print(dict3)\n",
    "    dict1.append(dict3)\n",
    "        \n",
    "print(dict1)"
   ]
  },
  {
   "cell_type": "code",
   "execution_count": 7,
   "metadata": {},
   "outputs": [],
   "source": [
    "import json\n",
    "with open('scenario_data/airwaysforFlightPlan.json', 'w') as json_file:\n",
    "    json.dump(dict1, json_file)"
   ]
  },
  {
   "cell_type": "code",
   "execution_count": 15,
   "metadata": {},
   "outputs": [
    {
     "output_type": "execute_result",
     "data": {
      "text/plain": "(109, 19)"
     },
     "metadata": {},
     "execution_count": 15
    }
   ],
   "source": [
    "df=pd.read_json('scenario_data/airwaysforFlightPlan.json')\n",
    "waypointList = []\n",
    "for i in range(len(df)):\n",
    "    for j in range(len(df.segments[i])):\n",
    "        waypointList.append(WayPoint(df.segments[i][j]['name'],[df.segments[i][j]['transf_x'],900-df.segments[i][j]['transf_y']]))\n",
    "        \n",
    "len(waypointList),len(df.segments)"
   ]
  },
  {
   "cell_type": "code",
   "execution_count": 9,
   "metadata": {
    "tags": []
   },
   "outputs": [
    {
     "output_type": "stream",
     "name": "stdout",
     "text": "0 4\n1 6\n2 2\n3 2\n4 4\n5 5\n6 6\n7 10\n8 4\n9 5\n10 9\n11 8\n12 5\n13 8\n14 3\n15 11\n16 7\n17 8\n18 2\n"
    }
   ],
   "source": [
    "for a in range(len(df.segments)):\n",
    "    print(a,len(df.segments[a]))"
   ]
  },
  {
   "cell_type": "code",
   "execution_count": 10,
   "metadata": {
    "tags": []
   },
   "outputs": [],
   "source": [
    "airwayList=[]\n",
    "a=0\n",
    "for i in range(len(df.segments)):\n",
    "    x=len(df.segments[i])\n",
    "    # print(x)\n",
    "    for j in range(a,len(waypointList[:a+x])-1):\n",
    "        li=[waypointList[j],waypointList[j+1]]\n",
    "        # print(li)\n",
    "        airwayList.append(Airways('aw'+ str(j),li[0],li[1]))\n",
    "    a+=x"
   ]
  },
  {
   "cell_type": "code",
   "execution_count": 53,
   "metadata": {},
   "outputs": [
    {
     "output_type": "execute_result",
     "data": {
      "text/plain": "<classLib_forFlightplans.Airways at 0x18ab111b4c0>"
     },
     "metadata": {},
     "execution_count": 53
    }
   ],
   "source": []
  },
  {
   "cell_type": "code",
   "execution_count": 11,
   "metadata": {},
   "outputs": [],
   "source": [
    "# ac_per_scenario = 8\n",
    "# aircraftList=[]\n",
    "# aircraft_name=[]\n",
    "# for n in range(1,ac_per_scenario+1):\n",
    "#     aircraft_name.append('ac'+str(n))\n",
    "# for i in range(ac_per_scenario):\n",
    "#     point=np.random.choice(airwayList)\n",
    "#     d=[20,30,40,50,60,80,100,120,140,150,170,190,210,220,230,240,250] #offset,\n",
    "#     aircraft = Aircraft(str(aircraft_name[i]), point , np.random.choice(d)) #this will create multiple scenarios\n",
    "#     # aircraftList.append(aircraft)"
   ]
  },
  {
   "cell_type": "code",
   "execution_count": 12,
   "metadata": {
    "tags": []
   },
   "outputs": [],
   "source": [
    "\"\"\"\"here, the list aircraft_paths contains the waypoint lists that an aircraft will move on\"\"\"\n",
    "aircraft_paths=[] \n",
    "b=0\n",
    "for i in range(len(df.segments)):\n",
    "    x= len(df.segments[i])\n",
    "    segment=[]\n",
    "    for j in range(b,len(waypointList[:b+x])):\n",
    "        li=waypointList[j]\n",
    "        segment.append(li)\n",
    "    aircraft_paths.append(segment)\n",
    "    b+=x"
   ]
  },
  {
   "cell_type": "code",
   "execution_count": 59,
   "metadata": {
    "tags": []
   },
   "outputs": [
    {
     "output_type": "stream",
     "name": "stdout",
     "text": "waypoint class:DUDIS (WSJC/VVTS FIR BDRY)  x co-ord: 325.8000000000004  y co-ord: -360.0\nwaypoint class:MABLI  x co-ord: 218.3399999999989  y co-ord: 128.15999999999997\nwaypoint class:OPULA  x co-ord: 243.90000000000072  y co-ord: 264.24\nwaypoint class:ONAPO  x co-ord: 249.84000000000094  y co-ord: 296.28\nwaypoint class:OMLIV  x co-ord: 264.5999999999998  y co-ord: 374.4\nwaypoint class:OMBAP  x co-ord: 278.1000000000003  y co-ord: 446.22\nwaypoint class:OLSAM  x co-ord: 295.2000000000001  y co-ord: 537.12\nwaypoint class:OBLOT  x co-ord: 305.27999999999963  y co-ord: 591.12\nwaypoint class:OBGET  x co-ord: 316.62000000000006  y co-ord: 650.7\nwaypoint class:KIKOR (WSJC/WIIZ FIR BDRY)  x co-ord: 376.2000000000006  y co-ord: 968.22\n"
    }
   ],
   "source": [
    "for i in range(len(aircraft_paths[7])):\n",
    "    print(aircraft_paths[7][i])"
   ]
  },
  {
   "cell_type": "code",
   "execution_count": 16,
   "metadata": {
    "tags": []
   },
   "outputs": [
    {
     "output_type": "stream",
     "name": "stdout",
     "text": "4\n6\n2\n2\n4\n5\n6\n10\n4\n5\n9\n8\n5\n8\n3\n11\n7\n8\n2\n"
    }
   ],
   "source": [
    "for i in range(len(aircraft_paths)):\n",
    "    print(len(aircraft_paths[i]))"
   ]
  },
  {
   "cell_type": "code",
   "execution_count": null,
   "metadata": {},
   "outputs": [],
   "source": [
    "ed=[1,2,3,4]\n",
    "aircraft_paths[0][]"
   ]
  },
  {
   "cell_type": "code",
   "execution_count": 12,
   "metadata": {
    "tags": []
   },
   "outputs": [],
   "source": [
    "# all_airways_combined=[]\n",
    "# for i in range(len(df.segments[i])): # segments means number of wps in that segment\n",
    "#     segmentlength = len(df.segments[i])\n",
    "#     c=0\n",
    "#     airways_combined =[]\n",
    "#     for j in range(len(airwayList[:c+segmentlength-1])):\n",
    "#         airways_combined.append(airwayList[j])\n",
    "#     all_airways_combined.append(airways_combined)\n",
    "\n"
   ]
  },
  {
   "cell_type": "code",
   "execution_count": 22,
   "metadata": {},
   "outputs": [],
   "source": [
    "aircraft_paths_x = []\n",
    "aircraft_paths_y = []\n",
    "path_waypoints   = []\n",
    "for i in range(len(aircraft_paths)):\n",
    "    x_list=[]\n",
    "    y_list=[]\n",
    "    wps_list=[]\n",
    "    for j in range(len((aircraft_paths[i]))):\n",
    "        wps_list.append(aircraft_paths[i][j].name)\n",
    "        x=aircraft_paths[i][j].x\n",
    "        y=aircraft_paths[i][j].y\n",
    "        x_list.append(x)\n",
    "        y_list.append(y)\n",
    "    aircraft_paths_x.append(x_list)\n",
    "    aircraft_paths_y.append(y_list)\n",
    "    path_waypoints.append(wps_list)"
   ]
  },
  {
   "cell_type": "code",
   "execution_count": 23,
   "metadata": {},
   "outputs": [
    {
     "output_type": "execute_result",
     "data": {
      "text/plain": "[347.57999999999953, 720.0]"
     },
     "metadata": {},
     "execution_count": 23
    }
   ],
   "source": [
    "aircraft_paths_x[2]"
   ]
  },
  {
   "cell_type": "code",
   "execution_count": 24,
   "metadata": {},
   "outputs": [],
   "source": [
    "# startEnd_point=[]\n",
    "# for i in range(len(aircraft_paths)):\n",
    "#     point=[aircraft_paths[i][0],aircraft_paths[i][-1]]\n",
    "#     startEnd_point.append(point)"
   ]
  },
  {
   "cell_type": "code",
   "execution_count": 39,
   "metadata": {},
   "outputs": [
    {
     "output_type": "execute_result",
     "data": {
      "text/plain": "16"
     },
     "metadata": {},
     "execution_count": 39
    }
   ],
   "source": [
    "ac_pathlongerthan2= []\n",
    "for i in range(len(aircraft_paths)):\n",
    "    if len(aircraft_paths[i])>2:\n",
    "        ac_pathlongerthan2.append(aircraft_paths[i])\n",
    "len(ac_pathlongerthan2)"
   ]
  },
  {
   "cell_type": "code",
   "execution_count": 25,
   "metadata": {},
   "outputs": [],
   "source": [
    "aircraft_type=['medium','heavy','super_heavy']"
   ]
  },
  {
   "cell_type": "code",
   "execution_count": 40,
   "metadata": {
    "tags": []
   },
   "outputs": [],
   "source": [
    "ac_per_scenario = 8 \n",
    "aircraftList=[]\n",
    "aircraft_name=[]\n",
    "for n in range(1,ac_per_scenario+1):\n",
    "    aircraft_name.append('ac'+str(n))\n",
    "for i in range(ac_per_scenario):\n",
    "    route = np.random.choice(ac_pathlongerthan2)\n",
    "    # print(point)\n",
    "    d=[20,30,40,50,60,80,100,120,140,150,170,190,210,220] #offset,\n",
    "    aircraft = Aircraft(str(aircraft_name[i]), route[0] ,route[-1], route,  np.random.choice(d)) #this will create multiple scenarios\n",
    "    aircraftList.append(aircraft)\n"
   ]
  },
  {
   "cell_type": "code",
   "execution_count": 41,
   "metadata": {},
   "outputs": [],
   "source": [
    "      \n",
    "x_dirlist=[]\n",
    "y_dirlist=[]\n",
    "for i in range(len(aircraftList)):\n",
    "    x_dir =[]\n",
    "    y_dir =[]\n",
    "    for j in range(len(aircraftList[i].route)-1):\n",
    "        startpoint = np.array([aircraftList[i].route[j].x, aircraftList[i].route[j].y])\n",
    "        endpoint = np.array([aircraftList[i].route[j+1].x, aircraftList[i].route[j+1].y])\n",
    "        segment = np.linalg.norm(startpoint - endpoint)\n",
    "        xdir = (endpoint[0] - startpoint[0])/segment\n",
    "        ydir = (endpoint[1] - startpoint[1])/segment\n",
    "        x_dir.append(xdir)\n",
    "        y_dir.append(ydir)\n",
    "    x_dirlist.append(x_dir)\n",
    "    y_dirlist.append(y_dir)"
   ]
  },
  {
   "cell_type": "code",
   "execution_count": 42,
   "metadata": {},
   "outputs": [
    {
     "output_type": "execute_result",
     "data": {
      "text/plain": "8"
     },
     "metadata": {},
     "execution_count": 42
    }
   ],
   "source": [
    "len((x_dirlist))\n",
    "\n",
    "# (aircraftList[0].route[0].x)"
   ]
  },
  {
   "cell_type": "code",
   "execution_count": 43,
   "metadata": {
    "tags": []
   },
   "outputs": [
    {
     "output_type": "stream",
     "name": "stdout",
     "text": "5\n3\n8\n6\n3\n2\n7\n3\n"
    }
   ],
   "source": [
    "vel=0.25\n",
    "timelist=[]\n",
    "x_loclist=[]\n",
    "y_loclist=[]\n",
    "total_time=[]\n",
    "for i in range(len(aircraftList)):\n",
    "    x_loc=[]\n",
    "    y_loc=[]\n",
    "    time=[]\n",
    "    section_time=[]\n",
    "    for j in range(len(aircraftList[i].route)-1):\n",
    "        startpoint = np.array([aircraftList[i].route[j].x, aircraftList[i].route[j].y])\n",
    "        endpoint = np.array([aircraftList[i].route[j+1].x, aircraftList[i].route[j+1].y])\n",
    "        distance = np.linalg.norm(startpoint - endpoint)\n",
    "        totaltime = distance/vel    #(time per kilometer in seconds, bwtween two waypoints)\n",
    "        \n",
    "        for t in range(int(totaltime)):\n",
    "            x_point = startpoint[0] + t*x_dirlist[i][j]*vel\n",
    "            y_point = startpoint[1] + t*y_dirlist[i][j]*vel\n",
    "            x_loc.append(x_point)\n",
    "            y_loc.append(y_point)\n",
    "            time.append(t)\n",
    "            \n",
    "        section_time.append(totaltime)\n",
    "    print(len(section_time))\n",
    "    timelist.append(time)\n",
    "    x_loclist.append(x_loc)\n",
    "    y_loclist.append(y_loc)\n",
    "    total_time.append(section_time)"
   ]
  },
  {
   "cell_type": "code",
   "execution_count": 44,
   "metadata": {},
   "outputs": [
    {
     "output_type": "execute_result",
     "data": {
      "text/plain": "1575.8544154057204"
     },
     "metadata": {},
     "execution_count": 44
    }
   ],
   "source": [
    "(total_time[0][0])+ (total_time[0][1])+ (total_time[0][2])"
   ]
  },
  {
   "cell_type": "code",
   "execution_count": 45,
   "metadata": {
    "tags": [
     "outputPrepend"
    ]
   },
   "outputs": [
    {
     "output_type": "stream",
     "name": "stdout",
     "text": "0.96368407 0.96368407 0.96368407 0.96368407 0.96368407\n 0.96368407 0.96368407 0.96368407 0.96368407 0.96368407 0.96368407\n 0.96368407 0.96368407 0.96368407 0.96368407 0.96368407 0.96368407\n 0.96368407 0.96368407 0.96368407 0.96368407 0.96368407 0.96368407\n 0.96368407 0.96368407 0.96368407 0.96368407 0.96368407 0.96368407\n 0.96368407 0.96368407 0.96368407 0.96368407 0.96368407 0.96368407\n 0.96368407 0.96368407 0.96368407 0.96368407 0.96368407 0.96368407\n 0.96368407 0.96368407 0.96368407 0.96368407 0.96368407 0.96368407\n 0.96368407 0.96368407 0.96368407 0.96368407 0.96368407 0.96368407\n 0.96368407 0.96368407 0.96368407 0.96368407 0.96368407 0.96368407\n 0.96368407 0.96368407 0.96368407 0.96368407 0.96368407 0.96368407\n 0.96368407 0.96368407 0.96368407 0.96368407 0.96368407 0.96368407\n 0.96368407 0.96368407 0.96368407 0.96368407 0.96368407 0.96368407\n 0.96368407 0.96368407 0.96368407 0.96368407 0.96368407 0.96368407\n 0.96368407 0.96368407 0.96368407 0.96368407 0.96368407 0.96368407\n 0.96368407 0.96368407 0.96368407 0.96368407 0.96368407 0.96368407\n 0.96368407 0.96368407 0.96368407 0.96368407 0.96368407 0.96368407\n 0.96368407 0.96368407 0.96368407 0.96368407 0.96368407 0.96368407\n 0.96368407 0.96368407 0.96368407 0.96368407 0.96368407 0.96368407\n 0.96368407 0.96368407 0.96368407 0.96368407 0.96368407 0.96368407\n 0.96368407 0.96368407 0.96368407 0.96368407 0.96368407 0.96368407\n 0.96368407 0.96368407 0.96368407 0.96368407 0.96368407 0.96368407]\n[0.96300988 0.96300988 0.96300988 0.96300988 0.96300988 0.96300988\n 0.96300988 0.96300988 0.96300988 0.96300988 0.96300988 0.96300988\n 0.96300988 0.96300988 0.96300988 0.96300988 0.96300988 0.96300988\n 0.96300988 0.96300988 0.96300988 0.96300988 0.96300988 0.96300988\n 0.96300988 0.96300988 0.96300988 0.96300988 0.96300988 0.96300988\n 0.96300988 0.96300988 0.96300988 0.96300988 0.96300988 0.96300988\n 0.96300988 0.96300988 0.96300988 0.96300988 0.96300988 0.96300988\n 0.96300988 0.96300988 0.96300988 0.96300988 0.96300988 0.96300988\n 0.96300988 0.96300988 0.96300988 0.96300988 0.96300988 0.96300988\n 0.96300988 0.96300988 0.96300988 0.96300988 0.96300988 0.96300988\n 0.96300988 0.96300988 0.96300988 0.96300988 0.96300988 0.96300988\n 0.96300988 0.96300988 0.96300988 0.96300988 0.96300988 0.96300988\n 0.96300988 0.96300988 0.96300988 0.96300988 0.96300988 0.96300988\n 0.96300988 0.96300988 0.96300988 0.96300988 0.96300988 0.96300988\n 0.96300988 0.96300988 0.96300988 0.96300988 0.96300988 0.96300988\n 0.96300988 0.96300988 0.96300988 0.96300988 0.96300988 0.96300988\n 0.96300988 0.96300988 0.96300988 0.96300988 0.96300988 0.96300988\n 0.96300988 0.96300988 0.96300988 0.96300988 0.96300988 0.96300988\n 0.96300988 0.96300988 0.96300988 0.96300988 0.96300988 0.96300988\n 0.96300988 0.96300988 0.96300988 0.96300988 0.96300988 0.96300988\n 0.96300988 0.96300988 0.96300988 0.96300988 0.96300988 0.96300988\n 0.96300988 0.96300988 0.96300988 0.96300988 0.96300988 0.96300988\n 0.96300988 0.96300988 0.96300988 0.96300988 0.96300988 0.96300988\n 0.96300988 0.96300988 0.96300988 0.96300988 0.96300988 0.96300988\n 0.96300988 0.96300988 0.96300988 0.96300988 0.96300988 0.96300988\n 0.96300988 0.96300988 0.96300988 0.96300988 0.96300988 0.96300988\n 0.96300988 0.96300988 0.96300988 0.96300988 0.96300988 0.96300988\n 0.96300988 0.96300988 0.96300988 0.96300988 0.96300988 0.96300988\n 0.96300988 0.96300988 0.96300988 0.96300988 0.96300988 0.96300988\n 0.96300988 0.96300988 0.96300988 0.96300988 0.96300988 0.96300988\n 0.96300988 0.96300988 0.96300988 0.96300988 0.96300988 0.96300988\n 0.96300988 0.96300988 0.96300988 0.96300988 0.96300988 0.96300988\n 0.96300988 0.96300988 0.96300988 0.96300988 0.96300988 0.96300988\n 0.96300988 0.96300988 0.96300988 0.96300988 0.96300988 0.96300988\n 0.96300988 0.96300988 0.96300988 0.96300988 0.96300988 0.96300988\n 0.96300988 0.96300988 0.96300988 0.96300988 0.96300988 0.96300988\n 0.96300988 0.96300988 0.96300988 0.96300988 0.96300988 0.96300988\n 0.96300988 0.96300988 0.96300988 0.96300988 0.96300988 0.96300988\n 0.96300988 0.96300988 0.96300988 0.96300988 0.96300988 0.96300988\n 0.96300988 0.96300988 0.96300988 0.96300988 0.96300988 0.96300988\n 0.96300988 0.96300988 0.96300988 0.96300988 0.96300988 0.96300988\n 0.96300988 0.96300988 0.96300988 0.96300988 0.96300988 0.96300988\n 0.96300988 0.96300988 0.96300988 0.96300988 0.96300988 0.96300988\n 0.96300988 0.96300988 0.96300988 0.96300988 0.96300988 0.96300988\n 0.96300988 0.96300988 0.96300988 0.96300988 0.96300988 0.96300988\n 0.96300988 0.96300988 0.96300988 0.96300988 0.96300988 0.96300988\n 0.96300988 0.96300988 0.96300988 0.96300988 0.96300988 0.96300988\n 0.96300988 0.96300988 0.96300988 0.96300988 0.96300988 0.96300988\n 0.96300988 0.96300988 0.96300988 0.96300988 0.96300988 0.96300988\n 0.96300988 0.96300988 0.96300988 0.96300988 0.96300988 0.96300988\n 0.96300988 0.96300988 0.96300988 0.96300988 0.96300988 0.96300988\n 0.96300988 0.96300988 0.96300988 0.96300988 0.96300988 0.96300988\n 0.96300988 0.96300988 0.96300988 0.96300988 0.96300988 0.96300988\n 0.96300988 0.96300988 0.96300988 0.96300988 0.96300988 0.96300988\n 0.96300988 0.96300988 0.96300988 0.96300988 0.96300988 0.96300988\n 0.96300988 0.96300988 0.96300988 0.96300988 0.96300988 0.96300988\n 0.96300988 0.96300988 0.96300988 0.96300988 0.96300988 0.96300988\n 0.96300988 0.96300988 0.96300988 0.96300988 0.96300988 0.96300988\n 0.96300988 0.96300988 0.96300988 0.96300988 0.96300988 0.96300988\n 0.96300988 0.96300988 0.96300988 0.96300988 0.96300988 0.96300988\n 0.96300988 0.96300988 0.96300988 0.96300988 0.96300988 0.96300988\n 0.96300988 0.96300988 0.96300988 0.96300988 0.96300988 0.96300988\n 0.96300988 0.96300988 0.96300988 0.96300988 0.96300988 0.96300988\n 0.96300988 0.96300988 0.96300988 0.96300988 0.96300988 0.96300988\n 0.96300988 0.96300988 0.96300988 0.96300988 0.96300988 0.96300988\n 0.96300988 0.96300988 0.96300988 0.96300988 0.96300988 0.96300988\n 0.96300988 0.96300988 0.96300988 0.96300988 0.96300988 0.96300988\n 0.96300988 0.96300988 0.96300988 0.96300988 0.96300988 0.96300988\n 0.96300988 0.96300988 0.96300988 0.96300988 0.96300988 0.96300988\n 0.96300988 0.96300988 0.96300988 0.96300988 0.96300988 0.96300988\n 0.96300988 0.96300988 0.96300988 0.96300988 0.96300988 0.96300988\n 0.96300988 0.96300988 0.96300988 0.96300988 0.96300988 0.96300988\n 0.96300988 0.96300988 0.96300988 0.96300988 0.96300988 0.96300988\n 0.96300988 0.96300988 0.96300988 0.96300988 0.96300988 0.96300988\n 0.96300988 0.96300988 0.96300988 0.96300988 0.96300988 0.96300988\n 0.96300988 0.96300988 0.96300988 0.96300988 0.96300988 0.96300988\n 0.96300988 0.96300988 0.96300988 0.96300988 0.96300988 0.96300988\n 0.96300988 0.96300988 0.96300988 0.96300988 0.96300988 0.96300988\n 0.96300988 0.96300988 0.96300988 0.96300988 0.96300988 0.96300988\n 0.96300988 0.96300988 0.96300988 0.96300988 0.96300988 0.96300988\n 0.96300988 0.96300988 0.96300988 0.96300988 0.96300988 0.96300988\n 0.96300988 0.96300988]\n[0.6935875 0.6935875 0.6935875 0.6935875 0.6935875 0.6935875 0.6935875\n 0.6935875 0.6935875 0.6935875 0.6935875 0.6935875 0.6935875 0.6935875\n 0.6935875 0.6935875 0.6935875 0.6935875 0.6935875 0.6935875 0.6935875\n 0.6935875 0.6935875 0.6935875 0.6935875 0.6935875 0.6935875 0.6935875\n 0.6935875 0.6935875 0.6935875 0.6935875 0.6935875 0.6935875 0.6935875\n 0.6935875 0.6935875 0.6935875 0.6935875 0.6935875 0.6935875 0.6935875\n 0.6935875 0.6935875 0.6935875 0.6935875 0.6935875 0.6935875 0.6935875\n 0.6935875 0.6935875 0.6935875 0.6935875 0.6935875 0.6935875 0.6935875\n 0.6935875 0.6935875 0.6935875 0.6935875 0.6935875 0.6935875 0.6935875\n 0.6935875 0.6935875 0.6935875 0.6935875 0.6935875 0.6935875 0.6935875\n 0.6935875 0.6935875 0.6935875 0.6935875 0.6935875 0.6935875 0.6935875\n 0.6935875 0.6935875 0.6935875 0.6935875 0.6935875 0.6935875 0.6935875\n 0.6935875 0.6935875 0.6935875 0.6935875 0.6935875 0.6935875 0.6935875\n 0.6935875 0.6935875 0.6935875 0.6935875 0.6935875 0.6935875 0.6935875\n 0.6935875 0.6935875 0.6935875 0.6935875 0.6935875 0.6935875 0.6935875\n 0.6935875 0.6935875 0.6935875 0.6935875 0.6935875 0.6935875 0.6935875\n 0.6935875 0.6935875 0.6935875 0.6935875 0.6935875 0.6935875 0.6935875\n 0.6935875 0.6935875 0.6935875 0.6935875 0.6935875 0.6935875 0.6935875\n 0.6935875 0.6935875 0.6935875 0.6935875 0.6935875 0.6935875 0.6935875\n 0.6935875 0.6935875 0.6935875 0.6935875 0.6935875 0.6935875 0.6935875\n 0.6935875 0.6935875 0.6935875 0.6935875 0.6935875 0.6935875 0.6935875\n 0.6935875 0.6935875 0.6935875 0.6935875 0.6935875 0.6935875 0.6935875\n 0.6935875 0.6935875 0.6935875 0.6935875 0.6935875 0.6935875 0.6935875\n 0.6935875 0.6935875 0.6935875 0.6935875 0.6935875 0.6935875 0.6935875\n 0.6935875 0.6935875 0.6935875 0.6935875 0.6935875 0.6935875 0.6935875\n 0.6935875 0.6935875 0.6935875 0.6935875 0.6935875 0.6935875 0.6935875\n 0.6935875 0.6935875 0.6935875 0.6935875 0.6935875 0.6935875 0.6935875\n 0.6935875 0.6935875 0.6935875 0.6935875 0.6935875 0.6935875 0.6935875\n 0.6935875 0.6935875 0.6935875 0.6935875 0.6935875 0.6935875 0.6935875\n 0.6935875 0.6935875 0.6935875 0.6935875 0.6935875 0.6935875 0.6935875\n 0.6935875 0.6935875 0.6935875 0.6935875 0.6935875 0.6935875 0.6935875\n 0.6935875 0.6935875 0.6935875 0.6935875 0.6935875 0.6935875 0.6935875\n 0.6935875 0.6935875 0.6935875 0.6935875 0.6935875 0.6935875 0.6935875\n 0.6935875 0.6935875 0.6935875 0.6935875 0.6935875 0.6935875 0.6935875\n 0.6935875 0.6935875 0.6935875 0.6935875 0.6935875 0.6935875 0.6935875\n 0.6935875 0.6935875 0.6935875 0.6935875 0.6935875 0.6935875 0.6935875\n 0.6935875 0.6935875 0.6935875 0.6935875 0.6935875 0.6935875 0.6935875\n 0.6935875 0.6935875 0.6935875 0.6935875 0.6935875 0.6935875 0.6935875\n 0.6935875 0.6935875 0.6935875 0.6935875 0.6935875 0.6935875 0.6935875\n 0.6935875 0.6935875 0.6935875 0.6935875 0.6935875 0.6935875 0.6935875\n 0.6935875 0.6935875 0.6935875 0.6935875 0.6935875 0.6935875 0.6935875\n 0.6935875 0.6935875 0.6935875 0.6935875 0.6935875 0.6935875 0.6935875\n 0.6935875 0.6935875 0.6935875 0.6935875 0.6935875 0.6935875 0.6935875\n 0.6935875 0.6935875 0.6935875 0.6935875 0.6935875 0.6935875 0.6935875\n 0.6935875 0.6935875 0.6935875 0.6935875 0.6935875 0.6935875 0.6935875\n 0.6935875 0.6935875 0.6935875 0.6935875 0.6935875 0.6935875 0.6935875\n 0.6935875 0.6935875 0.6935875 0.6935875 0.6935875 0.6935875 0.6935875\n 0.6935875 0.6935875 0.6935875 0.6935875 0.6935875 0.6935875 0.6935875\n 0.6935875 0.6935875 0.6935875 0.6935875 0.6935875 0.6935875 0.6935875\n 0.6935875 0.6935875 0.6935875 0.6935875 0.6935875 0.6935875 0.6935875\n 0.6935875 0.6935875 0.6935875 0.6935875 0.6935875 0.6935875 0.6935875\n 0.6935875 0.6935875 0.6935875 0.6935875 0.6935875 0.6935875 0.6935875\n 0.6935875 0.6935875 0.6935875 0.6935875 0.6935875 0.6935875 0.6935875\n 0.6935875 0.6935875 0.6935875 0.6935875 0.6935875 0.6935875 0.6935875\n 0.6935875 0.6935875 0.6935875 0.6935875 0.6935875 0.6935875 0.6935875\n 0.6935875 0.6935875 0.6935875 0.6935875 0.6935875 0.6935875 0.6935875\n 0.6935875 0.6935875 0.6935875 0.6935875 0.6935875 0.6935875 0.6935875\n 0.6935875 0.6935875 0.6935875 0.6935875 0.6935875 0.6935875 0.6935875\n 0.6935875 0.6935875 0.6935875 0.6935875 0.6935875 0.6935875 0.6935875\n 0.6935875 0.6935875 0.6935875 0.6935875 0.6935875 0.6935875 0.6935875\n 0.6935875 0.6935875 0.6935875 0.6935875 0.6935875 0.6935875 0.6935875\n 0.6935875 0.6935875 0.6935875 0.6935875 0.6935875 0.6935875 0.6935875\n 0.6935875 0.6935875 0.6935875 0.6935875 0.6935875 0.6935875 0.6935875\n 0.6935875 0.6935875 0.6935875 0.6935875 0.6935875 0.6935875 0.6935875\n 0.6935875 0.6935875 0.6935875 0.6935875 0.6935875 0.6935875 0.6935875\n 0.6935875 0.6935875 0.6935875 0.6935875 0.6935875 0.6935875 0.6935875\n 0.6935875 0.6935875 0.6935875 0.6935875 0.6935875 0.6935875 0.6935875\n 0.6935875 0.6935875 0.6935875 0.6935875 0.6935875 0.6935875 0.6935875\n 0.6935875 0.6935875 0.6935875 0.6935875 0.6935875 0.6935875 0.6935875\n 0.6935875 0.6935875 0.6935875 0.6935875 0.6935875 0.6935875 0.6935875\n 0.6935875 0.6935875 0.6935875 0.6935875 0.6935875 0.6935875 0.6935875\n 0.6935875 0.6935875 0.6935875 0.6935875 0.6935875 0.6935875 0.6935875\n 0.6935875 0.6935875 0.6935875 0.6935875 0.6935875 0.6935875]\n[0.86064083 0.86064083 0.86064083 0.86064083 0.86064083 0.86064083\n 0.86064083 0.86064083 0.86064083 0.86064083 0.86064083 0.86064083\n 0.86064083 0.86064083 0.86064083 0.86064083 0.86064083 0.86064083\n 0.86064083 0.86064083 0.86064083 0.86064083 0.86064083 0.86064083\n 0.86064083 0.86064083 0.86064083 0.86064083 0.86064083 0.86064083\n 0.86064083 0.86064083 0.86064083 0.86064083 0.86064083 0.86064083\n 0.86064083 0.86064083 0.86064083 0.86064083 0.86064083 0.86064083\n 0.86064083 0.86064083 0.86064083 0.86064083 0.86064083 0.86064083\n 0.86064083 0.86064083 0.86064083 0.86064083 0.86064083 0.86064083\n 0.86064083 0.86064083 0.86064083 0.86064083 0.86064083 0.86064083\n 0.86064083 0.86064083 0.86064083 0.86064083 0.86064083 0.86064083\n 0.86064083 0.86064083 0.86064083 0.86064083 0.86064083 0.86064083\n 0.86064083 0.86064083 0.86064083 0.86064083 0.86064083 0.86064083\n 0.86064083 0.86064083 0.86064083 0.86064083 0.86064083 0.86064083\n 0.86064083 0.86064083 0.86064083 0.86064083 0.86064083 0.86064083\n 0.86064083 0.86064083 0.86064083 0.86064083 0.86064083 0.86064083\n 0.86064083 0.86064083 0.86064083 0.86064083 0.86064083 0.86064083\n 0.86064083 0.86064083 0.86064083 0.86064083 0.86064083 0.86064083\n 0.86064083 0.86064083 0.86064083 0.86064083 0.86064083 0.86064083\n 0.86064083 0.86064083 0.86064083 0.86064083 0.86064083 0.86064083\n 0.86064083 0.86064083 0.86064083 0.86064083 0.86064083 0.86064083\n 0.86064083 0.86064083 0.86064083 0.86064083 0.86064083 0.86064083\n 0.86064083 0.86064083 0.86064083 0.86064083 0.86064083 0.86064083\n 0.86064083 0.86064083 0.86064083 0.86064083 0.86064083 0.86064083\n 0.86064083 0.86064083 0.86064083 0.86064083 0.86064083 0.86064083\n 0.86064083 0.86064083 0.86064083 0.86064083 0.86064083 0.86064083\n 0.86064083 0.86064083 0.86064083 0.86064083 0.86064083 0.86064083\n 0.86064083 0.86064083 0.86064083 0.86064083 0.86064083 0.86064083\n 0.86064083 0.86064083 0.86064083 0.86064083 0.86064083 0.86064083\n 0.86064083 0.86064083 0.86064083 0.86064083 0.86064083 0.86064083\n 0.86064083 0.86064083 0.86064083 0.86064083 0.86064083 0.86064083\n 0.86064083 0.86064083 0.86064083 0.86064083 0.86064083 0.86064083\n 0.86064083 0.86064083 0.86064083 0.86064083 0.86064083 0.86064083\n 0.86064083 0.86064083 0.86064083 0.86064083 0.86064083 0.86064083\n 0.86064083 0.86064083 0.86064083 0.86064083 0.86064083 0.86064083\n 0.86064083 0.86064083 0.86064083 0.86064083 0.86064083 0.86064083\n 0.86064083 0.86064083 0.86064083 0.86064083 0.86064083 0.86064083\n 0.86064083 0.86064083 0.86064083 0.86064083 0.86064083 0.86064083\n 0.86064083 0.86064083 0.86064083 0.86064083 0.86064083 0.86064083\n 0.86064083 0.86064083 0.86064083 0.86064083 0.86064083 0.86064083\n 0.86064083 0.86064083 0.86064083 0.86064083 0.86064083 0.86064083\n 0.86064083 0.86064083 0.86064083 0.86064083 0.86064083 0.86064083\n 0.86064083 0.86064083 0.86064083 0.86064083 0.86064083 0.86064083\n 0.86064083 0.86064083 0.86064083 0.86064083 0.86064083 0.86064083\n 0.86064083 0.86064083 0.86064083 0.86064083 0.86064083 0.86064083\n 0.86064083 0.86064083 0.86064083 0.86064083 0.86064083 0.86064083\n 0.86064083 0.86064083 0.86064083 0.86064083 0.86064083 0.86064083\n 0.86064083 0.86064083 0.86064083 0.86064083 0.86064083 0.86064083\n 0.86064083 0.86064083 0.86064083 0.86064083 0.86064083 0.86064083\n 0.86064083 0.86064083 0.86064083 0.86064083 0.86064083 0.86064083\n 0.86064083 0.86064083 0.86064083 0.86064083 0.86064083 0.86064083\n 0.86064083 0.86064083 0.86064083 0.86064083 0.86064083 0.86064083\n 0.86064083 0.86064083 0.86064083 0.86064083 0.86064083 0.86064083\n 0.86064083 0.86064083 0.86064083 0.86064083 0.86064083 0.86064083\n 0.86064083 0.86064083 0.86064083 0.86064083 0.86064083 0.86064083\n 0.86064083 0.86064083 0.86064083 0.86064083 0.86064083 0.86064083\n 0.86064083 0.86064083 0.86064083 0.86064083 0.86064083 0.86064083\n 0.86064083 0.86064083 0.86064083 0.86064083 0.86064083 0.86064083\n 0.86064083 0.86064083 0.86064083 0.86064083 0.86064083 0.86064083\n 0.86064083 0.86064083 0.86064083 0.86064083 0.86064083 0.86064083\n 0.86064083 0.86064083 0.86064083 0.86064083 0.86064083 0.86064083\n 0.86064083 0.86064083 0.86064083 0.86064083 0.86064083 0.86064083\n 0.86064083 0.86064083 0.86064083 0.86064083 0.86064083 0.86064083\n 0.86064083 0.86064083 0.86064083 0.86064083 0.86064083 0.86064083\n 0.86064083 0.86064083 0.86064083 0.86064083 0.86064083 0.86064083\n 0.86064083 0.86064083 0.86064083 0.86064083 0.86064083 0.86064083\n 0.86064083 0.86064083 0.86064083 0.86064083 0.86064083 0.86064083\n 0.86064083 0.86064083 0.86064083 0.86064083 0.86064083 0.86064083\n 0.86064083 0.86064083 0.86064083 0.86064083 0.86064083 0.86064083\n 0.86064083 0.86064083 0.86064083 0.86064083 0.86064083 0.86064083\n 0.86064083 0.86064083 0.86064083 0.86064083 0.86064083 0.86064083\n 0.86064083 0.86064083 0.86064083 0.86064083 0.86064083 0.86064083\n 0.86064083 0.86064083 0.86064083 0.86064083 0.86064083 0.86064083\n 0.86064083 0.86064083 0.86064083 0.86064083 0.86064083 0.86064083\n 0.86064083 0.86064083 0.86064083 0.86064083 0.86064083 0.86064083\n 0.86064083 0.86064083 0.86064083 0.86064083 0.86064083 0.86064083\n 0.86064083 0.86064083 0.86064083 0.86064083 0.86064083 0.86064083\n 0.86064083 0.86064083 0.86064083 0.86064083 0.86064083 0.86064083\n 0.86064083 0.86064083 0.86064083 0.86064083 0.86064083 0.86064083\n 0.86064083 0.86064083 0.86064083 0.86064083 0.86064083 0.86064083\n 0.86064083 0.86064083 0.86064083 0.86064083 0.86064083 0.86064083\n 0.86064083 0.86064083 0.86064083 0.86064083 0.86064083 0.86064083\n 0.86064083 0.86064083 0.86064083 0.86064083 0.86064083 0.86064083\n 0.86064083 0.86064083 0.86064083 0.86064083 0.86064083 0.86064083\n 0.86064083 0.86064083 0.86064083 0.86064083 0.86064083 0.86064083\n 0.86064083 0.86064083 0.86064083 0.86064083 0.86064083 0.86064083\n 0.86064083 0.86064083 0.86064083 0.86064083 0.86064083 0.86064083\n 0.86064083 0.86064083 0.86064083 0.86064083 0.86064083 0.86064083\n 0.86064083 0.86064083 0.86064083 0.86064083 0.86064083 0.86064083\n 0.86064083 0.86064083 0.86064083 0.86064083 0.86064083 0.86064083\n 0.86064083 0.86064083 0.86064083 0.86064083 0.86064083 0.86064083\n 0.86064083 0.86064083 0.86064083 0.86064083 0.86064083 0.86064083\n 0.86064083 0.86064083 0.86064083 0.86064083 0.86064083 0.86064083\n 0.86064083 0.86064083 0.86064083 0.86064083 0.86064083 0.86064083\n 0.86064083 0.86064083 0.86064083 0.86064083 0.86064083 0.86064083\n 0.86064083 0.86064083 0.86064083 0.86064083 0.86064083 0.86064083\n 0.86064083 0.86064083 0.86064083 0.86064083 0.86064083 0.86064083\n 0.86064083 0.86064083 0.86064083 0.86064083 0.86064083 0.86064083\n 0.86064083 0.86064083 0.86064083 0.86064083 0.86064083 0.86064083\n 0.86064083 0.86064083 0.86064083 0.86064083 0.86064083 0.86064083\n 0.86064083 0.86064083 0.86064083 0.86064083 0.86064083 0.86064083\n 0.86064083 0.86064083 0.86064083 0.86064083 0.86064083 0.86064083\n 0.86064083 0.86064083 0.86064083 0.86064083 0.86064083 0.86064083\n 0.86064083 0.86064083 0.86064083 0.86064083 0.86064083 0.86064083\n 0.86064083 0.86064083 0.86064083 0.86064083 0.86064083 0.86064083\n 0.86064083 0.86064083 0.86064083 0.86064083 0.86064083 0.86064083\n 0.86064083 0.86064083 0.86064083 0.86064083 0.86064083 0.86064083\n 0.86064083 0.86064083 0.86064083 0.86064083 0.86064083 0.86064083\n 0.86064083 0.86064083 0.86064083 0.86064083 0.86064083 0.86064083\n 0.86064083 0.86064083 0.86064083 0.86064083 0.86064083 0.86064083\n 0.86064083 0.86064083 0.86064083 0.86064083 0.86064083 0.86064083\n 0.86064083 0.86064083 0.86064083 0.86064083 0.86064083 0.86064083\n 0.86064083 0.86064083 0.86064083 0.86064083 0.86064083 0.86064083\n 0.86064083 0.86064083 0.86064083 0.86064083 0.86064083 0.86064083\n 0.86064083 0.86064083 0.86064083 0.86064083 0.86064083 0.86064083\n 0.86064083 0.86064083 0.86064083 0.86064083 0.86064083 0.86064083\n 0.86064083 0.86064083 0.86064083 0.86064083 0.86064083 0.86064083]\n[0.75225743 0.75225743 0.75225743 ... 0.75225743 0.75225743 0.75225743]\n"
    }
   ],
   "source": [
    "all_dirs_x=[]\n",
    "all_dirs_y=[]\n",
    "for i in range(len(total_time)):\n",
    "    x_list=[]\n",
    "    y_list=[]\n",
    "    for j in range(len(total_time[i])):\n",
    "        x = np.repeat(x_dirlist[i][j], int(total_time[i][j]))\n",
    "        y = np.repeat(y_dirlist[i], int(total_time[i][j]))\n",
    "        print(x)\n",
    "        x= x.tolist()\n",
    "        y= y.tolist()\n",
    "        # print(len(x))\n",
    "        # print(len(y[]))\n",
    "        x_list.append(x)\n",
    "        y_list.append(y)\n",
    "    \n",
    "    all_dirs_x.append(x_list)\n",
    "    all_dirs_y.append(y_list)\n"
   ]
  },
  {
   "cell_type": "code",
   "execution_count": 46,
   "metadata": {
    "tags": []
   },
   "outputs": [
    {
     "output_type": "execute_result",
     "data": {
      "text/plain": "5"
     },
     "metadata": {},
     "execution_count": 46
    }
   ],
   "source": [
    "len(all_dirs_x[0])"
   ]
  },
  {
   "cell_type": "code",
   "execution_count": 47,
   "metadata": {},
   "outputs": [],
   "source": [
    "import operator\n",
    "from functools import reduce\n",
    "x_directions_flat=[]\n",
    "y_directions_flat=[]\n",
    "for i in range(len(x_dirlist)):\n",
    "    x_l= all_dirs_x[i]\n",
    "    x_flat = reduce(operator.concat,x_l)\n",
    "    x_directions_flat.append(x_flat)\n",
    "\n",
    "    y_l = all_dirs_y[i]\n",
    "    y_flat = reduce(operator.concat,y_l)\n",
    "    y_directions_flat.append(y_flat)"
   ]
  },
  {
   "cell_type": "code",
   "execution_count": 48,
   "metadata": {},
   "outputs": [],
   "source": [
    "dict4={}\n",
    "for i in range(len(waypointList)):\n",
    "    waydict={waypointList[i].name:{\n",
    "        'x':waypointList[i].x,\n",
    "        'y':waypointList[i].y}}\n",
    "    dict4.update(waydict)\n",
    "\n",
    "\n",
    "dict5={}\n",
    "for i in range(len(airwayList)):\n",
    "    airwaydict= {airwayList[i].name:{\n",
    "        'start':airwayList[i].start_wp,\n",
    "        'end' : airwayList[i].end_wp}}\n",
    "    dict5.update(airwaydict)\n",
    "\n",
    "\n",
    "dict6={}\n",
    "for i in range(len(aircraftList)):\n",
    "    aircraftdict= {\n",
    "        aircraftList[i].name:{\n",
    "        'x': aircraftList[i].start_wp_x,\n",
    "        'y':aircraftList[i].start_wp_y,\n",
    "        'dir_x': x_dirlist[i][0],\n",
    "        'dir_y': y_dirlist[i][0],\n",
    "        'x_dirs':x_directions_flat[i],\n",
    "        'y_dirs':y_directions_flat[i],\n",
    "        'type': np.random.choice(aircraft_type),\n",
    "        'altitude':360,\n",
    "        'path_waypoints': path_waypoints[i],\n",
    "        'x_path' : x_loclist[i],\n",
    "        'y_path' : y_loclist[i],\n",
    "        'timestep': timelist[i]\n",
    "        }\n",
    "        }\n",
    "    dict6.update(aircraftdict)"
   ]
  },
  {
   "cell_type": "code",
   "execution_count": 49,
   "metadata": {},
   "outputs": [],
   "source": [
    "df2=pd.read_json('SgSectors_LonLat.json')\n",
    "\n",
    "\n",
    "\"\"\"the sqaure region with 'a' as the bottom left point (moving anticlock abcd)\n",
    "    a,b,c,d= [lon,lat] format\"\"\"\n",
    "a = np.array([102,1])\n",
    "b = np.array([108,1])\n",
    "c = np.array([108,7])\n",
    "d = np.array([102,7])\n",
    "\n",
    "horizontal_length  = b[0]-a[0]\n",
    "vertical_length = d[1]-a[1]\n",
    "keylist=['sector1','sector2','sector3','sector4','sector5','sector6','sector7','sector8']\n",
    "l1=[[],[],[],[],[],[],[],[]]\n",
    "for i in range(len(keylist)):\n",
    "    for j in range(len(df2.Sectors[0][keylist[i]])):\n",
    "        P= np.array([df2.Sectors[0][keylist[i]][j][0],df2.Sectors[0][keylist[i]][j][1]])\n",
    "        # print(P)\n",
    "        vert_d = P[1]-a[1]\n",
    "        horiz_d= P[0]-a[0]\n",
    "        l1[i].append([(900/horizontal_length)*horiz_d,900-(900/vertical_length)*vert_d])\n",
    "\n",
    "\n",
    "\n",
    "data_dict={'waypoints':dict4, 'airways':dict5,'aircrafts':dict6, \n",
    "        'sectors':{\n",
    "                    'sector1':{'type': 'secondary', 'boundary': l1[0]},\n",
    "                    'sector2':{'type': 'secondary', 'boundary': l1[1]},\n",
    "                    'sector3':{'type': 'secondary', 'boundary': l1[2]},\n",
    "                    'sector4':{'type': 'secondary', 'boundary': l1[3]},\n",
    "                    'sector5':{'type': 'secondary',  'boundary': l1[4]},\n",
    "                    'sector6':{'type': 'primary', 'boundary':  l1[5]},\n",
    "                    'sector7':{'type':'secondary', 'boundary': l1[6]},\n",
    "                    'sector8':{'type':'secondary' ,'boundary':l1[7]}\n",
    "                    }}"
   ]
  },
  {
   "cell_type": "code",
   "execution_count": 50,
   "metadata": {},
   "outputs": [
    {
     "output_type": "execute_result",
     "data": {
      "text/plain": "WindowsPath('e:/ATMRI/CD_R/ATCO_preferences_interface/Scenario_interface_work/python-code')"
     },
     "metadata": {},
     "execution_count": 50
    }
   ],
   "source": [
    "Path.cwd()"
   ]
  },
  {
   "cell_type": "code",
   "execution_count": 51,
   "metadata": {},
   "outputs": [],
   "source": [
    "datalist=[]\n",
    "datalist.append(data_dict)\n",
    "import json\n",
    "with open('scenario_data/12August_FlightPlanTest_1.json', 'w') as json_file:\n",
    "    json.dump(datalist, json_file)"
   ]
  },
  {
   "cell_type": "code",
   "execution_count": null,
   "metadata": {},
   "outputs": [],
   "source": []
  }
 ]
}