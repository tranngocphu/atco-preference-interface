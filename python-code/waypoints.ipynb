{
 "cells": [
  {
   "cell_type": "code",
   "execution_count": 6,
   "metadata": {},
   "outputs": [],
   "source": [
    "import numpy as np \n",
    "import pandas as pd \n",
    "from classLib_yash_Copy1 import *\n",
    "import random\n",
    "import matplotlib.pyplot as plt\n",
    "\n"
   ]
  },
  {
   "cell_type": "code",
   "execution_count": 7,
   "metadata": {},
   "outputs": [
    {
     "output_type": "stream",
     "name": "stdout",
     "text": "22\n"
    },
    {
     "output_type": "display_data",
     "data": {
      "text/plain": "<Figure size 720x720 with 1 Axes>",
      "image/svg+xml": "<?xml version=\"1.0\" encoding=\"utf-8\" standalone=\"no\"?>\r\n<!DOCTYPE svg PUBLIC \"-//W3C//DTD SVG 1.1//EN\"\r\n  \"http://www.w3.org/Graphics/SVG/1.1/DTD/svg11.dtd\">\r\n<!-- Created with matplotlib (https://matplotlib.org/) -->\r\n<svg height=\"574.678125pt\" version=\"1.1\" viewBox=\"0 0 595.303125 574.678125\" width=\"595.303125pt\" xmlns=\"http://www.w3.org/2000/svg\" xmlns:xlink=\"http://www.w3.org/1999/xlink\">\r\n <defs>\r\n  <style type=\"text/css\">\r\n*{stroke-linecap:butt;stroke-linejoin:round;}\r\n  </style>\r\n </defs>\r\n <g id=\"figure_1\">\r\n  <g id=\"patch_1\">\r\n   <path d=\"M -0 574.678125 \r\nL 595.303125 574.678125 \r\nL 595.303125 0 \r\nL -0 0 \r\nz\r\n\" style=\"fill:none;\"/>\r\n  </g>\r\n  <g id=\"axes_1\">\r\n   <g id=\"patch_2\">\r\n    <path d=\"M 30.103125 550.8 \r\nL 588.103125 550.8 \r\nL 588.103125 7.2 \r\nL 30.103125 7.2 \r\nz\r\n\" style=\"fill:#ffffff;\"/>\r\n   </g>\r\n   <g id=\"PathCollection_1\">\r\n    <defs>\r\n     <path d=\"M 0 3 \r\nC 0.795609 3 1.55874 2.683901 2.12132 2.12132 \r\nC 2.683901 1.55874 3 0.795609 3 0 \r\nC 3 -0.795609 2.683901 -1.55874 2.12132 -2.12132 \r\nC 1.55874 -2.683901 0.795609 -3 0 -3 \r\nC -0.795609 -3 -1.55874 -2.683901 -2.12132 -2.12132 \r\nC -2.683901 -1.55874 -3 -0.795609 -3 0 \r\nC -3 0.795609 -2.683901 1.55874 -2.12132 2.12132 \r\nC -1.55874 2.683901 -0.795609 3 0 3 \r\nz\r\n\" id=\"m6c086c7e6e\" style=\"stroke:#1f77b4;\"/>\r\n    </defs>\r\n    <g clip-path=\"url(#p0a6ef9cf1a)\">\r\n     <use style=\"fill:#1f77b4;stroke:#1f77b4;\" x=\"58.494699\" xlink:href=\"#m6c086c7e6e\" y=\"523.063917\"/>\r\n    </g>\r\n   </g>\r\n   <g id=\"PathCollection_2\">\r\n    <defs>\r\n     <path d=\"M 0 3 \r\nC 0.795609 3 1.55874 2.683901 2.12132 2.12132 \r\nC 2.683901 1.55874 3 0.795609 3 0 \r\nC 3 -0.795609 2.683901 -1.55874 2.12132 -2.12132 \r\nC 1.55874 -2.683901 0.795609 -3 0 -3 \r\nC -0.795609 -3 -1.55874 -2.683901 -2.12132 -2.12132 \r\nC -2.683901 -1.55874 -3 -0.795609 -3 0 \r\nC -3 0.795609 -2.683901 1.55874 -2.12132 2.12132 \r\nC -1.55874 2.683901 -0.795609 3 0 3 \r\nz\r\n\" id=\"ma5b1f1a470\" style=\"stroke:#ff7f0e;\"/>\r\n    </defs>\r\n    <g clip-path=\"url(#p0a6ef9cf1a)\">\r\n     <use style=\"fill:#ff7f0e;stroke:#ff7f0e;\" x=\"165.50202\" xlink:href=\"#ma5b1f1a470\" y=\"446.275187\"/>\r\n    </g>\r\n   </g>\r\n   <g id=\"PathCollection_3\">\r\n    <defs>\r\n     <path d=\"M 0 3 \r\nC 0.795609 3 1.55874 2.683901 2.12132 2.12132 \r\nC 2.683901 1.55874 3 0.795609 3 0 \r\nC 3 -0.795609 2.683901 -1.55874 2.12132 -2.12132 \r\nC 1.55874 -2.683901 0.795609 -3 0 -3 \r\nC -0.795609 -3 -1.55874 -2.683901 -2.12132 -2.12132 \r\nC -2.683901 -1.55874 -3 -0.795609 -3 0 \r\nC -3 0.795609 -2.683901 1.55874 -2.12132 2.12132 \r\nC -1.55874 2.683901 -0.795609 3 0 3 \r\nz\r\n\" id=\"m200ec38aa1\" style=\"stroke:#2ca02c;\"/>\r\n    </defs>\r\n    <g clip-path=\"url(#p0a6ef9cf1a)\">\r\n     <use style=\"fill:#2ca02c;stroke:#2ca02c;\" x=\"221.821663\" xlink:href=\"#m200ec38aa1\" y=\"89.756083\"/>\r\n    </g>\r\n   </g>\r\n   <g id=\"PathCollection_4\">\r\n    <defs>\r\n     <path d=\"M 0 3 \r\nC 0.795609 3 1.55874 2.683901 2.12132 2.12132 \r\nC 2.683901 1.55874 3 0.795609 3 0 \r\nC 3 -0.795609 2.683901 -1.55874 2.12132 -2.12132 \r\nC 1.55874 -2.683901 0.795609 -3 0 -3 \r\nC -0.795609 -3 -1.55874 -2.683901 -2.12132 -2.12132 \r\nC -2.683901 -1.55874 -3 -0.795609 -3 0 \r\nC -3 0.795609 -2.683901 1.55874 -2.12132 2.12132 \r\nC -1.55874 2.683901 -0.795609 3 0 3 \r\nz\r\n\" id=\"m2e344c79bd\" style=\"stroke:#d62728;\"/>\r\n    </defs>\r\n    <g clip-path=\"url(#p0a6ef9cf1a)\">\r\n     <use style=\"fill:#d62728;stroke:#d62728;\" x=\"334.460948\" xlink:href=\"#m2e344c79bd\" y=\"364.001548\"/>\r\n    </g>\r\n   </g>\r\n   <g id=\"PathCollection_5\">\r\n    <defs>\r\n     <path d=\"M 0 3 \r\nC 0.795609 3 1.55874 2.683901 2.12132 2.12132 \r\nC 2.683901 1.55874 3 0.795609 3 0 \r\nC 3 -0.795609 2.683901 -1.55874 2.12132 -2.12132 \r\nC 1.55874 -2.683901 0.795609 -3 0 -3 \r\nC -0.795609 -3 -1.55874 -2.683901 -2.12132 -2.12132 \r\nC -2.683901 -1.55874 -3 -0.795609 -3 0 \r\nC -3 0.795609 -2.683901 1.55874 -2.12132 2.12132 \r\nC -1.55874 2.683901 -0.795609 3 0 3 \r\nz\r\n\" id=\"mff05a12c35\" style=\"stroke:#9467bd;\"/>\r\n    </defs>\r\n    <g clip-path=\"url(#p0a6ef9cf1a)\">\r\n     <use style=\"fill:#9467bd;stroke:#9467bd;\" x=\"418.940411\" xlink:href=\"#mff05a12c35\" y=\"199.454269\"/>\r\n    </g>\r\n   </g>\r\n   <g id=\"PathCollection_6\">\r\n    <defs>\r\n     <path d=\"M 0 3 \r\nC 0.795609 3 1.55874 2.683901 2.12132 2.12132 \r\nC 2.683901 1.55874 3 0.795609 3 0 \r\nC 3 -0.795609 2.683901 -1.55874 2.12132 -2.12132 \r\nC 1.55874 -2.683901 0.795609 -3 0 -3 \r\nC -0.795609 -3 -1.55874 -2.683901 -2.12132 -2.12132 \r\nC -2.683901 -1.55874 -3 -0.795609 -3 0 \r\nC -3 0.795609 -2.683901 1.55874 -2.12132 2.12132 \r\nC -1.55874 2.683901 -0.795609 3 0 3 \r\nz\r\n\" id=\"m8c71af772e\" style=\"stroke:#8c564b;\"/>\r\n    </defs>\r\n    <g clip-path=\"url(#p0a6ef9cf1a)\">\r\n     <use style=\"fill:#8c564b;stroke:#8c564b;\" x=\"390.78059\" xlink:href=\"#m8c71af772e\" y=\"473.699734\"/>\r\n    </g>\r\n   </g>\r\n   <g id=\"PathCollection_7\">\r\n    <defs>\r\n     <path d=\"M 0 3 \r\nC 0.795609 3 1.55874 2.683901 2.12132 2.12132 \r\nC 2.683901 1.55874 3 0.795609 3 0 \r\nC 3 -0.795609 2.683901 -1.55874 2.12132 -2.12132 \r\nC 1.55874 -2.683901 0.795609 -3 0 -3 \r\nC -0.795609 -3 -1.55874 -2.683901 -2.12132 -2.12132 \r\nC -2.683901 -1.55874 -3 -0.795609 -3 0 \r\nC -3 0.795609 -2.683901 1.55874 -2.12132 2.12132 \r\nC -1.55874 2.683901 -0.795609 3 0 3 \r\nz\r\n\" id=\"m8697c483a9\" style=\"stroke:#e377c2;\"/>\r\n    </defs>\r\n    <g clip-path=\"url(#p0a6ef9cf1a)\">\r\n     <use style=\"fill:#e377c2;stroke:#e377c2;\" x=\"266.877377\" xlink:href=\"#m8697c483a9\" y=\"199.454269\"/>\r\n    </g>\r\n   </g>\r\n   <g id=\"PathCollection_8\">\r\n    <defs>\r\n     <path d=\"M 0 3 \r\nC 0.795609 3 1.55874 2.683901 2.12132 2.12132 \r\nC 2.683901 1.55874 3 0.795609 3 0 \r\nC 3 -0.795609 2.683901 -1.55874 2.12132 -2.12132 \r\nC 1.55874 -2.683901 0.795609 -3 0 -3 \r\nC -0.795609 -3 -1.55874 -2.683901 -2.12132 -2.12132 \r\nC -2.683901 -1.55874 -3 -0.795609 -3 0 \r\nC -3 0.795609 -2.683901 1.55874 -2.12132 2.12132 \r\nC -1.55874 2.683901 -0.795609 3 0 3 \r\nz\r\n\" id=\"m3c8bfca02b\" style=\"stroke:#7f7f7f;\"/>\r\n    </defs>\r\n    <g clip-path=\"url(#p0a6ef9cf1a)\">\r\n     <use style=\"fill:#7f7f7f;stroke:#7f7f7f;\" x=\"559.739518\" xlink:href=\"#m3c8bfca02b\" y=\"34.90699\"/>\r\n    </g>\r\n   </g>\r\n   <g id=\"PathCollection_9\">\r\n    <defs>\r\n     <path d=\"M 0 3 \r\nC 0.795609 3 1.55874 2.683901 2.12132 2.12132 \r\nC 2.683901 1.55874 3 0.795609 3 0 \r\nC 3 -0.795609 2.683901 -1.55874 2.12132 -2.12132 \r\nC 1.55874 -2.683901 0.795609 -3 0 -3 \r\nC -0.795609 -3 -1.55874 -2.683901 -2.12132 -2.12132 \r\nC -2.683901 -1.55874 -3 -0.795609 -3 0 \r\nC -3 0.795609 -2.683901 1.55874 -2.12132 2.12132 \r\nC -1.55874 2.683901 -0.795609 3 0 3 \r\nz\r\n\" id=\"mbb4efbc9fa\" style=\"stroke:#bcbd22;\"/>\r\n    </defs>\r\n    <g clip-path=\"url(#p0a6ef9cf1a)\">\r\n     <use style=\"fill:#bcbd22;stroke:#bcbd22;\" x=\"306.301126\" xlink:href=\"#mbb4efbc9fa\" y=\"281.727908\"/>\r\n    </g>\r\n   </g>\r\n   <g id=\"PathCollection_10\">\r\n    <defs>\r\n     <path d=\"M 0 3 \r\nC 0.795609 3 1.55874 2.683901 2.12132 2.12132 \r\nC 2.683901 1.55874 3 0.795609 3 0 \r\nC 3 -0.795609 2.683901 -1.55874 2.12132 -2.12132 \r\nC 1.55874 -2.683901 0.795609 -3 0 -3 \r\nC -0.795609 -3 -1.55874 -2.683901 -2.12132 -2.12132 \r\nC -2.683901 -1.55874 -3 -0.795609 -3 0 \r\nC -3 0.795609 -2.683901 1.55874 -2.12132 2.12132 \r\nC -1.55874 2.683901 -0.795609 3 0 3 \r\nz\r\n\" id=\"m7362b6c5dd\" style=\"stroke:#17becf;\"/>\r\n    </defs>\r\n    <g clip-path=\"url(#p0a6ef9cf1a)\">\r\n     <use style=\"fill:#17becf;stroke:#17becf;\" x=\"58.494699\" xlink:href=\"#m7362b6c5dd\" y=\"281.727908\"/>\r\n    </g>\r\n   </g>\r\n   <g id=\"PathCollection_11\">\r\n    <g clip-path=\"url(#p0a6ef9cf1a)\">\r\n     <use style=\"fill:#1f77b4;stroke:#1f77b4;\" x=\"306.301126\" xlink:href=\"#m6c086c7e6e\" y=\"523.063917\"/>\r\n    </g>\r\n   </g>\r\n   <g id=\"PathCollection_12\">\r\n    <g clip-path=\"url(#p0a6ef9cf1a)\">\r\n     <use style=\"fill:#ff7f0e;stroke:#ff7f0e;\" x=\"559.739518\" xlink:href=\"#ma5b1f1a470\" y=\"281.727908\"/>\r\n    </g>\r\n   </g>\r\n   <g id=\"PathCollection_13\">\r\n    <g clip-path=\"url(#p0a6ef9cf1a)\">\r\n     <use style=\"fill:#2ca02c;stroke:#2ca02c;\" x=\"334.460948\" xlink:href=\"#m200ec38aa1\" y=\"89.756083\"/>\r\n    </g>\r\n   </g>\r\n   <g id=\"PathCollection_14\">\r\n    <g clip-path=\"url(#p0a6ef9cf1a)\">\r\n     <use style=\"fill:#d62728;stroke:#d62728;\" x=\"137.342199\" xlink:href=\"#m2e344c79bd\" y=\"336.577001\"/>\r\n    </g>\r\n   </g>\r\n   <g id=\"PathCollection_15\">\r\n    <g clip-path=\"url(#p0a6ef9cf1a)\">\r\n     <use style=\"fill:#9467bd;stroke:#9467bd;\" x=\"81.022556\" xlink:href=\"#mff05a12c35\" y=\"34.90699\"/>\r\n    </g>\r\n   </g>\r\n   <g id=\"PathCollection_16\">\r\n    <g clip-path=\"url(#p0a6ef9cf1a)\">\r\n     <use style=\"fill:#8c564b;stroke:#8c564b;\" x=\"165.50202\" xlink:href=\"#m8c71af772e\" y=\"144.605176\"/>\r\n    </g>\r\n   </g>\r\n   <g id=\"PathCollection_17\">\r\n    <g clip-path=\"url(#p0a6ef9cf1a)\">\r\n     <use style=\"fill:#e377c2;stroke:#e377c2;\" x=\"503.419875\" xlink:href=\"#m8697c483a9\" y=\"523.063917\"/>\r\n    </g>\r\n   </g>\r\n   <g id=\"PathCollection_18\">\r\n    <g clip-path=\"url(#p0a6ef9cf1a)\">\r\n     <use style=\"fill:#7f7f7f;stroke:#7f7f7f;\" x=\"199.293806\" xlink:href=\"#m3c8bfca02b\" y=\"418.850641\"/>\r\n    </g>\r\n   </g>\r\n   <g id=\"PathCollection_19\">\r\n    <g clip-path=\"url(#p0a6ef9cf1a)\">\r\n     <use style=\"fill:#bcbd22;stroke:#bcbd22;\" x=\"447.100233\" xlink:href=\"#mbb4efbc9fa\" y=\"364.001548\"/>\r\n    </g>\r\n   </g>\r\n   <g id=\"PathCollection_20\">\r\n    <g clip-path=\"url(#p0a6ef9cf1a)\">\r\n     <use style=\"fill:#17becf;stroke:#17becf;\" x=\"447.100233\" xlink:href=\"#m7362b6c5dd\" y=\"144.605176\"/>\r\n    </g>\r\n   </g>\r\n   <g id=\"PathCollection_21\">\r\n    <g clip-path=\"url(#p0a6ef9cf1a)\">\r\n     <use style=\"fill:#1f77b4;stroke:#1f77b4;\" x=\"559.739518\" xlink:href=\"#m6c086c7e6e\" y=\"473.699734\"/>\r\n    </g>\r\n   </g>\r\n   <g id=\"PathCollection_22\">\r\n    <g clip-path=\"url(#p0a6ef9cf1a)\">\r\n     <use style=\"fill:#ff7f0e;stroke:#ff7f0e;\" x=\"334.460948\" xlink:href=\"#ma5b1f1a470\" y=\"172.029722\"/>\r\n    </g>\r\n   </g>\r\n   <g id=\"matplotlib.axis_1\">\r\n    <g id=\"xtick_1\">\r\n     <g id=\"line2d_1\">\r\n      <defs>\r\n       <path d=\"M 0 0 \r\nL 0 3.5 \r\n\" id=\"ma1f7e1edec\" style=\"stroke:#000000;stroke-width:0.8;\"/>\r\n      </defs>\r\n      <g>\r\n       <use style=\"stroke:#000000;stroke-width:0.8;\" x=\"52.862735\" xlink:href=\"#ma1f7e1edec\" y=\"550.8\"/>\r\n      </g>\r\n     </g>\r\n     <g id=\"text_1\">\r\n      <!-- 0.0 -->\r\n      <defs>\r\n       <path d=\"M 31.78125 66.40625 \r\nQ 24.171875 66.40625 20.328125 58.90625 \r\nQ 16.5 51.421875 16.5 36.375 \r\nQ 16.5 21.390625 20.328125 13.890625 \r\nQ 24.171875 6.390625 31.78125 6.390625 \r\nQ 39.453125 6.390625 43.28125 13.890625 \r\nQ 47.125 21.390625 47.125 36.375 \r\nQ 47.125 51.421875 43.28125 58.90625 \r\nQ 39.453125 66.40625 31.78125 66.40625 \r\nz\r\nM 31.78125 74.21875 \r\nQ 44.046875 74.21875 50.515625 64.515625 \r\nQ 56.984375 54.828125 56.984375 36.375 \r\nQ 56.984375 17.96875 50.515625 8.265625 \r\nQ 44.046875 -1.421875 31.78125 -1.421875 \r\nQ 19.53125 -1.421875 13.0625 8.265625 \r\nQ 6.59375 17.96875 6.59375 36.375 \r\nQ 6.59375 54.828125 13.0625 64.515625 \r\nQ 19.53125 74.21875 31.78125 74.21875 \r\nz\r\n\" id=\"DejaVuSans-48\"/>\r\n       <path d=\"M 10.6875 12.40625 \r\nL 21 12.40625 \r\nL 21 0 \r\nL 10.6875 0 \r\nz\r\n\" id=\"DejaVuSans-46\"/>\r\n      </defs>\r\n      <g transform=\"translate(44.911172 565.398438)scale(0.1 -0.1)\">\r\n       <use xlink:href=\"#DejaVuSans-48\"/>\r\n       <use x=\"63.623047\" xlink:href=\"#DejaVuSans-46\"/>\r\n       <use x=\"95.410156\" xlink:href=\"#DejaVuSans-48\"/>\r\n      </g>\r\n     </g>\r\n    </g>\r\n    <g id=\"xtick_2\">\r\n     <g id=\"line2d_2\">\r\n      <g>\r\n       <use style=\"stroke:#000000;stroke-width:0.8;\" x=\"165.50202\" xlink:href=\"#ma1f7e1edec\" y=\"550.8\"/>\r\n      </g>\r\n     </g>\r\n     <g id=\"text_2\">\r\n      <!-- 0.2 -->\r\n      <defs>\r\n       <path d=\"M 19.1875 8.296875 \r\nL 53.609375 8.296875 \r\nL 53.609375 0 \r\nL 7.328125 0 \r\nL 7.328125 8.296875 \r\nQ 12.9375 14.109375 22.625 23.890625 \r\nQ 32.328125 33.6875 34.8125 36.53125 \r\nQ 39.546875 41.84375 41.421875 45.53125 \r\nQ 43.3125 49.21875 43.3125 52.78125 \r\nQ 43.3125 58.59375 39.234375 62.25 \r\nQ 35.15625 65.921875 28.609375 65.921875 \r\nQ 23.96875 65.921875 18.8125 64.3125 \r\nQ 13.671875 62.703125 7.8125 59.421875 \r\nL 7.8125 69.390625 \r\nQ 13.765625 71.78125 18.9375 73 \r\nQ 24.125 74.21875 28.421875 74.21875 \r\nQ 39.75 74.21875 46.484375 68.546875 \r\nQ 53.21875 62.890625 53.21875 53.421875 \r\nQ 53.21875 48.921875 51.53125 44.890625 \r\nQ 49.859375 40.875 45.40625 35.40625 \r\nQ 44.1875 33.984375 37.640625 27.21875 \r\nQ 31.109375 20.453125 19.1875 8.296875 \r\nz\r\n\" id=\"DejaVuSans-50\"/>\r\n      </defs>\r\n      <g transform=\"translate(157.550457 565.398438)scale(0.1 -0.1)\">\r\n       <use xlink:href=\"#DejaVuSans-48\"/>\r\n       <use x=\"63.623047\" xlink:href=\"#DejaVuSans-46\"/>\r\n       <use x=\"95.410156\" xlink:href=\"#DejaVuSans-50\"/>\r\n      </g>\r\n     </g>\r\n    </g>\r\n    <g id=\"xtick_3\">\r\n     <g id=\"line2d_3\">\r\n      <g>\r\n       <use style=\"stroke:#000000;stroke-width:0.8;\" x=\"278.141305\" xlink:href=\"#ma1f7e1edec\" y=\"550.8\"/>\r\n      </g>\r\n     </g>\r\n     <g id=\"text_3\">\r\n      <!-- 0.4 -->\r\n      <defs>\r\n       <path d=\"M 37.796875 64.3125 \r\nL 12.890625 25.390625 \r\nL 37.796875 25.390625 \r\nz\r\nM 35.203125 72.90625 \r\nL 47.609375 72.90625 \r\nL 47.609375 25.390625 \r\nL 58.015625 25.390625 \r\nL 58.015625 17.1875 \r\nL 47.609375 17.1875 \r\nL 47.609375 0 \r\nL 37.796875 0 \r\nL 37.796875 17.1875 \r\nL 4.890625 17.1875 \r\nL 4.890625 26.703125 \r\nz\r\n\" id=\"DejaVuSans-52\"/>\r\n      </defs>\r\n      <g transform=\"translate(270.189743 565.398438)scale(0.1 -0.1)\">\r\n       <use xlink:href=\"#DejaVuSans-48\"/>\r\n       <use x=\"63.623047\" xlink:href=\"#DejaVuSans-46\"/>\r\n       <use x=\"95.410156\" xlink:href=\"#DejaVuSans-52\"/>\r\n      </g>\r\n     </g>\r\n    </g>\r\n    <g id=\"xtick_4\">\r\n     <g id=\"line2d_4\">\r\n      <g>\r\n       <use style=\"stroke:#000000;stroke-width:0.8;\" x=\"390.78059\" xlink:href=\"#ma1f7e1edec\" y=\"550.8\"/>\r\n      </g>\r\n     </g>\r\n     <g id=\"text_4\">\r\n      <!-- 0.6 -->\r\n      <defs>\r\n       <path d=\"M 33.015625 40.375 \r\nQ 26.375 40.375 22.484375 35.828125 \r\nQ 18.609375 31.296875 18.609375 23.390625 \r\nQ 18.609375 15.53125 22.484375 10.953125 \r\nQ 26.375 6.390625 33.015625 6.390625 \r\nQ 39.65625 6.390625 43.53125 10.953125 \r\nQ 47.40625 15.53125 47.40625 23.390625 \r\nQ 47.40625 31.296875 43.53125 35.828125 \r\nQ 39.65625 40.375 33.015625 40.375 \r\nz\r\nM 52.59375 71.296875 \r\nL 52.59375 62.3125 \r\nQ 48.875 64.0625 45.09375 64.984375 \r\nQ 41.3125 65.921875 37.59375 65.921875 \r\nQ 27.828125 65.921875 22.671875 59.328125 \r\nQ 17.53125 52.734375 16.796875 39.40625 \r\nQ 19.671875 43.65625 24.015625 45.921875 \r\nQ 28.375 48.1875 33.59375 48.1875 \r\nQ 44.578125 48.1875 50.953125 41.515625 \r\nQ 57.328125 34.859375 57.328125 23.390625 \r\nQ 57.328125 12.15625 50.6875 5.359375 \r\nQ 44.046875 -1.421875 33.015625 -1.421875 \r\nQ 20.359375 -1.421875 13.671875 8.265625 \r\nQ 6.984375 17.96875 6.984375 36.375 \r\nQ 6.984375 53.65625 15.1875 63.9375 \r\nQ 23.390625 74.21875 37.203125 74.21875 \r\nQ 40.921875 74.21875 44.703125 73.484375 \r\nQ 48.484375 72.75 52.59375 71.296875 \r\nz\r\n\" id=\"DejaVuSans-54\"/>\r\n      </defs>\r\n      <g transform=\"translate(382.829028 565.398438)scale(0.1 -0.1)\">\r\n       <use xlink:href=\"#DejaVuSans-48\"/>\r\n       <use x=\"63.623047\" xlink:href=\"#DejaVuSans-46\"/>\r\n       <use x=\"95.410156\" xlink:href=\"#DejaVuSans-54\"/>\r\n      </g>\r\n     </g>\r\n    </g>\r\n    <g id=\"xtick_5\">\r\n     <g id=\"line2d_5\">\r\n      <g>\r\n       <use style=\"stroke:#000000;stroke-width:0.8;\" x=\"503.419875\" xlink:href=\"#ma1f7e1edec\" y=\"550.8\"/>\r\n      </g>\r\n     </g>\r\n     <g id=\"text_5\">\r\n      <!-- 0.8 -->\r\n      <defs>\r\n       <path d=\"M 31.78125 34.625 \r\nQ 24.75 34.625 20.71875 30.859375 \r\nQ 16.703125 27.09375 16.703125 20.515625 \r\nQ 16.703125 13.921875 20.71875 10.15625 \r\nQ 24.75 6.390625 31.78125 6.390625 \r\nQ 38.8125 6.390625 42.859375 10.171875 \r\nQ 46.921875 13.96875 46.921875 20.515625 \r\nQ 46.921875 27.09375 42.890625 30.859375 \r\nQ 38.875 34.625 31.78125 34.625 \r\nz\r\nM 21.921875 38.8125 \r\nQ 15.578125 40.375 12.03125 44.71875 \r\nQ 8.5 49.078125 8.5 55.328125 \r\nQ 8.5 64.0625 14.71875 69.140625 \r\nQ 20.953125 74.21875 31.78125 74.21875 \r\nQ 42.671875 74.21875 48.875 69.140625 \r\nQ 55.078125 64.0625 55.078125 55.328125 \r\nQ 55.078125 49.078125 51.53125 44.71875 \r\nQ 48 40.375 41.703125 38.8125 \r\nQ 48.828125 37.15625 52.796875 32.3125 \r\nQ 56.78125 27.484375 56.78125 20.515625 \r\nQ 56.78125 9.90625 50.3125 4.234375 \r\nQ 43.84375 -1.421875 31.78125 -1.421875 \r\nQ 19.734375 -1.421875 13.25 4.234375 \r\nQ 6.78125 9.90625 6.78125 20.515625 \r\nQ 6.78125 27.484375 10.78125 32.3125 \r\nQ 14.796875 37.15625 21.921875 38.8125 \r\nz\r\nM 18.3125 54.390625 \r\nQ 18.3125 48.734375 21.84375 45.5625 \r\nQ 25.390625 42.390625 31.78125 42.390625 \r\nQ 38.140625 42.390625 41.71875 45.5625 \r\nQ 45.3125 48.734375 45.3125 54.390625 \r\nQ 45.3125 60.0625 41.71875 63.234375 \r\nQ 38.140625 66.40625 31.78125 66.40625 \r\nQ 25.390625 66.40625 21.84375 63.234375 \r\nQ 18.3125 60.0625 18.3125 54.390625 \r\nz\r\n\" id=\"DejaVuSans-56\"/>\r\n      </defs>\r\n      <g transform=\"translate(495.468313 565.398438)scale(0.1 -0.1)\">\r\n       <use xlink:href=\"#DejaVuSans-48\"/>\r\n       <use x=\"63.623047\" xlink:href=\"#DejaVuSans-46\"/>\r\n       <use x=\"95.410156\" xlink:href=\"#DejaVuSans-56\"/>\r\n      </g>\r\n     </g>\r\n    </g>\r\n   </g>\r\n   <g id=\"matplotlib.axis_2\">\r\n    <g id=\"ytick_1\">\r\n     <g id=\"line2d_6\">\r\n      <defs>\r\n       <path d=\"M 0 0 \r\nL -3.5 0 \r\n\" id=\"md84cc707f6\" style=\"stroke:#000000;stroke-width:0.8;\"/>\r\n      </defs>\r\n      <g>\r\n       <use style=\"stroke:#000000;stroke-width:0.8;\" x=\"30.103125\" xlink:href=\"#md84cc707f6\" y=\"528.548827\"/>\r\n      </g>\r\n     </g>\r\n     <g id=\"text_6\">\r\n      <!-- 0.0 -->\r\n      <g transform=\"translate(7.2 532.348045)scale(0.1 -0.1)\">\r\n       <use xlink:href=\"#DejaVuSans-48\"/>\r\n       <use x=\"63.623047\" xlink:href=\"#DejaVuSans-46\"/>\r\n       <use x=\"95.410156\" xlink:href=\"#DejaVuSans-48\"/>\r\n      </g>\r\n     </g>\r\n    </g>\r\n    <g id=\"ytick_2\">\r\n     <g id=\"line2d_7\">\r\n      <g>\r\n       <use style=\"stroke:#000000;stroke-width:0.8;\" x=\"30.103125\" xlink:href=\"#md84cc707f6\" y=\"418.850641\"/>\r\n      </g>\r\n     </g>\r\n     <g id=\"text_7\">\r\n      <!-- 0.2 -->\r\n      <g transform=\"translate(7.2 422.649859)scale(0.1 -0.1)\">\r\n       <use xlink:href=\"#DejaVuSans-48\"/>\r\n       <use x=\"63.623047\" xlink:href=\"#DejaVuSans-46\"/>\r\n       <use x=\"95.410156\" xlink:href=\"#DejaVuSans-50\"/>\r\n      </g>\r\n     </g>\r\n    </g>\r\n    <g id=\"ytick_3\">\r\n     <g id=\"line2d_8\">\r\n      <g>\r\n       <use style=\"stroke:#000000;stroke-width:0.8;\" x=\"30.103125\" xlink:href=\"#md84cc707f6\" y=\"309.152455\"/>\r\n      </g>\r\n     </g>\r\n     <g id=\"text_8\">\r\n      <!-- 0.4 -->\r\n      <g transform=\"translate(7.2 312.951673)scale(0.1 -0.1)\">\r\n       <use xlink:href=\"#DejaVuSans-48\"/>\r\n       <use x=\"63.623047\" xlink:href=\"#DejaVuSans-46\"/>\r\n       <use x=\"95.410156\" xlink:href=\"#DejaVuSans-52\"/>\r\n      </g>\r\n     </g>\r\n    </g>\r\n    <g id=\"ytick_4\">\r\n     <g id=\"line2d_9\">\r\n      <g>\r\n       <use style=\"stroke:#000000;stroke-width:0.8;\" x=\"30.103125\" xlink:href=\"#md84cc707f6\" y=\"199.454269\"/>\r\n      </g>\r\n     </g>\r\n     <g id=\"text_9\">\r\n      <!-- 0.6 -->\r\n      <g transform=\"translate(7.2 203.253487)scale(0.1 -0.1)\">\r\n       <use xlink:href=\"#DejaVuSans-48\"/>\r\n       <use x=\"63.623047\" xlink:href=\"#DejaVuSans-46\"/>\r\n       <use x=\"95.410156\" xlink:href=\"#DejaVuSans-54\"/>\r\n      </g>\r\n     </g>\r\n    </g>\r\n    <g id=\"ytick_5\">\r\n     <g id=\"line2d_10\">\r\n      <g>\r\n       <use style=\"stroke:#000000;stroke-width:0.8;\" x=\"30.103125\" xlink:href=\"#md84cc707f6\" y=\"89.756083\"/>\r\n      </g>\r\n     </g>\r\n     <g id=\"text_10\">\r\n      <!-- 0.8 -->\r\n      <g transform=\"translate(7.2 93.555301)scale(0.1 -0.1)\">\r\n       <use xlink:href=\"#DejaVuSans-48\"/>\r\n       <use x=\"63.623047\" xlink:href=\"#DejaVuSans-46\"/>\r\n       <use x=\"95.410156\" xlink:href=\"#DejaVuSans-56\"/>\r\n      </g>\r\n     </g>\r\n    </g>\r\n   </g>\r\n   <g id=\"patch_3\">\r\n    <path d=\"M 30.103125 550.8 \r\nL 30.103125 7.2 \r\n\" style=\"fill:none;stroke:#000000;stroke-linecap:square;stroke-linejoin:miter;stroke-width:0.8;\"/>\r\n   </g>\r\n   <g id=\"patch_4\">\r\n    <path d=\"M 588.103125 550.8 \r\nL 588.103125 7.2 \r\n\" style=\"fill:none;stroke:#000000;stroke-linecap:square;stroke-linejoin:miter;stroke-width:0.8;\"/>\r\n   </g>\r\n   <g id=\"patch_5\">\r\n    <path d=\"M 30.103125 550.8 \r\nL 588.103125 550.8 \r\n\" style=\"fill:none;stroke:#000000;stroke-linecap:square;stroke-linejoin:miter;stroke-width:0.8;\"/>\r\n   </g>\r\n   <g id=\"patch_6\">\r\n    <path d=\"M 30.103125 7.2 \r\nL 588.103125 7.2 \r\n\" style=\"fill:none;stroke:#000000;stroke-linecap:square;stroke-linejoin:miter;stroke-width:0.8;\"/>\r\n   </g>\r\n  </g>\r\n </g>\r\n <defs>\r\n  <clipPath id=\"p0a6ef9cf1a\">\r\n   <rect height=\"543.6\" width=\"558\" x=\"30.103125\" y=\"7.2\"/>\r\n  </clipPath>\r\n </defs>\r\n</svg>\r\n",
      "image/png": "[encoded data removed]"
     },
     "metadata": {
      "needs_background": "light"
     }
    }
   ],
   "source": [
    "pts1= [(0.01,0.01),(0.2,0.15),(0.3,0.8),(0.5,0.3),(0.65,0.6),(0.6,0.1),(0.38,0.6), (0.9,0.9),(0.45,0.45),(0.01,0.45),(0.45,0.01),(0.9,0.45),(0.5,0.8),(0.15,0.35),(0.05,0.9),(0.2,0.7),(0.8,0.01),(0.26,0.2),(0.7,0.3),(0.7,0.7),(0.9,0.1),(0.5,0.65)]\n",
    "print(len(pts1))\n",
    "fig,axes=plt.subplots(1,1,figsize=(10,10))\n",
    "for i in range(len(pts1)):\n",
    "    plt.scatter(pts1[i][0],pts1[i][1])"
   ]
  },
  {
   "cell_type": "code",
   "execution_count": 8,
   "metadata": {},
   "outputs": [
    {
     "output_type": "stream",
     "name": "stdout",
     "text": "9\n13\n9\n13\n9\n13\n9\n13\n9\n13\n9\n13\n9\n13\n9\n13\n9\n13\n9\n13\n9\n13\n9\n13\n9\n13\n9\n13\n9\n13\n9\n13\n9\n13\n9\n13\n9\n13\n9\n13\n"
    }
   ],
   "source": [
    "data_list=[]\n",
    "for scenario in range(20):\n",
    "    # \n",
    "    # pts=random.sample(pts1,12)\n",
    "    pointsL= []\n",
    "    pointsR=[]\n",
    "    for i in range(len(pts1)):\n",
    "        if pts1[i][0] <0.4:\n",
    "            pointsL.append(pts1[i])\n",
    "        else:\n",
    "            pointsR.append(pts1[i])\n",
    "    print(len(pointsL))\n",
    "    print(len(pointsR))\n",
    "\n",
    "    pts= pointsL + pointsR[:len(pointsL)]\n",
    "    pts= pts[:15]\n",
    "    len(pts)\n",
    "    wpList=[]\n",
    "    for i in range(len(pts)):\n",
    "        wpList.append([900*pts[i][0],900-900*pts[i][1]])    \n",
    "        wpN = ['wpA','wpB','wpC','wpD','wpE','wpF','wpG','wpH','wpI', 'wpJ','wpK','wpL','wpM', 'wpN','wpO',             'wpP']\n",
    "    wpNameList=wpN[:len(wpList)]\n",
    "    waypointList =[]\n",
    "    for i in range(len(wpList)):\n",
    "        waypointList.append(WayPoint(wpNameList[i],wpList[i])) #list containing waypoint class elements\n",
    "\n",
    "    airwayList=[]\n",
    "    for i in range(10):\n",
    "        points=[np.random.choice(waypointList[:len(pointsL)]),np.random.choice(waypointList[len(pointsL):])]\n",
    "        # print(points)\n",
    "        airwayList.append(Airways( points[0].name +'_'+ points[1].name, points[0], points[1]))\n",
    "    len(airwayList)\n",
    "\n",
    "    #aircraft\n",
    "    ac_per_scenario = 8  # just a random number to have no of aircraft in one scenario\n",
    "    aircraftList=[]\n",
    "    aircraft_name=[]\n",
    "    for n in range(1,ac_per_scenario+1):\n",
    "        aircraft_name.append('ac'+str(n))\n",
    "    point = random.sample(airwayList,ac_per_scenario)    \n",
    "    for i in range(ac_per_scenario):\n",
    "        d=[0,50,100,150,200,250] #offset\n",
    "        aircraft= Aircraft(str(aircraft_name[i]),point[i],np.random.choice(d))\n",
    "        aircraftList.append(aircraft)\n",
    "    d= Scenario(waypointList,airwayList)\n",
    "\n",
    "    dict1={}\n",
    "    for i in range(len(waypointList)):\n",
    "        waydict={waypointList[i].name:{\n",
    "            'x':waypointList[i].x,\n",
    "            'y':waypointList[i].y}}\n",
    "        dict1.update(waydict)\n",
    "\n",
    "    dict2={}\n",
    "    for i in range(len(airwayList)):\n",
    "        airwaydict= {airwayList[i].name:{\n",
    "            'start':airwayList[i].start_wp,\n",
    "            'end' : airwayList[i].end_wp}}\n",
    "        dict2.update(airwaydict)\n",
    "\n",
    "    dict3={}\n",
    "    for i in range(len(aircraftList)):\n",
    "        aircraftdict= {aircraftList[i].name:{\n",
    "            'x':aircraftList[i].offset_x,\n",
    "            'y':aircraftList[i].offset_y,\n",
    "            'dir_x': aircraftList[i].dir_x,\n",
    "            'dir_y': aircraftList[i].dir_y}}\n",
    "        dict3.update(aircraftdict)\n",
    "\n",
    "    data_dict={'waypoints':dict1, 'airways':dict2, 'aircrafts':dict3}\n",
    "    data_list.append(data_dict)\n"
   ]
  },
  {
   "cell_type": "code",
   "execution_count": 8,
   "metadata": {},
   "outputs": [],
   "source": [
    "\n"
   ]
  },
  {
   "cell_type": "code",
   "execution_count": null,
   "metadata": {
    "tags": [
     "outputPrepend"
    ]
   },
   "outputs": [],
   "source": []
  },
  {
   "cell_type": "code",
   "execution_count": 9,
   "metadata": {},
   "outputs": [],
   "source": [
    "import json\n",
    "with open('scenario_offset2.json', 'w') as json_file:\n",
    "    json.dump(data_list, json_file)"
   ]
  },
  {
   "cell_type": "code",
   "execution_count": null,
   "metadata": {},
   "outputs": [],
   "source": []
  },
  {
   "cell_type": "code",
   "execution_count": 10,
   "metadata": {},
   "outputs": [
    {
     "output_type": "execute_result",
     "data": {
      "text/plain": "[3, 4, 5, 6, 7]"
     },
     "metadata": {},
     "execution_count": 10
    }
   ],
   "source": [
    "a=[3,4,5,6,7]\n",
    "b=a.copy()\n",
    "b"
   ]
  },
  {
   "cell_type": "code",
   "execution_count": 11,
   "metadata": {},
   "outputs": [
    {
     "output_type": "execute_result",
     "data": {
      "text/plain": "[3, 4, 5, 6, 7, 9]"
     },
     "metadata": {},
     "execution_count": 11
    }
   ],
   "source": [
    "b.append(9)\n",
    "b"
   ]
  },
  {
   "cell_type": "code",
   "execution_count": 12,
   "metadata": {},
   "outputs": [
    {
     "output_type": "execute_result",
     "data": {
      "text/plain": "[3, 4, 5, 6, 7]"
     },
     "metadata": {},
     "execution_count": 12
    }
   ],
   "source": [
    "a"
   ]
  },
  {
   "cell_type": "code",
   "execution_count": 29,
   "metadata": {},
   "outputs": [
    {
     "output_type": "execute_result",
     "data": {
      "text/plain": "[3, 4, 5, 6, 7, 3, 4, 5, 6, 7, 9]"
     },
     "metadata": {},
     "execution_count": 29
    }
   ],
   "source": [
    "a+b"
   ]
  }
 ],
 "metadata": {
  "language_info": {
   "codemirror_mode": {
    "name": "ipython",
    "version": 3
   },
   "file_extension": ".py",
   "mimetype": "text/x-python",
   "name": "python",
   "nbconvert_exporter": "python",
   "pygments_lexer": "ipython3",
   "version": "3.7.6-final"
  },
  "orig_nbformat": 2,
  "kernelspec": {
   "name": "python3",
   "display_name": "Python 3"
  }
 },
 "nbformat": 4,
 "nbformat_minor": 2
}